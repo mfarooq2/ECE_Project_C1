{
 "cells": [
  {
   "cell_type": "code",
   "execution_count": 1,
   "id": "53ddf23e-e372-4aa1-9df0-d598b2d9c324",
   "metadata": {},
   "outputs": [],
   "source": []
  },
  {
   "cell_type": "code",
   "execution_count": 2,
   "id": "69eaed96-cbc8-432d-8788-bf3acc5c9506",
   "metadata": {},
   "outputs": [],
   "source": []
  },
  {
   "cell_type": "code",
   "execution_count": 3,
   "id": "1811cf1f-a9e4-49db-932a-3b3f72ea4c7f",
   "metadata": {},
   "outputs": [],
   "source": []
  },
  {
   "cell_type": "code",
   "execution_count": 4,
   "id": "b3041ae7-a682-438e-909c-7b7453f9d6da",
   "metadata": {},
   "outputs": [
    {
     "name": "stderr",
     "output_type": "stream",
     "text": [
      "100%|██████████████████████████████████████████████████████████████████████████████████████████████████████████████████████| 29/29 [00:03<00:00,  9.30it/s]\n"
     ]
    }
   ],
   "source": []
  },
  {
   "cell_type": "code",
   "execution_count": null,
   "id": "d9aa4529-b082-48de-918a-b80587cc5a27",
   "metadata": {},
   "outputs": [],
   "source": [
    "s_time_interv= total_training_data[['Subject','Session','time_stamp']]\n",
    "s_time_interv=s_time_interv.groupby(['Subject','Session']).agg({'time_stamp': [np.min,np.max]})\n",
    "s_time_interv.columns=s_time_interv.columns.droplevel()\n",
    "s_time_interv['time_interval']=s_time_interv['amax']-s_time_interv['amin']\n",
    "s_time_interv['time_interval']=s_time_interv['time_interval'].dt.total_seconds()\n",
    "s_time_interv=s_time_interv[['time_interval']]\n",
    "s_time_interv=s_time_interv.unstack()\n",
    "s_time_interv.columns=s_time_interv.columns.droplevel()\n",
    "#s=s.reset_index(drop=True)"
   ]
  },
  {
   "cell_type": "code",
   "execution_count": null,
   "id": "d0f71501-e82d-4121-bab1-9c3635fddbe5",
   "metadata": {},
   "outputs": [],
   "source": [
    "s_time_interv.plot(kind='bar',ylabel='time_interval')"
   ]
  },
  {
   "cell_type": "code",
   "execution_count": null,
   "id": "9c21282a-8a80-4a8e-9fc8-452af1794c5d",
   "metadata": {},
   "outputs": [],
   "source": [
    "s_label_dist= total_training_data[['Subject','labels','time_stamp']]\n",
    "s_label_dist=s_label_dist.groupby(['Subject','labels']).count()\n",
    "s_label_dist=s_label_dist.unstack()\n",
    "s_label_dist.columns=s_label_dist.columns.droplevel()\n",
    "s_label_dist.plot(kind='bar',xlabel='Subject',ylabel='count')"
   ]
  },
  {
   "cell_type": "code",
   "execution_count": null,
   "id": "70f6553c-fffd-4e7d-a044-5debac3e09e0",
   "metadata": {},
   "outputs": [],
   "source": [
    "s_label_dist= total_training_data[['Session','labels','time_stamp']]\n",
    "s_label_dist=s_label_dist.groupby(['Session','labels']).count()\n",
    "s_label_dist=s_label_dist.unstack()\n",
    "s_label_dist.columns=s_label_dist.columns.droplevel()\n",
    "s_label_dist.plot(kind='bar',xlabel='Session',ylabel='count')"
   ]
  },
  {
   "cell_type": "code",
   "execution_count": null,
   "id": "862f1559-770c-45b1-8466-90f96a90fa62",
   "metadata": {},
   "outputs": [],
   "source": [
    "s_label_dist"
   ]
  },
  {
   "cell_type": "code",
   "execution_count": null,
   "id": "19f54a86-9a31-416a-b031-44c90328716d",
   "metadata": {},
   "outputs": [],
   "source": []
  },
  {
   "cell_type": "code",
   "execution_count": null,
   "id": "b2bb93aa-8b77-4d23-a6ce-cb283e0a42bd",
   "metadata": {},
   "outputs": [],
   "source": [
    "s_label_dist.reset_index().plot.bar()"
   ]
  },
  {
   "cell_type": "code",
   "execution_count": null,
   "id": "e2b5f8c4-2e57-4a12-bde1-e0c66ba8ab84",
   "metadata": {},
   "outputs": [],
   "source": [
    "new_df = total_training_data[['time_stamp','labels','measurements']].groupby([pd.Grouper(key='time_stamp',freq='5min'),'labels']).count().reset_index().pivot(columns=['labels','time_stamp'])\n",
    "#.unstack()\n",
    "#new_df.columns = new_df.columns.droplevel()\n",
    "#new_df=new_df.reset_index()\n",
    "# new_df.plot.bar()"
   ]
  },
  {
   "cell_type": "code",
   "execution_count": 6,
   "id": "170fbc8e-f343-450f-8311-8e62f3f3892a",
   "metadata": {},
   "outputs": [],
   "source": [
    "X_total=np.vstack(total_training_data.measurements)\n",
    "Y_total=np.vstack(total_training_data.labels)\n",
    "Y_total=Y_total.reshape((len(Y_total)))"
   ]
  },
  {
   "cell_type": "code",
   "execution_count": 8,
   "id": "33fdd02c-de93-4f85-b16c-f31b3c0b3c11",
   "metadata": {},
   "outputs": [],
   "source": [
    "X_train, X_val, y_train, y_val = train_test_split(X_total, Y_total, test_size=0.2)"
   ]
  },
  {
   "cell_type": "code",
   "execution_count": null,
   "id": "51a39877-e9ab-4df8-99a1-45245c22520e",
   "metadata": {},
   "outputs": [],
   "source": [
    "from sklearn.ensemble import RandomForestClassifier\n",
    "from sklearn.datasets import make_classification"
   ]
  },
  {
   "cell_type": "code",
   "execution_count": 9,
   "id": "1b3fbe27-94ab-4fb3-9245-74da7440ea4c",
   "metadata": {},
   "outputs": [],
   "source": [
    "rf = RandomForestClassifier()\n",
    "rf.fit(X_train, y_train)\n"
   ]
  },
  {
   "cell_type": "code",
   "execution_count": null,
   "id": "d05d6452-050e-4a61-bcd7-5a98d240b5e7",
   "metadata": {},
   "outputs": [],
   "source": [
    "y_pred = rf.predict(X_val)\n",
    "accuracy = accuracy_score(y_val, y_pred)"
   ]
  },
  {
   "cell_type": "code",
   "execution_count": null,
   "id": "9342d23a-76d9-42c9-b418-eeaa219a4973",
   "metadata": {},
   "outputs": [],
   "source": [
    "from sklearn import tree\n",
    "X = X_train\n",
    "Y = y_train\n",
    "clf = tree.DecisionTreeClassifier()\n",
    "clf = clf.fit(X, Y)\n"
   ]
  },
  {
   "cell_type": "code",
   "execution_count": null,
   "id": "c0e96e98-2d05-4472-bfef-90d1d26b56f5",
   "metadata": {},
   "outputs": [],
   "source": [
    "test_pred = clf.predict(X_val)\n",
    "accuracy = accuracy_score(y_val, test_pred)"
   ]
  },
  {
   "cell_type": "code",
   "execution_count": null,
   "id": "1ba17f0f-ef39-42bc-8e34-decd6c39a4d2",
   "metadata": {},
   "outputs": [],
   "source": [
    "accuracy"
   ]
  },
  {
   "cell_type": "code",
   "execution_count": null,
   "id": "68567219-eabb-4b6e-af65-5226c136b590",
   "metadata": {},
   "outputs": [],
   "source": [
    "##############Predictions_Test_set###################"
   ]
  },
  {
   "cell_type": "code",
   "execution_count": null,
   "id": "4cb4089d-df37-46c3-8120-2d218aa7b09f",
   "metadata": {},
   "outputs": [],
   "source": [
    "test_files=glob.glob('TestData/*.csv')"
   ]
  },
  {
   "cell_type": "code",
   "execution_count": null,
   "id": "ce2031cb-0ab3-48a7-b229-6d4657c50712",
   "metadata": {},
   "outputs": [],
   "source": [
    "Subject_list= [f.split('_')[1] for f in test_files]\n",
    "Session_list= [f.split('_')[2] for f in test_files]\n",
    "x_sensor_dat=pd.DataFrame([])\n",
    "y_sensor_dat=pd.DataFrame([])\n",
    "x_time_dat=[]\n",
    "for sub,sess in zip(Subject_list,Session_list):\n",
    "    #x_sensor_dat=pd.DataFrame(x_sensor_dat.append(pd.read_csv(f\"TrainingData/subject_{sub}_{sess}__x.csv\",header=None)))\n",
    "    \n",
    "    x_sensor_dat=pd.concat([pd.read_csv(f\"TestData/subject_{sub}_{sess}__x.csv\",header=None),pd.read_csv(f\"TestData/subject_{sub}_{sess}__x_time.csv\",header=None).rename(columns={0:'time_stamp'})],axis=1)\n",
    "\n",
    "    x_sensor_dat['measurements']=x_sensor_dat.apply(lambda x: [x[0],x[1],x[2],x[3],x[4],x[5]],axis=1)\n",
    "    x_sensor_dat=x_sensor_dat[['time_stamp','measurements']]\n",
    "    x_sensor_dat[\"time_stamp\"]=pd.to_datetime(x_sensor_dat[\"time_stamp\"],unit='s').round('us')\n",
    "    #x_sensor_dat=x_sensor_dat.set_index('time_stamp').asfreq('0.025S')\n",
    "    x_sensor_dat['Subject']=int(sub)\n",
    "    x_sensor_dat['Session']=int(sess)\n",
    "    #x_sensor_dat=x_sensor_dat.set_index('time_stamp').asfreq('0.025S')"
   ]
  },
  {
   "cell_type": "code",
   "execution_count": null,
   "id": "97b08f78-bf17-46bc-b35a-6315b789f262",
   "metadata": {},
   "outputs": [],
   "source": []
  },
  {
   "cell_type": "code",
   "execution_count": null,
   "id": "c990a196-ede1-4697-8be9-8541b10f9fac",
   "metadata": {},
   "outputs": [],
   "source": [
    "X_test=np.vstack(x_sensor_dat.measurements)\n",
    "#Y_total=np.vstack(total_training_data.labels)\n",
    "#Y_total=Y_total.reshape((len(Y_total)))"
   ]
  },
  {
   "cell_type": "code",
   "execution_count": null,
   "id": "3a623d4e-2948-43fc-8cde-fd020f4ca5e1",
   "metadata": {},
   "outputs": [],
   "source": [
    "X_test.shape"
   ]
  },
  {
   "cell_type": "code",
   "execution_count": null,
   "id": "041576e7-9da8-4dc0-9dd7-3e11417ce2a9",
   "metadata": {},
   "outputs": [],
   "source": [
    "test_pred = rf.predict(X_test)\n",
    "#accuracy = accuracy_score(y_val, y_pred)"
   ]
  },
  {
   "cell_type": "code",
   "execution_count": null,
   "id": "034e6e5f-c338-4de0-87d4-83ce58a04519",
   "metadata": {},
   "outputs": [],
   "source": [
    "test_pred.shape"
   ]
  },
  {
   "cell_type": "code",
   "execution_count": null,
   "id": "b4835a87-5f49-4770-a67a-9d33415060ff",
   "metadata": {},
   "outputs": [],
   "source": [
    "x_sensor_dat['test_pred']=list(test_pred)"
   ]
  },
  {
   "cell_type": "code",
   "execution_count": null,
   "id": "8f58f395-3b8a-4236-88f4-6f613c3d8e36",
   "metadata": {},
   "outputs": [],
   "source": [
    "x_sensor_dat"
   ]
  },
  {
   "cell_type": "code",
   "execution_count": null,
   "id": "3a269b42-eced-4823-80f6-8c148f4f262c",
   "metadata": {},
   "outputs": [],
   "source": [
    "x_sensor_dat.groupby('test_pred')[['Session']].count()"
   ]
  },
  {
   "cell_type": "code",
   "execution_count": null,
   "id": "c3affdc9-16b7-485e-9a1f-a9159088d235",
   "metadata": {},
   "outputs": [],
   "source": []
  }
 ],
 "metadata": {
  "kernelspec": {
   "display_name": "Python 3 (ipykernel)",
   "language": "python",
   "name": "python3"
  },
  "language_info": {
   "codemirror_mode": {
    "name": "ipython",
    "version": 3
   },
   "file_extension": ".py",
   "mimetype": "text/x-python",
   "name": "python",
   "nbconvert_exporter": "python",
   "pygments_lexer": "ipython3",
   "version": "3.10.9"
  }
 },
 "nbformat": 4,
 "nbformat_minor": 5
}
