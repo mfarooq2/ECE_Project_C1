{
 "cells": [
  {
   "cell_type": "code",
   "execution_count": 1,
   "id": "e9b4500c-d0be-4daf-a84d-66dd538f7306",
   "metadata": {},
   "outputs": [
    {
     "name": "stderr",
     "output_type": "stream",
     "text": [
      "/opt/homebrew/Caskroom/miniforge/base/envs/mps/lib/python3.9/site-packages/tensorflow_addons/utils/tfa_eol_msg.py:23: UserWarning: \n",
      "\n",
      "TensorFlow Addons (TFA) has ended development and introduction of new features.\n",
      "TFA has entered a minimal maintenance and release mode until a planned end of life in May 2024.\n",
      "Please modify downstream libraries to take dependencies from other repositories in our TensorFlow community (e.g. Keras, Keras-CV, and Keras-NLP). \n",
      "\n",
      "For more information see: https://github.com/tensorflow/addons/issues/2807 \n",
      "\n",
      "  warnings.warn(\n"
     ]
    },
    {
     "name": "stdout",
     "output_type": "stream",
     "text": [
      "{0: 0.6662264675510366, 1: 12.142055736518277, 2: 9.176285557986871, 3: 3.2501937608990503}\n",
      "Metal device set to: Apple M1\n"
     ]
    }
   ],
   "source": [
    "import pandas as pd\n",
    "import glob\n",
    "import numpy as np\n",
    "from tqdm import tqdm\n",
    "import imblearn\n",
    "import tensorflow_addons as tfa\n",
    "from utils.model_1 import *\n",
    "from tensorflow import keras\n",
    "import tensorflow as tf\n",
    "from sklearn.utils.class_weight import compute_class_weight\n",
    "import matplotlib.pyplot as plt\n",
    "from sklearn.preprocessing import OneHotEncoder\n",
    "from collections import Counter\n",
    "training_val_combined=pd.read_parquet('combined_sequence_sampled/training.gzip', engine='auto')\n",
    "training_val_combined['labels']=training_val_combined['labels'].astype(int)\n",
    "training_val_combined['measurements']=training_val_combined['measurements'].apply(lambda x: np.vstack(x))\n",
    "X=list(training_val_combined['measurements'])\n",
    "X_padded=tf.keras.utils.pad_sequences(X,dtype=object)\n",
    "y=list(training_val_combined['labels'])\n",
    "# Scaling by total/2 helps keep the loss to a similar magnitude.\n",
    "# The sum of the weights of all examples stays the same.\n",
    "p=list(Counter(y).values())\n",
    "weight_for_0 = (1 / p[0]) * (len(y) / 2.0)\n",
    "weight_for_1 = (1 / p[1]) * (len(y) / 2.0)\n",
    "weight_for_2 = (1 / p[2]) * (len(y) / 2.0)\n",
    "weight_for_3 = (1 / p[3]) * (len(y) / 2.0)\n",
    "class_weight = {0: weight_for_0, 1: weight_for_1,2: weight_for_2, 3: weight_for_3}\n",
    "y_padded=np.array(y)\n",
    "print(class_weight)\n",
    "idx = np.random.permutation(len(y))\n",
    "X_balanced_reshaped = X_padded[idx]\n",
    "y_balanced_reshaped = y_padded[idx].reshape(-1,1)\n",
    "num_classes=len(np.unique(y_balanced_reshaped))\n",
    "encoder = OneHotEncoder()\n",
    "# transform data\n",
    "onehot = encoder.fit_transform(y_balanced_reshaped)\n",
    "y_balanced_reshaped_onehot=onehot.toarray()\n",
    "#X_padded=tf.keras.utils.pad_sequences(X,dtype=object)\n",
    "X_balanced_reshaped=tf.convert_to_tensor(X_balanced_reshaped, dtype=tf.float64)\n",
    "y_balanced_reshaped_onehot=tf.convert_to_tensor(y_balanced_reshaped_onehot)\n",
    "METRICS = [\n",
    "      tfa.metrics.F1Score(num_classes=4, threshold=0.5,name='F1Score'),\n",
    "      keras.metrics.CategoricalAccuracy(name='Accuracy')\n",
    "]"
   ]
  },
  {
   "cell_type": "code",
   "execution_count": 9,
   "id": "5405efa3-b094-4b52-a605-c67fe3b2b6dc",
   "metadata": {},
   "outputs": [
    {
     "name": "stdout",
     "output_type": "stream",
     "text": [
      "Model: \"sequential_4\"\n",
      "_________________________________________________________________\n",
      " Layer (type)                Output Shape              Param #   \n",
      "=================================================================\n",
      " lstm_4 (LSTM)               (None, 20, 100)           42800     \n",
      "                                                                 \n",
      " dropout_1 (Dropout)         (None, 20, 100)           0         \n",
      "                                                                 \n",
      " lstm_5 (LSTM)               (None, 20, 100)           80400     \n",
      "                                                                 \n",
      " dropout_2 (Dropout)         (None, 20, 100)           0         \n",
      "                                                                 \n",
      " lstm_6 (LSTM)               (None, 20, 100)           80400     \n",
      "                                                                 \n",
      " dropout_3 (Dropout)         (None, 20, 100)           0         \n",
      "                                                                 \n",
      " lstm_7 (LSTM)               (None, 100)               80400     \n",
      "                                                                 \n",
      " dropout_4 (Dropout)         (None, 100)               0         \n",
      "                                                                 \n",
      " batch_normalization (BatchN  (None, 100)              400       \n",
      " ormalization)                                                   \n",
      "                                                                 \n",
      " dropout_5 (Dropout)         (None, 100)               0         \n",
      "                                                                 \n",
      " dense (Dense)               (None, 4)                 404       \n",
      "                                                                 \n",
      "=================================================================\n",
      "Total params: 284,804\n",
      "Trainable params: 284,604\n",
      "Non-trainable params: 200\n",
      "_________________________________________________________________\n"
     ]
    }
   ],
   "source": [
    "model=LSTM_Model(X_balanced_reshaped.shape[1:],num_classes)\n",
    "model.summary()"
   ]
  },
  {
   "cell_type": "code",
   "execution_count": 12,
   "id": "fcf6a86f-3cfa-4bee-b292-77b7a99403a4",
   "metadata": {},
   "outputs": [],
   "source": [
    "epochs = 50\n",
    "batch_size = 500\n",
    "callbacks = [\n",
    "    keras.callbacks.ModelCheckpoint(\n",
    "        \"best_model.h5\", save_best_only=True, monitor=\"val_loss\"\n",
    "    ),\n",
    "    keras.callbacks.ReduceLROnPlateau(\n",
    "        monitor=\"val_loss\", factor=0.5, patience=20, min_lr=0.00001\n",
    "    ),\n",
    "    keras.callbacks.EarlyStopping(monitor=\"val_loss\", patience=50, verbose=1),\n",
    "]\n",
    "opt = keras.optimizers.legacy.Adam(learning_rate=0.001)\n",
    "model.compile(\n",
    "    optimizer=opt,\n",
    "    loss=\"categorical_crossentropy\",\n",
    "    metrics=METRICS,\n",
    ")"
   ]
  },
  {
   "cell_type": "code",
   "execution_count": 19,
   "id": "07cea7b3-3d86-452a-978d-e32e28e31196",
   "metadata": {},
   "outputs": [
    {
     "name": "stdout",
     "output_type": "stream",
     "text": [
      "Epoch 1/50\n",
      "108/108 [==============================] - 10s 88ms/step - loss: 0.0611 - F1Score: 0.9746 - Accuracy: 0.9800 - val_loss: 0.3267 - val_F1Score: 0.8870 - val_Accuracy: 0.9144 - lr: 5.0000e-04\n",
      "Epoch 2/50\n",
      "108/108 [==============================] - 10s 88ms/step - loss: 0.0566 - F1Score: 0.9759 - Accuracy: 0.9811 - val_loss: 0.3226 - val_F1Score: 0.8921 - val_Accuracy: 0.9183 - lr: 5.0000e-04\n",
      "Epoch 3/50\n",
      "108/108 [==============================] - 9s 87ms/step - loss: 0.0565 - F1Score: 0.9765 - Accuracy: 0.9815 - val_loss: 0.3051 - val_F1Score: 0.8954 - val_Accuracy: 0.9228 - lr: 5.0000e-04\n",
      "Epoch 4/50\n",
      "108/108 [==============================] - 9s 88ms/step - loss: 0.0546 - F1Score: 0.9763 - Accuracy: 0.9821 - val_loss: 0.3197 - val_F1Score: 0.8915 - val_Accuracy: 0.9201 - lr: 5.0000e-04\n",
      "Epoch 5/50\n",
      "108/108 [==============================] - 10s 91ms/step - loss: 0.0535 - F1Score: 0.9773 - Accuracy: 0.9826 - val_loss: 0.3279 - val_F1Score: 0.8889 - val_Accuracy: 0.9162 - lr: 5.0000e-04\n",
      "Epoch 6/50\n",
      "108/108 [==============================] - 11s 102ms/step - loss: 0.0557 - F1Score: 0.9767 - Accuracy: 0.9818 - val_loss: 0.3245 - val_F1Score: 0.8908 - val_Accuracy: 0.9197 - lr: 5.0000e-04\n",
      "Epoch 7/50\n",
      "108/108 [==============================] - 11s 106ms/step - loss: 0.0554 - F1Score: 0.9758 - Accuracy: 0.9818 - val_loss: 0.3196 - val_F1Score: 0.8935 - val_Accuracy: 0.9223 - lr: 5.0000e-04\n",
      "Epoch 8/50\n",
      "108/108 [==============================] - 9s 87ms/step - loss: 0.0552 - F1Score: 0.9763 - Accuracy: 0.9818 - val_loss: 0.3156 - val_F1Score: 0.8935 - val_Accuracy: 0.9223 - lr: 5.0000e-04\n",
      "Epoch 9/50\n",
      "108/108 [==============================] - 12s 110ms/step - loss: 0.0507 - F1Score: 0.9786 - Accuracy: 0.9839 - val_loss: 0.3412 - val_F1Score: 0.8861 - val_Accuracy: 0.9131 - lr: 5.0000e-04\n",
      "Epoch 10/50\n",
      "108/108 [==============================] - 15s 139ms/step - loss: 0.0512 - F1Score: 0.9778 - Accuracy: 0.9830 - val_loss: 0.3371 - val_F1Score: 0.8923 - val_Accuracy: 0.9204 - lr: 5.0000e-04\n",
      "Epoch 11/50\n",
      "108/108 [==============================] - 11s 99ms/step - loss: 0.0503 - F1Score: 0.9794 - Accuracy: 0.9843 - val_loss: 0.3297 - val_F1Score: 0.8937 - val_Accuracy: 0.9214 - lr: 5.0000e-04\n",
      "Epoch 12/50\n",
      "108/108 [==============================] - 10s 95ms/step - loss: 0.0462 - F1Score: 0.9805 - Accuracy: 0.9854 - val_loss: 0.3250 - val_F1Score: 0.8953 - val_Accuracy: 0.9227 - lr: 5.0000e-04\n",
      "Epoch 13/50\n",
      "108/108 [==============================] - 11s 101ms/step - loss: 0.0472 - F1Score: 0.9805 - Accuracy: 0.9853 - val_loss: 0.3348 - val_F1Score: 0.8929 - val_Accuracy: 0.9194 - lr: 5.0000e-04\n",
      "Epoch 14/50\n",
      "108/108 [==============================] - 11s 96ms/step - loss: 0.0502 - F1Score: 0.9781 - Accuracy: 0.9841 - val_loss: 0.3361 - val_F1Score: 0.8877 - val_Accuracy: 0.9173 - lr: 5.0000e-04\n",
      "Epoch 15/50\n",
      "108/108 [==============================] - 12s 110ms/step - loss: 0.0485 - F1Score: 0.9795 - Accuracy: 0.9850 - val_loss: 0.3267 - val_F1Score: 0.8937 - val_Accuracy: 0.9230 - lr: 5.0000e-04\n",
      "Epoch 16/50\n",
      "108/108 [==============================] - 10s 92ms/step - loss: 0.0489 - F1Score: 0.9800 - Accuracy: 0.9845 - val_loss: 0.3212 - val_F1Score: 0.8950 - val_Accuracy: 0.9225 - lr: 5.0000e-04\n",
      "Epoch 17/50\n",
      "108/108 [==============================] - 11s 106ms/step - loss: 0.0456 - F1Score: 0.9811 - Accuracy: 0.9858 - val_loss: 0.3466 - val_F1Score: 0.8896 - val_Accuracy: 0.9208 - lr: 5.0000e-04\n",
      "Epoch 18/50\n",
      "108/108 [==============================] - 13s 123ms/step - loss: 0.0439 - F1Score: 0.9807 - Accuracy: 0.9859 - val_loss: 0.3421 - val_F1Score: 0.8922 - val_Accuracy: 0.9202 - lr: 5.0000e-04\n",
      "Epoch 19/50\n",
      "108/108 [==============================] - 10s 95ms/step - loss: 0.0435 - F1Score: 0.9816 - Accuracy: 0.9863 - val_loss: 0.3325 - val_F1Score: 0.8916 - val_Accuracy: 0.9183 - lr: 5.0000e-04\n",
      "Epoch 20/50\n",
      "108/108 [==============================] - 12s 107ms/step - loss: 0.0465 - F1Score: 0.9811 - Accuracy: 0.9856 - val_loss: 0.3279 - val_F1Score: 0.8916 - val_Accuracy: 0.9166 - lr: 5.0000e-04\n",
      "Epoch 21/50\n",
      "108/108 [==============================] - 15s 139ms/step - loss: 0.0442 - F1Score: 0.9813 - Accuracy: 0.9860 - val_loss: 0.3333 - val_F1Score: 0.8970 - val_Accuracy: 0.9247 - lr: 5.0000e-04\n",
      "Epoch 22/50\n",
      "108/108 [==============================] - 29s 271ms/step - loss: 0.0446 - F1Score: 0.9804 - Accuracy: 0.9856 - val_loss: 0.3263 - val_F1Score: 0.8955 - val_Accuracy: 0.9235 - lr: 5.0000e-04\n",
      "Epoch 23/50\n",
      "108/108 [==============================] - 16s 152ms/step - loss: 0.0449 - F1Score: 0.9808 - Accuracy: 0.9860 - val_loss: 0.3422 - val_F1Score: 0.8932 - val_Accuracy: 0.9203 - lr: 5.0000e-04\n",
      "Epoch 24/50\n",
      "108/108 [==============================] - 10s 96ms/step - loss: 0.0387 - F1Score: 0.9829 - Accuracy: 0.9875 - val_loss: 0.3261 - val_F1Score: 0.8970 - val_Accuracy: 0.9249 - lr: 2.5000e-04\n",
      "Epoch 25/50\n",
      "108/108 [==============================] - 15s 136ms/step - loss: 0.0338 - F1Score: 0.9854 - Accuracy: 0.9895 - val_loss: 0.3323 - val_F1Score: 0.8982 - val_Accuracy: 0.9266 - lr: 2.5000e-04\n",
      "Epoch 26/50\n",
      "108/108 [==============================] - 14s 127ms/step - loss: 0.0369 - F1Score: 0.9847 - Accuracy: 0.9894 - val_loss: 0.3387 - val_F1Score: 0.8967 - val_Accuracy: 0.9253 - lr: 2.5000e-04\n",
      "Epoch 27/50\n",
      "108/108 [==============================] - 10s 95ms/step - loss: 0.0352 - F1Score: 0.9843 - Accuracy: 0.9891 - val_loss: 0.3425 - val_F1Score: 0.8949 - val_Accuracy: 0.9224 - lr: 2.5000e-04\n",
      "Epoch 28/50\n",
      "108/108 [==============================] - 17s 156ms/step - loss: 0.0330 - F1Score: 0.9849 - Accuracy: 0.9896 - val_loss: 0.3539 - val_F1Score: 0.8945 - val_Accuracy: 0.9224 - lr: 2.5000e-04\n",
      "Epoch 29/50\n",
      "108/108 [==============================] - 12s 114ms/step - loss: 0.0351 - F1Score: 0.9849 - Accuracy: 0.9893 - val_loss: 0.3415 - val_F1Score: 0.8973 - val_Accuracy: 0.9240 - lr: 2.5000e-04\n",
      "Epoch 30/50\n",
      "108/108 [==============================] - 17s 154ms/step - loss: 0.0330 - F1Score: 0.9861 - Accuracy: 0.9901 - val_loss: 0.3472 - val_F1Score: 0.8976 - val_Accuracy: 0.9244 - lr: 2.5000e-04\n",
      "Epoch 31/50\n",
      "108/108 [==============================] - 11s 103ms/step - loss: 0.0357 - F1Score: 0.9842 - Accuracy: 0.9887 - val_loss: 0.3435 - val_F1Score: 0.8963 - val_Accuracy: 0.9250 - lr: 2.5000e-04\n",
      "Epoch 32/50\n",
      "108/108 [==============================] - 10s 91ms/step - loss: 0.0330 - F1Score: 0.9859 - Accuracy: 0.9901 - val_loss: 0.3570 - val_F1Score: 0.8941 - val_Accuracy: 0.9213 - lr: 2.5000e-04\n",
      "Epoch 33/50\n",
      "108/108 [==============================] - 10s 94ms/step - loss: 0.0309 - F1Score: 0.9866 - Accuracy: 0.9905 - val_loss: 0.3608 - val_F1Score: 0.8968 - val_Accuracy: 0.9235 - lr: 2.5000e-04\n",
      "Epoch 34/50\n",
      "108/108 [==============================] - 15s 136ms/step - loss: 0.0350 - F1Score: 0.9852 - Accuracy: 0.9893 - val_loss: 0.3517 - val_F1Score: 0.8952 - val_Accuracy: 0.9241 - lr: 2.5000e-04\n",
      "Epoch 35/50\n",
      "108/108 [==============================] - 11s 103ms/step - loss: 0.0330 - F1Score: 0.9854 - Accuracy: 0.9899 - val_loss: 0.3565 - val_F1Score: 0.8940 - val_Accuracy: 0.9235 - lr: 2.5000e-04\n",
      "Epoch 36/50\n",
      "108/108 [==============================] - 12s 113ms/step - loss: 0.0326 - F1Score: 0.9856 - Accuracy: 0.9900 - val_loss: 0.3541 - val_F1Score: 0.8956 - val_Accuracy: 0.9248 - lr: 2.5000e-04\n",
      "Epoch 37/50\n",
      "108/108 [==============================] - 10s 93ms/step - loss: 0.0291 - F1Score: 0.9875 - Accuracy: 0.9913 - val_loss: 0.3605 - val_F1Score: 0.8973 - val_Accuracy: 0.9261 - lr: 2.5000e-04\n",
      "Epoch 38/50\n",
      "108/108 [==============================] - 10s 94ms/step - loss: 0.0327 - F1Score: 0.9850 - Accuracy: 0.9900 - val_loss: 0.3559 - val_F1Score: 0.8968 - val_Accuracy: 0.9238 - lr: 2.5000e-04\n",
      "Epoch 39/50\n",
      "108/108 [==============================] - 12s 110ms/step - loss: 0.0308 - F1Score: 0.9874 - Accuracy: 0.9911 - val_loss: 0.3549 - val_F1Score: 0.8960 - val_Accuracy: 0.9253 - lr: 2.5000e-04\n",
      "Epoch 40/50\n",
      "108/108 [==============================] - 18s 170ms/step - loss: 0.0284 - F1Score: 0.9884 - Accuracy: 0.9920 - val_loss: 0.3574 - val_F1Score: 0.8980 - val_Accuracy: 0.9253 - lr: 2.5000e-04\n",
      "Epoch 41/50\n",
      "108/108 [==============================] - 19s 168ms/step - loss: 0.0316 - F1Score: 0.9870 - Accuracy: 0.9906 - val_loss: 0.3648 - val_F1Score: 0.8932 - val_Accuracy: 0.9232 - lr: 2.5000e-04\n",
      "Epoch 42/50\n",
      "108/108 [==============================] - 33s 305ms/step - loss: 0.0289 - F1Score: 0.9877 - Accuracy: 0.9912 - val_loss: 0.3547 - val_F1Score: 0.8982 - val_Accuracy: 0.9262 - lr: 2.5000e-04\n",
      "Epoch 43/50\n",
      "108/108 [==============================] - 200s 2s/step - loss: 0.0301 - F1Score: 0.9880 - Accuracy: 0.9913 - val_loss: 0.3655 - val_F1Score: 0.8948 - val_Accuracy: 0.9237 - lr: 2.5000e-04\n",
      "Epoch 44/50\n",
      "108/108 [==============================] - 252s 2s/step - loss: 0.0287 - F1Score: 0.9873 - Accuracy: 0.9912 - val_loss: 0.3687 - val_F1Score: 0.8966 - val_Accuracy: 0.9240 - lr: 1.2500e-04\n",
      "Epoch 45/50\n",
      "108/108 [==============================] - 100s 935ms/step - loss: 0.0274 - F1Score: 0.9881 - Accuracy: 0.9918 - val_loss: 0.3619 - val_F1Score: 0.8991 - val_Accuracy: 0.9270 - lr: 1.2500e-04\n",
      "Epoch 46/50\n",
      "108/108 [==============================] - 58s 543ms/step - loss: 0.0261 - F1Score: 0.9889 - Accuracy: 0.9925 - val_loss: 0.3689 - val_F1Score: 0.8976 - val_Accuracy: 0.9253 - lr: 1.2500e-04\n",
      "Epoch 47/50\n",
      "108/108 [==============================] - 50s 466ms/step - loss: 0.0266 - F1Score: 0.9884 - Accuracy: 0.9921 - val_loss: 0.3627 - val_F1Score: 0.8997 - val_Accuracy: 0.9279 - lr: 1.2500e-04\n",
      "Epoch 48/50\n",
      "108/108 [==============================] - 923s 9s/step - loss: 0.0264 - F1Score: 0.9886 - Accuracy: 0.9922 - val_loss: 0.3658 - val_F1Score: 0.8978 - val_Accuracy: 0.9261 - lr: 1.2500e-04\n",
      "Epoch 49/50\n",
      "108/108 [==============================] - 1757s 16s/step - loss: 0.0263 - F1Score: 0.9892 - Accuracy: 0.9924 - val_loss: 0.3744 - val_F1Score: 0.8960 - val_Accuracy: 0.9247 - lr: 1.2500e-04\n",
      "Epoch 50/50\n",
      "108/108 [==============================] - 1005s 9s/step - loss: 0.0259 - F1Score: 0.9887 - Accuracy: 0.9921 - val_loss: 0.3753 - val_F1Score: 0.8970 - val_Accuracy: 0.9256 - lr: 1.2500e-04\n"
     ]
    }
   ],
   "source": [
    "history = model.fit(\n",
    "    X_balanced_reshaped,\n",
    "    y_balanced_reshaped_onehot,\n",
    "    batch_size=batch_size,\n",
    "    epochs=epochs,\n",
    "    callbacks=callbacks,\n",
    "    validation_split=0.2,\n",
    "    verbose=1,class_weight=class_weight)"
   ]
  },
  {
   "cell_type": "code",
   "execution_count": 18,
   "id": "ab55328a-5b1a-45c0-a579-1bb9162a413c",
   "metadata": {},
   "outputs": [
    {
     "data": {
      "text/plain": [
       "<matplotlib.legend.Legend at 0x2df3327c0>"
      ]
     },
     "execution_count": 18,
     "metadata": {},
     "output_type": "execute_result"
    },
    {
     "data": {
      "image/png": "[encoded data removed]",
      "text/plain": [
       "<Figure size 640x480 with 1 Axes>"
      ]
     },
     "metadata": {},
     "output_type": "display_data"
    }
   ],
   "source": [
    "plt.plot(history.history['loss'],label='val_loss')\n",
    "#plt.plot(history.history['val_precision'],label='val_precision')\n",
    "#plt.plot(history.history['val_recall'],label='val_recall')\n",
    "#plt.plot(history.history['val_loss'],label='val_loss')\n",
    "plt.legend()"
   ]
  },
  {
   "cell_type": "code",
   "execution_count": null,
   "id": "9cf66294-4bae-42e1-95e3-0125c0c6d645",
   "metadata": {},
   "outputs": [],
   "source": [
    "model.save('models2/')"
   ]
  },
  {
   "cell_type": "code",
   "execution_count": null,
   "id": "0d92b49b-7259-4698-b988-4cf96a9b545d",
   "metadata": {},
   "outputs": [],
   "source": []
  }
 ],
 "metadata": {
  "kernelspec": {
   "display_name": "Python 3 (ipykernel)",
   "language": "python",
   "name": "python3"
  },
  "language_info": {
   "codemirror_mode": {
    "name": "ipython",
    "version": 3
   },
   "file_extension": ".py",
   "mimetype": "text/x-python",
   "name": "python",
   "nbconvert_exporter": "python",
   "pygments_lexer": "ipython3",
   "version": "3.9.7"
  }
 },
 "nbformat": 4,
 "nbformat_minor": 5
}
