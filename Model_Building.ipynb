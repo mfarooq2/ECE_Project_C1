{
 "cells": [
  {
   "cell_type": "code",
   "execution_count": 1,
   "id": "e9b4500c-d0be-4daf-a84d-66dd538f7306",
   "metadata": {},
   "outputs": [
    {
     "name": "stderr",
     "output_type": "stream",
     "text": [
      "/Users/mfarooq2/miniconda3/lib/python3.10/site-packages/tensorflow_addons/utils/tfa_eol_msg.py:23: UserWarning: \n",
      "\n",
      "TensorFlow Addons (TFA) has ended development and introduction of new features.\n",
      "TFA has entered a minimal maintenance and release mode until a planned end of life in May 2024.\n",
      "Please modify downstream libraries to take dependencies from other repositories in our TensorFlow community (e.g. Keras, Keras-CV, and Keras-NLP). \n",
      "\n",
      "For more information see: https://github.com/tensorflow/addons/issues/2807 \n",
      "\n",
      "  warnings.warn(\n"
     ]
    },
    {
     "name": "stdout",
     "output_type": "stream",
     "text": [
      "{0: 0.6662264675510366, 1: 12.142055736518277, 2: 9.176285557986871, 3: 3.2501937608990503}\n",
      "Metal device set to: Apple M1\n"
     ]
    }
   ],
   "source": [
    "import pandas as pd\n",
    "import glob\n",
    "import numpy as np\n",
    "from tqdm import tqdm\n",
    "import imblearn\n",
    "import tensorflow_addons as tfa\n",
    "from utils.model_1 import *\n",
    "from tensorflow import keras\n",
    "import tensorflow as tf\n",
    "from sklearn.utils.class_weight import compute_class_weight\n",
    "import matplotlib.pyplot as plt\n",
    "from sklearn.preprocessing import OneHotEncoder\n",
    "from collections import Counter\n",
    "training_val_combined=pd.read_parquet('combined_sequence_sampled/training.gzip', engine='auto')\n",
    "training_val_combined['labels']=training_val_combined['labels'].astype(int)\n",
    "training_val_combined['measurements']=training_val_combined['measurements'].apply(lambda x: np.vstack(x))\n",
    "X=list(training_val_combined['measurements'])\n",
    "X_padded=tf.keras.utils.pad_sequences(X,dtype=object)\n",
    "y=list(training_val_combined['labels'])\n",
    "# Scaling by total/2 helps keep the loss to a similar magnitude.\n",
    "# The sum of the weights of all examples stays the same.\n",
    "p=list(Counter(y).values())\n",
    "weight_for_0 = (1 / p[0]) * (len(y) / 2.0)\n",
    "weight_for_1 = (1 / p[1]) * (len(y) / 2.0)\n",
    "weight_for_2 = (1 / p[2]) * (len(y) / 2.0)\n",
    "weight_for_3 = (1 / p[3]) * (len(y) / 2.0)\n",
    "class_weight = {0: weight_for_0, 1: weight_for_1,2: weight_for_2, 3: weight_for_3}\n",
    "y_padded=np.array(y)\n",
    "print(class_weight)\n",
    "idx = np.random.permutation(len(y))\n",
    "X_balanced_reshaped = X_padded[idx]\n",
    "y_balanced_reshaped = y_padded[idx].reshape(-1,1)\n",
    "num_classes=len(np.unique(y_balanced_reshaped))\n",
    "encoder = OneHotEncoder()\n",
    "import datetime\n",
    "# transform data\n",
    "onehot = encoder.fit_transform(y_balanced_reshaped)\n",
    "y_balanced_reshaped_onehot=onehot.toarray()\n",
    "#X_padded=tf.keras.utils.pad_sequences(X,dtype=object)\n",
    "X_balanced_reshaped=tf.convert_to_tensor(X_balanced_reshaped, dtype=tf.float64)\n",
    "y_balanced_reshaped_onehot=tf.convert_to_tensor(y_balanced_reshaped_onehot)\n",
    "METRICS = [\n",
    "      keras.metrics.CategoricalAccuracy(name='Accuracy',dtype=tf.float32),\n",
    "    keras.metrics.Precision(name='Precision'),\n",
    "        keras.metrics.Precision(name='Recall'),\n",
    "]\n",
    "%load_ext tensorboard"
   ]
  },
  {
   "cell_type": "code",
   "execution_count": 16,
   "id": "919172ab-1999-4ded-811a-ae830a3089a4",
   "metadata": {},
   "outputs": [],
   "source": [
    "padded_inputs = tf.keras.preprocessing.sequence.pad_sequences(\n",
    "    X, padding=\"post\")"
   ]
  },
  {
   "cell_type": "code",
   "execution_count": 17,
   "id": "5c6022f3-47f2-4f0a-aa26-0ee6325f2573",
   "metadata": {},
   "outputs": [
    {
     "data": {
      "text/plain": [
       "(67097, 20, 6)"
      ]
     },
     "execution_count": 17,
     "metadata": {},
     "output_type": "execute_result"
    }
   ],
   "source": [
    "padded_inputs.shape"
   ]
  },
  {
   "cell_type": "code",
   "execution_count": 10,
   "id": "e1233d71-ca88-433f-b236-c3b6db2ffecd",
   "metadata": {},
   "outputs": [],
   "source": [
    "logdir = \"logs/scalars/\" + datetime.datetime.now().strftime(\"%Y%m%d-%H%M%S\")\n",
    "file_writer = tf.summary.create_file_writer(logdir + \"/metrics\")\n",
    "file_writer.set_as_default()\n",
    "\n",
    "def lr_schedule(epoch):\n",
    "  \"\"\"\n",
    "  Returns a custom learning rate that decreases as epochs progress.\n",
    "  \"\"\"\n",
    "  learning_rate = 0.2\n",
    "  if epoch > 10:\n",
    "    learning_rate = 0.02\n",
    "  if epoch > 20:\n",
    "    learning_rate = 0.01\n",
    "  if epoch > 50:\n",
    "    learning_rate = 0.005\n",
    "\n",
    "  tf.summary.scalar('learning rate', data=learning_rate, step=epoch)\n",
    "  return learning_rate\n",
    "tensorboard_callback = tf.keras.callbacks.TensorBoard(log_dir=logdir)"
   ]
  },
  {
   "cell_type": "code",
   "execution_count": 5,
   "id": "4374f9dd-e6cb-44bf-9d84-0653199ad56a",
   "metadata": {},
   "outputs": [
    {
     "data": {
      "text/html": [
       "\n",
       "      <iframe id=\"tensorboard-frame-1fa5110411d9e173\" width=\"100%\" height=\"800\" frameborder=\"0\">\n",
       "      </iframe>\n",
       "      <script>\n",
       "        (function() {\n",
       "          const frame = document.getElementById(\"tensorboard-frame-1fa5110411d9e173\");\n",
       "          const url = new URL(\"/\", window.location);\n",
       "          const port = 6009;\n",
       "          if (port) {\n",
       "            url.port = port;\n",
       "          }\n",
       "          frame.src = url;\n",
       "        })();\n",
       "      </script>\n",
       "    "
      ],
      "text/plain": [
       "<IPython.core.display.HTML object>"
      ]
     },
     "metadata": {},
     "output_type": "display_data"
    }
   ],
   "source": [
    "%tensorboard --port 6009 --logdir logs/scalars"
   ]
  },
  {
   "cell_type": "code",
   "execution_count": 11,
   "id": "5405efa3-b094-4b52-a605-c67fe3b2b6dc",
   "metadata": {},
   "outputs": [
    {
     "name": "stdout",
     "output_type": "stream",
     "text": [
      "Model: \"sequential_1\"\n",
      "_________________________________________________________________\n",
      " Layer (type)                Output Shape              Param #   \n",
      "=================================================================\n",
      " lstm_4 (LSTM)               (None, 20, 100)           42800     \n",
      "                                                                 \n",
      " dropout_5 (Dropout)         (None, 20, 100)           0         \n",
      "                                                                 \n",
      " lstm_5 (LSTM)               (None, 20, 100)           80400     \n",
      "                                                                 \n",
      " dropout_6 (Dropout)         (None, 20, 100)           0         \n",
      "                                                                 \n",
      " lstm_6 (LSTM)               (None, 20, 100)           80400     \n",
      "                                                                 \n",
      " dropout_7 (Dropout)         (None, 20, 100)           0         \n",
      "                                                                 \n",
      " lstm_7 (LSTM)               (None, 100)               80400     \n",
      "                                                                 \n",
      " dropout_8 (Dropout)         (None, 100)               0         \n",
      "                                                                 \n",
      " batch_normalization_1 (Batc  (None, 100)              400       \n",
      " hNormalization)                                                 \n",
      "                                                                 \n",
      " dropout_9 (Dropout)         (None, 100)               0         \n",
      "                                                                 \n",
      " dense_1 (Dense)             (None, 4)                 404       \n",
      "                                                                 \n",
      "=================================================================\n",
      "Total params: 284,804\n",
      "Trainable params: 284,604\n",
      "Non-trainable params: 200\n",
      "_________________________________________________________________\n"
     ]
    }
   ],
   "source": [
    "model=LSTM_Model(X_balanced_reshaped.shape[1:],num_classes)\n",
    "model.summary()"
   ]
  },
  {
   "cell_type": "code",
   "execution_count": 12,
   "id": "812d690c-2181-421e-ae7a-543b4b39bfba",
   "metadata": {},
   "outputs": [],
   "source": [
    "lr_callback = keras.callbacks.LearningRateScheduler(lr_schedule)"
   ]
  },
  {
   "cell_type": "code",
   "execution_count": 13,
   "id": "fcf6a86f-3cfa-4bee-b292-77b7a99403a4",
   "metadata": {},
   "outputs": [],
   "source": [
    "epochs = 50\n",
    "batch_size = 1000\n",
    "callbacks = [keras.callbacks.ReduceLROnPlateau(\n",
    "        monitor=\"val_loss\", factor=0.5, patience=20, min_lr=0.00001\n",
    "    ),\n",
    "    keras.callbacks.EarlyStopping(monitor=\"val_loss\", patience=50, verbose=0),tensorboard_callback,lr_callback,\n",
    "]\n",
    "opt = keras.optimizers.legacy.Adam()\n",
    "model.compile(\n",
    "    optimizer=opt,\n",
    "    loss=\"categorical_crossentropy\",\n",
    "    metrics=METRICS,\n",
    ")"
   ]
  },
  {
   "cell_type": "code",
   "execution_count": null,
   "id": "f370a2e1-0b5c-4c40-8209-c40894026323",
   "metadata": {},
   "outputs": [],
   "source": [
    "y_balanced_reshaped_onehot.shape"
   ]
  },
  {
   "cell_type": "code",
   "execution_count": null,
   "id": "d0df855e-ac67-4c08-b341-aedbb65468cb",
   "metadata": {},
   "outputs": [],
   "source": [
    "batch_size"
   ]
  },
  {
   "cell_type": "code",
   "execution_count": 14,
   "id": "07cea7b3-3d86-452a-978d-e32e28e31196",
   "metadata": {},
   "outputs": [
    {
     "name": "stderr",
     "output_type": "stream",
     "text": [
      "2023-04-22 18:35:49.501156: W tensorflow/tsl/platform/profile_utils/cpu_utils.cc:128] Failed to get CPU frequency: 0 Hz\n"
     ]
    }
   ],
   "source": [
    "history = model.fit(\n",
    "    X_balanced_reshaped,\n",
    "    y_balanced_reshaped_onehot,\n",
    "    batch_size=batch_size,\n",
    "    epochs=epochs,\n",
    "    callbacks=callbacks,\n",
    "    validation_split=0.2,\n",
    "    verbose=0,class_weight=class_weight)"
   ]
  },
  {
   "cell_type": "code",
   "execution_count": null,
   "id": "ab55328a-5b1a-45c0-a579-1bb9162a413c",
   "metadata": {},
   "outputs": [],
   "source": [
    "plt.plot(history.history['loss'],label='val_loss')\n",
    "#plt.plot(history.history['val_precision'],label='val_precision')\n",
    "#plt.plot(history.history['val_recall'],label='val_recall')\n",
    "#plt.plot(history.history['val_loss'],label='val_loss')\n",
    "plt.legend()"
   ]
  },
  {
   "cell_type": "code",
   "execution_count": null,
   "id": "9cf66294-4bae-42e1-95e3-0125c0c6d645",
   "metadata": {},
   "outputs": [],
   "source": [
    "model.save('models2/')"
   ]
  },
  {
   "cell_type": "code",
   "execution_count": null,
   "id": "46c09388-7bcb-49d6-9c42-dfbd2b046b19",
   "metadata": {},
   "outputs": [],
   "source": [
    "\n",
    "\n",
    "\n",
    "\n",
    "\n",
    "training_history = model.fit(\n",
    "    x_train, # input\n",
    "    y_train, # output\n",
    "    batch_size=train_size,\n",
    "    verbose=0, # Suppress chatty output; use Tensorboard instead\n",
    "    epochs=100,\n",
    "    validation_data=(x_test, y_test),\n",
    "    callbacks=[tensorboard_callback, lr_callback],\n",
    ")"
   ]
  }
 ],
 "metadata": {
  "kernelspec": {
   "display_name": "Python 3 (ipykernel)",
   "language": "python",
   "name": "python3"
  },
  "language_info": {
   "codemirror_mode": {
    "name": "ipython",
    "version": 3
   },
   "file_extension": ".py",
   "mimetype": "text/x-python",
   "name": "python",
   "nbconvert_exporter": "python",
   "pygments_lexer": "ipython3",
   "version": "3.10.9"
  }
 },
 "nbformat": 4,
 "nbformat_minor": 5
}
