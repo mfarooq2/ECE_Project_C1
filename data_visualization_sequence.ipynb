{
 "cells": [
  {
   "cell_type": "code",
   "execution_count": 16,
   "id": "53ddf23e-e372-4aa1-9df0-d598b2d9c324",
   "metadata": {},
   "outputs": [
    {
     "name": "stderr",
     "output_type": "stream",
     "text": [
      "100%|███████████████████████████████████████| 29/29 [00:01<00:00, 22.47it/s]\n"
     ]
    }
   ],
   "source": [
    "from sklearn.ensemble import RandomForestClassifier\n",
    "from sklearn.metrics import accuracy_score, confusion_matrix, ConfusionMatrixDisplay\n",
    "from sklearn import svm\n",
    "import pandas as pd\n",
    "import glob\n",
    "import seaborn as sns\n",
    "from tqdm import tqdm\n",
    "import matplotlib.pyplot as plt\n",
    "import numpy as np\n",
    "from ast import literal_eval\n",
    "from sklearn.ensemble import RandomForestClassifier\n",
    "from sklearn.metrics import accuracy_score, confusion_matrix, confusion_matrix, ConfusionMatrixDisplay\n",
    "from sklearn import svm\n",
    "from sklearn.model_selection import RandomizedSearchCV, train_test_split\n",
    "import numpy as np\n",
    "files=glob.glob('pre_prcessed_training_sequence/*.gzip')\n",
    "total_training_data=pd.DataFrame([])\n",
    "for f in tqdm(files):\n",
    "    total_training_data=pd.concat([total_training_data,pd.read_parquet(f, engine='auto')],axis=0)\n",
    "total_training_data=total_training_data.sort_values(['Subject','Session','time_stamp'])\n",
    "total_training_data=total_training_data.reset_index()\n",
    "total_training_data['epoch'] = total_training_data['time_stamp'].sub(pd.Timestamp('1970-01-01 00:00:00.000'))\n",
    "total_training_data['epoch']=total_training_data['epoch'].dt.total_seconds()\n",
    "total_training_data=total_training_data[['Subject','Session','epoch','measurements','labels']]\n",
    "total_training_data['measurements']=total_training_data['measurements'].apply(lambda x: np.vstack(x))\n",
    "Subjects=list(set(total_training_data.Subject))\n",
    "Sessions=[list(set(total_training_data[total_training_data.Subject==i]['Session'])) for i in Subjects]"
   ]
  },
  {
   "cell_type": "code",
   "execution_count": 20,
   "id": "efb67a55-4dd9-4285-9016-d5f4cca5185e",
   "metadata": {},
   "outputs": [
    {
     "data": {
      "text/plain": [
       "(4, 6)"
      ]
     },
     "execution_count": 20,
     "metadata": {},
     "output_type": "execute_result"
    }
   ],
   "source": [
    "total_training_data['measurements'][0].shape"
   ]
  },
  {
   "cell_type": "code",
   "execution_count": 21,
   "id": "734175a1-51d2-485a-9103-5733c877db18",
   "metadata": {},
   "outputs": [
    {
     "ename": "ValueError",
     "evalue": "array length 37890 does not match index length 9473",
     "output_type": "error",
     "traceback": [
      "\u001b[0;31m---------------------------------------------------------------------------\u001b[0m",
      "\u001b[0;31mValueError\u001b[0m                                Traceback (most recent call last)",
      "Cell \u001b[0;32mIn[21], line 10\u001b[0m\n\u001b[1;32m      8\u001b[0m        y\u001b[38;5;241m=\u001b[39mnp\u001b[38;5;241m.\u001b[39mvstack(sess_1\u001b[38;5;241m.\u001b[39mmeasurements)\u001b[38;5;241m.\u001b[39mT\n\u001b[1;32m      9\u001b[0m        \u001b[38;5;28;01mfor\u001b[39;00m s \u001b[38;5;129;01min\u001b[39;00m \u001b[38;5;28mrange\u001b[39m(\u001b[38;5;28mlen\u001b[39m(sensors)):\n\u001b[0;32m---> 10\u001b[0m            \u001b[43msns\u001b[49m\u001b[38;5;241;43m.\u001b[39;49m\u001b[43mlineplot\u001b[49m\u001b[43m(\u001b[49m\u001b[43m \u001b[49m\u001b[43mx\u001b[49m\u001b[38;5;241;43m=\u001b[39;49m\u001b[43msess_1\u001b[49m\u001b[38;5;241;43m.\u001b[39;49m\u001b[43mepoch\u001b[49m\u001b[43m,\u001b[49m\u001b[43m \u001b[49m\u001b[43my\u001b[49m\u001b[38;5;241;43m=\u001b[39;49m\u001b[43my\u001b[49m\u001b[43m[\u001b[49m\u001b[43ms\u001b[49m\u001b[43m]\u001b[49m\u001b[43m,\u001b[49m\u001b[43mpalette\u001b[49m\u001b[38;5;241;43m=\u001b[39;49m\u001b[38;5;124;43m\"\u001b[39;49m\u001b[38;5;124;43mtab10\u001b[39;49m\u001b[38;5;124;43m\"\u001b[39;49m\u001b[43m,\u001b[49m\u001b[43mhue\u001b[49m\u001b[38;5;241;43m=\u001b[39;49m\u001b[43msess_1\u001b[49m\u001b[38;5;241;43m.\u001b[39;49m\u001b[43mlabels\u001b[49m\u001b[43m,\u001b[49m\u001b[43max\u001b[49m\u001b[38;5;241;43m=\u001b[39;49m\u001b[43max\u001b[49m\u001b[43m[\u001b[49m\u001b[43ms\u001b[49m\u001b[43m]\u001b[49m\u001b[43m)\u001b[49m\n\u001b[1;32m     12\u001b[0m \u001b[38;5;66;03m#           ax[s].plot(sess_1.epoch,y[s],c='r')\u001b[39;00m\n\u001b[1;32m     13\u001b[0m  \u001b[38;5;66;03m#          ax[s].plot(sess_1.epoch,sess_1.labels,c='g',label=f\"Subject:{Subjects[sub]}_Session:{sess}_{sensors[s]}\")\u001b[39;00m\n\u001b[1;32m     14\u001b[0m            ax[s]\u001b[38;5;241m.\u001b[39mlegend()\n",
      "File \u001b[0;32m/opt/homebrew/Caskroom/miniforge/base/envs/mps/lib/python3.9/site-packages/seaborn/relational.py:618\u001b[0m, in \u001b[0;36mlineplot\u001b[0;34m(data, x, y, hue, size, style, units, palette, hue_order, hue_norm, sizes, size_order, size_norm, dashes, markers, style_order, estimator, errorbar, n_boot, seed, orient, sort, err_style, err_kws, legend, ci, ax, **kwargs)\u001b[0m\n\u001b[1;32m    615\u001b[0m errorbar \u001b[38;5;241m=\u001b[39m _deprecate_ci(errorbar, ci)\n\u001b[1;32m    617\u001b[0m variables \u001b[38;5;241m=\u001b[39m _LinePlotter\u001b[38;5;241m.\u001b[39mget_semantics(\u001b[38;5;28mlocals\u001b[39m())\n\u001b[0;32m--> 618\u001b[0m p \u001b[38;5;241m=\u001b[39m \u001b[43m_LinePlotter\u001b[49m\u001b[43m(\u001b[49m\n\u001b[1;32m    619\u001b[0m \u001b[43m    \u001b[49m\u001b[43mdata\u001b[49m\u001b[38;5;241;43m=\u001b[39;49m\u001b[43mdata\u001b[49m\u001b[43m,\u001b[49m\u001b[43m \u001b[49m\u001b[43mvariables\u001b[49m\u001b[38;5;241;43m=\u001b[39;49m\u001b[43mvariables\u001b[49m\u001b[43m,\u001b[49m\n\u001b[1;32m    620\u001b[0m \u001b[43m    \u001b[49m\u001b[43mestimator\u001b[49m\u001b[38;5;241;43m=\u001b[39;49m\u001b[43mestimator\u001b[49m\u001b[43m,\u001b[49m\u001b[43m \u001b[49m\u001b[43mn_boot\u001b[49m\u001b[38;5;241;43m=\u001b[39;49m\u001b[43mn_boot\u001b[49m\u001b[43m,\u001b[49m\u001b[43m \u001b[49m\u001b[43mseed\u001b[49m\u001b[38;5;241;43m=\u001b[39;49m\u001b[43mseed\u001b[49m\u001b[43m,\u001b[49m\u001b[43m \u001b[49m\u001b[43merrorbar\u001b[49m\u001b[38;5;241;43m=\u001b[39;49m\u001b[43merrorbar\u001b[49m\u001b[43m,\u001b[49m\n\u001b[1;32m    621\u001b[0m \u001b[43m    \u001b[49m\u001b[43msort\u001b[49m\u001b[38;5;241;43m=\u001b[39;49m\u001b[43msort\u001b[49m\u001b[43m,\u001b[49m\u001b[43m \u001b[49m\u001b[43morient\u001b[49m\u001b[38;5;241;43m=\u001b[39;49m\u001b[43morient\u001b[49m\u001b[43m,\u001b[49m\u001b[43m \u001b[49m\u001b[43merr_style\u001b[49m\u001b[38;5;241;43m=\u001b[39;49m\u001b[43merr_style\u001b[49m\u001b[43m,\u001b[49m\u001b[43m \u001b[49m\u001b[43merr_kws\u001b[49m\u001b[38;5;241;43m=\u001b[39;49m\u001b[43merr_kws\u001b[49m\u001b[43m,\u001b[49m\n\u001b[1;32m    622\u001b[0m \u001b[43m    \u001b[49m\u001b[43mlegend\u001b[49m\u001b[38;5;241;43m=\u001b[39;49m\u001b[43mlegend\u001b[49m\u001b[43m,\u001b[49m\n\u001b[1;32m    623\u001b[0m \u001b[43m\u001b[49m\u001b[43m)\u001b[49m\n\u001b[1;32m    625\u001b[0m p\u001b[38;5;241m.\u001b[39mmap_hue(palette\u001b[38;5;241m=\u001b[39mpalette, order\u001b[38;5;241m=\u001b[39mhue_order, norm\u001b[38;5;241m=\u001b[39mhue_norm)\n\u001b[1;32m    626\u001b[0m p\u001b[38;5;241m.\u001b[39mmap_size(sizes\u001b[38;5;241m=\u001b[39msizes, order\u001b[38;5;241m=\u001b[39msize_order, norm\u001b[38;5;241m=\u001b[39msize_norm)\n",
      "File \u001b[0;32m/opt/homebrew/Caskroom/miniforge/base/envs/mps/lib/python3.9/site-packages/seaborn/relational.py:365\u001b[0m, in \u001b[0;36m_LinePlotter.__init__\u001b[0;34m(self, data, variables, estimator, n_boot, seed, errorbar, sort, orient, err_style, err_kws, legend)\u001b[0m\n\u001b[1;32m    351\u001b[0m \u001b[38;5;28;01mdef\u001b[39;00m \u001b[38;5;21m__init__\u001b[39m(\n\u001b[1;32m    352\u001b[0m     \u001b[38;5;28mself\u001b[39m, \u001b[38;5;241m*\u001b[39m,\n\u001b[1;32m    353\u001b[0m     data\u001b[38;5;241m=\u001b[39m\u001b[38;5;28;01mNone\u001b[39;00m, variables\u001b[38;5;241m=\u001b[39m{},\n\u001b[0;32m   (...)\u001b[0m\n\u001b[1;32m    359\u001b[0m     \u001b[38;5;66;03m# the kind of plot to draw, but for the time being we need to set\u001b[39;00m\n\u001b[1;32m    360\u001b[0m     \u001b[38;5;66;03m# this information so the SizeMapping can use it\u001b[39;00m\n\u001b[1;32m    361\u001b[0m     \u001b[38;5;28mself\u001b[39m\u001b[38;5;241m.\u001b[39m_default_size_range \u001b[38;5;241m=\u001b[39m (\n\u001b[1;32m    362\u001b[0m         np\u001b[38;5;241m.\u001b[39mr_[\u001b[38;5;241m.5\u001b[39m, \u001b[38;5;241m2\u001b[39m] \u001b[38;5;241m*\u001b[39m mpl\u001b[38;5;241m.\u001b[39mrcParams[\u001b[38;5;124m\"\u001b[39m\u001b[38;5;124mlines.linewidth\u001b[39m\u001b[38;5;124m\"\u001b[39m]\n\u001b[1;32m    363\u001b[0m     )\n\u001b[0;32m--> 365\u001b[0m     \u001b[38;5;28;43msuper\u001b[39;49m\u001b[43m(\u001b[49m\u001b[43m)\u001b[49m\u001b[38;5;241;43m.\u001b[39;49m\u001b[38;5;21;43m__init__\u001b[39;49m\u001b[43m(\u001b[49m\u001b[43mdata\u001b[49m\u001b[38;5;241;43m=\u001b[39;49m\u001b[43mdata\u001b[49m\u001b[43m,\u001b[49m\u001b[43m \u001b[49m\u001b[43mvariables\u001b[49m\u001b[38;5;241;43m=\u001b[39;49m\u001b[43mvariables\u001b[49m\u001b[43m)\u001b[49m\n\u001b[1;32m    367\u001b[0m     \u001b[38;5;28mself\u001b[39m\u001b[38;5;241m.\u001b[39mestimator \u001b[38;5;241m=\u001b[39m estimator\n\u001b[1;32m    368\u001b[0m     \u001b[38;5;28mself\u001b[39m\u001b[38;5;241m.\u001b[39merrorbar \u001b[38;5;241m=\u001b[39m errorbar\n",
      "File \u001b[0;32m/opt/homebrew/Caskroom/miniforge/base/envs/mps/lib/python3.9/site-packages/seaborn/_oldcore.py:640\u001b[0m, in \u001b[0;36mVectorPlotter.__init__\u001b[0;34m(self, data, variables)\u001b[0m\n\u001b[1;32m    635\u001b[0m \u001b[38;5;66;03m# var_ordered is relevant only for categorical axis variables, and may\u001b[39;00m\n\u001b[1;32m    636\u001b[0m \u001b[38;5;66;03m# be better handled by an internal axis information object that tracks\u001b[39;00m\n\u001b[1;32m    637\u001b[0m \u001b[38;5;66;03m# such information and is set up by the scale_* methods. The analogous\u001b[39;00m\n\u001b[1;32m    638\u001b[0m \u001b[38;5;66;03m# information for numeric axes would be information about log scales.\u001b[39;00m\n\u001b[1;32m    639\u001b[0m \u001b[38;5;28mself\u001b[39m\u001b[38;5;241m.\u001b[39m_var_ordered \u001b[38;5;241m=\u001b[39m {\u001b[38;5;124m\"\u001b[39m\u001b[38;5;124mx\u001b[39m\u001b[38;5;124m\"\u001b[39m: \u001b[38;5;28;01mFalse\u001b[39;00m, \u001b[38;5;124m\"\u001b[39m\u001b[38;5;124my\u001b[39m\u001b[38;5;124m\"\u001b[39m: \u001b[38;5;28;01mFalse\u001b[39;00m}  \u001b[38;5;66;03m# alt., used DefaultDict\u001b[39;00m\n\u001b[0;32m--> 640\u001b[0m \u001b[38;5;28;43mself\u001b[39;49m\u001b[38;5;241;43m.\u001b[39;49m\u001b[43massign_variables\u001b[49m\u001b[43m(\u001b[49m\u001b[43mdata\u001b[49m\u001b[43m,\u001b[49m\u001b[43m \u001b[49m\u001b[43mvariables\u001b[49m\u001b[43m)\u001b[49m\n\u001b[1;32m    642\u001b[0m \u001b[38;5;28;01mfor\u001b[39;00m var, \u001b[38;5;28mcls\u001b[39m \u001b[38;5;129;01min\u001b[39;00m \u001b[38;5;28mself\u001b[39m\u001b[38;5;241m.\u001b[39m_semantic_mappings\u001b[38;5;241m.\u001b[39mitems():\n\u001b[1;32m    643\u001b[0m \n\u001b[1;32m    644\u001b[0m     \u001b[38;5;66;03m# Create the mapping function\u001b[39;00m\n\u001b[1;32m    645\u001b[0m     map_func \u001b[38;5;241m=\u001b[39m partial(\u001b[38;5;28mcls\u001b[39m\u001b[38;5;241m.\u001b[39mmap, plotter\u001b[38;5;241m=\u001b[39m\u001b[38;5;28mself\u001b[39m)\n",
      "File \u001b[0;32m/opt/homebrew/Caskroom/miniforge/base/envs/mps/lib/python3.9/site-packages/seaborn/_oldcore.py:701\u001b[0m, in \u001b[0;36mVectorPlotter.assign_variables\u001b[0;34m(self, data, variables)\u001b[0m\n\u001b[1;32m    699\u001b[0m \u001b[38;5;28;01melse\u001b[39;00m:\n\u001b[1;32m    700\u001b[0m     \u001b[38;5;28mself\u001b[39m\u001b[38;5;241m.\u001b[39minput_format \u001b[38;5;241m=\u001b[39m \u001b[38;5;124m\"\u001b[39m\u001b[38;5;124mlong\u001b[39m\u001b[38;5;124m\"\u001b[39m\n\u001b[0;32m--> 701\u001b[0m     plot_data, variables \u001b[38;5;241m=\u001b[39m \u001b[38;5;28;43mself\u001b[39;49m\u001b[38;5;241;43m.\u001b[39;49m\u001b[43m_assign_variables_longform\u001b[49m\u001b[43m(\u001b[49m\n\u001b[1;32m    702\u001b[0m \u001b[43m        \u001b[49m\u001b[43mdata\u001b[49m\u001b[43m,\u001b[49m\u001b[43m \u001b[49m\u001b[38;5;241;43m*\u001b[39;49m\u001b[38;5;241;43m*\u001b[39;49m\u001b[43mvariables\u001b[49m\u001b[43m,\u001b[49m\n\u001b[1;32m    703\u001b[0m \u001b[43m    \u001b[49m\u001b[43m)\u001b[49m\n\u001b[1;32m    705\u001b[0m \u001b[38;5;28mself\u001b[39m\u001b[38;5;241m.\u001b[39mplot_data \u001b[38;5;241m=\u001b[39m plot_data\n\u001b[1;32m    706\u001b[0m \u001b[38;5;28mself\u001b[39m\u001b[38;5;241m.\u001b[39mvariables \u001b[38;5;241m=\u001b[39m variables\n",
      "File \u001b[0;32m/opt/homebrew/Caskroom/miniforge/base/envs/mps/lib/python3.9/site-packages/seaborn/_oldcore.py:962\u001b[0m, in \u001b[0;36mVectorPlotter._assign_variables_longform\u001b[0;34m(self, data, **kwargs)\u001b[0m\n\u001b[1;32m    958\u001b[0m         variables[key] \u001b[38;5;241m=\u001b[39m \u001b[38;5;28mgetattr\u001b[39m(val, \u001b[38;5;124m\"\u001b[39m\u001b[38;5;124mname\u001b[39m\u001b[38;5;124m\"\u001b[39m, \u001b[38;5;28;01mNone\u001b[39;00m)\n\u001b[1;32m    960\u001b[0m \u001b[38;5;66;03m# Construct a tidy plot DataFrame. This will convert a number of\u001b[39;00m\n\u001b[1;32m    961\u001b[0m \u001b[38;5;66;03m# types automatically, aligning on index in case of pandas objects\u001b[39;00m\n\u001b[0;32m--> 962\u001b[0m plot_data \u001b[38;5;241m=\u001b[39m \u001b[43mpd\u001b[49m\u001b[38;5;241;43m.\u001b[39;49m\u001b[43mDataFrame\u001b[49m\u001b[43m(\u001b[49m\u001b[43mplot_data\u001b[49m\u001b[43m)\u001b[49m\n\u001b[1;32m    964\u001b[0m \u001b[38;5;66;03m# Reduce the variables dictionary to fields with valid data\u001b[39;00m\n\u001b[1;32m    965\u001b[0m variables \u001b[38;5;241m=\u001b[39m {\n\u001b[1;32m    966\u001b[0m     var: name\n\u001b[1;32m    967\u001b[0m     \u001b[38;5;28;01mfor\u001b[39;00m var, name \u001b[38;5;129;01min\u001b[39;00m variables\u001b[38;5;241m.\u001b[39mitems()\n\u001b[1;32m    968\u001b[0m     \u001b[38;5;28;01mif\u001b[39;00m plot_data[var]\u001b[38;5;241m.\u001b[39mnotnull()\u001b[38;5;241m.\u001b[39many()\n\u001b[1;32m    969\u001b[0m }\n",
      "File \u001b[0;32m/opt/homebrew/Caskroom/miniforge/base/envs/mps/lib/python3.9/site-packages/pandas/core/frame.py:664\u001b[0m, in \u001b[0;36mDataFrame.__init__\u001b[0;34m(self, data, index, columns, dtype, copy)\u001b[0m\n\u001b[1;32m    658\u001b[0m     mgr \u001b[38;5;241m=\u001b[39m \u001b[38;5;28mself\u001b[39m\u001b[38;5;241m.\u001b[39m_init_mgr(\n\u001b[1;32m    659\u001b[0m         data, axes\u001b[38;5;241m=\u001b[39m{\u001b[38;5;124m\"\u001b[39m\u001b[38;5;124mindex\u001b[39m\u001b[38;5;124m\"\u001b[39m: index, \u001b[38;5;124m\"\u001b[39m\u001b[38;5;124mcolumns\u001b[39m\u001b[38;5;124m\"\u001b[39m: columns}, dtype\u001b[38;5;241m=\u001b[39mdtype, copy\u001b[38;5;241m=\u001b[39mcopy\n\u001b[1;32m    660\u001b[0m     )\n\u001b[1;32m    662\u001b[0m \u001b[38;5;28;01melif\u001b[39;00m \u001b[38;5;28misinstance\u001b[39m(data, \u001b[38;5;28mdict\u001b[39m):\n\u001b[1;32m    663\u001b[0m     \u001b[38;5;66;03m# GH#38939 de facto copy defaults to False only in non-dict cases\u001b[39;00m\n\u001b[0;32m--> 664\u001b[0m     mgr \u001b[38;5;241m=\u001b[39m \u001b[43mdict_to_mgr\u001b[49m\u001b[43m(\u001b[49m\u001b[43mdata\u001b[49m\u001b[43m,\u001b[49m\u001b[43m \u001b[49m\u001b[43mindex\u001b[49m\u001b[43m,\u001b[49m\u001b[43m \u001b[49m\u001b[43mcolumns\u001b[49m\u001b[43m,\u001b[49m\u001b[43m \u001b[49m\u001b[43mdtype\u001b[49m\u001b[38;5;241;43m=\u001b[39;49m\u001b[43mdtype\u001b[49m\u001b[43m,\u001b[49m\u001b[43m \u001b[49m\u001b[43mcopy\u001b[49m\u001b[38;5;241;43m=\u001b[39;49m\u001b[43mcopy\u001b[49m\u001b[43m,\u001b[49m\u001b[43m \u001b[49m\u001b[43mtyp\u001b[49m\u001b[38;5;241;43m=\u001b[39;49m\u001b[43mmanager\u001b[49m\u001b[43m)\u001b[49m\n\u001b[1;32m    665\u001b[0m \u001b[38;5;28;01melif\u001b[39;00m \u001b[38;5;28misinstance\u001b[39m(data, ma\u001b[38;5;241m.\u001b[39mMaskedArray):\n\u001b[1;32m    666\u001b[0m     \u001b[38;5;28;01mimport\u001b[39;00m \u001b[38;5;21;01mnumpy\u001b[39;00m\u001b[38;5;21;01m.\u001b[39;00m\u001b[38;5;21;01mma\u001b[39;00m\u001b[38;5;21;01m.\u001b[39;00m\u001b[38;5;21;01mmrecords\u001b[39;00m \u001b[38;5;28;01mas\u001b[39;00m \u001b[38;5;21;01mmrecords\u001b[39;00m\n",
      "File \u001b[0;32m/opt/homebrew/Caskroom/miniforge/base/envs/mps/lib/python3.9/site-packages/pandas/core/internals/construction.py:493\u001b[0m, in \u001b[0;36mdict_to_mgr\u001b[0;34m(data, index, columns, dtype, typ, copy)\u001b[0m\n\u001b[1;32m    489\u001b[0m     \u001b[38;5;28;01melse\u001b[39;00m:\n\u001b[1;32m    490\u001b[0m         \u001b[38;5;66;03m# dtype check to exclude e.g. range objects, scalars\u001b[39;00m\n\u001b[1;32m    491\u001b[0m         arrays \u001b[38;5;241m=\u001b[39m [x\u001b[38;5;241m.\u001b[39mcopy() \u001b[38;5;28;01mif\u001b[39;00m \u001b[38;5;28mhasattr\u001b[39m(x, \u001b[38;5;124m\"\u001b[39m\u001b[38;5;124mdtype\u001b[39m\u001b[38;5;124m\"\u001b[39m) \u001b[38;5;28;01melse\u001b[39;00m x \u001b[38;5;28;01mfor\u001b[39;00m x \u001b[38;5;129;01min\u001b[39;00m arrays]\n\u001b[0;32m--> 493\u001b[0m \u001b[38;5;28;01mreturn\u001b[39;00m \u001b[43marrays_to_mgr\u001b[49m\u001b[43m(\u001b[49m\u001b[43marrays\u001b[49m\u001b[43m,\u001b[49m\u001b[43m \u001b[49m\u001b[43mcolumns\u001b[49m\u001b[43m,\u001b[49m\u001b[43m \u001b[49m\u001b[43mindex\u001b[49m\u001b[43m,\u001b[49m\u001b[43m \u001b[49m\u001b[43mdtype\u001b[49m\u001b[38;5;241;43m=\u001b[39;49m\u001b[43mdtype\u001b[49m\u001b[43m,\u001b[49m\u001b[43m \u001b[49m\u001b[43mtyp\u001b[49m\u001b[38;5;241;43m=\u001b[39;49m\u001b[43mtyp\u001b[49m\u001b[43m,\u001b[49m\u001b[43m \u001b[49m\u001b[43mconsolidate\u001b[49m\u001b[38;5;241;43m=\u001b[39;49m\u001b[43mcopy\u001b[49m\u001b[43m)\u001b[49m\n",
      "File \u001b[0;32m/opt/homebrew/Caskroom/miniforge/base/envs/mps/lib/python3.9/site-packages/pandas/core/internals/construction.py:118\u001b[0m, in \u001b[0;36marrays_to_mgr\u001b[0;34m(arrays, columns, index, dtype, verify_integrity, typ, consolidate)\u001b[0m\n\u001b[1;32m    115\u001b[0m \u001b[38;5;28;01mif\u001b[39;00m verify_integrity:\n\u001b[1;32m    116\u001b[0m     \u001b[38;5;66;03m# figure out the index, if necessary\u001b[39;00m\n\u001b[1;32m    117\u001b[0m     \u001b[38;5;28;01mif\u001b[39;00m index \u001b[38;5;129;01mis\u001b[39;00m \u001b[38;5;28;01mNone\u001b[39;00m:\n\u001b[0;32m--> 118\u001b[0m         index \u001b[38;5;241m=\u001b[39m \u001b[43m_extract_index\u001b[49m\u001b[43m(\u001b[49m\u001b[43marrays\u001b[49m\u001b[43m)\u001b[49m\n\u001b[1;32m    119\u001b[0m     \u001b[38;5;28;01melse\u001b[39;00m:\n\u001b[1;32m    120\u001b[0m         index \u001b[38;5;241m=\u001b[39m ensure_index(index)\n",
      "File \u001b[0;32m/opt/homebrew/Caskroom/miniforge/base/envs/mps/lib/python3.9/site-packages/pandas/core/internals/construction.py:680\u001b[0m, in \u001b[0;36m_extract_index\u001b[0;34m(data)\u001b[0m\n\u001b[1;32m    675\u001b[0m     \u001b[38;5;28;01mif\u001b[39;00m lengths[\u001b[38;5;241m0\u001b[39m] \u001b[38;5;241m!=\u001b[39m \u001b[38;5;28mlen\u001b[39m(index):\n\u001b[1;32m    676\u001b[0m         msg \u001b[38;5;241m=\u001b[39m (\n\u001b[1;32m    677\u001b[0m             \u001b[38;5;124mf\u001b[39m\u001b[38;5;124m\"\u001b[39m\u001b[38;5;124marray length \u001b[39m\u001b[38;5;132;01m{\u001b[39;00mlengths[\u001b[38;5;241m0\u001b[39m]\u001b[38;5;132;01m}\u001b[39;00m\u001b[38;5;124m does not match index \u001b[39m\u001b[38;5;124m\"\u001b[39m\n\u001b[1;32m    678\u001b[0m             \u001b[38;5;124mf\u001b[39m\u001b[38;5;124m\"\u001b[39m\u001b[38;5;124mlength \u001b[39m\u001b[38;5;132;01m{\u001b[39;00m\u001b[38;5;28mlen\u001b[39m(index)\u001b[38;5;132;01m}\u001b[39;00m\u001b[38;5;124m\"\u001b[39m\n\u001b[1;32m    679\u001b[0m         )\n\u001b[0;32m--> 680\u001b[0m         \u001b[38;5;28;01mraise\u001b[39;00m \u001b[38;5;167;01mValueError\u001b[39;00m(msg)\n\u001b[1;32m    681\u001b[0m \u001b[38;5;28;01melse\u001b[39;00m:\n\u001b[1;32m    682\u001b[0m     index \u001b[38;5;241m=\u001b[39m default_index(lengths[\u001b[38;5;241m0\u001b[39m])\n",
      "\u001b[0;31mValueError\u001b[0m: array length 37890 does not match index length 9473"
     ]
    },
    {
     "data": {
      "image/png": "[encoded data removed]",
      "text/plain": [
       "<Figure size 2000x500 with 6 Axes>"
      ]
     },
     "metadata": {},
     "output_type": "display_data"
    }
   ],
   "source": [
    "for sub in range(len(Subjects)):\n",
    "    sub_session=Sessions[sub]\n",
    "    for sess in sub_session:  \n",
    "        sensors=['acc_x','acc_y','acc_z','gyro_x','gyro_y','gyro_z']\n",
    "        s_label_dist=['Solid Ground(0)','Downstairs(1)','Upstairs(2)','Grass(3)']\n",
    "        fig,ax=plt.subplots(1,6,figsize=(20,5))\n",
    "        sess_1=total_training_data[(total_training_data.Subject==Subjects[sub])&(total_training_data.Session==sess)][['epoch','measurements','labels']]\n",
    "        y=np.vstack(sess_1.measurements).T\n",
    "        for s in range(len(sensors)):\n",
    "            sns.lineplot( x=sess_1.epoch, y=y[s],palette=\"tab10\",hue=sess_1.labels,ax=ax[s])\n",
    "            \n",
    " #           ax[s].plot(sess_1.epoch,y[s],c='r')\n",
    "  #          ax[s].plot(sess_1.epoch,sess_1.labels,c='g',label=f\"Subject:{Subjects[sub]}_Session:{sess}_{sensors[s]}\")\n",
    "            ax[s].legend()"
   ]
  },
  {
   "cell_type": "code",
   "execution_count": null,
   "id": "ebfab331-69b8-43b2-a397-3ba8d325e7b6",
   "metadata": {},
   "outputs": [],
   "source": [
    "Subjects"
   ]
  },
  {
   "cell_type": "code",
   "execution_count": null,
   "id": "34c29b6a-4f38-4160-8116-fd1eab00e0dd",
   "metadata": {},
   "outputs": [],
   "source": [
    "for sub in range(len(Subjects)):\n",
    "    print('Subject:',sub+1)\n",
    "    sub_session=Sessions[sub]\n",
    "    for sess in sub_session:  \n",
    "        print('Session:',sess)\n",
    "        sensors=['acc_x','acc_y','acc_z','gyro_x','gyro_y','gyro_z']\n",
    "        s_label_dist=['Solid Ground(0)','Downstairs(1)','Upstairs(2)','Grass(3)']\n",
    "        fig,ax=plt.subplots(4,6,figsize=(20,10))\n",
    "        for _ in range(4):\n",
    "            sess_1=total_training_data[(total_training_data.labels==_)&(total_training_data.Subject==Subjects[sub])&(total_training_data.Session==sess)][['epoch','measurements','labels']]\n",
    "            y=np.vstack(sess_1.measurements).T\n",
    "            for s in range(len(sensors)):\n",
    "                ax[_,s].plot(sess_1.epoch,y[s],c='r',label=f\"{s_label_dist[_]}_{sensors[s]}\")\n",
    "                ax[_,s].legend()\n",
    "        "
   ]
  },
  {
   "cell_type": "code",
   "execution_count": null,
   "id": "85a42d1a-beb0-4e55-9177-b90bcc8cc062",
   "metadata": {},
   "outputs": [],
   "source": [
    "sess_1=total_training_data[(total_training_data.Subject==1)&(total_training_data.Session==2)][['epoch','measurements','labels']].reset_index(drop=True)\n",
    "\n",
    "\n"
   ]
  },
  {
   "cell_type": "code",
   "execution_count": null,
   "id": "c5e32a98-1da9-4683-876a-507c83ab33cf",
   "metadata": {},
   "outputs": [],
   "source": [
    "sess_1['epoch'][len(sess_1)-1]-sess_1['epoch'][0]"
   ]
  },
  {
   "cell_type": "code",
   "execution_count": null,
   "id": "c274c97a-75b3-49e8-bff5-a48238d46636",
   "metadata": {},
   "outputs": [],
   "source": [
    "sess_1['epoch'][len(sess_1)-1]-sess_1['epoch'][0]"
   ]
  },
  {
   "cell_type": "code",
   "execution_count": null,
   "id": "a675c5f6-57f6-4748-9fab-92839f59f126",
   "metadata": {},
   "outputs": [],
   "source": [
    "total_training_data_grouped=total_training_data.groupby(['Subject','Session','epoch']).agg({'measurements':[np.mean],'labels':[np.mean]})\n",
    "total_training_data_grouped.columns = total_training_data_grouped.columns.droplevel(1)\n",
    "total_training_data_grouped=total_training_data_grouped.reset_index(level=['epoch'])\n",
    "total_training_data_grouped.to_parquet(f\"combined_sampled/training.gzip\",compression='gzip')"
   ]
  },
  {
   "cell_type": "code",
   "execution_count": null,
   "id": "68fe0989-0f5f-415a-a8dc-f024e8a6541c",
   "metadata": {},
   "outputs": [],
   "source": [
    "total_training_data_g=total_training_data_g.reset_index(level=['epoch'])"
   ]
  },
  {
   "cell_type": "code",
   "execution_count": null,
   "id": "69eaed96-cbc8-432d-8788-bf3acc5c9506",
   "metadata": {},
   "outputs": [],
   "source": [
    "total_training_data_g"
   ]
  },
  {
   "cell_type": "code",
   "execution_count": null,
   "id": "1811cf1f-a9e4-49db-932a-3b3f72ea4c7f",
   "metadata": {},
   "outputs": [],
   "source": [
    "total_training_data_grouped"
   ]
  },
  {
   "cell_type": "code",
   "execution_count": null,
   "id": "b3805d63-6e79-46b3-a0dc-441e83a09d20",
   "metadata": {},
   "outputs": [],
   "source": [
    "total_training_data_g=total_training_data_grouped.copy()"
   ]
  },
  {
   "cell_type": "code",
   "execution_count": null,
   "id": "d163b3f9-5232-49a5-896b-afc4d5c62ce9",
   "metadata": {},
   "outputs": [],
   "source": [
    "total_training_data_g.columns = total_training_data_g.columns.droplevel(1)"
   ]
  },
  {
   "cell_type": "code",
   "execution_count": null,
   "id": "c959703f-1d8f-4092-88c3-6d341a5898ed",
   "metadata": {},
   "outputs": [],
   "source": [
    "total_training_data_g"
   ]
  },
  {
   "cell_type": "code",
   "execution_count": null,
   "id": "6d8e1204-5414-47a4-baf4-0d4236642807",
   "metadata": {},
   "outputs": [],
   "source": [
    "total_training_data['time_stamp'][2].time()"
   ]
  },
  {
   "cell_type": "code",
   "execution_count": null,
   "id": "b3041ae7-a682-438e-909c-7b7453f9d6da",
   "metadata": {},
   "outputs": [],
   "source": [
    "s_time_interv=total_training_data.groupby(pd.Grouper(freq=))"
   ]
  },
  {
   "cell_type": "code",
   "execution_count": null,
   "id": "f5192f2a-8cf2-44da-ad2d-63a01e1e9ce9",
   "metadata": {},
   "outputs": [],
   "source": [
    "pr=list(total_training_data.iloc[4])"
   ]
  },
  {
   "cell_type": "code",
   "execution_count": null,
   "id": "0270ea16-15b1-441a-a25e-1beb7af0ba4d",
   "metadata": {},
   "outputs": [],
   "source": [
    "total_training_data.iloc[4].to_dict()"
   ]
  },
  {
   "cell_type": "code",
   "execution_count": null,
   "id": "77c736a1-95e3-4b8e-89af-d5e01d7fc895",
   "metadata": {},
   "outputs": [],
   "source": [
    "pr.index"
   ]
  },
  {
   "cell_type": "code",
   "execution_count": null,
   "id": "d9aa4529-b082-48de-918a-b80587cc5a27",
   "metadata": {},
   "outputs": [],
   "source": [
    "subject=1\n",
    "sample=total_training_data\n",
    "\n",
    "s_time_interv= total_training_data[['Subject','Session','time_stamp']]\n",
    "s_time_interv=s_time_interv.groupby(['Subject','Session']).agg({'time_stamp': [np.min,np.max]})\n",
    "s_time_interv.columns=s_time_interv.columns.droplevel()\n",
    "s_time_interv['time_interval']=s_time_interv['amax']-s_time_interv['amin']\n",
    "s_time_interv['time_interval']=s_time_interv['time_interval'].dt.total_seconds()\n",
    "s_time_interv=s_time_interv[['time_interval']]\n",
    "s_time_interv=s_time_interv.unstack()\n",
    "s_time_interv.columns=s_time_interv.columns.droplevel()\n",
    "#s=s.reset_index(drop=True)"
   ]
  },
  {
   "cell_type": "code",
   "execution_count": null,
   "id": "d0f71501-e82d-4121-bab1-9c3635fddbe5",
   "metadata": {},
   "outputs": [],
   "source": [
    "s_time_interv.plot(kind='bar',ylabel='time_interval (s)',figsize=(8,4),title=f\"Subject-Session-Interval Distribution\")\n",
    "plt.xticks(rotation='horizontal')\n",
    "SMALL_SIZE = 12\n",
    "plt.legend(loc='center left', bbox_to_anchor=(1, 0.5)).set_title(\"Session\")\n",
    "plt.rc('font', size=SMALL_SIZE)          # controls default text sizes\n",
    "plt.rc('axes', titlesize=SMALL_SIZE)     # fontsize of the axes title\n",
    "plt.rc('axes', labelsize=SMALL_SIZE)    # fontsize of the x and y labels\n",
    "plt.rc('xtick', labelsize=SMALL_SIZE)    # fontsize of the tick labels\n",
    "plt.rc('ytick', labelsize=SMALL_SIZE)    # fontsize of the tick labels\n",
    "plt.rc('legend', fontsize=SMALL_SIZE)    # legend fontsize\n",
    "plt.rc('figure', titlesize=SMALL_SIZE)  # fontsize of the figure title"
   ]
  },
  {
   "cell_type": "code",
   "execution_count": null,
   "id": "300216ee-9af5-4309-8cb1-08ed7dc99c87",
   "metadata": {},
   "outputs": [],
   "source": [
    "SMALL_SIZE = 8\n",
    "matplotlib.rc('font', size=SMALL_SIZE)\n",
    "matplotlib.rc('axes', titlesize=SMALL_SIZE)"
   ]
  },
  {
   "cell_type": "code",
   "execution_count": null,
   "id": "9c21282a-8a80-4a8e-9fc8-452af1794c5d",
   "metadata": {},
   "outputs": [],
   "source": [
    "\n",
    "#s_label_dist.columns=s_label_dist.columns.droplevel()\n",
    "ax=s_label_dist.plot(kind='bar',xlabel='labels',ylabel='count',legend=False)\n",
    "ax.bar_label(ax.containers[0])"
   ]
  },
  {
   "cell_type": "code",
   "execution_count": null,
   "id": "cceb46fa-5248-4ed2-857b-4831c7dd87f9",
   "metadata": {},
   "outputs": [],
   "source": [
    "ax = df.plot.bar()\n",
    "\n"
   ]
  },
  {
   "cell_type": "code",
   "execution_count": null,
   "id": "9aa162d2-1911-454f-97d0-08a4024ddf41",
   "metadata": {},
   "outputs": [],
   "source": [
    "sample=total_training_data[(total_training_data.Subject==8)].reset_index()"
   ]
  },
  {
   "cell_type": "code",
   "execution_count": null,
   "id": "9e47b42d-d0df-45d0-8035-35cecd2b09c6",
   "metadata": {},
   "outputs": [],
   "source": [
    "s_label_dist= sample[['labels','time_stamp']]\n",
    "s_label_dist=s_label_dist.groupby(['labels']).count().rename(columns={'time_stamp':'Count','labels':'Labels'}).reset_index()\n",
    "s_label_dist['Labels']=['Solid Ground(0)','Downstairs(1)','Upstairs(2)','Grass(3)']\n",
    "ax=sns.barplot(x = 'Labels',y = 'Count',data = s_label_dist)\n",
    "ax.bar_label(ax.containers[0])\n",
    "plt.show()"
   ]
  },
  {
   "cell_type": "code",
   "execution_count": null,
   "id": "70f6553c-fffd-4e7d-a044-5debac3e09e0",
   "metadata": {},
   "outputs": [],
   "source": [
    "s_label_dist= total_training_data[['Session','labels','time_stamp']]\n",
    "s_label_dist=s_label_dist.groupby(['Session','labels']).count()\n",
    "s_label_dist=s_label_dist.unstack()\n",
    "s_label_dist.columns=s_label_dist.columns.droplevel()\n",
    "s_label_dist.plot(kind='bar',xlabel='Session',ylabel='count')"
   ]
  },
  {
   "cell_type": "code",
   "execution_count": null,
   "id": "862f1559-770c-45b1-8466-90f96a90fa62",
   "metadata": {},
   "outputs": [],
   "source": [
    "s1_s1=total_training_data[(total_training_data.Subject==1) & (total_training_data.Session==1)][['time_stamp','measurements','labels']]"
   ]
  },
  {
   "cell_type": "code",
   "execution_count": null,
   "id": "40690d4b-3e69-4557-99a8-52205c1b6f8d",
   "metadata": {},
   "outputs": [],
   "source": [
    "s1_s1_grouped=s1_s1.set_index('time_stamp').groupby([pd.Grouper(freq='1min'),'labels']).count().unstack()\n",
    "s1_s1_grouped.columns=s1_s1_grouped.columns.droplevel()\n",
    "s1_s1_grouped.index=s1_s1_grouped.index.time\n",
    "s1_s1_grouped.plot()"
   ]
  },
  {
   "cell_type": "code",
   "execution_count": null,
   "id": "10129881-56f8-48a3-81aa-1779677625ca",
   "metadata": {},
   "outputs": [],
   "source": [
    "s1_s1"
   ]
  },
  {
   "cell_type": "code",
   "execution_count": null,
   "id": "dcaf359e-8813-4a7b-a5fe-bdd3da76c802",
   "metadata": {},
   "outputs": [],
   "source": [
    "s1_s1['ranks']=s1_s1.groupby(['labels'])['time_stamp'].rank(method='average')"
   ]
  },
  {
   "cell_type": "code",
   "execution_count": null,
   "id": "0d372e50-620d-44da-bce0-40057ae6ad80",
   "metadata": {},
   "outputs": [],
   "source": [
    "s1_s1.groupby(['ranks','labels']).agg({'time_stamp': [np.min,np.max]})"
   ]
  },
  {
   "cell_type": "code",
   "execution_count": null,
   "id": "0d5dc9e3-c791-43a9-8a17-baba2699a82e",
   "metadata": {},
   "outputs": [],
   "source": [
    "plt.hist(y[s])"
   ]
  },
  {
   "cell_type": "code",
   "execution_count": null,
   "id": "68497374-87f5-4ec0-bcdb-9324ea6cfbd1",
   "metadata": {},
   "outputs": [],
   "source": [
    "import seaborn as sns\n",
    "\n"
   ]
  },
  {
   "cell_type": "code",
   "execution_count": null,
   "id": "5d10e449-5a43-451b-af11-a11620177f76",
   "metadata": {},
   "outputs": [],
   "source": [
    "sns.lineplot(, hue=sess_1.labels)"
   ]
  },
  {
   "cell_type": "code",
   "execution_count": null,
   "id": "8d4423d4-c7c6-447b-9be4-ebae2df64c94",
   "metadata": {},
   "outputs": [],
   "source": [
    "for sub in range(len(Subjects)):\n",
    "    sub_session=Sessions[sub]\n",
    "    for sess in sub_session:  \n",
    "        sensors=['acc_x','acc_y','acc_z','gyro_x','gyro_y','gyro_z']\n",
    "        s_label_dist=['Solid Ground(0)','Downstairs(1)','Upstairs(2)','Grass(3)']\n",
    "        fig,ax=plt.subplots(1,6,figsize=(20,5))\n",
    "        sess_1=total_training_data[(total_training_data.Subject==Subjects[sub])&(total_training_data.Session==sess)][['epoch','measurements','labels']]\n",
    "        y=np.vstack(sess_1.measurements).T\n",
    "        for s in range(len(sensors)):\n",
    "            ax[s].plot(sess_1.epoch,y[s],c=sess_1.labels)\n",
    "            ax[s].plot(sess_1.epoch,sess_1.labels,c='g',label=f\"Subject:{Subjects[sub]}_Session:{sess}_{sensors[s]}\")\n",
    "            ax[s].legend()"
   ]
  },
  {
   "cell_type": "code",
   "execution_count": null,
   "id": "5dd5c132-a2b8-4824-ae75-315b3d59ef47",
   "metadata": {},
   "outputs": [],
   "source": []
  }
 ],
 "metadata": {
  "kernelspec": {
   "display_name": "Python 3 (ipykernel)",
   "language": "python",
   "name": "python3"
  },
  "language_info": {
   "codemirror_mode": {
    "name": "ipython",
    "version": 3
   },
   "file_extension": ".py",
   "mimetype": "text/x-python",
   "name": "python",
   "nbconvert_exporter": "python",
   "pygments_lexer": "ipython3",
   "version": "3.9.7"
  }
 },
 "nbformat": 4,
 "nbformat_minor": 5
}
