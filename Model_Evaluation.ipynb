{
 "cells": [
  {
   "cell_type": "code",
   "execution_count": 19,
   "id": "142eb8da-3048-471c-9553-348515e4255b",
   "metadata": {},
   "outputs": [],
   "source": [
    "import pandas as pd\n",
    "import glob\n",
    "import numpy as np\n",
    "from tqdm import tqdm\n",
    "import imblearn\n",
    "from utils.model_1 import *\n",
    "from tensorflow import keras\n",
    "import tensorflow as tf\n",
    "from sklearn.utils.class_weight import compute_class_weight\n",
    "import matplotlib.pyplot as plt\n",
    "from sklearn.preprocessing import OneHotEncoder\n",
    "from collections import Counter\n",
    "testing_combined=pd.read_parquet('combined_sequence_sampled/training.gzip', engine='auto')\n",
    "#training_val_combined['labels']=training_val_combined['labels'].astype(int)\n",
    "testing_combined['measurements']=testing_combined['measurements'].apply(lambda x: np.vstack(x))\n",
    "X=list(testing_combined['measurements'])\n",
    "X_padded=tf.keras.utils.pad_sequences(X,dtype=object)"
   ]
  },
  {
   "cell_type": "code",
   "execution_count": 20,
   "id": "a1a22361-51db-458b-87c3-a7dd0c457eda",
   "metadata": {},
   "outputs": [],
   "source": [
    "X_balanced_reshaped=tf.convert_to_tensor(X_padded, dtype=tf.float32)"
   ]
  },
  {
   "cell_type": "code",
   "execution_count": 72,
   "id": "4bc9eec2-d98a-4d04-949c-b976a7a59ebe",
   "metadata": {},
   "outputs": [],
   "source": [
    "testing_expanded=pd.DataFrame({'measure':list(X_balanced_reshaped.numpy().reshape(X_padded.shape[0]*X_padded.shape[1],-1)),\n",
    "                 'y_pred':list(np.hstack([np.argmax(y_pred_prob,axis=1)]*20))})"
   ]
  },
  {
   "cell_type": "code",
   "execution_count": 58,
   "id": "eaf4ab76-d624-4fa6-a68e-aa4f40f9eeda",
   "metadata": {},
   "outputs": [
    {
     "data": {
      "text/plain": [
       "1341940"
      ]
     },
     "execution_count": 58,
     "metadata": {},
     "output_type": "execute_result"
    }
   ],
   "source": [
    "len(list(X_balanced_reshaped.numpy().reshape(X_padded.shape[0]*X_padded.shape[1],-1)))"
   ]
  },
  {
   "cell_type": "code",
   "execution_count": 21,
   "id": "930316c2-af96-4907-9dfe-6a5154f29b2a",
   "metadata": {},
   "outputs": [],
   "source": [
    "model = keras.models.load_model('models2/')"
   ]
  },
  {
   "cell_type": "code",
   "execution_count": 44,
   "id": "dec0979d-7bb6-4ef3-ab59-ad3ac25b8d11",
   "metadata": {},
   "outputs": [
    {
     "name": "stdout",
     "output_type": "stream",
     "text": [
      "2097/2097 [==============================] - 19s 9ms/step\n"
     ]
    }
   ],
   "source": [
    "y_pred_prob=model.predict(X_balanced_reshaped)\n",
    "\n"
   ]
  },
  {
   "cell_type": "code",
   "execution_count": 73,
   "id": "128373ae-eaed-4580-aeb2-901f0600e947",
   "metadata": {},
   "outputs": [
    {
     "data": {
      "text/html": [
       "<div>\n",
       "<style scoped>\n",
       "    .dataframe tbody tr th:only-of-type {\n",
       "        vertical-align: middle;\n",
       "    }\n",
       "\n",
       "    .dataframe tbody tr th {\n",
       "        vertical-align: top;\n",
       "    }\n",
       "\n",
       "    .dataframe thead th {\n",
       "        text-align: right;\n",
       "    }\n",
       "</style>\n",
       "<table border=\"1\" class=\"dataframe\">\n",
       "  <thead>\n",
       "    <tr style=\"text-align: right;\">\n",
       "      <th></th>\n",
       "      <th>measure</th>\n",
       "      <th>y_pred</th>\n",
       "    </tr>\n",
       "  </thead>\n",
       "  <tbody>\n",
       "    <tr>\n",
       "      <th>0</th>\n",
       "      <td>[0.49225122, 0.057482168, -0.5759895, 0.003788...</td>\n",
       "      <td>0</td>\n",
       "    </tr>\n",
       "    <tr>\n",
       "      <th>1</th>\n",
       "      <td>[0.45489722, 0.07778523, -0.5876825, 0.0011984...</td>\n",
       "      <td>0</td>\n",
       "    </tr>\n",
       "    <tr>\n",
       "      <th>2</th>\n",
       "      <td>[0.5086999, 0.08656966, -0.59086084, 0.0018721...</td>\n",
       "      <td>0</td>\n",
       "    </tr>\n",
       "    <tr>\n",
       "      <th>3</th>\n",
       "      <td>[0.5545242, 0.086973965, -0.5889788, 0.0079472...</td>\n",
       "      <td>0</td>\n",
       "    </tr>\n",
       "    <tr>\n",
       "      <th>4</th>\n",
       "      <td>[0.5033685, 0.046890344, -0.5983771, 0.0060456...</td>\n",
       "      <td>0</td>\n",
       "    </tr>\n",
       "    <tr>\n",
       "      <th>...</th>\n",
       "      <td>...</td>\n",
       "      <td>...</td>\n",
       "    </tr>\n",
       "    <tr>\n",
       "      <th>1341935</th>\n",
       "      <td>[0.17879802, 0.13687141, -1.6996368, -0.004967...</td>\n",
       "      <td>0</td>\n",
       "    </tr>\n",
       "    <tr>\n",
       "      <th>1341936</th>\n",
       "      <td>[0.18067849, 0.13816367, -1.7034823, -0.004744...</td>\n",
       "      <td>0</td>\n",
       "    </tr>\n",
       "    <tr>\n",
       "      <th>1341937</th>\n",
       "      <td>[0.18048152, 0.13710359, -1.7071319, -0.006291...</td>\n",
       "      <td>0</td>\n",
       "    </tr>\n",
       "    <tr>\n",
       "      <th>1341938</th>\n",
       "      <td>[0.18452206, 0.13680416, -1.7065057, -0.005426...</td>\n",
       "      <td>0</td>\n",
       "    </tr>\n",
       "    <tr>\n",
       "      <th>1341939</th>\n",
       "      <td>[0.18105914, 0.13503431, -1.7032641, -0.005478...</td>\n",
       "      <td>0</td>\n",
       "    </tr>\n",
       "  </tbody>\n",
       "</table>\n",
       "<p>1341940 rows × 2 columns</p>\n",
       "</div>"
      ],
      "text/plain": [
       "                                                   measure  y_pred\n",
       "0        [0.49225122, 0.057482168, -0.5759895, 0.003788...       0\n",
       "1        [0.45489722, 0.07778523, -0.5876825, 0.0011984...       0\n",
       "2        [0.5086999, 0.08656966, -0.59086084, 0.0018721...       0\n",
       "3        [0.5545242, 0.086973965, -0.5889788, 0.0079472...       0\n",
       "4        [0.5033685, 0.046890344, -0.5983771, 0.0060456...       0\n",
       "...                                                    ...     ...\n",
       "1341935  [0.17879802, 0.13687141, -1.6996368, -0.004967...       0\n",
       "1341936  [0.18067849, 0.13816367, -1.7034823, -0.004744...       0\n",
       "1341937  [0.18048152, 0.13710359, -1.7071319, -0.006291...       0\n",
       "1341938  [0.18452206, 0.13680416, -1.7065057, -0.005426...       0\n",
       "1341939  [0.18105914, 0.13503431, -1.7032641, -0.005478...       0\n",
       "\n",
       "[1341940 rows x 2 columns]"
      ]
     },
     "execution_count": 73,
     "metadata": {},
     "output_type": "execute_result"
    }
   ],
   "source": [
    "testing_expanded"
   ]
  },
  {
   "cell_type": "code",
   "execution_count": 22,
   "id": "fff4dd9e-c055-4c7d-a29c-38c1e6666b81",
   "metadata": {},
   "outputs": [
    {
     "name": "stdout",
     "output_type": "stream",
     "text": [
      "2097/2097 [==============================] - 21s 10ms/step\n"
     ]
    }
   ],
   "source": [
    "testing_combined=testing_combined[['epoch','measurements','Subject','Session','labels']].rename(columns={'epoch':'time_stamp'})\n",
    "\n",
    "testing_combined['test_pred']=y_pred"
   ]
  },
  {
   "cell_type": "code",
   "execution_count": 24,
   "id": "d31b9b9d-9584-4931-940d-c0a6c4a6bf0e",
   "metadata": {},
   "outputs": [
    {
     "data": {
      "text/plain": [
       "0.025"
      ]
     },
     "execution_count": 24,
     "metadata": {},
     "output_type": "execute_result"
    }
   ],
   "source": [
    "(0.5-0)/20"
   ]
  },
  {
   "cell_type": "code",
   "execution_count": 23,
   "id": "017ef732-76ed-464f-b66c-da23c16d0e61",
   "metadata": {},
   "outputs": [
    {
     "data": {
      "text/html": [
       "<div>\n",
       "<style scoped>\n",
       "    .dataframe tbody tr th:only-of-type {\n",
       "        vertical-align: middle;\n",
       "    }\n",
       "\n",
       "    .dataframe tbody tr th {\n",
       "        vertical-align: top;\n",
       "    }\n",
       "\n",
       "    .dataframe thead th {\n",
       "        text-align: right;\n",
       "    }\n",
       "</style>\n",
       "<table border=\"1\" class=\"dataframe\">\n",
       "  <thead>\n",
       "    <tr style=\"text-align: right;\">\n",
       "      <th></th>\n",
       "      <th>time_stamp</th>\n",
       "      <th>measurements</th>\n",
       "      <th>Subject</th>\n",
       "      <th>Session</th>\n",
       "      <th>labels</th>\n",
       "      <th>test_pred</th>\n",
       "    </tr>\n",
       "  </thead>\n",
       "  <tbody>\n",
       "    <tr>\n",
       "      <th>0</th>\n",
       "      <td>0.0</td>\n",
       "      <td>[[0.49225123220935507, 0.0574821663159993, -0....</td>\n",
       "      <td>1</td>\n",
       "      <td>1</td>\n",
       "      <td>0</td>\n",
       "      <td>0</td>\n",
       "    </tr>\n",
       "    <tr>\n",
       "      <th>1</th>\n",
       "      <td>0.5</td>\n",
       "      <td>[[0.5176103850858951, 0.06434617731771121, -0....</td>\n",
       "      <td>1</td>\n",
       "      <td>1</td>\n",
       "      <td>0</td>\n",
       "      <td>0</td>\n",
       "    </tr>\n",
       "    <tr>\n",
       "      <th>2</th>\n",
       "      <td>1.0</td>\n",
       "      <td>[[0.4964102505975528, 0.0902737994839412, -0.5...</td>\n",
       "      <td>1</td>\n",
       "      <td>1</td>\n",
       "      <td>0</td>\n",
       "      <td>0</td>\n",
       "    </tr>\n",
       "    <tr>\n",
       "      <th>3</th>\n",
       "      <td>1.5</td>\n",
       "      <td>[[0.48592396526466025, 0.0707734572733887, -0....</td>\n",
       "      <td>1</td>\n",
       "      <td>1</td>\n",
       "      <td>0</td>\n",
       "      <td>0</td>\n",
       "    </tr>\n",
       "    <tr>\n",
       "      <th>4</th>\n",
       "      <td>2.0</td>\n",
       "      <td>[[0.5142784476363889, 0.06457959309607438, -0....</td>\n",
       "      <td>1</td>\n",
       "      <td>1</td>\n",
       "      <td>0</td>\n",
       "      <td>0</td>\n",
       "    </tr>\n",
       "    <tr>\n",
       "      <th>...</th>\n",
       "      <td>...</td>\n",
       "      <td>...</td>\n",
       "      <td>...</td>\n",
       "      <td>...</td>\n",
       "      <td>...</td>\n",
       "      <td>...</td>\n",
       "    </tr>\n",
       "    <tr>\n",
       "      <th>67092</th>\n",
       "      <td>1201.0</td>\n",
       "      <td>[[0.17799350227100835, 0.13431668639868466, -1...</td>\n",
       "      <td>8</td>\n",
       "      <td>1</td>\n",
       "      <td>0</td>\n",
       "      <td>0</td>\n",
       "    </tr>\n",
       "    <tr>\n",
       "      <th>67093</th>\n",
       "      <td>1201.5</td>\n",
       "      <td>[[0.17519039841821377, 0.1363238845497099, -1....</td>\n",
       "      <td>8</td>\n",
       "      <td>1</td>\n",
       "      <td>0</td>\n",
       "      <td>0</td>\n",
       "    </tr>\n",
       "    <tr>\n",
       "      <th>67094</th>\n",
       "      <td>1202.0</td>\n",
       "      <td>[[0.1784703715898555, 0.13786342622431108, -1....</td>\n",
       "      <td>8</td>\n",
       "      <td>1</td>\n",
       "      <td>0</td>\n",
       "      <td>0</td>\n",
       "    </tr>\n",
       "    <tr>\n",
       "      <th>67095</th>\n",
       "      <td>1202.5</td>\n",
       "      <td>[[0.17901440560149806, 0.1329650350252312, -1....</td>\n",
       "      <td>8</td>\n",
       "      <td>1</td>\n",
       "      <td>0</td>\n",
       "      <td>0</td>\n",
       "    </tr>\n",
       "    <tr>\n",
       "      <th>67096</th>\n",
       "      <td>1203.0</td>\n",
       "      <td>[[0.1799304736071462, 0.13597127984359195, -1....</td>\n",
       "      <td>8</td>\n",
       "      <td>1</td>\n",
       "      <td>0</td>\n",
       "      <td>0</td>\n",
       "    </tr>\n",
       "  </tbody>\n",
       "</table>\n",
       "<p>67097 rows × 6 columns</p>\n",
       "</div>"
      ],
      "text/plain": [
       "       time_stamp                                       measurements  Subject  \\\n",
       "0             0.0  [[0.49225123220935507, 0.0574821663159993, -0....        1   \n",
       "1             0.5  [[0.5176103850858951, 0.06434617731771121, -0....        1   \n",
       "2             1.0  [[0.4964102505975528, 0.0902737994839412, -0.5...        1   \n",
       "3             1.5  [[0.48592396526466025, 0.0707734572733887, -0....        1   \n",
       "4             2.0  [[0.5142784476363889, 0.06457959309607438, -0....        1   \n",
       "...           ...                                                ...      ...   \n",
       "67092      1201.0  [[0.17799350227100835, 0.13431668639868466, -1...        8   \n",
       "67093      1201.5  [[0.17519039841821377, 0.1363238845497099, -1....        8   \n",
       "67094      1202.0  [[0.1784703715898555, 0.13786342622431108, -1....        8   \n",
       "67095      1202.5  [[0.17901440560149806, 0.1329650350252312, -1....        8   \n",
       "67096      1203.0  [[0.1799304736071462, 0.13597127984359195, -1....        8   \n",
       "\n",
       "       Session  labels  test_pred  \n",
       "0            1       0          0  \n",
       "1            1       0          0  \n",
       "2            1       0          0  \n",
       "3            1       0          0  \n",
       "4            1       0          0  \n",
       "...        ...     ...        ...  \n",
       "67092        1       0          0  \n",
       "67093        1       0          0  \n",
       "67094        1       0          0  \n",
       "67095        1       0          0  \n",
       "67096        1       0          0  \n",
       "\n",
       "[67097 rows x 6 columns]"
      ]
     },
     "execution_count": 23,
     "metadata": {},
     "output_type": "execute_result"
    }
   ],
   "source": [
    "testing_combined"
   ]
  },
  {
   "cell_type": "code",
   "execution_count": 5,
   "id": "2c4873e6-7a84-4c48-9ff5-bc30efdd5c1f",
   "metadata": {},
   "outputs": [
    {
     "name": "stderr",
     "output_type": "stream",
     "text": [
      "2023-04-21 13:59:33.638330: W tensorflow/tsl/platform/profile_utils/cpu_utils.cc:128] Failed to get CPU frequency: 0 Hz\n"
     ]
    },
    {
     "name": "stdout",
     "output_type": "stream",
     "text": [
      "2097/2097 [==============================] - 21s 9ms/step\n"
     ]
    }
   ],
   "source": [
    "\n",
    "#new_combined=testing_combined[['Subject','Session','time_stamp','test_pred']]"
   ]
  },
  {
   "cell_type": "code",
   "execution_count": 9,
   "id": "2a7e8be8-6ac5-40a0-a105-8d19c3ac62cc",
   "metadata": {},
   "outputs": [],
   "source": [
    "new_combined_s1s1=new_combined[(new_combined.Subject==1)&(new_combined.Session==1)].reset_index(drop=True)[['time_stamp','test_pred']]\n",
    "new_combined_s1s1['time_stamp']=pd.to_datetime(new_combined_s1s1['time_stamp'],unit='s').round('ms')\n",
    "new_combined_s1s1=new_combined_s1s1.set_index('time_stamp').asfreq('0.5S')\n"
   ]
  },
  {
   "cell_type": "code",
   "execution_count": 10,
   "id": "d36b986c-4276-45d9-80cd-b8eb6452bd5d",
   "metadata": {},
   "outputs": [
    {
     "data": {
      "text/html": [
       "<div>\n",
       "<style scoped>\n",
       "    .dataframe tbody tr th:only-of-type {\n",
       "        vertical-align: middle;\n",
       "    }\n",
       "\n",
       "    .dataframe tbody tr th {\n",
       "        vertical-align: top;\n",
       "    }\n",
       "\n",
       "    .dataframe thead th {\n",
       "        text-align: right;\n",
       "    }\n",
       "</style>\n",
       "<table border=\"1\" class=\"dataframe\">\n",
       "  <thead>\n",
       "    <tr style=\"text-align: right;\">\n",
       "      <th></th>\n",
       "      <th>test_pred</th>\n",
       "    </tr>\n",
       "    <tr>\n",
       "      <th>time_stamp</th>\n",
       "      <th></th>\n",
       "    </tr>\n",
       "  </thead>\n",
       "  <tbody>\n",
       "    <tr>\n",
       "      <th>1970-01-01 00:00:00.000</th>\n",
       "      <td>0</td>\n",
       "    </tr>\n",
       "    <tr>\n",
       "      <th>1970-01-01 00:00:00.500</th>\n",
       "      <td>0</td>\n",
       "    </tr>\n",
       "    <tr>\n",
       "      <th>1970-01-01 00:00:01.000</th>\n",
       "      <td>0</td>\n",
       "    </tr>\n",
       "    <tr>\n",
       "      <th>1970-01-01 00:00:01.500</th>\n",
       "      <td>0</td>\n",
       "    </tr>\n",
       "    <tr>\n",
       "      <th>1970-01-01 00:00:02.000</th>\n",
       "      <td>0</td>\n",
       "    </tr>\n",
       "    <tr>\n",
       "      <th>...</th>\n",
       "      <td>...</td>\n",
       "    </tr>\n",
       "    <tr>\n",
       "      <th>1970-01-01 00:15:45.000</th>\n",
       "      <td>0</td>\n",
       "    </tr>\n",
       "    <tr>\n",
       "      <th>1970-01-01 00:15:45.500</th>\n",
       "      <td>0</td>\n",
       "    </tr>\n",
       "    <tr>\n",
       "      <th>1970-01-01 00:15:46.000</th>\n",
       "      <td>0</td>\n",
       "    </tr>\n",
       "    <tr>\n",
       "      <th>1970-01-01 00:15:46.500</th>\n",
       "      <td>0</td>\n",
       "    </tr>\n",
       "    <tr>\n",
       "      <th>1970-01-01 00:15:47.000</th>\n",
       "      <td>0</td>\n",
       "    </tr>\n",
       "  </tbody>\n",
       "</table>\n",
       "<p>1895 rows × 1 columns</p>\n",
       "</div>"
      ],
      "text/plain": [
       "                         test_pred\n",
       "time_stamp                        \n",
       "1970-01-01 00:00:00.000          0\n",
       "1970-01-01 00:00:00.500          0\n",
       "1970-01-01 00:00:01.000          0\n",
       "1970-01-01 00:00:01.500          0\n",
       "1970-01-01 00:00:02.000          0\n",
       "...                            ...\n",
       "1970-01-01 00:15:45.000          0\n",
       "1970-01-01 00:15:45.500          0\n",
       "1970-01-01 00:15:46.000          0\n",
       "1970-01-01 00:15:46.500          0\n",
       "1970-01-01 00:15:47.000          0\n",
       "\n",
       "[1895 rows x 1 columns]"
      ]
     },
     "execution_count": 10,
     "metadata": {},
     "output_type": "execute_result"
    }
   ],
   "source": [
    "new_combined_s1s1"
   ]
  },
  {
   "cell_type": "code",
   "execution_count": 27,
   "id": "88f93b25-26b3-4405-a206-696c962598fa",
   "metadata": {},
   "outputs": [],
   "source": [
    "original=pd.DataFrame({'time_stamp':list(pd.read_csv('TrainingData/subject_001_01__y_time.csv',header=None)[0]),\n",
    "                       'labels':list(pd.read_csv('TrainingData/subject_001_01__y.csv',header=None)[0])})\n",
    "original['time_stamp']=pd.to_datetime(original['time_stamp'],unit='s').round('ms')"
   ]
  },
  {
   "cell_type": "code",
   "execution_count": 28,
   "id": "4ac1571c-132d-44a0-895a-f7af95038b4f",
   "metadata": {},
   "outputs": [
    {
     "data": {
      "text/html": [
       "<div>\n",
       "<style scoped>\n",
       "    .dataframe tbody tr th:only-of-type {\n",
       "        vertical-align: middle;\n",
       "    }\n",
       "\n",
       "    .dataframe tbody tr th {\n",
       "        vertical-align: top;\n",
       "    }\n",
       "\n",
       "    .dataframe thead th {\n",
       "        text-align: right;\n",
       "    }\n",
       "</style>\n",
       "<table border=\"1\" class=\"dataframe\">\n",
       "  <thead>\n",
       "    <tr style=\"text-align: right;\">\n",
       "      <th></th>\n",
       "      <th>time_stamp</th>\n",
       "      <th>labels</th>\n",
       "    </tr>\n",
       "  </thead>\n",
       "  <tbody>\n",
       "    <tr>\n",
       "      <th>0</th>\n",
       "      <td>1970-01-01 00:00:00.020</td>\n",
       "      <td>0</td>\n",
       "    </tr>\n",
       "    <tr>\n",
       "      <th>1</th>\n",
       "      <td>1970-01-01 00:00:00.120</td>\n",
       "      <td>0</td>\n",
       "    </tr>\n",
       "    <tr>\n",
       "      <th>2</th>\n",
       "      <td>1970-01-01 00:00:00.220</td>\n",
       "      <td>0</td>\n",
       "    </tr>\n",
       "    <tr>\n",
       "      <th>3</th>\n",
       "      <td>1970-01-01 00:00:00.320</td>\n",
       "      <td>0</td>\n",
       "    </tr>\n",
       "    <tr>\n",
       "      <th>4</th>\n",
       "      <td>1970-01-01 00:00:00.420</td>\n",
       "      <td>0</td>\n",
       "    </tr>\n",
       "    <tr>\n",
       "      <th>...</th>\n",
       "      <td>...</td>\n",
       "      <td>...</td>\n",
       "    </tr>\n",
       "    <tr>\n",
       "      <th>9468</th>\n",
       "      <td>1970-01-01 00:15:46.820</td>\n",
       "      <td>0</td>\n",
       "    </tr>\n",
       "    <tr>\n",
       "      <th>9469</th>\n",
       "      <td>1970-01-01 00:15:46.920</td>\n",
       "      <td>0</td>\n",
       "    </tr>\n",
       "    <tr>\n",
       "      <th>9470</th>\n",
       "      <td>1970-01-01 00:15:47.020</td>\n",
       "      <td>0</td>\n",
       "    </tr>\n",
       "    <tr>\n",
       "      <th>9471</th>\n",
       "      <td>1970-01-01 00:15:47.120</td>\n",
       "      <td>0</td>\n",
       "    </tr>\n",
       "    <tr>\n",
       "      <th>9472</th>\n",
       "      <td>1970-01-01 00:15:47.220</td>\n",
       "      <td>0</td>\n",
       "    </tr>\n",
       "  </tbody>\n",
       "</table>\n",
       "<p>9473 rows × 2 columns</p>\n",
       "</div>"
      ],
      "text/plain": [
       "                  time_stamp  labels\n",
       "0    1970-01-01 00:00:00.020       0\n",
       "1    1970-01-01 00:00:00.120       0\n",
       "2    1970-01-01 00:00:00.220       0\n",
       "3    1970-01-01 00:00:00.320       0\n",
       "4    1970-01-01 00:00:00.420       0\n",
       "...                      ...     ...\n",
       "9468 1970-01-01 00:15:46.820       0\n",
       "9469 1970-01-01 00:15:46.920       0\n",
       "9470 1970-01-01 00:15:47.020       0\n",
       "9471 1970-01-01 00:15:47.120       0\n",
       "9472 1970-01-01 00:15:47.220       0\n",
       "\n",
       "[9473 rows x 2 columns]"
      ]
     },
     "execution_count": 28,
     "metadata": {},
     "output_type": "execute_result"
    }
   ],
   "source": [
    "original"
   ]
  },
  {
   "cell_type": "markdown",
   "id": "fbeca5bd-0a2b-4058-aee6-db96a7e73838",
   "metadata": {},
   "source": [
    "##### sub_9_pred=testing_combined[(testing_combined.Subject==10)&(testing_combined.Session==1)].reset_index(drop=True)\n",
    "sub_9_pred['time_stamp']=sub_9_pred['time_stamp']+0.02\n",
    "sub_9=pd.read_csv('TestData/subject_010_01__y_time.csv',header=None).rename(columns={0:'time_stamp'})\n",
    "#sub_9=pd.concat([sub_9,pd.read_csv('TrainingData/subject_012_01__y.csv',header=None)],axis=1).rename(columns={0:'labels'})\n",
    "#final=pd.concat([sub_9_pred,sub_9],axis=1)[['test_pred','labels']]\n",
    "#final['truet']=final['test_pred']==final['labels']\n",
    "#np.sum(final.truet)/(len(final))\n",
    "#pd.merge(sub_9,sub_9_pred,how='inner',on='time_stamp')\n",
    "#sub_9_pred['test_pred'].to_csv('predictions/subject_010_01__y.csv',index=False)\n"
   ]
  },
  {
   "cell_type": "code",
   "execution_count": null,
   "id": "8853b895-0afe-4b88-a12b-a5e007a5721c",
   "metadata": {},
   "outputs": [],
   "source": [
    "sub_9_pred"
   ]
  },
  {
   "cell_type": "code",
   "execution_count": null,
   "id": "4135feec-3acd-4e68-9f09-ef99f607cf0f",
   "metadata": {},
   "outputs": [],
   "source": [
    "sub_9"
   ]
  },
  {
   "cell_type": "code",
   "execution_count": null,
   "id": "d33aada8-8fb0-4add-a0d7-b5da17a1ea5b",
   "metadata": {},
   "outputs": [],
   "source": [
    "s=pd.read_csv('/Users/moatasimfarooque/Downloads/subject_012_01__y.csv',header=None)"
   ]
  },
  {
   "cell_type": "code",
   "execution_count": null,
   "id": "27f2b779-46fb-48da-8235-2a2a29e1a4ec",
   "metadata": {},
   "outputs": [],
   "source": [
    "s_orf=pd.read_csv('predictions/subject_012_01__y.csv')"
   ]
  },
  {
   "cell_type": "code",
   "execution_count": null,
   "id": "08f58b16-ac1d-4c8f-baa5-54c19fa86872",
   "metadata": {},
   "outputs": [],
   "source": [
    "s_orf"
   ]
  },
  {
   "cell_type": "code",
   "execution_count": null,
   "id": "5d76aed4-8e08-4f89-abc5-3459506404c7",
   "metadata": {},
   "outputs": [],
   "source": [
    "p=s[0]==s_orf['test_pred']"
   ]
  },
  {
   "cell_type": "code",
   "execution_count": null,
   "id": "56ea2980-98d4-4b76-b42a-a8a091153ad3",
   "metadata": {},
   "outputs": [],
   "source": [
    "np.sum(p)/len(p)"
   ]
  },
  {
   "cell_type": "code",
   "execution_count": null,
   "id": "618ca9f1-560d-4b7e-a7ec-3bdee15befac",
   "metadata": {},
   "outputs": [],
   "source": [
    "s"
   ]
  },
  {
   "cell_type": "code",
   "execution_count": null,
   "id": "3a5db8f2-eeb7-453c-9723-4d6e78127382",
   "metadata": {},
   "outputs": [],
   "source": [
    "s1=pd.read_csv('predictions/subject_012_01__y.csv')"
   ]
  },
  {
   "cell_type": "code",
   "execution_count": null,
   "id": "4384d51c-21d3-45fc-ae73-2fd966f5ca24",
   "metadata": {},
   "outputs": [],
   "source": [
    "len(s1)"
   ]
  },
  {
   "cell_type": "code",
   "execution_count": null,
   "id": "5d57771f-7f3f-4697-acdd-b02dba5f2b12",
   "metadata": {},
   "outputs": [],
   "source": []
  }
 ],
 "metadata": {
  "kernelspec": {
   "display_name": "Python 3 (ipykernel)",
   "language": "python",
   "name": "python3"
  },
  "language_info": {
   "codemirror_mode": {
    "name": "ipython",
    "version": 3
   },
   "file_extension": ".py",
   "mimetype": "text/x-python",
   "name": "python",
   "nbconvert_exporter": "python",
   "pygments_lexer": "ipython3",
   "version": "3.9.7"
  }
 },
 "nbformat": 4,
 "nbformat_minor": 5
}
