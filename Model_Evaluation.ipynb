{
 "cells": [
  {
   "cell_type": "code",
   "execution_count": null,
   "id": "142eb8da-3048-471c-9553-348515e4255b",
   "metadata": {},
   "outputs": [],
   "source": [
    "import pandas as pd\n",
    "import glob\n",
    "import numpy as np\n",
    "from tqdm import tqdm\n",
    "import imblearn\n",
    "from utils.model_1 import *\n",
    "from tensorflow import keras\n",
    "import tensorflow as tf\n",
    "from sklearn.utils.class_weight import compute_class_weight\n",
    "import matplotlib.pyplot as plt\n",
    "from sklearn.preprocessing import OneHotEncoder\n",
    "from collections import Counter\n",
    "testing_combined=pd.read_parquet('combined_sequence_sampled/testing.gzip', engine='auto')\n",
    "#training_val_combined['labels']=training_val_combined['labels'].astype(int)\n",
    "testing_combined['measurements']=testing_combined['measurements'].apply(lambda x: np.vstack(x))\n",
    "X=list(testing_combined['measurements'])\n",
    "X_padded=tf.keras.utils.pad_sequences(X,dtype=object)"
   ]
  },
  {
   "cell_type": "code",
   "execution_count": null,
   "id": "a1a22361-51db-458b-87c3-a7dd0c457eda",
   "metadata": {},
   "outputs": [],
   "source": [
    "X_balanced_reshaped=tf.convert_to_tensor(X_padded, dtype=tf.float32)"
   ]
  },
  {
   "cell_type": "code",
   "execution_count": null,
   "id": "930316c2-af96-4907-9dfe-6a5154f29b2a",
   "metadata": {},
   "outputs": [],
   "source": [
    "model = keras.models.load_model('models/')"
   ]
  },
  {
   "cell_type": "code",
   "execution_count": null,
   "id": "fff4dd9e-c055-4c7d-a29c-38c1e6666b81",
   "metadata": {},
   "outputs": [],
   "source": [
    "testing_combined=testing_combined[['epoch','measurements','Subject','Session','labels']].rename(columns={'epoch':'time_stamp','labels':'test_pred'})"
   ]
  },
  {
   "cell_type": "code",
   "execution_count": null,
   "id": "2c4873e6-7a84-4c48-9ff5-bc30efdd5c1f",
   "metadata": {},
   "outputs": [],
   "source": [
    "y_pred_prob=model.predict(X_balanced_reshaped)\n",
    "y_pred=np.argmax(y_pred_prob,axis=1)\n",
    "testing_combined['test_pred']=y_pred"
   ]
  },
  {
   "cell_type": "code",
   "execution_count": null,
   "id": "a4658cb9-8f43-4341-af3b-580f4e1dd8a3",
   "metadata": {},
   "outputs": [],
   "source": [
    "sub_9_pred=testing_combined[(testing_combined.Subject==10)&(testing_combined.Session==1)].reset_index(drop=True)\n",
    "sub_9_pred['time_stamp']=sub_9_pred['time_stamp']+0.02\n",
    "sub_9=pd.read_csv('TestData/subject_010_01__y_time.csv',header=None).rename(columns={0:'time_stamp'})\n",
    "#sub_9=pd.concat([sub_9,pd.read_csv('TrainingData/subject_012_01__y.csv',header=None)],axis=1).rename(columns={0:'labels'})\n",
    "#final=pd.concat([sub_9_pred,sub_9],axis=1)[['test_pred','labels']]\n",
    "#final['truet']=final['test_pred']==final['labels']\n",
    "#np.sum(final.truet)/(len(final))\n",
    "#pd.merge(sub_9,sub_9_pred,how='inner',on='time_stamp')\n",
    "#sub_9_pred['test_pred'].to_csv('predictions/subject_010_01__y.csv',index=False)\n"
   ]
  },
  {
   "cell_type": "code",
   "execution_count": null,
   "id": "8853b895-0afe-4b88-a12b-a5e007a5721c",
   "metadata": {},
   "outputs": [],
   "source": [
    "sub_9_pred"
   ]
  },
  {
   "cell_type": "code",
   "execution_count": null,
   "id": "4135feec-3acd-4e68-9f09-ef99f607cf0f",
   "metadata": {},
   "outputs": [],
   "source": [
    "sub_9"
   ]
  },
  {
   "cell_type": "code",
   "execution_count": null,
   "id": "d33aada8-8fb0-4add-a0d7-b5da17a1ea5b",
   "metadata": {},
   "outputs": [],
   "source": [
    "s=pd.read_csv('/Users/moatasimfarooque/Downloads/subject_012_01__y.csv',header=None)"
   ]
  },
  {
   "cell_type": "code",
   "execution_count": null,
   "id": "27f2b779-46fb-48da-8235-2a2a29e1a4ec",
   "metadata": {},
   "outputs": [],
   "source": [
    "s_orf=pd.read_csv('predictions/subject_012_01__y.csv')"
   ]
  },
  {
   "cell_type": "code",
   "execution_count": null,
   "id": "08f58b16-ac1d-4c8f-baa5-54c19fa86872",
   "metadata": {},
   "outputs": [],
   "source": [
    "s_orf"
   ]
  },
  {
   "cell_type": "code",
   "execution_count": null,
   "id": "5d76aed4-8e08-4f89-abc5-3459506404c7",
   "metadata": {},
   "outputs": [],
   "source": [
    "p=s[0]==s_orf['test_pred']"
   ]
  },
  {
   "cell_type": "code",
   "execution_count": null,
   "id": "56ea2980-98d4-4b76-b42a-a8a091153ad3",
   "metadata": {},
   "outputs": [],
   "source": [
    "np.sum(p)/len(p)"
   ]
  },
  {
   "cell_type": "code",
   "execution_count": null,
   "id": "618ca9f1-560d-4b7e-a7ec-3bdee15befac",
   "metadata": {},
   "outputs": [],
   "source": [
    "s"
   ]
  },
  {
   "cell_type": "code",
   "execution_count": null,
   "id": "3a5db8f2-eeb7-453c-9723-4d6e78127382",
   "metadata": {},
   "outputs": [],
   "source": [
    "s1=pd.read_csv('predictions/subject_012_01__y.csv')"
   ]
  },
  {
   "cell_type": "code",
   "execution_count": null,
   "id": "4384d51c-21d3-45fc-ae73-2fd966f5ca24",
   "metadata": {},
   "outputs": [],
   "source": [
    "len(s1)"
   ]
  },
  {
   "cell_type": "code",
   "execution_count": null,
   "id": "5d57771f-7f3f-4697-acdd-b02dba5f2b12",
   "metadata": {},
   "outputs": [],
   "source": []
  }
 ],
 "metadata": {
  "kernelspec": {
   "display_name": "Python 3 (ipykernel)",
   "language": "python",
   "name": "python3"
  },
  "language_info": {
   "codemirror_mode": {
    "name": "ipython",
    "version": 3
   },
   "file_extension": ".py",
   "mimetype": "text/x-python",
   "name": "python",
   "nbconvert_exporter": "python",
   "pygments_lexer": "ipython3",
   "version": "3.9.7"
  }
 },
 "nbformat": 4,
 "nbformat_minor": 5
}
