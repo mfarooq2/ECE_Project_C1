{
  "cells": [
    {
      "cell_type": "code",
      "execution_count": 1,
      "id": "e9b4500c-d0be-4daf-a84d-66dd538f7306",
      "metadata": {
        "id": "e9b4500c-d0be-4daf-a84d-66dd538f7306"
      },
      "outputs": [],
      "source": [
        "import pandas as pd\n",
        "import glob\n",
        "import numpy as np\n",
        "from tqdm import tqdm\n",
        "import imblearn\n",
        "from tensorflow import keras\n",
        "from sklearn.utils.class_weight import compute_class_weight\n",
        "import matplotlib.pyplot as plt\n",
        "from collections import Counter\n",
        "#from dask.dataframe import from_pandas\n",
        "#import dask.dataframe as dd\n",
        "training_val_combined=pd.read_parquet('/content/ECE_Project_C1/combined_sampled/training.gzip', engine='auto')\n",
        "training_val_combined=training_val_combined.reset_index()\n",
        "training_val_combined=training_val_combined[['measurements','labels']]\n",
        "training_val_combined['labels']=training_val_combined['labels'].astype(int)\n",
        "from sklearn.preprocessing import OneHotEncoder\n",
        "# define one hot encoding"
      ]
    },
    {
      "cell_type": "code",
      "source": [
        "!git clone https://github.com/mfarooq2/ECE_Project_C1.git"
      ],
      "metadata": {
        "id": "hdq8VdL35Slm",
        "outputId": "78224962-d68a-4836-c6ef-35b5dff1ad9b",
        "colab": {
          "base_uri": "https://localhost:8080/"
        }
      },
      "id": "hdq8VdL35Slm",
      "execution_count": 1,
      "outputs": [
        {
          "output_type": "stream",
          "name": "stdout",
          "text": [
            "Cloning into 'ECE_Project_C1'...\n",
            "remote: Enumerating objects: 311, done.\u001b[K\n",
            "remote: Counting objects: 100% (66/66), done.\u001b[K\n",
            "remote: Compressing objects: 100% (48/48), done.\u001b[K\n",
            "remote: Total 311 (delta 17), reused 66 (delta 17), pack-reused 245\u001b[K\n",
            "Receiving objects: 100% (311/311), 256.52 MiB | 24.10 MiB/s, done.\n",
            "Resolving deltas: 100% (130/130), done.\n",
            "Updating files: 100% (197/197), done.\n"
          ]
        }
      ]
    },
    {
      "cell_type": "code",
      "execution_count": 8,
      "id": "82c04ea6-4cae-4f70-a589-e5d543317457",
      "metadata": {
        "id": "82c04ea6-4cae-4f70-a589-e5d543317457"
      },
      "outputs": [],
      "source": []
    },
    {
      "cell_type": "code",
      "execution_count": 2,
      "id": "d8b0ac8e-6ad8-4e47-b28d-28b80e19732f",
      "metadata": {
        "id": "d8b0ac8e-6ad8-4e47-b28d-28b80e19732f",
        "outputId": "8af82e69-12a0-4547-b074-e389e3068b8d",
        "colab": {
          "base_uri": "https://localhost:8080/"
        }
      },
      "outputs": [
        {
          "output_type": "stream",
          "name": "stdout",
          "text": [
            "Counter({0: 1006926, 3: 206436, 2: 73068, 1: 55216})\n"
          ]
        }
      ],
      "source": [
        "X=np.vstack(training_val_combined['measurements'])\n",
        "y=training_val_combined['labels']\n",
        "cro=Counter(y)\n",
        "print(cro)\n",
        "y=np.vstack(y)\n",
        "org1=list(cro.items())\n",
        "org=list(cro.items())\n",
        "org=[(j,i) for i,j in org]\n",
        "org.sort()\n",
        "new=[(j,((max(cro.values())-i))) for i,j in org]\n",
        "new.sort()\n",
        "new=dict(new)\n",
        "new[0]=max(cro.values())\n",
        "over_samp = imblearn.over_sampling.RandomOverSampler(sampling_strategy=new)\n",
        "X_balanced,y_balanced=over_samp.fit_resample(X,y)"
      ]
    },
    {
      "cell_type": "code",
      "execution_count": 3,
      "id": "a4bce3d2-ac71-4a83-9e18-c07cd2cfc8da",
      "metadata": {
        "id": "a4bce3d2-ac71-4a83-9e18-c07cd2cfc8da"
      },
      "outputs": [],
      "source": [
        "idx = np.random.permutation(len(X_balanced))\n",
        "X_balanced_reshaped = X_balanced[idx].reshape(len(X_balanced),3,2,1)\n",
        "y_balanced_reshaped = y_balanced[idx].reshape(-1,1)"
      ]
    },
    {
      "cell_type": "code",
      "execution_count": 4,
      "id": "2894697e-deef-4def-917a-1c6f94f6fd09",
      "metadata": {
        "id": "2894697e-deef-4def-917a-1c6f94f6fd09"
      },
      "outputs": [],
      "source": [
        "num_classes=len(np.unique(y_balanced_reshaped))"
      ]
    },
    {
      "cell_type": "code",
      "execution_count": 5,
      "id": "9ca3e6c1-162a-4089-9939-f75b0b5f2c2a",
      "metadata": {
        "id": "9ca3e6c1-162a-4089-9939-f75b0b5f2c2a"
      },
      "outputs": [],
      "source": [
        "encoder = OneHotEncoder()\n",
        "# transform data\n",
        "onehot = encoder.fit_transform(y_balanced_reshaped)\n",
        "y_balanced_reshaped_onehot=onehot.toarray()"
      ]
    },
    {
      "cell_type": "code",
      "execution_count": 14,
      "id": "21457b9a-51d8-412a-b882-d8186dcbd730",
      "metadata": {
        "id": "21457b9a-51d8-412a-b882-d8186dcbd730",
        "outputId": "06df0d7f-37f4-40d6-8139-9a80012f6052",
        "colab": {
          "base_uri": "https://localhost:8080/"
        }
      },
      "outputs": [
        {
          "output_type": "execute_result",
          "data": {
            "text/plain": [
              "array([[1., 0., 0., 0.],\n",
              "       [0., 0., 1., 0.],\n",
              "       [0., 0., 1., 0.],\n",
              "       ...,\n",
              "       [1., 0., 0., 0.],\n",
              "       [1., 0., 0., 0.],\n",
              "       [0., 1., 0., 0.]])"
            ]
          },
          "metadata": {},
          "execution_count": 14
        }
      ],
      "source": [
        "y_balanced_reshaped_onehot"
      ]
    },
    {
      "cell_type": "code",
      "execution_count": 6,
      "id": "260aae0e-fd40-48ef-9695-e751a4fbe1de",
      "metadata": {
        "id": "260aae0e-fd40-48ef-9695-e751a4fbe1de"
      },
      "outputs": [],
      "source": [
        "def make_model(input_shape,num_classes=num_classes):\n",
        "    input_layer = keras.layers.Input(input_shape)\n",
        "\n",
        "    conv1 = keras.layers.Conv2D(filters=64, kernel_size=2, padding=\"same\")(input_layer)\n",
        "    conv1 = keras.layers.BatchNormalization()(conv1)\n",
        "    conv1 = keras.layers.ReLU()(conv1)\n",
        "\n",
        "    conv2 = keras.layers.Conv2D(filters=64, kernel_size=2, padding=\"same\")(conv1)\n",
        "    conv2 = keras.layers.BatchNormalization()(conv2)\n",
        "    conv2 = keras.layers.ReLU()(conv2)\n",
        "\n",
        "    conv3 = keras.layers.Conv2D(filters=64, kernel_size=2, padding=\"same\")(conv2)\n",
        "    conv3 = keras.layers.BatchNormalization()(conv3)\n",
        "    conv3 = keras.layers.ReLU()(conv3)\n",
        "\n",
        "    gap = keras.layers.GlobalAveragePooling2D()(conv3)\n",
        "\n",
        "    output_layer = keras.layers.Dense(num_classes, activation=\"relu\")(gap)\n",
        "\n",
        "    return keras.models.Model(inputs=input_layer, outputs=output_layer)"
      ]
    },
    {
      "cell_type": "code",
      "execution_count": 7,
      "id": "fcf6a86f-3cfa-4bee-b292-77b7a99403a4",
      "metadata": {
        "id": "fcf6a86f-3cfa-4bee-b292-77b7a99403a4"
      },
      "outputs": [],
      "source": [
        "model = make_model(input_shape=X_balanced_reshaped.shape[1:],num_classes=num_classes)\n",
        "epochs = 50\n",
        "batch_size = 250\n",
        "\n",
        "callbacks = [\n",
        "    keras.callbacks.ModelCheckpoint(\n",
        "        \"best_model.h5\", save_best_only=True, monitor=\"val_loss\"\n",
        "    ),\n",
        "    keras.callbacks.ReduceLROnPlateau(\n",
        "        monitor=\"val_loss\", factor=0.5, patience=20, min_lr=0.0001\n",
        "    ),\n",
        "    keras.callbacks.EarlyStopping(monitor=\"val_loss\", patience=50, verbose=1),\n",
        "]\n",
        "model.compile(\n",
        "    optimizer=\"adam\",\n",
        "    loss=\"categorical_crossentropy\",\n",
        "    metrics=[\"accuracy\"],\n",
        ")"
      ]
    },
    {
      "cell_type": "code",
      "execution_count": 33,
      "id": "daaf2a9c-fea4-4b3f-b1d3-c9e61f99126d",
      "metadata": {
        "id": "daaf2a9c-fea4-4b3f-b1d3-c9e61f99126d",
        "outputId": "f7a4ce38-be88-4cb7-99a3-6a02cf95f125",
        "colab": {
          "base_uri": "https://localhost:8080/"
        }
      },
      "outputs": [
        {
          "output_type": "stream",
          "name": "stdout",
          "text": [
            "Model: \"model_4\"\n",
            "_________________________________________________________________\n",
            " Layer (type)                Output Shape              Param #   \n",
            "=================================================================\n",
            " input_5 (InputLayer)        [(None, 3, 2, 1)]         0         \n",
            "                                                                 \n",
            " conv2d_12 (Conv2D)          (None, 3, 2, 64)          320       \n",
            "                                                                 \n",
            " batch_normalization_12 (Bat  (None, 3, 2, 64)         256       \n",
            " chNormalization)                                                \n",
            "                                                                 \n",
            " re_lu_12 (ReLU)             (None, 3, 2, 64)          0         \n",
            "                                                                 \n",
            " conv2d_13 (Conv2D)          (None, 3, 2, 64)          16448     \n",
            "                                                                 \n",
            " batch_normalization_13 (Bat  (None, 3, 2, 64)         256       \n",
            " chNormalization)                                                \n",
            "                                                                 \n",
            " re_lu_13 (ReLU)             (None, 3, 2, 64)          0         \n",
            "                                                                 \n",
            " conv2d_14 (Conv2D)          (None, 3, 2, 64)          16448     \n",
            "                                                                 \n",
            " batch_normalization_14 (Bat  (None, 3, 2, 64)         256       \n",
            " chNormalization)                                                \n",
            "                                                                 \n",
            " re_lu_14 (ReLU)             (None, 3, 2, 64)          0         \n",
            "                                                                 \n",
            " global_average_pooling2d_4   (None, 64)               0         \n",
            " (GlobalAveragePooling2D)                                        \n",
            "                                                                 \n",
            " dense_4 (Dense)             (None, 4)                 260       \n",
            "                                                                 \n",
            "=================================================================\n",
            "Total params: 34,244\n",
            "Trainable params: 33,860\n",
            "Non-trainable params: 384\n",
            "_________________________________________________________________\n"
          ]
        }
      ],
      "source": [
        "model.summary()"
      ]
    },
    {
      "cell_type": "code",
      "execution_count": 8,
      "id": "07cea7b3-3d86-452a-978d-e32e28e31196",
      "metadata": {
        "id": "07cea7b3-3d86-452a-978d-e32e28e31196",
        "outputId": "7528d083-c17b-4a12-89e5-b6beccaf98c7",
        "colab": {
          "base_uri": "https://localhost:8080/"
        }
      },
      "outputs": [
        {
          "output_type": "stream",
          "name": "stdout",
          "text": [
            "Epoch 1/50\n",
            "11818/11818 [==============================] - 76s 6ms/step - loss: 1.1907 - accuracy: 0.4554 - val_loss: 1.1392 - val_accuracy: 0.5141 - lr: 0.0010\n",
            "Epoch 2/50\n",
            "11818/11818 [==============================] - 74s 6ms/step - loss: 1.1298 - accuracy: 0.5001 - val_loss: 1.1467 - val_accuracy: 0.4871 - lr: 0.0010\n",
            "Epoch 3/50\n",
            "11818/11818 [==============================] - 74s 6ms/step - loss: 1.1079 - accuracy: 0.5143 - val_loss: 1.0332 - val_accuracy: 0.5577 - lr: 0.0010\n",
            "Epoch 4/50\n",
            "11818/11818 [==============================] - 75s 6ms/step - loss: 1.0367 - accuracy: 0.5559 - val_loss: 1.0197 - val_accuracy: 0.5606 - lr: 0.0010\n",
            "Epoch 5/50\n",
            "11818/11818 [==============================] - 74s 6ms/step - loss: 1.0119 - accuracy: 0.5659 - val_loss: 1.2026 - val_accuracy: 0.5452 - lr: 0.0010\n",
            "Epoch 6/50\n",
            "11818/11818 [==============================] - 74s 6ms/step - loss: 1.0708 - accuracy: 0.5396 - val_loss: 1.0237 - val_accuracy: 0.5674 - lr: 0.0010\n",
            "Epoch 7/50\n",
            "11818/11818 [==============================] - 70s 6ms/step - loss: 0.9874 - accuracy: 0.5812 - val_loss: 0.9587 - val_accuracy: 0.5975 - lr: 0.0010\n",
            "Epoch 8/50\n",
            "11818/11818 [==============================] - 75s 6ms/step - loss: 0.9639 - accuracy: 0.5884 - val_loss: 0.9023 - val_accuracy: 0.6137 - lr: 0.0010\n",
            "Epoch 9/50\n",
            "11818/11818 [==============================] - 74s 6ms/step - loss: 0.9312 - accuracy: 0.6008 - val_loss: 0.9039 - val_accuracy: 0.6118 - lr: 0.0010\n",
            "Epoch 10/50\n",
            "11818/11818 [==============================] - 75s 6ms/step - loss: 0.9167 - accuracy: 0.6074 - val_loss: 0.9011 - val_accuracy: 0.6168 - lr: 0.0010\n",
            "Epoch 11/50\n",
            "11818/11818 [==============================] - 71s 6ms/step - loss: 0.8922 - accuracy: 0.6171 - val_loss: 0.8625 - val_accuracy: 0.6311 - lr: 0.0010\n",
            "Epoch 12/50\n",
            "11818/11818 [==============================] - 78s 7ms/step - loss: 0.8857 - accuracy: 0.6201 - val_loss: 0.8389 - val_accuracy: 0.6394 - lr: 0.0010\n",
            "Epoch 13/50\n",
            "11818/11818 [==============================] - 76s 6ms/step - loss: 0.8602 - accuracy: 0.6301 - val_loss: 0.8335 - val_accuracy: 0.6441 - lr: 0.0010\n",
            "Epoch 14/50\n",
            "11818/11818 [==============================] - 72s 6ms/step - loss: 0.8445 - accuracy: 0.6394 - val_loss: 0.8255 - val_accuracy: 0.6481 - lr: 0.0010\n",
            "Epoch 15/50\n",
            "11818/11818 [==============================] - 74s 6ms/step - loss: 0.8212 - accuracy: 0.6499 - val_loss: 0.8233 - val_accuracy: 0.6478 - lr: 0.0010\n",
            "Epoch 16/50\n",
            "11818/11818 [==============================] - 70s 6ms/step - loss: 0.8249 - accuracy: 0.6488 - val_loss: 0.8363 - val_accuracy: 0.6503 - lr: 0.0010\n",
            "Epoch 17/50\n",
            "11818/11818 [==============================] - 75s 6ms/step - loss: 0.8079 - accuracy: 0.6567 - val_loss: 0.7869 - val_accuracy: 0.6649 - lr: 0.0010\n",
            "Epoch 18/50\n",
            "11818/11818 [==============================] - 73s 6ms/step - loss: 0.8030 - accuracy: 0.6605 - val_loss: 0.7956 - val_accuracy: 0.6601 - lr: 0.0010\n",
            "Epoch 19/50\n",
            "11818/11818 [==============================] - 69s 6ms/step - loss: 0.7973 - accuracy: 0.6622 - val_loss: 0.7921 - val_accuracy: 0.6631 - lr: 0.0010\n",
            "Epoch 20/50\n",
            "11818/11818 [==============================] - 73s 6ms/step - loss: 0.7885 - accuracy: 0.6659 - val_loss: 0.9057 - val_accuracy: 0.6135 - lr: 0.0010\n",
            "Epoch 21/50\n",
            "11818/11818 [==============================] - 69s 6ms/step - loss: 0.8060 - accuracy: 0.6600 - val_loss: 0.7755 - val_accuracy: 0.6708 - lr: 0.0010\n",
            "Epoch 22/50\n",
            "11818/11818 [==============================] - 69s 6ms/step - loss: 0.7837 - accuracy: 0.6680 - val_loss: 0.7674 - val_accuracy: 0.6739 - lr: 0.0010\n",
            "Epoch 23/50\n",
            "11818/11818 [==============================] - 68s 6ms/step - loss: 0.7830 - accuracy: 0.6689 - val_loss: 0.8464 - val_accuracy: 0.6445 - lr: 0.0010\n",
            "Epoch 24/50\n",
            "11818/11818 [==============================] - 73s 6ms/step - loss: 0.7854 - accuracy: 0.6685 - val_loss: 0.7771 - val_accuracy: 0.6723 - lr: 0.0010\n",
            "Epoch 25/50\n",
            "11818/11818 [==============================] - 69s 6ms/step - loss: 0.7790 - accuracy: 0.6711 - val_loss: 0.7655 - val_accuracy: 0.6762 - lr: 0.0010\n",
            "Epoch 26/50\n",
            "11818/11818 [==============================] - 68s 6ms/step - loss: 0.7691 - accuracy: 0.6747 - val_loss: 0.7574 - val_accuracy: 0.6801 - lr: 0.0010\n",
            "Epoch 27/50\n",
            "11818/11818 [==============================] - 73s 6ms/step - loss: 0.7742 - accuracy: 0.6731 - val_loss: 0.7599 - val_accuracy: 0.6789 - lr: 0.0010\n",
            "Epoch 28/50\n",
            "11818/11818 [==============================] - 69s 6ms/step - loss: 0.7764 - accuracy: 0.6723 - val_loss: 0.7846 - val_accuracy: 0.6704 - lr: 0.0010\n",
            "Epoch 29/50\n",
            "11818/11818 [==============================] - 74s 6ms/step - loss: 0.7750 - accuracy: 0.6735 - val_loss: 0.7664 - val_accuracy: 0.6773 - lr: 0.0010\n",
            "Epoch 30/50\n",
            "11818/11818 [==============================] - 70s 6ms/step - loss: 0.7755 - accuracy: 0.6733 - val_loss: 0.7677 - val_accuracy: 0.6747 - lr: 0.0010\n",
            "Epoch 31/50\n",
            "11818/11818 [==============================] - 73s 6ms/step - loss: 0.7645 - accuracy: 0.6774 - val_loss: 0.7524 - val_accuracy: 0.6818 - lr: 0.0010\n",
            "Epoch 32/50\n",
            "11818/11818 [==============================] - 69s 6ms/step - loss: 0.7678 - accuracy: 0.6765 - val_loss: 0.7489 - val_accuracy: 0.6842 - lr: 0.0010\n",
            "Epoch 33/50\n",
            "11818/11818 [==============================] - 72s 6ms/step - loss: 0.7638 - accuracy: 0.6781 - val_loss: 0.8304 - val_accuracy: 0.6452 - lr: 0.0010\n",
            "Epoch 34/50\n",
            "11818/11818 [==============================] - 73s 6ms/step - loss: 0.7679 - accuracy: 0.6756 - val_loss: 0.7539 - val_accuracy: 0.6813 - lr: 0.0010\n",
            "Epoch 35/50\n",
            "11818/11818 [==============================] - 68s 6ms/step - loss: 0.7616 - accuracy: 0.6795 - val_loss: 0.7721 - val_accuracy: 0.6749 - lr: 0.0010\n",
            "Epoch 36/50\n",
            "11818/11818 [==============================] - 68s 6ms/step - loss: 0.7592 - accuracy: 0.6801 - val_loss: 0.7554 - val_accuracy: 0.6832 - lr: 0.0010\n",
            "Epoch 37/50\n",
            "11818/11818 [==============================] - 67s 6ms/step - loss: 0.7552 - accuracy: 0.6816 - val_loss: 0.8221 - val_accuracy: 0.6580 - lr: 0.0010\n",
            "Epoch 38/50\n",
            "11818/11818 [==============================] - 72s 6ms/step - loss: 0.7606 - accuracy: 0.6795 - val_loss: 0.7497 - val_accuracy: 0.6841 - lr: 0.0010\n",
            "Epoch 39/50\n",
            "11818/11818 [==============================] - 73s 6ms/step - loss: 0.7662 - accuracy: 0.6773 - val_loss: 0.7524 - val_accuracy: 0.6836 - lr: 0.0010\n",
            "Epoch 40/50\n",
            "11818/11818 [==============================] - 72s 6ms/step - loss: 0.7576 - accuracy: 0.6812 - val_loss: 0.7424 - val_accuracy: 0.6870 - lr: 0.0010\n",
            "Epoch 41/50\n",
            "11818/11818 [==============================] - 67s 6ms/step - loss: 0.7769 - accuracy: 0.6724 - val_loss: 0.7607 - val_accuracy: 0.6794 - lr: 0.0010\n",
            "Epoch 42/50\n",
            "11818/11818 [==============================] - 67s 6ms/step - loss: 0.7544 - accuracy: 0.6821 - val_loss: 0.7489 - val_accuracy: 0.6850 - lr: 0.0010\n",
            "Epoch 43/50\n",
            "11818/11818 [==============================] - 72s 6ms/step - loss: 0.7547 - accuracy: 0.6819 - val_loss: 0.7427 - val_accuracy: 0.6862 - lr: 0.0010\n",
            "Epoch 44/50\n",
            "11818/11818 [==============================] - 67s 6ms/step - loss: 0.7648 - accuracy: 0.6787 - val_loss: 0.7442 - val_accuracy: 0.6860 - lr: 0.0010\n",
            "Epoch 45/50\n",
            "11818/11818 [==============================] - 67s 6ms/step - loss: 0.7519 - accuracy: 0.6832 - val_loss: 0.7418 - val_accuracy: 0.6880 - lr: 0.0010\n",
            "Epoch 46/50\n",
            "11818/11818 [==============================] - 67s 6ms/step - loss: 0.7568 - accuracy: 0.6813 - val_loss: 0.7465 - val_accuracy: 0.6864 - lr: 0.0010\n",
            "Epoch 47/50\n",
            "11818/11818 [==============================] - 71s 6ms/step - loss: 0.7517 - accuracy: 0.6833 - val_loss: 0.7922 - val_accuracy: 0.6636 - lr: 0.0010\n",
            "Epoch 48/50\n",
            "11818/11818 [==============================] - 72s 6ms/step - loss: 0.7455 - accuracy: 0.6857 - val_loss: 0.7444 - val_accuracy: 0.6848 - lr: 0.0010\n",
            "Epoch 49/50\n",
            "11818/11818 [==============================] - 71s 6ms/step - loss: 0.7461 - accuracy: 0.6858 - val_loss: 0.7498 - val_accuracy: 0.6850 - lr: 0.0010\n",
            "Epoch 50/50\n",
            "11818/11818 [==============================] - 67s 6ms/step - loss: 0.7497 - accuracy: 0.6846 - val_loss: 0.7379 - val_accuracy: 0.6888 - lr: 0.0010\n"
          ]
        }
      ],
      "source": [
        "history = model.fit(\n",
        "    X_balanced_reshaped,\n",
        "    y_balanced_reshaped_onehot,\n",
        "    batch_size=batch_size,\n",
        "    epochs=epochs,\n",
        "    callbacks=callbacks,\n",
        "    validation_split=0.2,\n",
        "    verbose=1,\n",
        ")"
      ]
    },
    {
      "cell_type": "code",
      "execution_count": null,
      "id": "f83435b4-775e-44bd-a19d-0347661f4b6f",
      "metadata": {
        "id": "f83435b4-775e-44bd-a19d-0347661f4b6f"
      },
      "outputs": [],
      "source": [
        "X_balanced.shape[1:]"
      ]
    },
    {
      "cell_type": "code",
      "execution_count": null,
      "id": "711590f0-8969-4171-b6b2-62206df0e868",
      "metadata": {
        "id": "711590f0-8969-4171-b6b2-62206df0e868"
      },
      "outputs": [],
      "source": [
        "input_shape=X_balanced_reshaped.shape[1:]"
      ]
    },
    {
      "cell_type": "code",
      "execution_count": null,
      "id": "65575638-4007-4757-9b28-bf0c1091c681",
      "metadata": {
        "id": "65575638-4007-4757-9b28-bf0c1091c681"
      },
      "outputs": [],
      "source": [
        "input_layer = keras.layers.Input(input_shape)"
      ]
    },
    {
      "cell_type": "code",
      "execution_count": 32,
      "id": "bba05852-8770-42a9-b561-eef82e7cc1c3",
      "metadata": {
        "id": "bba05852-8770-42a9-b561-eef82e7cc1c3",
        "outputId": "0b936511-2b4c-4e03-af5a-a323c628aa48",
        "colab": {
          "base_uri": "https://localhost:8080/"
        }
      },
      "outputs": [
        {
          "output_type": "stream",
          "name": "stderr",
          "text": [
            "100%|██████████| 16/16 [00:00<00:00, 25751.67it/s]\n",
            "0it [00:00, ?it/s]<ipython-input-32-75d973d105a4>:80: SettingWithCopyWarning: \n",
            "A value is trying to be set on a copy of a slice from a DataFrame.\n",
            "Try using .loc[row_indexer,col_indexer] = value instead\n",
            "\n",
            "See the caveats in the documentation: https://pandas.pydata.org/pandas-docs/stable/user_guide/indexing.html#returning-a-view-versus-a-copy\n",
            "  x_sensor_dat['Subject']=int(sub)\n",
            "<ipython-input-32-75d973d105a4>:81: SettingWithCopyWarning: \n",
            "A value is trying to be set on a copy of a slice from a DataFrame.\n",
            "Try using .loc[row_indexer,col_indexer] = value instead\n",
            "\n",
            "See the caveats in the documentation: https://pandas.pydata.org/pandas-docs/stable/user_guide/indexing.html#returning-a-view-versus-a-copy\n",
            "  x_sensor_dat['Session']=int(sess)\n",
            "<ipython-input-32-75d973d105a4>:98: SettingWithCopyWarning: \n",
            "A value is trying to be set on a copy of a slice from a DataFrame.\n",
            "Try using .loc[row_indexer,col_indexer] = value instead\n",
            "\n",
            "See the caveats in the documentation: https://pandas.pydata.org/pandas-docs/stable/user_guide/indexing.html#returning-a-view-versus-a-copy\n",
            "  x_sensor_dat[\"time_stamp\"]=pd.to_datetime(x_sensor_dat[\"time_stamp\"],unit='s').round('ms')\n",
            "1it [00:01,  1.86s/it]<ipython-input-32-75d973d105a4>:80: SettingWithCopyWarning: \n",
            "A value is trying to be set on a copy of a slice from a DataFrame.\n",
            "Try using .loc[row_indexer,col_indexer] = value instead\n",
            "\n",
            "See the caveats in the documentation: https://pandas.pydata.org/pandas-docs/stable/user_guide/indexing.html#returning-a-view-versus-a-copy\n",
            "  x_sensor_dat['Subject']=int(sub)\n",
            "<ipython-input-32-75d973d105a4>:81: SettingWithCopyWarning: \n",
            "A value is trying to be set on a copy of a slice from a DataFrame.\n",
            "Try using .loc[row_indexer,col_indexer] = value instead\n",
            "\n",
            "See the caveats in the documentation: https://pandas.pydata.org/pandas-docs/stable/user_guide/indexing.html#returning-a-view-versus-a-copy\n",
            "  x_sensor_dat['Session']=int(sess)\n",
            "<ipython-input-32-75d973d105a4>:98: SettingWithCopyWarning: \n",
            "A value is trying to be set on a copy of a slice from a DataFrame.\n",
            "Try using .loc[row_indexer,col_indexer] = value instead\n",
            "\n",
            "See the caveats in the documentation: https://pandas.pydata.org/pandas-docs/stable/user_guide/indexing.html#returning-a-view-versus-a-copy\n",
            "  x_sensor_dat[\"time_stamp\"]=pd.to_datetime(x_sensor_dat[\"time_stamp\"],unit='s').round('ms')\n",
            "2it [00:03,  1.61s/it]<ipython-input-32-75d973d105a4>:80: SettingWithCopyWarning: \n",
            "A value is trying to be set on a copy of a slice from a DataFrame.\n",
            "Try using .loc[row_indexer,col_indexer] = value instead\n",
            "\n",
            "See the caveats in the documentation: https://pandas.pydata.org/pandas-docs/stable/user_guide/indexing.html#returning-a-view-versus-a-copy\n",
            "  x_sensor_dat['Subject']=int(sub)\n",
            "<ipython-input-32-75d973d105a4>:81: SettingWithCopyWarning: \n",
            "A value is trying to be set on a copy of a slice from a DataFrame.\n",
            "Try using .loc[row_indexer,col_indexer] = value instead\n",
            "\n",
            "See the caveats in the documentation: https://pandas.pydata.org/pandas-docs/stable/user_guide/indexing.html#returning-a-view-versus-a-copy\n",
            "  x_sensor_dat['Session']=int(sess)\n",
            "<ipython-input-32-75d973d105a4>:98: SettingWithCopyWarning: \n",
            "A value is trying to be set on a copy of a slice from a DataFrame.\n",
            "Try using .loc[row_indexer,col_indexer] = value instead\n",
            "\n",
            "See the caveats in the documentation: https://pandas.pydata.org/pandas-docs/stable/user_guide/indexing.html#returning-a-view-versus-a-copy\n",
            "  x_sensor_dat[\"time_stamp\"]=pd.to_datetime(x_sensor_dat[\"time_stamp\"],unit='s').round('ms')\n",
            "3it [00:04,  1.56s/it]<ipython-input-32-75d973d105a4>:80: SettingWithCopyWarning: \n",
            "A value is trying to be set on a copy of a slice from a DataFrame.\n",
            "Try using .loc[row_indexer,col_indexer] = value instead\n",
            "\n",
            "See the caveats in the documentation: https://pandas.pydata.org/pandas-docs/stable/user_guide/indexing.html#returning-a-view-versus-a-copy\n",
            "  x_sensor_dat['Subject']=int(sub)\n",
            "<ipython-input-32-75d973d105a4>:81: SettingWithCopyWarning: \n",
            "A value is trying to be set on a copy of a slice from a DataFrame.\n",
            "Try using .loc[row_indexer,col_indexer] = value instead\n",
            "\n",
            "See the caveats in the documentation: https://pandas.pydata.org/pandas-docs/stable/user_guide/indexing.html#returning-a-view-versus-a-copy\n",
            "  x_sensor_dat['Session']=int(sess)\n",
            "<ipython-input-32-75d973d105a4>:98: SettingWithCopyWarning: \n",
            "A value is trying to be set on a copy of a slice from a DataFrame.\n",
            "Try using .loc[row_indexer,col_indexer] = value instead\n",
            "\n",
            "See the caveats in the documentation: https://pandas.pydata.org/pandas-docs/stable/user_guide/indexing.html#returning-a-view-versus-a-copy\n",
            "  x_sensor_dat[\"time_stamp\"]=pd.to_datetime(x_sensor_dat[\"time_stamp\"],unit='s').round('ms')\n",
            "4it [00:06,  1.66s/it]\n"
          ]
        }
      ],
      "source": [
        "from sklearn.ensemble import RandomForestClassifier\n",
        "from sklearn.metrics import accuracy_score, confusion_matrix, ConfusionMatrixDisplay\n",
        "from sklearn import svm\n",
        "import pandas as pd\n",
        "import glob\n",
        "from tqdm import tqdm\n",
        "import matplotlib.pyplot as plt\n",
        "import numpy as np\n",
        "from ast import literal_eval\n",
        "from sklearn.ensemble import RandomForestClassifier\n",
        "from sklearn.metrics import accuracy_score, confusion_matrix, confusion_matrix, ConfusionMatrixDisplay\n",
        "from sklearn import svm\n",
        "from sklearn.model_selection import RandomizedSearchCV, train_test_split\n",
        "import numpy as np\n",
        "from sklearn.preprocessing import StandardScaler\n",
        "from tensorflow import keras\n",
        "def data_frame_adder(temp_frame,file_name):\n",
        "    file_name=file_name.split('.csv')[0]\n",
        "    temp_frame['file_name']=file_name\n",
        "    temp_frame['subject']=temp_frame['file_name'].apply(lambda x: int(x.split('subject_')[1].split('_')[0]))\n",
        "    temp_frame['session']=temp_frame['file_name'].apply(lambda x: int(x.split('subject_')[1].split('_')[1]))\n",
        "    #temp_frame['type']=temp_frame['file_name'].apply(lambda x: x.split('__')[1])\n",
        "    temp_frame = temp_frame.drop(columns=['file_name'])\n",
        "    temp_frame = temp_frame[temp_frame.columns[::-1]]\n",
        "    temp_frame = temp_frame.sort_values(by=['session','subject'], axis=0)\n",
        "    col_list1 = list(temp_frame.columns)[0:2]\n",
        "    col_list2 = list(temp_frame.columns)[2:]\n",
        "    col_list2.sort()\n",
        "    col_list=col_list1+col_list2\n",
        "    \n",
        "    #temp_frame = swap_columns(temp_frame, 'subject', 'session')\n",
        "    # Swapping the columns\n",
        "    temp_frame = temp_frame.reindex(columns=col_list)\n",
        "\n",
        "    return temp_frame\n",
        "Training_data_files=glob.glob('/content/ECE_Project_C1/TestData/*.csv')\n",
        "file_name_list_x=[]\n",
        "file_name_list_x_time=[]\n",
        "file_name_list_y=[]\n",
        "file_name_list_y_time=[]\n",
        "for file_name in tqdm(Training_data_files):\n",
        "    if 'x.csv' in file_name:\n",
        "        file_name_list_x.append(file_name)\n",
        "    elif 'x_time.csv' in file_name:\n",
        "        file_name_list_x_time.append(file_name)\n",
        "    elif 'y.csv' in file_name:\n",
        "        file_name_list_y.append(file_name)\n",
        "    else:\n",
        "        file_name_list_y_time.append(file_name)\n",
        "file_name_list_x.sort()\n",
        "file_name_list_x_time.sort()\n",
        "file_name_list_y.sort()\n",
        "file_name_list_y_time.sort()\n",
        "Subject_list= [f.split('_')[3] for f in file_name_list_x]\n",
        "Session_list= [f.split('_')[4] for f in file_name_list_x]\n",
        "\n",
        "x_sensor_dat=pd.DataFrame([])\n",
        "y_sensor_dat=pd.DataFrame([])\n",
        "x_time_dat=[]\n",
        "\n",
        "\n",
        "\n",
        "for sub,sess in tqdm(zip(Subject_list,Session_list)):\n",
        "    #x_sensor_dat=pd.DataFrame(x_sensor_dat.append(pd.read_csv(f\"/content/ECE_Project_C1/TrainingData/subject_{sub}_{sess}__x.csv\",header=None)))\n",
        "    \n",
        "    x_sensor_dat=pd.concat([pd.read_csv(f\"/content/ECE_Project_C1/TestData/subject_{sub}_{sess}__x.csv\",header=None),pd.read_csv(f\"/content/ECE_Project_C1/TestData/subject_{sub}_{sess}__x_time.csv\",header=None).rename(columns={0:'time_stamp'})],axis=1)\n",
        "    features_to_normalize = [0,1,2,3,4,5]\n",
        "    features_to_normalize = [0,1,2,3,4,5]\n",
        "    scaler = StandardScaler()\n",
        "    scaler.fit(x_sensor_dat[features_to_normalize])\n",
        "    scaled = scaler.fit_transform(x_sensor_dat[features_to_normalize])\n",
        "    scaled_df = pd.DataFrame(scaled, columns=x_sensor_dat[features_to_normalize].columns)\n",
        "    x_sensor_dat[features_to_normalize]=scaled_df\n",
        "\n",
        "#    x_sensor_dat[features_to_normalize] = x_sensor_dat[features_to_normalize].apply(lambda x:(x-x.mean())/ x.std(), axis=0)\n",
        "    #apply(lambda x:(x-x.min())/(x.max()-x.min()))\n",
        "    x_sensor_dat['measurements']=x_sensor_dat.apply(lambda x: [x[0],x[1],x[2],x[3],x[4],x[5]],axis=1)\n",
        "    x_sensor_dat=x_sensor_dat[['time_stamp','measurements']]\n",
        "    #x_sensor_dat=x_sensor_dat.set_index('time_stamp').asfreq('0.025S')\n",
        "    x_sensor_dat['Subject']=int(sub)\n",
        "    x_sensor_dat['Session']=int(sess)\n",
        "    #x_sensor_dat=x_sensor_dat.set_index('time_stamp').asfreq('0.025S')\n",
        "    \n",
        "    y_sensor_dat=pd.concat([pd.read_csv(f\"/content/ECE_Project_C1/TestData/subject_{sub}_{sess}__y.csv\",header=None),pd.read_csv(f\"/content/ECE_Project_C1/TestData/subject_{sub}_{sess}__y_time.csv\",header=None).rename(columns={0:'time_stamp'})],axis=1).rename(columns={0:'labels'})\n",
        "    #y_sensor_dat['labels']=y_sensor_dat.apply(lambda y: [y[0],y[1],y[2],y[3]],axis=1)\n",
        "    y_sensor_dat=y_sensor_dat[['time_stamp','labels']]\n",
        "    #y_sensor_dat[\"time_stamp\"]=pd.to_datetime(y_sensor_dat[\"time_stamp\"],unit='s').round('ms')\n",
        "    trp=pd.concat(\n",
        "        [pd.DataFrame({'labels':0},index=[x_sensor_dat.index[-1]]),pd.DataFrame({'time_stamp':np.max(x_sensor_dat['time_stamp'])},index=[x_sensor_dat.index[-1]])\n",
        "                         ]\n",
        "         ,axis=1)\n",
        "    y_sensor_dat=pd.concat([y_sensor_dat,trp],axis=0)\n",
        "    trp=pd.concat([pd.DataFrame({'labels':0},index=[x_sensor_dat.index[0]]),pd.DataFrame({'time_stamp':np.min(x_sensor_dat['time_stamp'])},index=[x_sensor_dat.index[0]])],axis=1)\n",
        "    y_sensor_dat=pd.concat([trp,y_sensor_dat],axis=0)\n",
        "    # y_sensor_dat=y_sensor_dat.set_index('time_stamp').asfreq('0.025S')\n",
        "    #y_sensor_dat['Subject']=int(sub)\n",
        "    #y_sensor_dat['Session']=int(sess)\n",
        "    x_sensor_dat[\"time_stamp\"]=pd.to_datetime(x_sensor_dat[\"time_stamp\"],unit='s').round('ms')\n",
        "    x_sensor_dat=x_sensor_dat.set_index('time_stamp')\n",
        "    x_sensor_dat=x_sensor_dat.asfreq('0.025S')\n",
        "    \n",
        "    y_sensor_dat[\"time_stamp\"]=pd.to_datetime(y_sensor_dat[\"time_stamp\"],unit='s').round('ms')\n",
        "    y_sensor_dat=y_sensor_dat.set_index('time_stamp')\n",
        "    y_sensor_dat=y_sensor_dat.asfreq(freq='0.025S', method='bfill')\n",
        "    x_y_dat=pd.merge(x_sensor_dat,y_sensor_dat, how='inner', left_index=True, right_index=True)\n",
        "    x_y_dat.to_parquet(f\"/content/ECE_Project_C1/pre_processed_testing/subject_{sub}_session_{sess}.gzip\",compression='gzip')"
      ]
    },
    {
      "cell_type": "code",
      "source": [
        "x_y_dat"
      ],
      "metadata": {
        "id": "9q3A_BjiWNGS",
        "outputId": "06912c96-d1fd-4459-8dd4-2753380d8163",
        "colab": {
          "base_uri": "https://localhost:8080/",
          "height": 455
        }
      },
      "id": "9q3A_BjiWNGS",
      "execution_count": 35,
      "outputs": [
        {
          "output_type": "execute_result",
          "data": {
            "text/plain": [
              "                                                              measurements  \\\n",
              "time_stamp                                                                   \n",
              "1970-01-01 00:00:00.000  [-0.16468036388457127, 0.15121226695542847, -0...   \n",
              "1970-01-01 00:00:00.025  [-0.16865766837424867, 0.14967247569488737, -0...   \n",
              "1970-01-01 00:00:00.050  [-0.16438116301233216, 0.1489817253354086, -0....   \n",
              "1970-01-01 00:00:00.075  [-0.1552908828668455, 0.1544287369195729, -0.4...   \n",
              "1970-01-01 00:00:00.100  [-0.16526145540900228, 0.15121226695542847, -0...   \n",
              "...                                                                    ...   \n",
              "1970-01-01 00:18:52.850  [0.159406356135594, 0.16277825502985702, -0.47...   \n",
              "1970-01-01 00:18:52.875  [0.16483386876811393, 0.1645012814504027, -0.4...   \n",
              "1970-01-01 00:18:52.900  [0.17994221577331065, 0.15910908643511365, -0....   \n",
              "1970-01-01 00:18:52.925  [0.17649126596710446, 0.16459274505127874, -0....   \n",
              "1970-01-01 00:18:52.950  [0.17248348504854094, 0.16095652798951093, -0....   \n",
              "\n",
              "                         Subject  Session  labels  \n",
              "time_stamp                                         \n",
              "1970-01-01 00:00:00.000       12        1     0.0  \n",
              "1970-01-01 00:00:00.025       12        1     NaN  \n",
              "1970-01-01 00:00:00.050       12        1     NaN  \n",
              "1970-01-01 00:00:00.075       12        1     NaN  \n",
              "1970-01-01 00:00:00.100       12        1     NaN  \n",
              "...                          ...      ...     ...  \n",
              "1970-01-01 00:18:52.850       12        1     NaN  \n",
              "1970-01-01 00:18:52.875       12        1     NaN  \n",
              "1970-01-01 00:18:52.900       12        1     NaN  \n",
              "1970-01-01 00:18:52.925       12        1     0.0  \n",
              "1970-01-01 00:18:52.950       12        1     0.0  \n",
              "\n",
              "[45319 rows x 4 columns]"
            ],
            "text/html": [
              "\n",
              "  <div id=\"df-4164fd52-68d3-4a65-807d-fa6e67c5d61c\">\n",
              "    <div class=\"colab-df-container\">\n",
              "      <div>\n",
              "<style scoped>\n",
              "    .dataframe tbody tr th:only-of-type {\n",
              "        vertical-align: middle;\n",
              "    }\n",
              "\n",
              "    .dataframe tbody tr th {\n",
              "        vertical-align: top;\n",
              "    }\n",
              "\n",
              "    .dataframe thead th {\n",
              "        text-align: right;\n",
              "    }\n",
              "</style>\n",
              "<table border=\"1\" class=\"dataframe\">\n",
              "  <thead>\n",
              "    <tr style=\"text-align: right;\">\n",
              "      <th></th>\n",
              "      <th>measurements</th>\n",
              "      <th>Subject</th>\n",
              "      <th>Session</th>\n",
              "      <th>labels</th>\n",
              "    </tr>\n",
              "    <tr>\n",
              "      <th>time_stamp</th>\n",
              "      <th></th>\n",
              "      <th></th>\n",
              "      <th></th>\n",
              "      <th></th>\n",
              "    </tr>\n",
              "  </thead>\n",
              "  <tbody>\n",
              "    <tr>\n",
              "      <th>1970-01-01 00:00:00.000</th>\n",
              "      <td>[-0.16468036388457127, 0.15121226695542847, -0...</td>\n",
              "      <td>12</td>\n",
              "      <td>1</td>\n",
              "      <td>0.0</td>\n",
              "    </tr>\n",
              "    <tr>\n",
              "      <th>1970-01-01 00:00:00.025</th>\n",
              "      <td>[-0.16865766837424867, 0.14967247569488737, -0...</td>\n",
              "      <td>12</td>\n",
              "      <td>1</td>\n",
              "      <td>NaN</td>\n",
              "    </tr>\n",
              "    <tr>\n",
              "      <th>1970-01-01 00:00:00.050</th>\n",
              "      <td>[-0.16438116301233216, 0.1489817253354086, -0....</td>\n",
              "      <td>12</td>\n",
              "      <td>1</td>\n",
              "      <td>NaN</td>\n",
              "    </tr>\n",
              "    <tr>\n",
              "      <th>1970-01-01 00:00:00.075</th>\n",
              "      <td>[-0.1552908828668455, 0.1544287369195729, -0.4...</td>\n",
              "      <td>12</td>\n",
              "      <td>1</td>\n",
              "      <td>NaN</td>\n",
              "    </tr>\n",
              "    <tr>\n",
              "      <th>1970-01-01 00:00:00.100</th>\n",
              "      <td>[-0.16526145540900228, 0.15121226695542847, -0...</td>\n",
              "      <td>12</td>\n",
              "      <td>1</td>\n",
              "      <td>NaN</td>\n",
              "    </tr>\n",
              "    <tr>\n",
              "      <th>...</th>\n",
              "      <td>...</td>\n",
              "      <td>...</td>\n",
              "      <td>...</td>\n",
              "      <td>...</td>\n",
              "    </tr>\n",
              "    <tr>\n",
              "      <th>1970-01-01 00:18:52.850</th>\n",
              "      <td>[0.159406356135594, 0.16277825502985702, -0.47...</td>\n",
              "      <td>12</td>\n",
              "      <td>1</td>\n",
              "      <td>NaN</td>\n",
              "    </tr>\n",
              "    <tr>\n",
              "      <th>1970-01-01 00:18:52.875</th>\n",
              "      <td>[0.16483386876811393, 0.1645012814504027, -0.4...</td>\n",
              "      <td>12</td>\n",
              "      <td>1</td>\n",
              "      <td>NaN</td>\n",
              "    </tr>\n",
              "    <tr>\n",
              "      <th>1970-01-01 00:18:52.900</th>\n",
              "      <td>[0.17994221577331065, 0.15910908643511365, -0....</td>\n",
              "      <td>12</td>\n",
              "      <td>1</td>\n",
              "      <td>NaN</td>\n",
              "    </tr>\n",
              "    <tr>\n",
              "      <th>1970-01-01 00:18:52.925</th>\n",
              "      <td>[0.17649126596710446, 0.16459274505127874, -0....</td>\n",
              "      <td>12</td>\n",
              "      <td>1</td>\n",
              "      <td>0.0</td>\n",
              "    </tr>\n",
              "    <tr>\n",
              "      <th>1970-01-01 00:18:52.950</th>\n",
              "      <td>[0.17248348504854094, 0.16095652798951093, -0....</td>\n",
              "      <td>12</td>\n",
              "      <td>1</td>\n",
              "      <td>0.0</td>\n",
              "    </tr>\n",
              "  </tbody>\n",
              "</table>\n",
              "<p>45319 rows × 4 columns</p>\n",
              "</div>\n",
              "      <button class=\"colab-df-convert\" onclick=\"convertToInteractive('df-4164fd52-68d3-4a65-807d-fa6e67c5d61c')\"\n",
              "              title=\"Convert this dataframe to an interactive table.\"\n",
              "              style=\"display:none;\">\n",
              "        \n",
              "  <svg xmlns=\"http://www.w3.org/2000/svg\" height=\"24px\"viewBox=\"0 0 24 24\"\n",
              "       width=\"24px\">\n",
              "    <path d=\"M0 0h24v24H0V0z\" fill=\"none\"/>\n",
              "    <path d=\"M18.56 5.44l.94 2.06.94-2.06 2.06-.94-2.06-.94-.94-2.06-.94 2.06-2.06.94zm-11 1L8.5 8.5l.94-2.06 2.06-.94-2.06-.94L8.5 2.5l-.94 2.06-2.06.94zm10 10l.94 2.06.94-2.06 2.06-.94-2.06-.94-.94-2.06-.94 2.06-2.06.94z\"/><path d=\"M17.41 7.96l-1.37-1.37c-.4-.4-.92-.59-1.43-.59-.52 0-1.04.2-1.43.59L10.3 9.45l-7.72 7.72c-.78.78-.78 2.05 0 2.83L4 21.41c.39.39.9.59 1.41.59.51 0 1.02-.2 1.41-.59l7.78-7.78 2.81-2.81c.8-.78.8-2.07 0-2.86zM5.41 20L4 18.59l7.72-7.72 1.47 1.35L5.41 20z\"/>\n",
              "  </svg>\n",
              "      </button>\n",
              "      \n",
              "  <style>\n",
              "    .colab-df-container {\n",
              "      display:flex;\n",
              "      flex-wrap:wrap;\n",
              "      gap: 12px;\n",
              "    }\n",
              "\n",
              "    .colab-df-convert {\n",
              "      background-color: #E8F0FE;\n",
              "      border: none;\n",
              "      border-radius: 50%;\n",
              "      cursor: pointer;\n",
              "      display: none;\n",
              "      fill: #1967D2;\n",
              "      height: 32px;\n",
              "      padding: 0 0 0 0;\n",
              "      width: 32px;\n",
              "    }\n",
              "\n",
              "    .colab-df-convert:hover {\n",
              "      background-color: #E2EBFA;\n",
              "      box-shadow: 0px 1px 2px rgba(60, 64, 67, 0.3), 0px 1px 3px 1px rgba(60, 64, 67, 0.15);\n",
              "      fill: #174EA6;\n",
              "    }\n",
              "\n",
              "    [theme=dark] .colab-df-convert {\n",
              "      background-color: #3B4455;\n",
              "      fill: #D2E3FC;\n",
              "    }\n",
              "\n",
              "    [theme=dark] .colab-df-convert:hover {\n",
              "      background-color: #434B5C;\n",
              "      box-shadow: 0px 1px 3px 1px rgba(0, 0, 0, 0.15);\n",
              "      filter: drop-shadow(0px 1px 2px rgba(0, 0, 0, 0.3));\n",
              "      fill: #FFFFFF;\n",
              "    }\n",
              "  </style>\n",
              "\n",
              "      <script>\n",
              "        const buttonEl =\n",
              "          document.querySelector('#df-4164fd52-68d3-4a65-807d-fa6e67c5d61c button.colab-df-convert');\n",
              "        buttonEl.style.display =\n",
              "          google.colab.kernel.accessAllowed ? 'block' : 'none';\n",
              "\n",
              "        async function convertToInteractive(key) {\n",
              "          const element = document.querySelector('#df-4164fd52-68d3-4a65-807d-fa6e67c5d61c');\n",
              "          const dataTable =\n",
              "            await google.colab.kernel.invokeFunction('convertToInteractive',\n",
              "                                                     [key], {});\n",
              "          if (!dataTable) return;\n",
              "\n",
              "          const docLinkHtml = 'Like what you see? Visit the ' +\n",
              "            '<a target=\"_blank\" href=https://colab.research.google.com/notebooks/data_table.ipynb>data table notebook</a>'\n",
              "            + ' to learn more about interactive tables.';\n",
              "          element.innerHTML = '';\n",
              "          dataTable['output_type'] = 'display_data';\n",
              "          await google.colab.output.renderOutput(dataTable, element);\n",
              "          const docLink = document.createElement('div');\n",
              "          docLink.innerHTML = docLinkHtml;\n",
              "          element.appendChild(docLink);\n",
              "        }\n",
              "      </script>\n",
              "    </div>\n",
              "  </div>\n",
              "  "
            ]
          },
          "metadata": {},
          "execution_count": 35
        }
      ]
    },
    {
      "cell_type": "code",
      "source": [
        "files"
      ],
      "metadata": {
        "id": "SaeXQfvQT8Ci",
        "outputId": "b304f97f-4d08-4b80-a09c-31fb0d17623c",
        "colab": {
          "base_uri": "https://localhost:8080/"
        }
      },
      "id": "SaeXQfvQT8Ci",
      "execution_count": 34,
      "outputs": [
        {
          "output_type": "execute_result",
          "data": {
            "text/plain": [
              "[]"
            ]
          },
          "metadata": {},
          "execution_count": 34
        }
      ]
    },
    {
      "cell_type": "code",
      "execution_count": 37,
      "id": "ab66f01c-5abb-4e3d-8966-d9466ec11bf5",
      "metadata": {
        "id": "ab66f01c-5abb-4e3d-8966-d9466ec11bf5",
        "outputId": "3a4588f8-aacb-4f13-b436-4b3847837a8a",
        "colab": {
          "base_uri": "https://localhost:8080/"
        }
      },
      "outputs": [
        {
          "output_type": "stream",
          "name": "stderr",
          "text": [
            "100%|██████████| 4/4 [00:00<00:00, 26.24it/s]\n"
          ]
        }
      ],
      "source": [
        "\n",
        "files=glob.glob('/content/ECE_Project_C1/pre_processed_testing/*.gzip')\n",
        "total_training_data=pd.DataFrame([])\n",
        "for f in tqdm(files):\n",
        "    total_training_data=pd.concat([total_training_data,pd.read_parquet(f, engine='auto')],axis=0)\n",
        "total_training_data=total_training_data.sort_values(['Subject','Session','time_stamp'])\n",
        "total_training_data=total_training_data.reset_index()\n",
        "total_training_data['epoch'] = total_training_data['time_stamp'].sub(pd.Timestamp('1970-01-01 00:00:00.000'))\n",
        "total_training_data['epoch']=total_training_data['epoch'].dt.total_seconds()\n",
        "total_training_data=total_training_data[['Subject','Session','epoch','measurements','labels']]\n",
        "total_training_data_grouped=total_training_data.groupby(['Subject','Session','epoch']).agg({'measurements':[np.mean],'labels':[np.mean]})\n",
        "total_training_data_grouped.columns = total_training_data_grouped.columns.droplevel(1)\n",
        "total_training_data_grouped=total_training_data_grouped.reset_index(level=['epoch'])\n",
        "total_training_data_grouped.to_parquet(f\"/content/ECE_Project_C1/combined_sampled/testing.gzip\",compression='gzip')\n",
        "testing_combined=pd.read_parquet('/content/ECE_Project_C1/combined_sampled/testing.gzip', engine='auto')\n",
        "testing_combined=testing_combined.reset_index()\n",
        "testing_combined=testing_combined[['measurements','labels']]\n",
        "X_test=np.vstack(testing_combined['measurements']).reshape(-1,3,2,1)"
      ]
    },
    {
      "cell_type": "code",
      "source": [
        "total_training_data"
      ],
      "metadata": {
        "id": "uPfAdc3tTlat",
        "outputId": "ecfcdab9-2566-45d8-f604-fa1811f60aae",
        "colab": {
          "base_uri": "https://localhost:8080/",
          "height": 424
        }
      },
      "id": "uPfAdc3tTlat",
      "execution_count": 38,
      "outputs": [
        {
          "output_type": "execute_result",
          "data": {
            "text/plain": [
              "        Subject  Session     epoch  \\\n",
              "0             9        1     0.000   \n",
              "1             9        1     0.025   \n",
              "2             9        1     0.050   \n",
              "3             9        1     0.075   \n",
              "4             9        1     0.100   \n",
              "...         ...      ...       ...   \n",
              "184147       12        1  1132.850   \n",
              "184148       12        1  1132.875   \n",
              "184149       12        1  1132.900   \n",
              "184150       12        1  1132.925   \n",
              "184151       12        1  1132.950   \n",
              "\n",
              "                                             measurements  labels  \n",
              "0       [-0.03765202030266226, 0.09368572626400568, -1...     0.0  \n",
              "1       [-0.03524098598251466, 0.09306726091291935, -1...     NaN  \n",
              "2       [-0.03380178732749251, 0.0932526808924517, -1....     NaN  \n",
              "3       [-0.031089793317064792, 0.0952962881937525, -1...     NaN  \n",
              "4       [-0.025079759587105822, 0.09672302515454348, -...     NaN  \n",
              "...                                                   ...     ...  \n",
              "184147  [0.159406356135594, 0.16277825502985702, -0.47...     NaN  \n",
              "184148  [0.16483386876811393, 0.1645012814504027, -0.4...     NaN  \n",
              "184149  [0.17994221577331065, 0.15910908643511365, -0....     NaN  \n",
              "184150  [0.17649126596710446, 0.16459274505127874, -0....     0.0  \n",
              "184151  [0.17248348504854094, 0.16095652798951093, -0....     0.0  \n",
              "\n",
              "[184152 rows x 5 columns]"
            ],
            "text/html": [
              "\n",
              "  <div id=\"df-57f07a7e-fb29-456c-b019-f59aaa15e00b\">\n",
              "    <div class=\"colab-df-container\">\n",
              "      <div>\n",
              "<style scoped>\n",
              "    .dataframe tbody tr th:only-of-type {\n",
              "        vertical-align: middle;\n",
              "    }\n",
              "\n",
              "    .dataframe tbody tr th {\n",
              "        vertical-align: top;\n",
              "    }\n",
              "\n",
              "    .dataframe thead th {\n",
              "        text-align: right;\n",
              "    }\n",
              "</style>\n",
              "<table border=\"1\" class=\"dataframe\">\n",
              "  <thead>\n",
              "    <tr style=\"text-align: right;\">\n",
              "      <th></th>\n",
              "      <th>Subject</th>\n",
              "      <th>Session</th>\n",
              "      <th>epoch</th>\n",
              "      <th>measurements</th>\n",
              "      <th>labels</th>\n",
              "    </tr>\n",
              "  </thead>\n",
              "  <tbody>\n",
              "    <tr>\n",
              "      <th>0</th>\n",
              "      <td>9</td>\n",
              "      <td>1</td>\n",
              "      <td>0.000</td>\n",
              "      <td>[-0.03765202030266226, 0.09368572626400568, -1...</td>\n",
              "      <td>0.0</td>\n",
              "    </tr>\n",
              "    <tr>\n",
              "      <th>1</th>\n",
              "      <td>9</td>\n",
              "      <td>1</td>\n",
              "      <td>0.025</td>\n",
              "      <td>[-0.03524098598251466, 0.09306726091291935, -1...</td>\n",
              "      <td>NaN</td>\n",
              "    </tr>\n",
              "    <tr>\n",
              "      <th>2</th>\n",
              "      <td>9</td>\n",
              "      <td>1</td>\n",
              "      <td>0.050</td>\n",
              "      <td>[-0.03380178732749251, 0.0932526808924517, -1....</td>\n",
              "      <td>NaN</td>\n",
              "    </tr>\n",
              "    <tr>\n",
              "      <th>3</th>\n",
              "      <td>9</td>\n",
              "      <td>1</td>\n",
              "      <td>0.075</td>\n",
              "      <td>[-0.031089793317064792, 0.0952962881937525, -1...</td>\n",
              "      <td>NaN</td>\n",
              "    </tr>\n",
              "    <tr>\n",
              "      <th>4</th>\n",
              "      <td>9</td>\n",
              "      <td>1</td>\n",
              "      <td>0.100</td>\n",
              "      <td>[-0.025079759587105822, 0.09672302515454348, -...</td>\n",
              "      <td>NaN</td>\n",
              "    </tr>\n",
              "    <tr>\n",
              "      <th>...</th>\n",
              "      <td>...</td>\n",
              "      <td>...</td>\n",
              "      <td>...</td>\n",
              "      <td>...</td>\n",
              "      <td>...</td>\n",
              "    </tr>\n",
              "    <tr>\n",
              "      <th>184147</th>\n",
              "      <td>12</td>\n",
              "      <td>1</td>\n",
              "      <td>1132.850</td>\n",
              "      <td>[0.159406356135594, 0.16277825502985702, -0.47...</td>\n",
              "      <td>NaN</td>\n",
              "    </tr>\n",
              "    <tr>\n",
              "      <th>184148</th>\n",
              "      <td>12</td>\n",
              "      <td>1</td>\n",
              "      <td>1132.875</td>\n",
              "      <td>[0.16483386876811393, 0.1645012814504027, -0.4...</td>\n",
              "      <td>NaN</td>\n",
              "    </tr>\n",
              "    <tr>\n",
              "      <th>184149</th>\n",
              "      <td>12</td>\n",
              "      <td>1</td>\n",
              "      <td>1132.900</td>\n",
              "      <td>[0.17994221577331065, 0.15910908643511365, -0....</td>\n",
              "      <td>NaN</td>\n",
              "    </tr>\n",
              "    <tr>\n",
              "      <th>184150</th>\n",
              "      <td>12</td>\n",
              "      <td>1</td>\n",
              "      <td>1132.925</td>\n",
              "      <td>[0.17649126596710446, 0.16459274505127874, -0....</td>\n",
              "      <td>0.0</td>\n",
              "    </tr>\n",
              "    <tr>\n",
              "      <th>184151</th>\n",
              "      <td>12</td>\n",
              "      <td>1</td>\n",
              "      <td>1132.950</td>\n",
              "      <td>[0.17248348504854094, 0.16095652798951093, -0....</td>\n",
              "      <td>0.0</td>\n",
              "    </tr>\n",
              "  </tbody>\n",
              "</table>\n",
              "<p>184152 rows × 5 columns</p>\n",
              "</div>\n",
              "      <button class=\"colab-df-convert\" onclick=\"convertToInteractive('df-57f07a7e-fb29-456c-b019-f59aaa15e00b')\"\n",
              "              title=\"Convert this dataframe to an interactive table.\"\n",
              "              style=\"display:none;\">\n",
              "        \n",
              "  <svg xmlns=\"http://www.w3.org/2000/svg\" height=\"24px\"viewBox=\"0 0 24 24\"\n",
              "       width=\"24px\">\n",
              "    <path d=\"M0 0h24v24H0V0z\" fill=\"none\"/>\n",
              "    <path d=\"M18.56 5.44l.94 2.06.94-2.06 2.06-.94-2.06-.94-.94-2.06-.94 2.06-2.06.94zm-11 1L8.5 8.5l.94-2.06 2.06-.94-2.06-.94L8.5 2.5l-.94 2.06-2.06.94zm10 10l.94 2.06.94-2.06 2.06-.94-2.06-.94-.94-2.06-.94 2.06-2.06.94z\"/><path d=\"M17.41 7.96l-1.37-1.37c-.4-.4-.92-.59-1.43-.59-.52 0-1.04.2-1.43.59L10.3 9.45l-7.72 7.72c-.78.78-.78 2.05 0 2.83L4 21.41c.39.39.9.59 1.41.59.51 0 1.02-.2 1.41-.59l7.78-7.78 2.81-2.81c.8-.78.8-2.07 0-2.86zM5.41 20L4 18.59l7.72-7.72 1.47 1.35L5.41 20z\"/>\n",
              "  </svg>\n",
              "      </button>\n",
              "      \n",
              "  <style>\n",
              "    .colab-df-container {\n",
              "      display:flex;\n",
              "      flex-wrap:wrap;\n",
              "      gap: 12px;\n",
              "    }\n",
              "\n",
              "    .colab-df-convert {\n",
              "      background-color: #E8F0FE;\n",
              "      border: none;\n",
              "      border-radius: 50%;\n",
              "      cursor: pointer;\n",
              "      display: none;\n",
              "      fill: #1967D2;\n",
              "      height: 32px;\n",
              "      padding: 0 0 0 0;\n",
              "      width: 32px;\n",
              "    }\n",
              "\n",
              "    .colab-df-convert:hover {\n",
              "      background-color: #E2EBFA;\n",
              "      box-shadow: 0px 1px 2px rgba(60, 64, 67, 0.3), 0px 1px 3px 1px rgba(60, 64, 67, 0.15);\n",
              "      fill: #174EA6;\n",
              "    }\n",
              "\n",
              "    [theme=dark] .colab-df-convert {\n",
              "      background-color: #3B4455;\n",
              "      fill: #D2E3FC;\n",
              "    }\n",
              "\n",
              "    [theme=dark] .colab-df-convert:hover {\n",
              "      background-color: #434B5C;\n",
              "      box-shadow: 0px 1px 3px 1px rgba(0, 0, 0, 0.15);\n",
              "      filter: drop-shadow(0px 1px 2px rgba(0, 0, 0, 0.3));\n",
              "      fill: #FFFFFF;\n",
              "    }\n",
              "  </style>\n",
              "\n",
              "      <script>\n",
              "        const buttonEl =\n",
              "          document.querySelector('#df-57f07a7e-fb29-456c-b019-f59aaa15e00b button.colab-df-convert');\n",
              "        buttonEl.style.display =\n",
              "          google.colab.kernel.accessAllowed ? 'block' : 'none';\n",
              "\n",
              "        async function convertToInteractive(key) {\n",
              "          const element = document.querySelector('#df-57f07a7e-fb29-456c-b019-f59aaa15e00b');\n",
              "          const dataTable =\n",
              "            await google.colab.kernel.invokeFunction('convertToInteractive',\n",
              "                                                     [key], {});\n",
              "          if (!dataTable) return;\n",
              "\n",
              "          const docLinkHtml = 'Like what you see? Visit the ' +\n",
              "            '<a target=\"_blank\" href=https://colab.research.google.com/notebooks/data_table.ipynb>data table notebook</a>'\n",
              "            + ' to learn more about interactive tables.';\n",
              "          element.innerHTML = '';\n",
              "          dataTable['output_type'] = 'display_data';\n",
              "          await google.colab.output.renderOutput(dataTable, element);\n",
              "          const docLink = document.createElement('div');\n",
              "          docLink.innerHTML = docLinkHtml;\n",
              "          element.appendChild(docLink);\n",
              "        }\n",
              "      </script>\n",
              "    </div>\n",
              "  </div>\n",
              "  "
            ]
          },
          "metadata": {},
          "execution_count": 38
        }
      ]
    },
    {
      "cell_type": "code",
      "source": [
        "preds = model.predict(X_test)"
      ],
      "metadata": {
        "id": "muFE_WrxTq6r",
        "outputId": "1b8dbfb9-7cb6-4d10-9360-aa0ff8825b91",
        "colab": {
          "base_uri": "https://localhost:8080/"
        }
      },
      "id": "muFE_WrxTq6r",
      "execution_count": 39,
      "outputs": [
        {
          "output_type": "stream",
          "name": "stdout",
          "text": [
            "5755/5755 [==============================] - 11s 2ms/step\n"
          ]
        }
      ]
    },
    {
      "cell_type": "code",
      "source": [
        "preds"
      ],
      "metadata": {
        "id": "2p7rzTNGW4nU",
        "outputId": "1ef38bb3-0fd1-4c21-8fd0-a02940968c3c",
        "colab": {
          "base_uri": "https://localhost:8080/"
        }
      },
      "id": "2p7rzTNGW4nU",
      "execution_count": 44,
      "outputs": [
        {
          "output_type": "execute_result",
          "data": {
            "text/plain": [
              "array([[28.294016  ,  0.        ,  0.1563804 ,  0.32523584],\n",
              "       [28.328007  ,  0.        ,  0.15285288,  0.32202303],\n",
              "       [28.243238  ,  0.        ,  0.17653017,  0.36101878],\n",
              "       ...,\n",
              "       [23.74455   ,  0.08628803,  0.90547514,  0.02983642],\n",
              "       [23.563704  ,  0.09742635,  0.9383375 ,  0.07063329],\n",
              "       [23.235762  ,  0.18391532,  0.98021066,  0.09953779]],\n",
              "      dtype=float32)"
            ]
          },
          "metadata": {},
          "execution_count": 44
        }
      ]
    },
    {
      "cell_type": "code",
      "source": [
        "X_test.shape"
      ],
      "metadata": {
        "id": "HXoUT8urW9Td",
        "outputId": "b7aed3bc-300b-4306-8f65-625651e29859",
        "colab": {
          "base_uri": "https://localhost:8080/"
        }
      },
      "id": "HXoUT8urW9Td",
      "execution_count": 42,
      "outputs": [
        {
          "output_type": "execute_result",
          "data": {
            "text/plain": [
              "(184152, 3, 2, 1)"
            ]
          },
          "metadata": {},
          "execution_count": 42
        }
      ]
    },
    {
      "cell_type": "code",
      "source": [],
      "metadata": {
        "id": "_tO5sW-5XCBT"
      },
      "id": "_tO5sW-5XCBT",
      "execution_count": null,
      "outputs": []
    }
  ],
  "metadata": {
    "kernelspec": {
      "display_name": "Python 3 (ipykernel)",
      "language": "python",
      "name": "python3"
    },
    "language_info": {
      "codemirror_mode": {
        "name": "ipython",
        "version": 3
      },
      "file_extension": ".py",
      "mimetype": "text/x-python",
      "name": "python",
      "nbconvert_exporter": "python",
      "pygments_lexer": "ipython3",
      "version": "3.10.9"
    },
    "colab": {
      "provenance": []
    },
    "accelerator": "GPU",
    "gpuClass": "standard"
  },
  "nbformat": 4,
  "nbformat_minor": 5
}