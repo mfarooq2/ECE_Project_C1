{
 "cells": [
  {
   "cell_type": "code",
   "execution_count": 4,
   "metadata": {
    "id": "j8v6YpUJ5hLZ"
   },
   "outputs": [],
   "source": [
    "import pandas as pd\n",
    "import os \n",
    "import shutil"
   ]
  },
  {
   "cell_type": "code",
   "execution_count": 8,
   "metadata": {
    "id": "vIs5ZNnB5R-O"
   },
   "outputs": [],
   "source": [
    "def parsecsv(x_path, x_time_path, y_path, y_time_path):\n",
    "  \n",
    "  path = '/Users/mfarooq2/ECE_Project_C1'\n",
    "\n",
    "  x_time = pd.read_csv(x_time_path, header=None)\n",
    "  x = pd.read_csv(x_path, header=None)\n",
    "  y_time = pd.read_csv(y_time_path, header=None)\n",
    "  y = pd.read_csv(y_path, header=None)\n",
    "\n",
    "  df_x_time = pd.DataFrame(x_time)\n",
    "  df_x = pd.DataFrame(x)\n",
    "  \n",
    "  df_y = pd.DataFrame(y)\n",
    "  df_y_time = pd.DataFrame(y_time)\n",
    "  df_y.insert(loc=0, column='Time', value=df_y_time)\n",
    "\n",
    "  # Merge all the dataframes\n",
    "  df = df_y.append(df_y).append(df_y).append(df_y)\n",
    "\n",
    "  df = df.sort_values(by=['Time'])\n",
    "  df = df.drop('Time', 1)\n",
    "\n",
    "  df.to_csv(path + str(os.path.split(y_path)[1]), index = False)\n",
    "  shutil.copyfile(x_path, path + str(os.path.split(x_path)[1]))\n",
    "  shutil.copyfile(x_time_path, path + str(os.path.split(x_time_path)[1]))"
   ]
  },
  {
   "cell_type": "code",
   "execution_count": null,
   "metadata": {},
   "outputs": [],
   "source": [
    "path = '/Users/mfarooq2/ECE_Project_C1/TrainingData/'\n",
    "for subject in range(1,9):\n",
    "  for session in range(1,9):\n",
    "    try:\n",
    "      x = path + 'subject_{id1:003}_{id2:02}__x.csv'.format(id1=subject,id2=session)\n",
    "      x_time = path + 'subject_{id1:003}_{id2:02}__x_time.csv'.format(id1=subject,id2=session)\n",
    "      y = path + 'subject_{id1:003}_{id2:02}__y.csv'.format(id1=subject,id2=session)\n",
    "      y_time = path + 'subject_{id1:003}_{id2:02}__y_time.csv'.format(id1=subject,id2=session)\n",
    "\n",
    "      parsecsv(x, x_time, y, y_time)\n",
    "      x = pd.read_csv(x, header=None)\n",
    "      x_time = pd.read_csv(x_time, header=None)\n",
    "      y = pd.read_csv(y, header=None)\n",
    "      y_time = pd.read_csv(y_time, header=None)\n",
    "    except Exception as e:\n",
    "      print(str(e))\n",
    "      print(subject)\n",
    "      print(session)\n",
    "      break"
   ]
  },
  {
   "cell_type": "code",
   "execution_count": 10,
   "metadata": {
    "colab": {
     "base_uri": "https://localhost:8080/"
    },
    "id": "w4fbeCiyzRj9",
    "outputId": "889dc305-cdb5-4e4e-ec62-c3d75fd21b4b"
   },
   "outputs": [],
   "source": [
    "import pandas as pd\n",
    "import numpy as np\n",
    "\n",
    "# Specifying the type of evaluation to be performed: observation-leave-out (0)\n",
    "# or session-leave-out (1)\n",
    "method_eval = 0\n",
    "# Percentage of data used for training - Only used for observation-leave-out\n",
    "perTrain = 0.8\n",
    "# Specifying which sessions to leave out - Only used for session-leave-out\n",
    "session_leave_out = {5};\n",
    "\n",
    "X_train = []\n",
    "Y_train = []\n",
    "X_test = []\n",
    "Y_test = []\n",
    "path2 = '/Users/mfarooq2/ECE_Project_C1/TrainingData/'\n",
    "\n",
    "if method_eval==0:\n",
    "  # Holding some observations from observed subjects for testing\n",
    "  for subject in range(1,9):\n",
    "    for sessionID in range(1,9):\n",
    "      try:\n",
    "        X = path2 + 'subject_{id1:003}_{id2:02}__x.csv'.format(id1=subject,id2=sessionID)\n",
    "        Y = path2 + 'subject_{id1:003}_{id2:02}__y.csv'.format(id1=subject,id2=sessionID)\n",
    "        X = pd.read_csv(X,header=None)\n",
    "        Y = pd.read_csv(Y,header=None)\n",
    "\n",
    "        idx = int(perTrain*X.shape[0])\n",
    "        if sessionID==1 and subject == 1:\n",
    "            X_train = X[0:idx]\n",
    "            Y_train = Y[0:idx]\n",
    "            X_test = X[idx:]\n",
    "            Y_test = Y[idx:]\n",
    "        else:\n",
    "            X_train = pd.concat([X_train, X[0:idx]],ignore_index=True)\n",
    "            Y_train = pd.concat([Y_train, Y[0:idx]],ignore_index=True)\n",
    "            X_test = pd.concat([X_test, X[idx:]],ignore_index=True)\n",
    "            Y_test = pd.concat([Y_test, Y[idx:]],ignore_index=True)\n",
    "      except Exception as e:\n",
    "        #print(str(e))\n",
    "        break"
   ]
  },
  {
   "cell_type": "code",
   "execution_count": 11,
   "metadata": {},
   "outputs": [
    {
     "data": {
      "text/html": [
       "<div>\n",
       "<style scoped>\n",
       "    .dataframe tbody tr th:only-of-type {\n",
       "        vertical-align: middle;\n",
       "    }\n",
       "\n",
       "    .dataframe tbody tr th {\n",
       "        vertical-align: top;\n",
       "    }\n",
       "\n",
       "    .dataframe thead th {\n",
       "        text-align: right;\n",
       "    }\n",
       "</style>\n",
       "<table border=\"1\" class=\"dataframe\">\n",
       "  <thead>\n",
       "    <tr style=\"text-align: right;\">\n",
       "      <th></th>\n",
       "      <th>0</th>\n",
       "      <th>1</th>\n",
       "      <th>2</th>\n",
       "      <th>3</th>\n",
       "      <th>4</th>\n",
       "      <th>5</th>\n",
       "    </tr>\n",
       "  </thead>\n",
       "  <tbody>\n",
       "    <tr>\n",
       "      <th>0</th>\n",
       "      <td>4.435275</td>\n",
       "      <td>8.196063</td>\n",
       "      <td>2.974488</td>\n",
       "      <td>0.014215</td>\n",
       "      <td>-0.039157</td>\n",
       "      <td>-0.016744</td>\n",
       "    </tr>\n",
       "    <tr>\n",
       "      <th>1</th>\n",
       "      <td>4.186920</td>\n",
       "      <td>8.344455</td>\n",
       "      <td>2.908057</td>\n",
       "      <td>0.005771</td>\n",
       "      <td>-0.004480</td>\n",
       "      <td>-0.003345</td>\n",
       "    </tr>\n",
       "    <tr>\n",
       "      <th>2</th>\n",
       "      <td>4.544637</td>\n",
       "      <td>8.408659</td>\n",
       "      <td>2.890000</td>\n",
       "      <td>0.007967</td>\n",
       "      <td>0.022412</td>\n",
       "      <td>0.001159</td>\n",
       "    </tr>\n",
       "    <tr>\n",
       "      <th>3</th>\n",
       "      <td>4.849308</td>\n",
       "      <td>8.411614</td>\n",
       "      <td>2.900692</td>\n",
       "      <td>0.027778</td>\n",
       "      <td>-0.010670</td>\n",
       "      <td>-0.014223</td>\n",
       "    </tr>\n",
       "    <tr>\n",
       "      <th>4</th>\n",
       "      <td>4.509190</td>\n",
       "      <td>8.118649</td>\n",
       "      <td>2.847298</td>\n",
       "      <td>0.021577</td>\n",
       "      <td>-0.045498</td>\n",
       "      <td>-0.021111</td>\n",
       "    </tr>\n",
       "    <tr>\n",
       "      <th>...</th>\n",
       "      <td>...</td>\n",
       "      <td>...</td>\n",
       "      <td>...</td>\n",
       "      <td>...</td>\n",
       "      <td>...</td>\n",
       "      <td>...</td>\n",
       "    </tr>\n",
       "    <tr>\n",
       "      <th>1073299</th>\n",
       "      <td>-2.960246</td>\n",
       "      <td>12.295730</td>\n",
       "      <td>0.481333</td>\n",
       "      <td>-1.810201</td>\n",
       "      <td>0.468483</td>\n",
       "      <td>0.144786</td>\n",
       "    </tr>\n",
       "    <tr>\n",
       "      <th>1073300</th>\n",
       "      <td>-2.664153</td>\n",
       "      <td>12.327190</td>\n",
       "      <td>1.136023</td>\n",
       "      <td>-2.058823</td>\n",
       "      <td>0.581191</td>\n",
       "      <td>0.243765</td>\n",
       "    </tr>\n",
       "    <tr>\n",
       "      <th>1073301</th>\n",
       "      <td>-0.431339</td>\n",
       "      <td>7.861165</td>\n",
       "      <td>4.811608</td>\n",
       "      <td>-2.414103</td>\n",
       "      <td>0.741169</td>\n",
       "      <td>0.444502</td>\n",
       "    </tr>\n",
       "    <tr>\n",
       "      <th>1073302</th>\n",
       "      <td>-1.058845</td>\n",
       "      <td>5.941559</td>\n",
       "      <td>8.917112</td>\n",
       "      <td>-2.653567</td>\n",
       "      <td>1.012182</td>\n",
       "      <td>0.729237</td>\n",
       "    </tr>\n",
       "    <tr>\n",
       "      <th>1073303</th>\n",
       "      <td>8.001394</td>\n",
       "      <td>9.006391</td>\n",
       "      <td>11.989700</td>\n",
       "      <td>-2.806993</td>\n",
       "      <td>1.466336</td>\n",
       "      <td>1.179448</td>\n",
       "    </tr>\n",
       "  </tbody>\n",
       "</table>\n",
       "<p>1073304 rows × 6 columns</p>\n",
       "</div>"
      ],
      "text/plain": [
       "                0          1          2         3         4         5\n",
       "0        4.435275   8.196063   2.974488  0.014215 -0.039157 -0.016744\n",
       "1        4.186920   8.344455   2.908057  0.005771 -0.004480 -0.003345\n",
       "2        4.544637   8.408659   2.890000  0.007967  0.022412  0.001159\n",
       "3        4.849308   8.411614   2.900692  0.027778 -0.010670 -0.014223\n",
       "4        4.509190   8.118649   2.847298  0.021577 -0.045498 -0.021111\n",
       "...           ...        ...        ...       ...       ...       ...\n",
       "1073299 -2.960246  12.295730   0.481333 -1.810201  0.468483  0.144786\n",
       "1073300 -2.664153  12.327190   1.136023 -2.058823  0.581191  0.243765\n",
       "1073301 -0.431339   7.861165   4.811608 -2.414103  0.741169  0.444502\n",
       "1073302 -1.058845   5.941559   8.917112 -2.653567  1.012182  0.729237\n",
       "1073303  8.001394   9.006391  11.989700 -2.806993  1.466336  1.179448\n",
       "\n",
       "[1073304 rows x 6 columns]"
      ]
     },
     "execution_count": 11,
     "metadata": {},
     "output_type": "execute_result"
    }
   ],
   "source": [
    "X_train"
   ]
  },
  {
   "cell_type": "code",
   "execution_count": null,
   "metadata": {
    "colab": {
     "base_uri": "https://localhost:8080/"
    },
    "id": "m6_jLelrJOZ_",
    "outputId": "76825145-60b9-4c8d-9d1a-194d175d0727"
   },
   "outputs": [],
   "source": [
    "\n",
    "print(len(X_train))\n",
    "print(len(X_test))\n",
    "print(len(Y_test))\n",
    "print(len(Y_train))\n",
    "X_test.to_csv('/content/drive/My Drive/X_test',index=False)\n",
    "X_train.to_csv('/content/drive/My Drive/X_train',index=False)\n",
    "Y_test.to_csv('/content/drive/My Drive/Y_test',index=False)\n",
    "Y_train.to_csv('/content/drive/My Drive/Y_train',index=False)"
   ]
  },
  {
   "cell_type": "code",
   "execution_count": null,
   "metadata": {},
   "outputs": [],
   "source": [
    "diff = len(X_train) - len(X_train)"
   ]
  },
  {
   "cell_type": "code",
   "execution_count": null,
   "metadata": {},
   "outputs": [],
   "source": [
    "Y_train"
   ]
  },
  {
   "cell_type": "code",
   "execution_count": 12,
   "metadata": {
    "id": "BdZcngExJfAk"
   },
   "outputs": [
    {
     "name": "stdout",
     "output_type": "stream",
     "text": [
      "268342\n",
      "0\n",
      "268342\n",
      "0\n",
      "268342\n"
     ]
    }
   ],
   "source": [
    "print(len(X_test))\n",
    "print(len(Y_test))\n",
    "diff = len(X_test) - len(Y_test)\n",
    "print(diff)\n",
    "Y_test = Y_test[:diff]\n",
    "print(len(Y_test))\n",
    "print(len(X_test))"
   ]
  },
  {
   "cell_type": "code",
   "execution_count": 13,
   "metadata": {
    "colab": {
     "base_uri": "https://localhost:8080/"
    },
    "id": "eYd7krJzLDDe",
    "outputId": "6eb47109-76ed-4f2d-e03e-cdf88a77b6d9"
   },
   "outputs": [
    {
     "name": "stdout",
     "output_type": "stream",
     "text": [
      "1073304\n",
      "335413\n"
     ]
    }
   ],
   "source": [
    "from sklearn.ensemble import RandomForestClassifier\n",
    "from sklearn.metrics import accuracy_score, confusion_matrix, confusion_matrix, ConfusionMatrixDisplay\n",
    "from sklearn import svm\n",
    "# Reformatting the training and testing set, and removing the 'Underfined' data\n",
    "X_train = np.array(X_train)\n",
    "Y_train = np.ravel(np.array(Y_train))\n",
    "idx = Y_train>0\n",
    "\n",
    "# X_test = np.array(X_test)\n",
    "# Y_test = np.ravel(np.array(Y_test))\n",
    "# idx = Y_test>0\n",
    "\n",
    "print(len(X_train))\n",
    "# print(len(X_test))\n",
    "# print(len(Y_test))\n",
    "print(len(Y_train))\n"
   ]
  },
  {
   "cell_type": "code",
   "execution_count": 14,
   "metadata": {},
   "outputs": [
    {
     "data": {
      "text/plain": [
       "array([[ 4.435275e+00,  8.196063e+00,  2.974488e+00,  1.421523e-02,\n",
       "        -3.915695e-02, -1.674437e-02],\n",
       "       [ 4.186920e+00,  8.344455e+00,  2.908057e+00,  5.770759e-03,\n",
       "        -4.479538e-03, -3.345031e-03],\n",
       "       [ 4.544637e+00,  8.408659e+00,  2.890000e+00,  7.967429e-03,\n",
       "         2.241187e-02,  1.158524e-03],\n",
       "       ...,\n",
       "       [-4.313392e-01,  7.861165e+00,  4.811608e+00, -2.414103e+00,\n",
       "         7.411691e-01,  4.445024e-01],\n",
       "       [-1.058845e+00,  5.941559e+00,  8.917112e+00, -2.653567e+00,\n",
       "         1.012182e+00,  7.292374e-01],\n",
       "       [ 8.001394e+00,  9.006391e+00,  1.198970e+01, -2.806993e+00,\n",
       "         1.466336e+00,  1.179448e+00]])"
      ]
     },
     "execution_count": 14,
     "metadata": {},
     "output_type": "execute_result"
    }
   ],
   "source": [
    "X_train"
   ]
  },
  {
   "cell_type": "code",
   "execution_count": 26,
   "metadata": {},
   "outputs": [
    {
     "data": {
      "text/plain": [
       "(335413,)"
      ]
     },
     "execution_count": 26,
     "metadata": {},
     "output_type": "execute_result"
    }
   ],
   "source": [
    "Y_train.shape"
   ]
  },
  {
   "cell_type": "code",
   "execution_count": 17,
   "metadata": {},
   "outputs": [],
   "source": [
    "from tensorflow.keras import models\n",
    "from tensorflow.keras.layers import Dense, Dropout, LSTM #Input layer for FFNN\n",
    "from tensorflow.keras.utils import model_to_dot\n",
    "from IPython.display import SVG\n",
    "from tensorflow.keras.utils import to_categorical"
   ]
  },
  {
   "cell_type": "code",
   "execution_count": 21,
   "metadata": {
    "id": "Exxn_aaVOeL1"
   },
   "outputs": [],
   "source": [
    "from sklearn.metrics import confusion_matrix\n",
    "from sklearn.metrics import accuracy_score\n",
    "from sklearn.metrics import classification_report"
   ]
  },
  {
   "cell_type": "code",
   "execution_count": 24,
   "metadata": {
    "id": "6A4RjQMwX9fT"
   },
   "outputs": [],
   "source": [
    "from imblearn.under_sampling import NearMiss #Under Sampling\n",
    "from imblearn.over_sampling import RandomOverSampler\n",
    "oversample = RandomOverSampler(sampling_strategy='minority')\n",
    "#X_train, Y_train = oversample.fit_resample(X_train, Y_train)"
   ]
  },
  {
   "cell_type": "code",
   "execution_count": 29,
   "metadata": {},
   "outputs": [
    {
     "data": {
      "text/plain": [
       "(1073304, 6)"
      ]
     },
     "execution_count": 29,
     "metadata": {},
     "output_type": "execute_result"
    }
   ],
   "source": [
    "X_train1.shape"
   ]
  },
  {
   "cell_type": "code",
   "execution_count": 31,
   "metadata": {},
   "outputs": [
    {
     "data": {
      "text/plain": [
       "(335413, 4)"
      ]
     },
     "execution_count": 31,
     "metadata": {},
     "output_type": "execute_result"
    }
   ],
   "source": [
    "Y_train.shape"
   ]
  },
  {
   "cell_type": "code",
   "execution_count": 27,
   "metadata": {
    "id": "4054WQU_C7Rl"
   },
   "outputs": [],
   "source": [
    "X_train1 = X_train.reshape((X_train.shape[0], 6))\n",
    "X_train1 = X_train1.astype('float32') / 255\n",
    "# X_test1 = X_test.reshape((X_test.shape[0], 6))\n",
    "# X_test1 = X_test1.astype('float32') / 255\n",
    "Y_train = to_categorical(Y_train, 4)\n",
    "# Y_test = to_categorical(Y_test, 4)"
   ]
  },
  {
   "cell_type": "code",
   "execution_count": 32,
   "metadata": {
    "colab": {
     "base_uri": "https://localhost:8080/"
    },
    "id": "gE_en7oep1Wt",
    "outputId": "21c10c12-fa10-45bb-9a83-8d09a05acd7b"
   },
   "outputs": [
    {
     "name": "stderr",
     "output_type": "stream",
     "text": [
      "2023-03-28 22:45:03.648452: I tensorflow/core/common_runtime/pluggable_device/pluggable_device_factory.cc:306] Could not identify NUMA node of platform GPU ID 0, defaulting to 0. Your kernel may not have been built with NUMA support.\n",
      "2023-03-28 22:45:03.649000: I tensorflow/core/common_runtime/pluggable_device/pluggable_device_factory.cc:272] Created TensorFlow device (/job:localhost/replica:0/task:0/device:GPU:0 with 0 MB memory) -> physical PluggableDevice (device: 0, name: METAL, pci bus id: <undefined>)\n"
     ]
    },
    {
     "name": "stdout",
     "output_type": "stream",
     "text": [
      "Metal device set to: Apple M1\n"
     ]
    },
    {
     "ename": "ValueError",
     "evalue": "Data cardinality is ambiguous:\n  x sizes: 1073304\n  y sizes: 335413\nMake sure all arrays contain the same number of samples.",
     "output_type": "error",
     "traceback": [
      "\u001b[0;31m---------------------------------------------------------------------------\u001b[0m",
      "\u001b[0;31mValueError\u001b[0m                                Traceback (most recent call last)",
      "Cell \u001b[0;32mIn[32], line 13\u001b[0m\n\u001b[1;32m     10\u001b[0m model\u001b[38;5;241m.\u001b[39madd(Dense(\u001b[38;5;241m4\u001b[39m, activation\u001b[38;5;241m=\u001b[39m\u001b[38;5;124m'\u001b[39m\u001b[38;5;124msoftmax\u001b[39m\u001b[38;5;124m'\u001b[39m))\n\u001b[1;32m     11\u001b[0m model\u001b[38;5;241m.\u001b[39mcompile(optimizer\u001b[38;5;241m=\u001b[39m\u001b[38;5;124m'\u001b[39m\u001b[38;5;124madam\u001b[39m\u001b[38;5;124m'\u001b[39m,loss\u001b[38;5;241m=\u001b[39m\u001b[38;5;124m'\u001b[39m\u001b[38;5;124mcategorical_crossentropy\u001b[39m\u001b[38;5;124m'\u001b[39m, \n\u001b[1;32m     12\u001b[0m               metrics\u001b[38;5;241m=\u001b[39m[\u001b[38;5;124m'\u001b[39m\u001b[38;5;124maccuracy\u001b[39m\u001b[38;5;124m'\u001b[39m])\n\u001b[0;32m---> 13\u001b[0m history \u001b[38;5;241m=\u001b[39m \u001b[43mmodel\u001b[49m\u001b[38;5;241;43m.\u001b[39;49m\u001b[43mfit\u001b[49m\u001b[43m(\u001b[49m\u001b[43mX_train1\u001b[49m\u001b[43m,\u001b[49m\u001b[43m \u001b[49m\u001b[43mY_train\u001b[49m\u001b[43m,\u001b[49m\u001b[43m \u001b[49m\u001b[43mbatch_size\u001b[49m\u001b[38;5;241;43m=\u001b[39;49m\u001b[38;5;241;43m128\u001b[39;49m\u001b[43m,\u001b[49m\u001b[43m \u001b[49m\u001b[43mepochs\u001b[49m\u001b[38;5;241;43m=\u001b[39;49m\u001b[38;5;241;43m15\u001b[39;49m\u001b[43m,\u001b[49m\u001b[43m \u001b[49m\u001b[43mverbose\u001b[49m\u001b[38;5;241;43m=\u001b[39;49m\u001b[38;5;241;43m1\u001b[39;49m\u001b[43m)\u001b[49m\n",
      "File \u001b[0;32m~/miniconda3/lib/python3.10/site-packages/keras/utils/traceback_utils.py:70\u001b[0m, in \u001b[0;36mfilter_traceback.<locals>.error_handler\u001b[0;34m(*args, **kwargs)\u001b[0m\n\u001b[1;32m     67\u001b[0m     filtered_tb \u001b[38;5;241m=\u001b[39m _process_traceback_frames(e\u001b[38;5;241m.\u001b[39m__traceback__)\n\u001b[1;32m     68\u001b[0m     \u001b[38;5;66;03m# To get the full stack trace, call:\u001b[39;00m\n\u001b[1;32m     69\u001b[0m     \u001b[38;5;66;03m# `tf.debugging.disable_traceback_filtering()`\u001b[39;00m\n\u001b[0;32m---> 70\u001b[0m     \u001b[38;5;28;01mraise\u001b[39;00m e\u001b[38;5;241m.\u001b[39mwith_traceback(filtered_tb) \u001b[38;5;28;01mfrom\u001b[39;00m \u001b[38;5;28mNone\u001b[39m\n\u001b[1;32m     71\u001b[0m \u001b[38;5;28;01mfinally\u001b[39;00m:\n\u001b[1;32m     72\u001b[0m     \u001b[38;5;28;01mdel\u001b[39;00m filtered_tb\n",
      "File \u001b[0;32m~/miniconda3/lib/python3.10/site-packages/keras/engine/data_adapter.py:1848\u001b[0m, in \u001b[0;36m_check_data_cardinality\u001b[0;34m(data)\u001b[0m\n\u001b[1;32m   1841\u001b[0m     msg \u001b[38;5;241m+\u001b[39m\u001b[38;5;241m=\u001b[39m \u001b[38;5;124m\"\u001b[39m\u001b[38;5;124m  \u001b[39m\u001b[38;5;132;01m{}\u001b[39;00m\u001b[38;5;124m sizes: \u001b[39m\u001b[38;5;132;01m{}\u001b[39;00m\u001b[38;5;130;01m\\n\u001b[39;00m\u001b[38;5;124m\"\u001b[39m\u001b[38;5;241m.\u001b[39mformat(\n\u001b[1;32m   1842\u001b[0m         label,\n\u001b[1;32m   1843\u001b[0m         \u001b[38;5;124m\"\u001b[39m\u001b[38;5;124m, \u001b[39m\u001b[38;5;124m\"\u001b[39m\u001b[38;5;241m.\u001b[39mjoin(\n\u001b[1;32m   1844\u001b[0m             \u001b[38;5;28mstr\u001b[39m(i\u001b[38;5;241m.\u001b[39mshape[\u001b[38;5;241m0\u001b[39m]) \u001b[38;5;28;01mfor\u001b[39;00m i \u001b[38;5;129;01min\u001b[39;00m tf\u001b[38;5;241m.\u001b[39mnest\u001b[38;5;241m.\u001b[39mflatten(single_data)\n\u001b[1;32m   1845\u001b[0m         ),\n\u001b[1;32m   1846\u001b[0m     )\n\u001b[1;32m   1847\u001b[0m msg \u001b[38;5;241m+\u001b[39m\u001b[38;5;241m=\u001b[39m \u001b[38;5;124m\"\u001b[39m\u001b[38;5;124mMake sure all arrays contain the same number of samples.\u001b[39m\u001b[38;5;124m\"\u001b[39m\n\u001b[0;32m-> 1848\u001b[0m \u001b[38;5;28;01mraise\u001b[39;00m \u001b[38;5;167;01mValueError\u001b[39;00m(msg)\n",
      "\u001b[0;31mValueError\u001b[0m: Data cardinality is ambiguous:\n  x sizes: 1073304\n  y sizes: 335413\nMake sure all arrays contain the same number of samples."
     ]
    }
   ],
   "source": [
    "NUM_ROWS = 1073304\n",
    "NUM_COLS = 6\n",
    "model = models.Sequential()\n",
    "model.add(Dense(100, activation='relu', input_shape=(6,)))\n",
    "#model.add(Dropout(0.5))\n",
    "model.add(Dense(100, activation='relu'))\n",
    "#model.add(Dropout(0.25))\n",
    "model.add(Dense(100, activation='relu'))\n",
    "#model.add(Dropout(0.25))\n",
    "model.add(Dense(4, activation='softmax'))\n",
    "model.compile(optimizer='adam',loss='categorical_crossentropy', \n",
    "              metrics=['accuracy'])\n",
    "history = model.fit(X_train1, Y_train, batch_size=128, epochs=15, verbose=1)"
   ]
  },
  {
   "cell_type": "code",
   "execution_count": null,
   "metadata": {
    "id": "qGiewwti6tO6"
   },
   "outputs": [],
   "source": [
    "y=pd.read_csv('/content/drive/MyDrive/ECE542_sp2022_Project_TerrainRecognition/TestData/subject_009_01__y_time.csv')"
   ]
  },
  {
   "cell_type": "code",
   "execution_count": null,
   "metadata": {
    "id": "WTTxqHMO9V8w"
   },
   "outputs": [],
   "source": [
    "X_test_9 = '/content//drive/My Drive/projC_data/TestData/subject_009_01__x.csv'\n",
    "X_test_10 = '/content//drive/My Drive/projC_data/TestData/subject_010_01__x.csv'\n",
    "X_test_11 = '/content//drive/My Drive/projC_data/TestData/subject_011_01__x.csv'\n",
    "X_test_12 = '/content//drive/My Drive/projC_data/TestData/subject_012_01__x.csv'\n",
    "\n",
    "X_test_9 = pd.read_csv(X_test_9, header=None)\n",
    "X_test_10 = pd.read_csv(X_test_10, header=None)\n",
    "X_test_11 = pd.read_csv(X_test_11, header=None)\n",
    "X_test_12 = pd.read_csv(X_test_12, header=None)\n",
    "\n",
    "X_test_9 = np.array(X_test_9)\n",
    "X_test_10 = np.array(X_test_10)\n",
    "X_test_11 = np.array(X_test_11)\n",
    "X_test_12 = np.array(X_test_12)\n",
    "X_test_9 = X_test_9.reshape((X_test_9.shape[0], 6))\n",
    "X_test_9 = X_test_9.astype('float32') / 255\n",
    "X_test_10 = X_test_10.reshape((X_test_10.shape[0], 6))\n",
    "X_test_10 = X_test_10.astype('float32') / 255\n",
    "X_test_11 = X_test_11.reshape((X_test_11.shape[0], 6))\n",
    "X_test_11 = X_test_11.astype('float32') / 255\n",
    "X_test_12 = X_test_12.reshape((X_test_12.shape[0], 6))\n",
    "X_test_12 = X_test_12.astype('float32') / 255\n",
    "\n",
    "Y_test_9 = model.predict(X_test_9)\n",
    "Y_test_9 = np.argmax(Y_test_9,1)\n",
    "Y_test_10 = model.predict(X_test_10)\n",
    "Y_test_10 = np.argmax(Y_test_10,1)\n",
    "Y_test_11 = model.predict(X_test_11)\n",
    "Y_test_11 = np.argmax(Y_test_11,1)\n",
    "Y_test_12 = model.predict(X_test_12)\n",
    "Y_test_12 = np.argmax(Y_test_12,1)\n",
    "\n",
    "Y_test1_9 = []\n",
    "Y_test1_10 = []\n",
    "Y_test1_11 = []\n",
    "Y_test1_12 = []\n",
    "\n",
    "for i in range(0,len(Y_test_9),4):\n",
    "  Y_test1_9.append(Y_test_9[i])\n",
    "# print(len(Y_test1_9))\n",
    "\n",
    "for i in range(0,len(Y_test_10),4):\n",
    "  Y_test1_10.append(Y_test_10[i])\n",
    "# print(len(Y_test1_10))\n",
    "\n",
    "for i in range(0,len(Y_test_11),4):\n",
    "  Y_test1_11.append(Y_test_11[i])\n",
    "# print(len(Y_test1_11))\n",
    "\n",
    "for i in range(0,len(Y_test_12),4):\n",
    "  Y_test1_12.append(Y_test_12[i])\n",
    "# print(len(Y_test1_12))"
   ]
  },
  {
   "cell_type": "code",
   "execution_count": null,
   "metadata": {
    "colab": {
     "base_uri": "https://localhost:8080/",
     "height": 480
    },
    "id": "Vn6jqTDPJ-yl",
    "outputId": "5350f677-504b-4564-8eb5-76617fb0e112"
   },
   "outputs": [],
   "source": [
    "Ytime_test_9 = '/content//drive/My Drive/projC_data/TestData/subject_009_01__y_time.csv'\n",
    "Ytime_test_10 = '/content//drive/My Drive/projC_data/TestData/subject_010_01__y_time.csv'\n",
    "Ytime_test_11 = '/content//drive/My Drive/projC_data/TestData/subject_011_01__y_time.csv'\n",
    "Ytime_test_12 = '/content//drive/My Drive/projC_data/TestData/subject_012_01__y_time.csv'\n",
    "\n",
    "Ytime_test_9 = pd.read_csv(Ytime_test_9,header=None)\n",
    "Ytime_test_10 = pd.read_csv(Ytime_test_10,header=None)\n",
    "Ytime_test_11 = pd.read_csv(Ytime_test_11,header=None)\n",
    "Ytime_test_12 = pd.read_csv(Ytime_test_12,header=None)\n",
    "\n",
    "Y_test1_9 = Y_test1_9[:len(Ytime_test_9)]\n",
    "print(Y_test1_10)\n",
    "Y_test1_10 = Y_test1_10[:len(Ytime_test_10)]\n",
    "print(Y_test1_10)\n",
    "Y_test1_11 = Y_test1_11[:len(Ytime_test_11)]\n",
    "print(Y_test1_11)\n",
    "Y_test1_12 = Y_test1_12[:len(Ytime_test_12)]\n",
    "print(Y_test1_12)\n",
    "\n",
    "Y_test1_9 = pd.DataFrame(Y_test1_9)\n",
    "Y_test1_10 = pd.DataFrame(Y_test1_10)\n",
    "Y_test1_11 = pd.DataFrame(Y_test1_11)\n",
    "Y_test1_12 = pd.DataFrame(Y_test1_12)"
   ]
  },
  {
   "cell_type": "code",
   "execution_count": null,
   "metadata": {
    "id": "B3FuT66XRmro"
   },
   "outputs": [],
   "source": [
    "Y_test1_9.to_csv('/content//drive/My Drive/projC_data/projC_validation/subject_009_01__y.csv',index=False, header=None)\n",
    "Y_test1_10.to_csv('/content//drive/My Drive/projC_data/projC_validation/subject_010_01__y.csv',index=False, header=None)\n",
    "Y_test1_11.to_csv('/content//drive/My Drive/projC_data/projC_validation/subject_011_01__y.csv',index=False, header=None)\n",
    "Y_test1_12.to_csv('/content//drive/My Drive/projC_data/projC_validation/subject_012_01__y.csv',index=False, header=None)"
   ]
  }
 ],
 "metadata": {
  "accelerator": "GPU",
  "colab": {
   "provenance": []
  },
  "kernelspec": {
   "display_name": "Python 3 (ipykernel)",
   "language": "python",
   "name": "python3"
  },
  "language_info": {
   "codemirror_mode": {
    "name": "ipython",
    "version": 3
   },
   "file_extension": ".py",
   "mimetype": "text/x-python",
   "name": "python",
   "nbconvert_exporter": "python",
   "pygments_lexer": "ipython3",
   "version": "3.10.9"
  }
 },
 "nbformat": 4,
 "nbformat_minor": 4
}
