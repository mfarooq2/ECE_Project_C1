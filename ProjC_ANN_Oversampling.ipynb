{
 "cells": [
  {
   "cell_type": "code",
   "execution_count": 1,
   "metadata": {
    "id": "j8v6YpUJ5hLZ"
   },
   "outputs": [],
   "source": [
    "import pandas as pd\n",
    "import os \n",
    "import shutil"
   ]
  },
  {
   "cell_type": "code",
   "execution_count": null,
   "metadata": {},
   "outputs": [],
   "source": [
    "!pwd"
   ]
  },
  {
   "cell_type": "code",
   "execution_count": 2,
   "metadata": {
    "id": "vIs5ZNnB5R-O"
   },
   "outputs": [],
   "source": [
    "def parsecsv(x_path, x_time_path, y_path, y_time_path):\n",
    "  \n",
    "  path = '/Users/mfarooq2/ECE_Project_C1'\n",
    "\n",
    "  x_time = pd.read_csv(x_time_path, header=None)\n",
    "  x = pd.read_csv(x_path, header=None)\n",
    "  y_time = pd.read_csv(y_time_path, header=None)\n",
    "  y = pd.read_csv(y_path, header=None)\n",
    "\n",
    "  df_x_time = pd.DataFrame(x_time)\n",
    "  df_x = pd.DataFrame(x)\n",
    "  \n",
    "  df_y = pd.DataFrame(y)\n",
    "  df_y_time = pd.DataFrame(y_time)\n",
    "  df_y.insert(loc=0, column='Time', value=df_y_time)\n",
    "\n",
    "  # Merge all the dataframes\n",
    "  df = df_y.append(df_y).append(df_y).append(df_y)\n",
    "\n",
    "  df = df.sort_values(by=['Time'])\n",
    "  df = df.drop('Time', 1)\n",
    "\n",
    "  df.to_csv(path + str(os.path.split(y_path)[1]), index = False)\n",
    "  shutil.copyfile(x_path, path + str(os.path.split(x_path)[1]))\n",
    "  shutil.copyfile(x_time_path, path + str(os.path.split(x_time_path)[1]))"
   ]
  },
  {
   "cell_type": "code",
   "execution_count": 3,
   "metadata": {},
   "outputs": [
    {
     "name": "stderr",
     "output_type": "stream",
     "text": [
      "/var/folders/mx/jdbjc86d0wv_f5wt72bxjm_w0000jp/T/ipykernel_17998/3429968416.py:18: FutureWarning: The frame.append method is deprecated and will be removed from pandas in a future version. Use pandas.concat instead.\n",
      "  df = df_y.append(df_y).append(df_y).append(df_y)\n",
      "/var/folders/mx/jdbjc86d0wv_f5wt72bxjm_w0000jp/T/ipykernel_17998/3429968416.py:18: FutureWarning: The frame.append method is deprecated and will be removed from pandas in a future version. Use pandas.concat instead.\n",
      "  df = df_y.append(df_y).append(df_y).append(df_y)\n",
      "/var/folders/mx/jdbjc86d0wv_f5wt72bxjm_w0000jp/T/ipykernel_17998/3429968416.py:21: FutureWarning: In a future version of pandas all arguments of DataFrame.drop except for the argument 'labels' will be keyword-only.\n",
      "  df = df.drop('Time', 1)\n",
      "/var/folders/mx/jdbjc86d0wv_f5wt72bxjm_w0000jp/T/ipykernel_17998/3429968416.py:18: FutureWarning: The frame.append method is deprecated and will be removed from pandas in a future version. Use pandas.concat instead.\n",
      "  df = df_y.append(df_y).append(df_y).append(df_y)\n",
      "/var/folders/mx/jdbjc86d0wv_f5wt72bxjm_w0000jp/T/ipykernel_17998/3429968416.py:18: FutureWarning: The frame.append method is deprecated and will be removed from pandas in a future version. Use pandas.concat instead.\n",
      "  df = df_y.append(df_y).append(df_y).append(df_y)\n",
      "/var/folders/mx/jdbjc86d0wv_f5wt72bxjm_w0000jp/T/ipykernel_17998/3429968416.py:21: FutureWarning: In a future version of pandas all arguments of DataFrame.drop except for the argument 'labels' will be keyword-only.\n",
      "  df = df.drop('Time', 1)\n",
      "/var/folders/mx/jdbjc86d0wv_f5wt72bxjm_w0000jp/T/ipykernel_17998/3429968416.py:18: FutureWarning: The frame.append method is deprecated and will be removed from pandas in a future version. Use pandas.concat instead.\n",
      "  df = df_y.append(df_y).append(df_y).append(df_y)\n",
      "/var/folders/mx/jdbjc86d0wv_f5wt72bxjm_w0000jp/T/ipykernel_17998/3429968416.py:18: FutureWarning: The frame.append method is deprecated and will be removed from pandas in a future version. Use pandas.concat instead.\n",
      "  df = df_y.append(df_y).append(df_y).append(df_y)\n",
      "/var/folders/mx/jdbjc86d0wv_f5wt72bxjm_w0000jp/T/ipykernel_17998/3429968416.py:21: FutureWarning: In a future version of pandas all arguments of DataFrame.drop except for the argument 'labels' will be keyword-only.\n",
      "  df = df.drop('Time', 1)\n",
      "/var/folders/mx/jdbjc86d0wv_f5wt72bxjm_w0000jp/T/ipykernel_17998/3429968416.py:18: FutureWarning: The frame.append method is deprecated and will be removed from pandas in a future version. Use pandas.concat instead.\n",
      "  df = df_y.append(df_y).append(df_y).append(df_y)\n",
      "/var/folders/mx/jdbjc86d0wv_f5wt72bxjm_w0000jp/T/ipykernel_17998/3429968416.py:18: FutureWarning: The frame.append method is deprecated and will be removed from pandas in a future version. Use pandas.concat instead.\n",
      "  df = df_y.append(df_y).append(df_y).append(df_y)\n",
      "/var/folders/mx/jdbjc86d0wv_f5wt72bxjm_w0000jp/T/ipykernel_17998/3429968416.py:21: FutureWarning: In a future version of pandas all arguments of DataFrame.drop except for the argument 'labels' will be keyword-only.\n",
      "  df = df.drop('Time', 1)\n",
      "/var/folders/mx/jdbjc86d0wv_f5wt72bxjm_w0000jp/T/ipykernel_17998/3429968416.py:18: FutureWarning: The frame.append method is deprecated and will be removed from pandas in a future version. Use pandas.concat instead.\n",
      "  df = df_y.append(df_y).append(df_y).append(df_y)\n",
      "/var/folders/mx/jdbjc86d0wv_f5wt72bxjm_w0000jp/T/ipykernel_17998/3429968416.py:18: FutureWarning: The frame.append method is deprecated and will be removed from pandas in a future version. Use pandas.concat instead.\n",
      "  df = df_y.append(df_y).append(df_y).append(df_y)\n",
      "/var/folders/mx/jdbjc86d0wv_f5wt72bxjm_w0000jp/T/ipykernel_17998/3429968416.py:21: FutureWarning: In a future version of pandas all arguments of DataFrame.drop except for the argument 'labels' will be keyword-only.\n",
      "  df = df.drop('Time', 1)\n",
      "/var/folders/mx/jdbjc86d0wv_f5wt72bxjm_w0000jp/T/ipykernel_17998/3429968416.py:18: FutureWarning: The frame.append method is deprecated and will be removed from pandas in a future version. Use pandas.concat instead.\n",
      "  df = df_y.append(df_y).append(df_y).append(df_y)\n",
      "/var/folders/mx/jdbjc86d0wv_f5wt72bxjm_w0000jp/T/ipykernel_17998/3429968416.py:18: FutureWarning: The frame.append method is deprecated and will be removed from pandas in a future version. Use pandas.concat instead.\n",
      "  df = df_y.append(df_y).append(df_y).append(df_y)\n",
      "/var/folders/mx/jdbjc86d0wv_f5wt72bxjm_w0000jp/T/ipykernel_17998/3429968416.py:21: FutureWarning: In a future version of pandas all arguments of DataFrame.drop except for the argument 'labels' will be keyword-only.\n",
      "  df = df.drop('Time', 1)\n",
      "/var/folders/mx/jdbjc86d0wv_f5wt72bxjm_w0000jp/T/ipykernel_17998/3429968416.py:18: FutureWarning: The frame.append method is deprecated and will be removed from pandas in a future version. Use pandas.concat instead.\n",
      "  df = df_y.append(df_y).append(df_y).append(df_y)\n",
      "/var/folders/mx/jdbjc86d0wv_f5wt72bxjm_w0000jp/T/ipykernel_17998/3429968416.py:18: FutureWarning: The frame.append method is deprecated and will be removed from pandas in a future version. Use pandas.concat instead.\n",
      "  df = df_y.append(df_y).append(df_y).append(df_y)\n",
      "/var/folders/mx/jdbjc86d0wv_f5wt72bxjm_w0000jp/T/ipykernel_17998/3429968416.py:21: FutureWarning: In a future version of pandas all arguments of DataFrame.drop except for the argument 'labels' will be keyword-only.\n",
      "  df = df.drop('Time', 1)\n",
      "/var/folders/mx/jdbjc86d0wv_f5wt72bxjm_w0000jp/T/ipykernel_17998/3429968416.py:18: FutureWarning: The frame.append method is deprecated and will be removed from pandas in a future version. Use pandas.concat instead.\n",
      "  df = df_y.append(df_y).append(df_y).append(df_y)\n",
      "/var/folders/mx/jdbjc86d0wv_f5wt72bxjm_w0000jp/T/ipykernel_17998/3429968416.py:18: FutureWarning: The frame.append method is deprecated and will be removed from pandas in a future version. Use pandas.concat instead.\n",
      "  df = df_y.append(df_y).append(df_y).append(df_y)\n",
      "/var/folders/mx/jdbjc86d0wv_f5wt72bxjm_w0000jp/T/ipykernel_17998/3429968416.py:21: FutureWarning: In a future version of pandas all arguments of DataFrame.drop except for the argument 'labels' will be keyword-only.\n",
      "  df = df.drop('Time', 1)\n",
      "/var/folders/mx/jdbjc86d0wv_f5wt72bxjm_w0000jp/T/ipykernel_17998/3429968416.py:18: FutureWarning: The frame.append method is deprecated and will be removed from pandas in a future version. Use pandas.concat instead.\n",
      "  df = df_y.append(df_y).append(df_y).append(df_y)\n",
      "/var/folders/mx/jdbjc86d0wv_f5wt72bxjm_w0000jp/T/ipykernel_17998/3429968416.py:18: FutureWarning: The frame.append method is deprecated and will be removed from pandas in a future version. Use pandas.concat instead.\n",
      "  df = df_y.append(df_y).append(df_y).append(df_y)\n",
      "/var/folders/mx/jdbjc86d0wv_f5wt72bxjm_w0000jp/T/ipykernel_17998/3429968416.py:21: FutureWarning: In a future version of pandas all arguments of DataFrame.drop except for the argument 'labels' will be keyword-only.\n",
      "  df = df.drop('Time', 1)\n",
      "/var/folders/mx/jdbjc86d0wv_f5wt72bxjm_w0000jp/T/ipykernel_17998/3429968416.py:18: FutureWarning: The frame.append method is deprecated and will be removed from pandas in a future version. Use pandas.concat instead.\n",
      "  df = df_y.append(df_y).append(df_y).append(df_y)\n",
      "/var/folders/mx/jdbjc86d0wv_f5wt72bxjm_w0000jp/T/ipykernel_17998/3429968416.py:18: FutureWarning: The frame.append method is deprecated and will be removed from pandas in a future version. Use pandas.concat instead.\n",
      "  df = df_y.append(df_y).append(df_y).append(df_y)\n",
      "/var/folders/mx/jdbjc86d0wv_f5wt72bxjm_w0000jp/T/ipykernel_17998/3429968416.py:21: FutureWarning: In a future version of pandas all arguments of DataFrame.drop except for the argument 'labels' will be keyword-only.\n",
      "  df = df.drop('Time', 1)\n",
      "/var/folders/mx/jdbjc86d0wv_f5wt72bxjm_w0000jp/T/ipykernel_17998/3429968416.py:18: FutureWarning: The frame.append method is deprecated and will be removed from pandas in a future version. Use pandas.concat instead.\n",
      "  df = df_y.append(df_y).append(df_y).append(df_y)\n",
      "/var/folders/mx/jdbjc86d0wv_f5wt72bxjm_w0000jp/T/ipykernel_17998/3429968416.py:18: FutureWarning: The frame.append method is deprecated and will be removed from pandas in a future version. Use pandas.concat instead.\n",
      "  df = df_y.append(df_y).append(df_y).append(df_y)\n",
      "/var/folders/mx/jdbjc86d0wv_f5wt72bxjm_w0000jp/T/ipykernel_17998/3429968416.py:21: FutureWarning: In a future version of pandas all arguments of DataFrame.drop except for the argument 'labels' will be keyword-only.\n",
      "  df = df.drop('Time', 1)\n",
      "/var/folders/mx/jdbjc86d0wv_f5wt72bxjm_w0000jp/T/ipykernel_17998/3429968416.py:18: FutureWarning: The frame.append method is deprecated and will be removed from pandas in a future version. Use pandas.concat instead.\n",
      "  df = df_y.append(df_y).append(df_y).append(df_y)\n",
      "/var/folders/mx/jdbjc86d0wv_f5wt72bxjm_w0000jp/T/ipykernel_17998/3429968416.py:18: FutureWarning: The frame.append method is deprecated and will be removed from pandas in a future version. Use pandas.concat instead.\n",
      "  df = df_y.append(df_y).append(df_y).append(df_y)\n",
      "/var/folders/mx/jdbjc86d0wv_f5wt72bxjm_w0000jp/T/ipykernel_17998/3429968416.py:21: FutureWarning: In a future version of pandas all arguments of DataFrame.drop except for the argument 'labels' will be keyword-only.\n",
      "  df = df.drop('Time', 1)\n",
      "/var/folders/mx/jdbjc86d0wv_f5wt72bxjm_w0000jp/T/ipykernel_17998/3429968416.py:18: FutureWarning: The frame.append method is deprecated and will be removed from pandas in a future version. Use pandas.concat instead.\n",
      "  df = df_y.append(df_y).append(df_y).append(df_y)\n",
      "/var/folders/mx/jdbjc86d0wv_f5wt72bxjm_w0000jp/T/ipykernel_17998/3429968416.py:18: FutureWarning: The frame.append method is deprecated and will be removed from pandas in a future version. Use pandas.concat instead.\n",
      "  df = df_y.append(df_y).append(df_y).append(df_y)\n",
      "/var/folders/mx/jdbjc86d0wv_f5wt72bxjm_w0000jp/T/ipykernel_17998/3429968416.py:21: FutureWarning: In a future version of pandas all arguments of DataFrame.drop except for the argument 'labels' will be keyword-only.\n",
      "  df = df.drop('Time', 1)\n",
      "/var/folders/mx/jdbjc86d0wv_f5wt72bxjm_w0000jp/T/ipykernel_17998/3429968416.py:18: FutureWarning: The frame.append method is deprecated and will be removed from pandas in a future version. Use pandas.concat instead.\n",
      "  df = df_y.append(df_y).append(df_y).append(df_y)\n",
      "/var/folders/mx/jdbjc86d0wv_f5wt72bxjm_w0000jp/T/ipykernel_17998/3429968416.py:18: FutureWarning: The frame.append method is deprecated and will be removed from pandas in a future version. Use pandas.concat instead.\n",
      "  df = df_y.append(df_y).append(df_y).append(df_y)\n",
      "/var/folders/mx/jdbjc86d0wv_f5wt72bxjm_w0000jp/T/ipykernel_17998/3429968416.py:21: FutureWarning: In a future version of pandas all arguments of DataFrame.drop except for the argument 'labels' will be keyword-only.\n",
      "  df = df.drop('Time', 1)\n"
     ]
    },
    {
     "name": "stdout",
     "output_type": "stream",
     "text": [
      "[Errno 2] No such file or directory: '/Users/mfarooq2/ECE_Project_C1/TrainingData/subject_002_06__x_time.csv'\n",
      "2\n",
      "6\n",
      "[Errno 2] No such file or directory: '/Users/mfarooq2/ECE_Project_C1/TrainingData/subject_003_04__x_time.csv'\n",
      "3\n",
      "4\n"
     ]
    },
    {
     "name": "stderr",
     "output_type": "stream",
     "text": [
      "/var/folders/mx/jdbjc86d0wv_f5wt72bxjm_w0000jp/T/ipykernel_17998/3429968416.py:18: FutureWarning: The frame.append method is deprecated and will be removed from pandas in a future version. Use pandas.concat instead.\n",
      "  df = df_y.append(df_y).append(df_y).append(df_y)\n",
      "/var/folders/mx/jdbjc86d0wv_f5wt72bxjm_w0000jp/T/ipykernel_17998/3429968416.py:18: FutureWarning: The frame.append method is deprecated and will be removed from pandas in a future version. Use pandas.concat instead.\n",
      "  df = df_y.append(df_y).append(df_y).append(df_y)\n",
      "/var/folders/mx/jdbjc86d0wv_f5wt72bxjm_w0000jp/T/ipykernel_17998/3429968416.py:21: FutureWarning: In a future version of pandas all arguments of DataFrame.drop except for the argument 'labels' will be keyword-only.\n",
      "  df = df.drop('Time', 1)\n",
      "/var/folders/mx/jdbjc86d0wv_f5wt72bxjm_w0000jp/T/ipykernel_17998/3429968416.py:18: FutureWarning: The frame.append method is deprecated and will be removed from pandas in a future version. Use pandas.concat instead.\n",
      "  df = df_y.append(df_y).append(df_y).append(df_y)\n",
      "/var/folders/mx/jdbjc86d0wv_f5wt72bxjm_w0000jp/T/ipykernel_17998/3429968416.py:18: FutureWarning: The frame.append method is deprecated and will be removed from pandas in a future version. Use pandas.concat instead.\n",
      "  df = df_y.append(df_y).append(df_y).append(df_y)\n",
      "/var/folders/mx/jdbjc86d0wv_f5wt72bxjm_w0000jp/T/ipykernel_17998/3429968416.py:21: FutureWarning: In a future version of pandas all arguments of DataFrame.drop except for the argument 'labels' will be keyword-only.\n",
      "  df = df.drop('Time', 1)\n",
      "/var/folders/mx/jdbjc86d0wv_f5wt72bxjm_w0000jp/T/ipykernel_17998/3429968416.py:18: FutureWarning: The frame.append method is deprecated and will be removed from pandas in a future version. Use pandas.concat instead.\n",
      "  df = df_y.append(df_y).append(df_y).append(df_y)\n",
      "/var/folders/mx/jdbjc86d0wv_f5wt72bxjm_w0000jp/T/ipykernel_17998/3429968416.py:18: FutureWarning: The frame.append method is deprecated and will be removed from pandas in a future version. Use pandas.concat instead.\n",
      "  df = df_y.append(df_y).append(df_y).append(df_y)\n",
      "/var/folders/mx/jdbjc86d0wv_f5wt72bxjm_w0000jp/T/ipykernel_17998/3429968416.py:21: FutureWarning: In a future version of pandas all arguments of DataFrame.drop except for the argument 'labels' will be keyword-only.\n",
      "  df = df.drop('Time', 1)\n",
      "/var/folders/mx/jdbjc86d0wv_f5wt72bxjm_w0000jp/T/ipykernel_17998/3429968416.py:18: FutureWarning: The frame.append method is deprecated and will be removed from pandas in a future version. Use pandas.concat instead.\n",
      "  df = df_y.append(df_y).append(df_y).append(df_y)\n",
      "/var/folders/mx/jdbjc86d0wv_f5wt72bxjm_w0000jp/T/ipykernel_17998/3429968416.py:18: FutureWarning: The frame.append method is deprecated and will be removed from pandas in a future version. Use pandas.concat instead.\n",
      "  df = df_y.append(df_y).append(df_y).append(df_y)\n",
      "/var/folders/mx/jdbjc86d0wv_f5wt72bxjm_w0000jp/T/ipykernel_17998/3429968416.py:21: FutureWarning: In a future version of pandas all arguments of DataFrame.drop except for the argument 'labels' will be keyword-only.\n",
      "  df = df.drop('Time', 1)\n",
      "/var/folders/mx/jdbjc86d0wv_f5wt72bxjm_w0000jp/T/ipykernel_17998/3429968416.py:18: FutureWarning: The frame.append method is deprecated and will be removed from pandas in a future version. Use pandas.concat instead.\n",
      "  df = df_y.append(df_y).append(df_y).append(df_y)\n",
      "/var/folders/mx/jdbjc86d0wv_f5wt72bxjm_w0000jp/T/ipykernel_17998/3429968416.py:18: FutureWarning: The frame.append method is deprecated and will be removed from pandas in a future version. Use pandas.concat instead.\n",
      "  df = df_y.append(df_y).append(df_y).append(df_y)\n",
      "/var/folders/mx/jdbjc86d0wv_f5wt72bxjm_w0000jp/T/ipykernel_17998/3429968416.py:21: FutureWarning: In a future version of pandas all arguments of DataFrame.drop except for the argument 'labels' will be keyword-only.\n",
      "  df = df.drop('Time', 1)\n"
     ]
    },
    {
     "name": "stdout",
     "output_type": "stream",
     "text": [
      "[Errno 2] No such file or directory: '/Users/mfarooq2/ECE_Project_C1/TrainingData/subject_004_03__x_time.csv'\n",
      "4\n",
      "3\n",
      "[Errno 2] No such file or directory: '/Users/mfarooq2/ECE_Project_C1/TrainingData/subject_005_04__x_time.csv'\n",
      "5\n",
      "4\n"
     ]
    },
    {
     "name": "stderr",
     "output_type": "stream",
     "text": [
      "/var/folders/mx/jdbjc86d0wv_f5wt72bxjm_w0000jp/T/ipykernel_17998/3429968416.py:18: FutureWarning: The frame.append method is deprecated and will be removed from pandas in a future version. Use pandas.concat instead.\n",
      "  df = df_y.append(df_y).append(df_y).append(df_y)\n",
      "/var/folders/mx/jdbjc86d0wv_f5wt72bxjm_w0000jp/T/ipykernel_17998/3429968416.py:18: FutureWarning: The frame.append method is deprecated and will be removed from pandas in a future version. Use pandas.concat instead.\n",
      "  df = df_y.append(df_y).append(df_y).append(df_y)\n",
      "/var/folders/mx/jdbjc86d0wv_f5wt72bxjm_w0000jp/T/ipykernel_17998/3429968416.py:21: FutureWarning: In a future version of pandas all arguments of DataFrame.drop except for the argument 'labels' will be keyword-only.\n",
      "  df = df.drop('Time', 1)\n",
      "/var/folders/mx/jdbjc86d0wv_f5wt72bxjm_w0000jp/T/ipykernel_17998/3429968416.py:18: FutureWarning: The frame.append method is deprecated and will be removed from pandas in a future version. Use pandas.concat instead.\n",
      "  df = df_y.append(df_y).append(df_y).append(df_y)\n",
      "/var/folders/mx/jdbjc86d0wv_f5wt72bxjm_w0000jp/T/ipykernel_17998/3429968416.py:18: FutureWarning: The frame.append method is deprecated and will be removed from pandas in a future version. Use pandas.concat instead.\n",
      "  df = df_y.append(df_y).append(df_y).append(df_y)\n",
      "/var/folders/mx/jdbjc86d0wv_f5wt72bxjm_w0000jp/T/ipykernel_17998/3429968416.py:21: FutureWarning: In a future version of pandas all arguments of DataFrame.drop except for the argument 'labels' will be keyword-only.\n",
      "  df = df.drop('Time', 1)\n",
      "/var/folders/mx/jdbjc86d0wv_f5wt72bxjm_w0000jp/T/ipykernel_17998/3429968416.py:18: FutureWarning: The frame.append method is deprecated and will be removed from pandas in a future version. Use pandas.concat instead.\n",
      "  df = df_y.append(df_y).append(df_y).append(df_y)\n",
      "/var/folders/mx/jdbjc86d0wv_f5wt72bxjm_w0000jp/T/ipykernel_17998/3429968416.py:18: FutureWarning: The frame.append method is deprecated and will be removed from pandas in a future version. Use pandas.concat instead.\n",
      "  df = df_y.append(df_y).append(df_y).append(df_y)\n",
      "/var/folders/mx/jdbjc86d0wv_f5wt72bxjm_w0000jp/T/ipykernel_17998/3429968416.py:21: FutureWarning: In a future version of pandas all arguments of DataFrame.drop except for the argument 'labels' will be keyword-only.\n",
      "  df = df.drop('Time', 1)\n",
      "/var/folders/mx/jdbjc86d0wv_f5wt72bxjm_w0000jp/T/ipykernel_17998/3429968416.py:18: FutureWarning: The frame.append method is deprecated and will be removed from pandas in a future version. Use pandas.concat instead.\n",
      "  df = df_y.append(df_y).append(df_y).append(df_y)\n",
      "/var/folders/mx/jdbjc86d0wv_f5wt72bxjm_w0000jp/T/ipykernel_17998/3429968416.py:18: FutureWarning: The frame.append method is deprecated and will be removed from pandas in a future version. Use pandas.concat instead.\n",
      "  df = df_y.append(df_y).append(df_y).append(df_y)\n",
      "/var/folders/mx/jdbjc86d0wv_f5wt72bxjm_w0000jp/T/ipykernel_17998/3429968416.py:21: FutureWarning: In a future version of pandas all arguments of DataFrame.drop except for the argument 'labels' will be keyword-only.\n",
      "  df = df.drop('Time', 1)\n",
      "/var/folders/mx/jdbjc86d0wv_f5wt72bxjm_w0000jp/T/ipykernel_17998/3429968416.py:18: FutureWarning: The frame.append method is deprecated and will be removed from pandas in a future version. Use pandas.concat instead.\n",
      "  df = df_y.append(df_y).append(df_y).append(df_y)\n",
      "/var/folders/mx/jdbjc86d0wv_f5wt72bxjm_w0000jp/T/ipykernel_17998/3429968416.py:18: FutureWarning: The frame.append method is deprecated and will be removed from pandas in a future version. Use pandas.concat instead.\n",
      "  df = df_y.append(df_y).append(df_y).append(df_y)\n",
      "/var/folders/mx/jdbjc86d0wv_f5wt72bxjm_w0000jp/T/ipykernel_17998/3429968416.py:21: FutureWarning: In a future version of pandas all arguments of DataFrame.drop except for the argument 'labels' will be keyword-only.\n",
      "  df = df.drop('Time', 1)\n",
      "/var/folders/mx/jdbjc86d0wv_f5wt72bxjm_w0000jp/T/ipykernel_17998/3429968416.py:18: FutureWarning: The frame.append method is deprecated and will be removed from pandas in a future version. Use pandas.concat instead.\n",
      "  df = df_y.append(df_y).append(df_y).append(df_y)\n",
      "/var/folders/mx/jdbjc86d0wv_f5wt72bxjm_w0000jp/T/ipykernel_17998/3429968416.py:18: FutureWarning: The frame.append method is deprecated and will be removed from pandas in a future version. Use pandas.concat instead.\n",
      "  df = df_y.append(df_y).append(df_y).append(df_y)\n",
      "/var/folders/mx/jdbjc86d0wv_f5wt72bxjm_w0000jp/T/ipykernel_17998/3429968416.py:21: FutureWarning: In a future version of pandas all arguments of DataFrame.drop except for the argument 'labels' will be keyword-only.\n",
      "  df = df.drop('Time', 1)\n",
      "/var/folders/mx/jdbjc86d0wv_f5wt72bxjm_w0000jp/T/ipykernel_17998/3429968416.py:18: FutureWarning: The frame.append method is deprecated and will be removed from pandas in a future version. Use pandas.concat instead.\n",
      "  df = df_y.append(df_y).append(df_y).append(df_y)\n",
      "/var/folders/mx/jdbjc86d0wv_f5wt72bxjm_w0000jp/T/ipykernel_17998/3429968416.py:18: FutureWarning: The frame.append method is deprecated and will be removed from pandas in a future version. Use pandas.concat instead.\n",
      "  df = df_y.append(df_y).append(df_y).append(df_y)\n",
      "/var/folders/mx/jdbjc86d0wv_f5wt72bxjm_w0000jp/T/ipykernel_17998/3429968416.py:21: FutureWarning: In a future version of pandas all arguments of DataFrame.drop except for the argument 'labels' will be keyword-only.\n",
      "  df = df.drop('Time', 1)\n",
      "/var/folders/mx/jdbjc86d0wv_f5wt72bxjm_w0000jp/T/ipykernel_17998/3429968416.py:18: FutureWarning: The frame.append method is deprecated and will be removed from pandas in a future version. Use pandas.concat instead.\n",
      "  df = df_y.append(df_y).append(df_y).append(df_y)\n",
      "/var/folders/mx/jdbjc86d0wv_f5wt72bxjm_w0000jp/T/ipykernel_17998/3429968416.py:18: FutureWarning: The frame.append method is deprecated and will be removed from pandas in a future version. Use pandas.concat instead.\n",
      "  df = df_y.append(df_y).append(df_y).append(df_y)\n",
      "/var/folders/mx/jdbjc86d0wv_f5wt72bxjm_w0000jp/T/ipykernel_17998/3429968416.py:21: FutureWarning: In a future version of pandas all arguments of DataFrame.drop except for the argument 'labels' will be keyword-only.\n",
      "  df = df.drop('Time', 1)\n"
     ]
    },
    {
     "name": "stdout",
     "output_type": "stream",
     "text": [
      "[Errno 2] No such file or directory: '/Users/mfarooq2/ECE_Project_C1/TrainingData/subject_006_04__x_time.csv'\n",
      "6\n",
      "4\n",
      "[Errno 2] No such file or directory: '/Users/mfarooq2/ECE_Project_C1/TrainingData/subject_007_05__x_time.csv'\n",
      "7\n",
      "5\n",
      "[Errno 2] No such file or directory: '/Users/mfarooq2/ECE_Project_C1/TrainingData/subject_008_02__x_time.csv'\n",
      "8\n",
      "2\n"
     ]
    },
    {
     "name": "stderr",
     "output_type": "stream",
     "text": [
      "/var/folders/mx/jdbjc86d0wv_f5wt72bxjm_w0000jp/T/ipykernel_17998/3429968416.py:18: FutureWarning: The frame.append method is deprecated and will be removed from pandas in a future version. Use pandas.concat instead.\n",
      "  df = df_y.append(df_y).append(df_y).append(df_y)\n",
      "/var/folders/mx/jdbjc86d0wv_f5wt72bxjm_w0000jp/T/ipykernel_17998/3429968416.py:18: FutureWarning: The frame.append method is deprecated and will be removed from pandas in a future version. Use pandas.concat instead.\n",
      "  df = df_y.append(df_y).append(df_y).append(df_y)\n",
      "/var/folders/mx/jdbjc86d0wv_f5wt72bxjm_w0000jp/T/ipykernel_17998/3429968416.py:21: FutureWarning: In a future version of pandas all arguments of DataFrame.drop except for the argument 'labels' will be keyword-only.\n",
      "  df = df.drop('Time', 1)\n",
      "/var/folders/mx/jdbjc86d0wv_f5wt72bxjm_w0000jp/T/ipykernel_17998/3429968416.py:18: FutureWarning: The frame.append method is deprecated and will be removed from pandas in a future version. Use pandas.concat instead.\n",
      "  df = df_y.append(df_y).append(df_y).append(df_y)\n",
      "/var/folders/mx/jdbjc86d0wv_f5wt72bxjm_w0000jp/T/ipykernel_17998/3429968416.py:18: FutureWarning: The frame.append method is deprecated and will be removed from pandas in a future version. Use pandas.concat instead.\n",
      "  df = df_y.append(df_y).append(df_y).append(df_y)\n",
      "/var/folders/mx/jdbjc86d0wv_f5wt72bxjm_w0000jp/T/ipykernel_17998/3429968416.py:21: FutureWarning: In a future version of pandas all arguments of DataFrame.drop except for the argument 'labels' will be keyword-only.\n",
      "  df = df.drop('Time', 1)\n"
     ]
    }
   ],
   "source": [
    "path = '/Users/mfarooq2/ECE_Project_C1/TrainingData/'\n",
    "for subject in range(1,9):\n",
    "  for session in range(1,9):\n",
    "    try:\n",
    "      x = path + 'subject_{id1:003}_{id2:02}__x.csv'.format(id1=subject,id2=session)\n",
    "      x_time = path + 'subject_{id1:003}_{id2:02}__x_time.csv'.format(id1=subject,id2=session)\n",
    "      y = path + 'subject_{id1:003}_{id2:02}__y.csv'.format(id1=subject,id2=session)\n",
    "      y_time = path + 'subject_{id1:003}_{id2:02}__y_time.csv'.format(id1=subject,id2=session)\n",
    "\n",
    "      parsecsv(x, x_time, y, y_time)\n",
    "      x = pd.read_csv(x, header=None)\n",
    "      x_time = pd.read_csv(x_time, header=None)\n",
    "      y = pd.read_csv(y, header=None)\n",
    "      y_time = pd.read_csv(y_time, header=None)\n",
    "    except Exception as e:\n",
    "      print(str(e))\n",
    "      print(subject)\n",
    "      print(session)\n",
    "      break"
   ]
  },
  {
   "cell_type": "code",
   "execution_count": null,
   "metadata": {
    "colab": {
     "base_uri": "https://localhost:8080/",
     "height": 53
    },
    "id": "yMZAkRi95-Cc",
    "outputId": "8c322d36-984b-48e5-e36a-e2f08fa956f8"
   },
   "outputs": [],
   "source": [
    "path2 + 'subject_{id1:003}_{id2:02}__x.csv'.format(id1=subject,id2=sessionID)"
   ]
  },
  {
   "cell_type": "code",
   "execution_count": null,
   "metadata": {},
   "outputs": [],
   "source": [
    "X = path2 + 'subject_{id1:003}_{id2:02}__x.csv'.format(id1=subject,id2=sessionID)\n",
    "X = pd.read_csv(X,header=None)"
   ]
  },
  {
   "cell_type": "code",
   "execution_count": 4,
   "metadata": {
    "colab": {
     "base_uri": "https://localhost:8080/"
    },
    "id": "w4fbeCiyzRj9",
    "outputId": "889dc305-cdb5-4e4e-ec62-c3d75fd21b4b"
   },
   "outputs": [
    {
     "name": "stdout",
     "output_type": "stream",
     "text": [
      "37890\n",
      "9473\n",
      "\n",
      "70172\n",
      "17543\n",
      "\n",
      "43146\n",
      "10787\n",
      "\n",
      "54956\n",
      "13739\n",
      "\n",
      "59121\n",
      "14780\n",
      "\n",
      "38631\n",
      "9658\n",
      "\n",
      "31423\n",
      "7856\n",
      "\n",
      "66762\n",
      "16691\n",
      "\n",
      "55999\n",
      "14000\n",
      "\n",
      "55401\n",
      "13850\n",
      "\n",
      "48797\n",
      "12199\n",
      "\n",
      "51461\n",
      "12865\n",
      "\n",
      "42319\n",
      "10580\n",
      "\n",
      "[Errno 2] No such file or directory: '/Users/mfarooq2/ECE_Project_C1/TrainingData/subject_002_06__x.csv'\n",
      "36313\n",
      "9078\n",
      "\n",
      "47210\n",
      "11803\n",
      "\n",
      "19533\n",
      "4883\n",
      "\n",
      "[Errno 2] No such file or directory: '/Users/mfarooq2/ECE_Project_C1/TrainingData/subject_003_04__x.csv'\n",
      "34309\n",
      "8577\n",
      "\n",
      "34476\n",
      "8619\n",
      "\n",
      "[Errno 2] No such file or directory: '/Users/mfarooq2/ECE_Project_C1/TrainingData/subject_004_03__x.csv'\n",
      "56079\n",
      "14020\n",
      "\n",
      "34519\n",
      "8630\n",
      "\n",
      "44905\n",
      "11226\n",
      "\n",
      "[Errno 2] No such file or directory: '/Users/mfarooq2/ECE_Project_C1/TrainingData/subject_005_04__x.csv'\n",
      "48125\n",
      "12031\n",
      "\n",
      "59562\n",
      "14891\n",
      "\n",
      "45129\n",
      "11282\n",
      "\n",
      "[Errno 2] No such file or directory: '/Users/mfarooq2/ECE_Project_C1/TrainingData/subject_006_04__x.csv'\n",
      "46201\n",
      "11550\n",
      "\n",
      "46989\n",
      "11747\n",
      "\n",
      "44641\n",
      "11160\n",
      "\n",
      "39439\n",
      "9860\n",
      "\n",
      "[Errno 2] No such file or directory: '/Users/mfarooq2/ECE_Project_C1/TrainingData/subject_007_05__x.csv'\n",
      "48138\n",
      "12035\n",
      "\n",
      "[Errno 2] No such file or directory: '/Users/mfarooq2/ECE_Project_C1/TrainingData/subject_008_02__x.csv'\n"
     ]
    }
   ],
   "source": [
    "import pandas as pd\n",
    "import numpy as np\n",
    "\n",
    "# Specifying the type of evaluation to be performed: observation-leave-out (0)\n",
    "# or session-leave-out (1)\n",
    "method_eval = 0\n",
    "# Percentage of data used for training - Only used for observation-leave-out\n",
    "perTrain = 0.8\n",
    "# Specifying which sessions to leave out - Only used for session-leave-out\n",
    "session_leave_out = {5};\n",
    "\n",
    "X_train = []\n",
    "Y_train = []\n",
    "X_test = []\n",
    "Y_test = []\n",
    "path2 = '/Users/mfarooq2/ECE_Project_C1/TrainingData/'\n",
    "\n",
    "if method_eval==0:\n",
    "  # Holding some observations from observed subjects for testing\n",
    "  for subject in range(1,9):\n",
    "    for sessionID in range(1,9):\n",
    "      try:\n",
    "        X = path2 + 'subject_{id1:003}_{id2:02}__x.csv'.format(id1=subject,id2=sessionID)\n",
    "        Y = path2 + 'subject_{id1:003}_{id2:02}__y.csv'.format(id1=subject,id2=sessionID)\n",
    "        X = pd.read_csv(X,header=None)\n",
    "        Y = pd.read_csv(Y,header=None)\n",
    "\n",
    "        idx = int(perTrain*X.shape[0])\n",
    "        print(len(X))\n",
    "        print(len(Y))\n",
    "        print()\n",
    "        if sessionID==1 and subject == 1:\n",
    "            X_train = X[0:idx]\n",
    "            Y_train = Y[0:idx]\n",
    "          # X_test = X[idx:]\n",
    "          # Y_test = Y[idx:]\n",
    "        else:\n",
    "            X_train = pd.concat([X_train, X[0:idx]],ignore_index=True)\n",
    "            Y_train = pd.concat([Y_train, Y[0:idx]],ignore_index=True)\n",
    "          # X_test = pd.concat([X_test, X[idx:]],ignore_index=True)\n",
    "          # Y_test = pd.concat([Y_test, Y[idx:]],ignore_index=True)\n",
    "      except Exception as e:\n",
    "        print(str(e))\n",
    "        break"
   ]
  },
  {
   "cell_type": "code",
   "execution_count": null,
   "metadata": {
    "colab": {
     "base_uri": "https://localhost:8080/"
    },
    "id": "m6_jLelrJOZ_",
    "outputId": "76825145-60b9-4c8d-9d1a-194d175d0727"
   },
   "outputs": [],
   "source": [
    "\n",
    "print(len(X_train))\n",
    "print(len(X_test))\n",
    "print(len(Y_test))\n",
    "print(len(Y_train))\n",
    "X_test.to_csv('/content/drive/My Drive/X_test',index=False)\n",
    "X_train.to_csv('/content/drive/My Drive/X_train',index=False)\n",
    "Y_test.to_csv('/content/drive/My Drive/Y_test',index=False)\n",
    "Y_train.to_csv('/content/drive/My Drive/Y_train',index=False)"
   ]
  },
  {
   "cell_type": "code",
   "execution_count": null,
   "metadata": {},
   "outputs": [],
   "source": [
    "diff = len(X_train) - len(X_train)"
   ]
  },
  {
   "cell_type": "code",
   "execution_count": null,
   "metadata": {},
   "outputs": [],
   "source": [
    "len(X_train)"
   ]
  },
  {
   "cell_type": "code",
   "execution_count": 5,
   "metadata": {
    "id": "BdZcngExJfAk"
   },
   "outputs": [
    {
     "name": "stdout",
     "output_type": "stream",
     "text": [
      "0\n",
      "0\n",
      "0\n",
      "0\n",
      "0\n"
     ]
    }
   ],
   "source": [
    "print(len(X_test))\n",
    "print(len(Y_test))\n",
    "diff = len(X_test) - len(Y_test)\n",
    "print(diff)\n",
    "Y_test = Y_test[:diff]\n",
    "print(len(Y_test))\n",
    "print(len(X_test))"
   ]
  },
  {
   "cell_type": "code",
   "execution_count": 7,
   "metadata": {
    "colab": {
     "base_uri": "https://localhost:8080/"
    },
    "id": "eYd7krJzLDDe",
    "outputId": "6eb47109-76ed-4f2d-e03e-cdf88a77b6d9"
   },
   "outputs": [
    {
     "name": "stdout",
     "output_type": "stream",
     "text": [
      "1073304\n",
      "335413\n"
     ]
    }
   ],
   "source": [
    "from sklearn.ensemble import RandomForestClassifier\n",
    "from sklearn.metrics import accuracy_score, confusion_matrix, confusion_matrix, ConfusionMatrixDisplay\n",
    "from sklearn import svm\n",
    "# Reformatting the training and testing set, and removing the 'Underfined' data\n",
    "X_train = np.array(X_train)\n",
    "Y_train = np.ravel(np.array(Y_train))\n",
    "idx = Y_train>0\n",
    "\n",
    "# X_test = np.array(X_test)\n",
    "# Y_test = np.ravel(np.array(Y_test))\n",
    "# idx = Y_test>0\n",
    "\n",
    "print(len(X_train))\n",
    "# print(len(X_test))\n",
    "# print(len(Y_test))\n",
    "print(len(Y_train))\n"
   ]
  },
  {
   "cell_type": "code",
   "execution_count": 8,
   "metadata": {
    "colab": {
     "base_uri": "https://localhost:8080/"
    },
    "id": "JItoW2j-LFXA",
    "outputId": "921f028b-4349-4890-a098-44d9d7b4a9ae"
   },
   "outputs": [
    {
     "ename": "ModuleNotFoundError",
     "evalue": "No module named 'keras'",
     "output_type": "error",
     "traceback": [
      "\u001b[0;31m---------------------------------------------------------------------------\u001b[0m",
      "\u001b[0;31mModuleNotFoundError\u001b[0m                       Traceback (most recent call last)",
      "Cell \u001b[0;32mIn[8], line 1\u001b[0m\n\u001b[0;32m----> 1\u001b[0m \u001b[38;5;28;01mfrom\u001b[39;00m \u001b[38;5;21;01mkeras\u001b[39;00m \u001b[38;5;28;01mimport\u001b[39;00m models\n\u001b[1;32m      2\u001b[0m \u001b[38;5;28;01mfrom\u001b[39;00m \u001b[38;5;21;01mkeras\u001b[39;00m\u001b[38;5;21;01m.\u001b[39;00m\u001b[38;5;21;01mlayers\u001b[39;00m \u001b[38;5;28;01mimport\u001b[39;00m Dense, Dropout, LSTM \u001b[38;5;66;03m#Input layer for FFNN\u001b[39;00m\n\u001b[1;32m      3\u001b[0m \u001b[38;5;28;01mfrom\u001b[39;00m \u001b[38;5;21;01mkeras\u001b[39;00m\u001b[38;5;21;01m.\u001b[39;00m\u001b[38;5;21;01mutils\u001b[39;00m\u001b[38;5;21;01m.\u001b[39;00m\u001b[38;5;21;01mvis_utils\u001b[39;00m \u001b[38;5;28;01mimport\u001b[39;00m model_to_dot\n",
      "\u001b[0;31mModuleNotFoundError\u001b[0m: No module named 'keras'"
     ]
    }
   ],
   "source": [
    "from keras import models\n",
    "from keras.layers import Dense, Dropout, LSTM #Input layer for FFNN\n",
    "from keras.utils.vis_utils import model_to_dot\n",
    "from IPython.display import SVG\n",
    "import matplotlib.pyplot as plt\n",
    "!pip install keras.utils\n",
    "from tensorflow.keras.utils import to_categorical"
   ]
  },
  {
   "cell_type": "code",
   "execution_count": 9,
   "metadata": {
    "id": "Exxn_aaVOeL1"
   },
   "outputs": [],
   "source": [
    "from sklearn.metrics import confusion_matrix\n",
    "from sklearn.metrics import accuracy_score\n",
    "from sklearn.metrics import classification_report"
   ]
  },
  {
   "cell_type": "code",
   "execution_count": 10,
   "metadata": {
    "id": "6A4RjQMwX9fT"
   },
   "outputs": [
    {
     "ename": "ModuleNotFoundError",
     "evalue": "No module named 'imblearn'",
     "output_type": "error",
     "traceback": [
      "\u001b[0;31m---------------------------------------------------------------------------\u001b[0m",
      "\u001b[0;31mModuleNotFoundError\u001b[0m                       Traceback (most recent call last)",
      "Cell \u001b[0;32mIn[10], line 1\u001b[0m\n\u001b[0;32m----> 1\u001b[0m \u001b[38;5;28;01mfrom\u001b[39;00m \u001b[38;5;21;01mimblearn\u001b[39;00m\u001b[38;5;21;01m.\u001b[39;00m\u001b[38;5;21;01munder_sampling\u001b[39;00m \u001b[38;5;28;01mimport\u001b[39;00m NearMiss \u001b[38;5;66;03m#Under Sampling\u001b[39;00m\n\u001b[1;32m      2\u001b[0m \u001b[38;5;28;01mfrom\u001b[39;00m \u001b[38;5;21;01mimblearn\u001b[39;00m\u001b[38;5;21;01m.\u001b[39;00m\u001b[38;5;21;01mover_sampling\u001b[39;00m \u001b[38;5;28;01mimport\u001b[39;00m RandomOverSampler\n\u001b[1;32m      3\u001b[0m oversample \u001b[38;5;241m=\u001b[39m RandomOverSampler(sampling_strategy\u001b[38;5;241m=\u001b[39m\u001b[38;5;124m'\u001b[39m\u001b[38;5;124mminority\u001b[39m\u001b[38;5;124m'\u001b[39m)\n",
      "\u001b[0;31mModuleNotFoundError\u001b[0m: No module named 'imblearn'"
     ]
    }
   ],
   "source": [
    "from imblearn.under_sampling import NearMiss #Under Sampling\n",
    "from imblearn.over_sampling import RandomOverSampler\n",
    "oversample = RandomOverSampler(sampling_strategy='minority')\n",
    "X_train, Y_train = oversample.fit_resample(X_train, Y_train)"
   ]
  },
  {
   "cell_type": "code",
   "execution_count": 11,
   "metadata": {
    "id": "4054WQU_C7Rl"
   },
   "outputs": [
    {
     "ename": "NameError",
     "evalue": "name 'to_categorical' is not defined",
     "output_type": "error",
     "traceback": [
      "\u001b[0;31m---------------------------------------------------------------------------\u001b[0m",
      "\u001b[0;31mNameError\u001b[0m                                 Traceback (most recent call last)",
      "Cell \u001b[0;32mIn[11], line 5\u001b[0m\n\u001b[1;32m      2\u001b[0m X_train1 \u001b[38;5;241m=\u001b[39m X_train1\u001b[38;5;241m.\u001b[39mastype(\u001b[38;5;124m'\u001b[39m\u001b[38;5;124mfloat32\u001b[39m\u001b[38;5;124m'\u001b[39m) \u001b[38;5;241m/\u001b[39m \u001b[38;5;241m255\u001b[39m\n\u001b[1;32m      3\u001b[0m \u001b[38;5;66;03m# X_test1 = X_test.reshape((X_test.shape[0], 6))\u001b[39;00m\n\u001b[1;32m      4\u001b[0m \u001b[38;5;66;03m# X_test1 = X_test1.astype('float32') / 255\u001b[39;00m\n\u001b[0;32m----> 5\u001b[0m Y_train \u001b[38;5;241m=\u001b[39m \u001b[43mto_categorical\u001b[49m(Y_train, \u001b[38;5;241m4\u001b[39m)\n\u001b[1;32m      6\u001b[0m \u001b[38;5;66;03m# Y_test = to_categorical(Y_test, 4)\u001b[39;00m\n",
      "\u001b[0;31mNameError\u001b[0m: name 'to_categorical' is not defined"
     ]
    }
   ],
   "source": [
    "X_train1 = X_train.reshape((X_train.shape[0], 6))\n",
    "X_train1 = X_train1.astype('float32') / 255\n",
    "# X_test1 = X_test.reshape((X_test.shape[0], 6))\n",
    "# X_test1 = X_test1.astype('float32') / 255\n",
    "Y_train = to_categorical(Y_train, 4)\n",
    "# Y_test = to_categorical(Y_test, 4)"
   ]
  },
  {
   "cell_type": "code",
   "execution_count": null,
   "metadata": {
    "colab": {
     "base_uri": "https://localhost:8080/"
    },
    "id": "gE_en7oep1Wt",
    "outputId": "21c10c12-fa10-45bb-9a83-8d09a05acd7b"
   },
   "outputs": [],
   "source": [
    "NUM_ROWS = 1073304\n",
    "NUM_COLS = 6\n",
    "model = models.Sequential()\n",
    "model.add(Dense(100, activation='relu', input_shape=(6,)))\n",
    "#model.add(Dropout(0.5))\n",
    "model.add(Dense(100, activation='relu'))\n",
    "#model.add(Dropout(0.25))\n",
    "model.add(Dense(100, activation='relu'))\n",
    "#model.add(Dropout(0.25))\n",
    "model.add(Dense(4, activation='softmax'))\n",
    "model.compile(optimizer='adam',loss='categorical_crossentropy', \n",
    "              metrics=['accuracy'])\n",
    "history = model.fit(X_train1, Y_train, batch_size=128, epochs=15, verbose=1)"
   ]
  },
  {
   "cell_type": "code",
   "execution_count": null,
   "metadata": {
    "id": "hFYF23to6iFV"
   },
   "outputs": [],
   "source": [
    "s=pd.read_csv('/content/drive/MyDrive/ECE542_sp2022_Project_TerrainRecognition/TestData/subject_009_01__x_time.csv')"
   ]
  },
  {
   "cell_type": "code",
   "execution_count": null,
   "metadata": {
    "colab": {
     "base_uri": "https://localhost:8080/",
     "height": 424
    },
    "id": "nXpZ_zV_6pez",
    "outputId": "45db8290-a383-4351-db84-46915b08aa56"
   },
   "outputs": [],
   "source": [
    "s"
   ]
  },
  {
   "cell_type": "code",
   "execution_count": null,
   "metadata": {
    "colab": {
     "base_uri": "https://localhost:8080/"
    },
    "id": "bNBShiPd6wcj",
    "outputId": "85d6e45a-d05f-4ac5-b082-4b419a0505ec"
   },
   "outputs": [],
   "source": [
    "0.32-0.22"
   ]
  },
  {
   "cell_type": "code",
   "execution_count": null,
   "metadata": {
    "id": "qGiewwti6tO6"
   },
   "outputs": [],
   "source": [
    "y=pd.read_csv('/content/drive/MyDrive/ECE542_sp2022_Project_TerrainRecognition/TestData/subject_009_01__y_time.csv')"
   ]
  },
  {
   "cell_type": "code",
   "execution_count": null,
   "metadata": {
    "id": "WTTxqHMO9V8w"
   },
   "outputs": [],
   "source": [
    "X_test_9 = '/content//drive/My Drive/projC_data/TestData/subject_009_01__x.csv'\n",
    "X_test_10 = '/content//drive/My Drive/projC_data/TestData/subject_010_01__x.csv'\n",
    "X_test_11 = '/content//drive/My Drive/projC_data/TestData/subject_011_01__x.csv'\n",
    "X_test_12 = '/content//drive/My Drive/projC_data/TestData/subject_012_01__x.csv'\n",
    "\n",
    "X_test_9 = pd.read_csv(X_test_9, header=None)\n",
    "X_test_10 = pd.read_csv(X_test_10, header=None)\n",
    "X_test_11 = pd.read_csv(X_test_11, header=None)\n",
    "X_test_12 = pd.read_csv(X_test_12, header=None)\n",
    "\n",
    "X_test_9 = np.array(X_test_9)\n",
    "X_test_10 = np.array(X_test_10)\n",
    "X_test_11 = np.array(X_test_11)\n",
    "X_test_12 = np.array(X_test_12)\n",
    "X_test_9 = X_test_9.reshape((X_test_9.shape[0], 6))\n",
    "X_test_9 = X_test_9.astype('float32') / 255\n",
    "X_test_10 = X_test_10.reshape((X_test_10.shape[0], 6))\n",
    "X_test_10 = X_test_10.astype('float32') / 255\n",
    "X_test_11 = X_test_11.reshape((X_test_11.shape[0], 6))\n",
    "X_test_11 = X_test_11.astype('float32') / 255\n",
    "X_test_12 = X_test_12.reshape((X_test_12.shape[0], 6))\n",
    "X_test_12 = X_test_12.astype('float32') / 255\n",
    "\n",
    "Y_test_9 = model.predict(X_test_9)\n",
    "Y_test_9 = np.argmax(Y_test_9,1)\n",
    "Y_test_10 = model.predict(X_test_10)\n",
    "Y_test_10 = np.argmax(Y_test_10,1)\n",
    "Y_test_11 = model.predict(X_test_11)\n",
    "Y_test_11 = np.argmax(Y_test_11,1)\n",
    "Y_test_12 = model.predict(X_test_12)\n",
    "Y_test_12 = np.argmax(Y_test_12,1)\n",
    "\n",
    "Y_test1_9 = []\n",
    "Y_test1_10 = []\n",
    "Y_test1_11 = []\n",
    "Y_test1_12 = []\n",
    "\n",
    "for i in range(0,len(Y_test_9),4):\n",
    "  Y_test1_9.append(Y_test_9[i])\n",
    "# print(len(Y_test1_9))\n",
    "\n",
    "for i in range(0,len(Y_test_10),4):\n",
    "  Y_test1_10.append(Y_test_10[i])\n",
    "# print(len(Y_test1_10))\n",
    "\n",
    "for i in range(0,len(Y_test_11),4):\n",
    "  Y_test1_11.append(Y_test_11[i])\n",
    "# print(len(Y_test1_11))\n",
    "\n",
    "for i in range(0,len(Y_test_12),4):\n",
    "  Y_test1_12.append(Y_test_12[i])\n",
    "# print(len(Y_test1_12))"
   ]
  },
  {
   "cell_type": "code",
   "execution_count": null,
   "metadata": {
    "colab": {
     "base_uri": "https://localhost:8080/",
     "height": 480
    },
    "id": "Vn6jqTDPJ-yl",
    "outputId": "5350f677-504b-4564-8eb5-76617fb0e112"
   },
   "outputs": [],
   "source": [
    "Ytime_test_9 = '/content//drive/My Drive/projC_data/TestData/subject_009_01__y_time.csv'\n",
    "Ytime_test_10 = '/content//drive/My Drive/projC_data/TestData/subject_010_01__y_time.csv'\n",
    "Ytime_test_11 = '/content//drive/My Drive/projC_data/TestData/subject_011_01__y_time.csv'\n",
    "Ytime_test_12 = '/content//drive/My Drive/projC_data/TestData/subject_012_01__y_time.csv'\n",
    "\n",
    "Ytime_test_9 = pd.read_csv(Ytime_test_9,header=None)\n",
    "Ytime_test_10 = pd.read_csv(Ytime_test_10,header=None)\n",
    "Ytime_test_11 = pd.read_csv(Ytime_test_11,header=None)\n",
    "Ytime_test_12 = pd.read_csv(Ytime_test_12,header=None)\n",
    "\n",
    "Y_test1_9 = Y_test1_9[:len(Ytime_test_9)]\n",
    "print(Y_test1_10)\n",
    "Y_test1_10 = Y_test1_10[:len(Ytime_test_10)]\n",
    "print(Y_test1_10)\n",
    "Y_test1_11 = Y_test1_11[:len(Ytime_test_11)]\n",
    "print(Y_test1_11)\n",
    "Y_test1_12 = Y_test1_12[:len(Ytime_test_12)]\n",
    "print(Y_test1_12)\n",
    "\n",
    "Y_test1_9 = pd.DataFrame(Y_test1_9)\n",
    "Y_test1_10 = pd.DataFrame(Y_test1_10)\n",
    "Y_test1_11 = pd.DataFrame(Y_test1_11)\n",
    "Y_test1_12 = pd.DataFrame(Y_test1_12)"
   ]
  },
  {
   "cell_type": "code",
   "execution_count": null,
   "metadata": {
    "id": "B3FuT66XRmro"
   },
   "outputs": [],
   "source": [
    "Y_test1_9.to_csv('/content//drive/My Drive/projC_data/projC_validation/subject_009_01__y.csv',index=False, header=None)\n",
    "Y_test1_10.to_csv('/content//drive/My Drive/projC_data/projC_validation/subject_010_01__y.csv',index=False, header=None)\n",
    "Y_test1_11.to_csv('/content//drive/My Drive/projC_data/projC_validation/subject_011_01__y.csv',index=False, header=None)\n",
    "Y_test1_12.to_csv('/content//drive/My Drive/projC_data/projC_validation/subject_012_01__y.csv',index=False, header=None)"
   ]
  }
 ],
 "metadata": {
  "accelerator": "GPU",
  "colab": {
   "provenance": []
  },
  "kernelspec": {
   "display_name": "Python 3 (ipykernel)",
   "language": "python",
   "name": "python3"
  },
  "language_info": {
   "codemirror_mode": {
    "name": "ipython",
    "version": 3
   },
   "file_extension": ".py",
   "mimetype": "text/x-python",
   "name": "python",
   "nbconvert_exporter": "python",
   "pygments_lexer": "ipython3",
   "version": "3.10.9"
  }
 },
 "nbformat": 4,
 "nbformat_minor": 4
}
