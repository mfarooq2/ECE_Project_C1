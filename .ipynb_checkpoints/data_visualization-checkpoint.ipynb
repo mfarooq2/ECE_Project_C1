{
 "cells": [
  {
   "cell_type": "code",
   "execution_count": 6,
   "id": "53ddf23e-e372-4aa1-9df0-d598b2d9c324",
   "metadata": {},
   "outputs": [
    {
     "name": "stderr",
     "output_type": "stream",
     "text": [
      "100%|████████████████████████████████████████████████████████████████████████████████████████████████████████████████████| 29/29 [00:00<00:00, 33.60it/s]\n"
     ]
    }
   ],
   "source": [
    "from sklearn.ensemble import RandomForestClassifier\n",
    "from sklearn.metrics import accuracy_score, confusion_matrix, ConfusionMatrixDisplay\n",
    "from sklearn import svm\n",
    "import pandas as pd\n",
    "import glob\n",
    "from tqdm import tqdm\n",
    "import matplotlib.pyplot as plt\n",
    "import numpy as np\n",
    "from ast import literal_eval\n",
    "from sklearn.ensemble import RandomForestClassifier\n",
    "from sklearn.metrics import accuracy_score, confusion_matrix, confusion_matrix, ConfusionMatrixDisplay\n",
    "from sklearn import svm\n",
    "from sklearn.model_selection import RandomizedSearchCV, train_test_split\n",
    "import numpy as np\n",
    "files=glob.glob('pre_processed_training/*.gzip')\n",
    "total_training_data=pd.DataFrame([])\n",
    "for f in tqdm(files):\n",
    "    total_training_data=pd.concat([total_training_data,pd.read_parquet(f, engine='auto')],axis=0)\n",
    "total_training_data=total_training_data.sort_values(['Subject','Session','time_stamp'])\n",
    "total_training_data=total_training_data.reset_index()\n",
    "total_training_data['epoch'] = total_training_data['time_stamp'].sub(pd.Timestamp('1970-01-01 00:00:00.000'))\n",
    "total_training_data['epoch']=total_training_data['epoch'].dt.total_seconds()\n",
    "total_training_data=total_training_data[['Subject','Session','epoch','measurements','labels']]\n",
    "total_training_data_grouped=total_training_data.groupby(['Subject','Session','epoch']).agg({'measurements':[np.mean],'labels':[np.mean]})\n",
    "total_training_data_grouped.columns = total_training_data_grouped.columns.droplevel(1)\n",
    "total_training_data_grouped=total_training_data_grouped.reset_index(level=['epoch'])\n",
    "total_training_data_grouped.to_parquet(f\"combined_sampled/training.gzip\",compression='gzip')"
   ]
  },
  {
   "cell_type": "code",
   "execution_count": 15,
   "id": "68fe0989-0f5f-415a-a8dc-f024e8a6541c",
   "metadata": {},
   "outputs": [],
   "source": [
    "total_training_data_g=total_training_data_g.reset_index(level=['epoch'])"
   ]
  },
  {
   "cell_type": "code",
   "execution_count": 16,
   "id": "69eaed96-cbc8-432d-8788-bf3acc5c9506",
   "metadata": {},
   "outputs": [
    {
     "data": {
      "text/html": [
       "<div>\n",
       "<style scoped>\n",
       "    .dataframe tbody tr th:only-of-type {\n",
       "        vertical-align: middle;\n",
       "    }\n",
       "\n",
       "    .dataframe tbody tr th {\n",
       "        vertical-align: top;\n",
       "    }\n",
       "\n",
       "    .dataframe thead th {\n",
       "        text-align: right;\n",
       "    }\n",
       "</style>\n",
       "<table border=\"1\" class=\"dataframe\">\n",
       "  <thead>\n",
       "    <tr style=\"text-align: right;\">\n",
       "      <th></th>\n",
       "      <th></th>\n",
       "      <th>epoch</th>\n",
       "      <th>measurements</th>\n",
       "      <th>labels</th>\n",
       "    </tr>\n",
       "    <tr>\n",
       "      <th>Subject</th>\n",
       "      <th>Session</th>\n",
       "      <th></th>\n",
       "      <th></th>\n",
       "      <th></th>\n",
       "    </tr>\n",
       "  </thead>\n",
       "  <tbody>\n",
       "    <tr>\n",
       "      <th rowspan=\"5\" valign=\"top\">1</th>\n",
       "      <th>1</th>\n",
       "      <td>0.000</td>\n",
       "      <td>[4.435275, 8.196063, 2.974488, 0.01421523, -0....</td>\n",
       "      <td>0.0</td>\n",
       "    </tr>\n",
       "    <tr>\n",
       "      <th>1</th>\n",
       "      <td>0.025</td>\n",
       "      <td>[4.18692, 8.344455, 2.908057, 0.005770759, -0....</td>\n",
       "      <td>0.0</td>\n",
       "    </tr>\n",
       "    <tr>\n",
       "      <th>1</th>\n",
       "      <td>0.050</td>\n",
       "      <td>[4.544637, 8.408659, 2.89, 0.007967429, 0.0224...</td>\n",
       "      <td>0.0</td>\n",
       "    </tr>\n",
       "    <tr>\n",
       "      <th>1</th>\n",
       "      <td>0.075</td>\n",
       "      <td>[4.849308, 8.411614, 2.900692, 0.02777778, -0....</td>\n",
       "      <td>0.0</td>\n",
       "    </tr>\n",
       "    <tr>\n",
       "      <th>1</th>\n",
       "      <td>0.100</td>\n",
       "      <td>[4.50919, 8.118649, 2.847298, 0.02157696, -0.0...</td>\n",
       "      <td>0.0</td>\n",
       "    </tr>\n",
       "    <tr>\n",
       "      <th>...</th>\n",
       "      <th>...</th>\n",
       "      <td>...</td>\n",
       "      <td>...</td>\n",
       "      <td>...</td>\n",
       "    </tr>\n",
       "    <tr>\n",
       "      <th rowspan=\"5\" valign=\"top\">8</th>\n",
       "      <th>1</th>\n",
       "      <td>1203.325</td>\n",
       "      <td>[2.072244, 8.908878, -3.5, 0.001350761, 0.0011...</td>\n",
       "      <td>0.0</td>\n",
       "    </tr>\n",
       "    <tr>\n",
       "      <th>1</th>\n",
       "      <td>1203.350</td>\n",
       "      <td>[2.085123, 8.915123, -3.52, 0.001917847, -0.00...</td>\n",
       "      <td>0.0</td>\n",
       "    </tr>\n",
       "    <tr>\n",
       "      <th>1</th>\n",
       "      <td>1203.375</td>\n",
       "      <td>[2.083774, 8.91, -3.538981, -0.002015218, -0.0...</td>\n",
       "      <td>0.0</td>\n",
       "    </tr>\n",
       "    <tr>\n",
       "      <th>1</th>\n",
       "      <td>1203.400</td>\n",
       "      <td>[2.111447, 8.908553, -3.535724, 0.0001831479, ...</td>\n",
       "      <td>0.0</td>\n",
       "    </tr>\n",
       "    <tr>\n",
       "      <th>1</th>\n",
       "      <td>1203.425</td>\n",
       "      <td>[2.08773, 8.9, -3.518865, 5.186139e-05, -0.001...</td>\n",
       "      <td>0.0</td>\n",
       "    </tr>\n",
       "  </tbody>\n",
       "</table>\n",
       "<p>1341646 rows × 3 columns</p>\n",
       "</div>"
      ],
      "text/plain": [
       "                    epoch                                       measurements  \\\n",
       "Subject Session                                                                \n",
       "1       1           0.000  [4.435275, 8.196063, 2.974488, 0.01421523, -0....   \n",
       "        1           0.025  [4.18692, 8.344455, 2.908057, 0.005770759, -0....   \n",
       "        1           0.050  [4.544637, 8.408659, 2.89, 0.007967429, 0.0224...   \n",
       "        1           0.075  [4.849308, 8.411614, 2.900692, 0.02777778, -0....   \n",
       "        1           0.100  [4.50919, 8.118649, 2.847298, 0.02157696, -0.0...   \n",
       "...                   ...                                                ...   \n",
       "8       1        1203.325  [2.072244, 8.908878, -3.5, 0.001350761, 0.0011...   \n",
       "        1        1203.350  [2.085123, 8.915123, -3.52, 0.001917847, -0.00...   \n",
       "        1        1203.375  [2.083774, 8.91, -3.538981, -0.002015218, -0.0...   \n",
       "        1        1203.400  [2.111447, 8.908553, -3.535724, 0.0001831479, ...   \n",
       "        1        1203.425  [2.08773, 8.9, -3.518865, 5.186139e-05, -0.001...   \n",
       "\n",
       "                 labels  \n",
       "Subject Session          \n",
       "1       1           0.0  \n",
       "        1           0.0  \n",
       "        1           0.0  \n",
       "        1           0.0  \n",
       "        1           0.0  \n",
       "...                 ...  \n",
       "8       1           0.0  \n",
       "        1           0.0  \n",
       "        1           0.0  \n",
       "        1           0.0  \n",
       "        1           0.0  \n",
       "\n",
       "[1341646 rows x 3 columns]"
      ]
     },
     "execution_count": 16,
     "metadata": {},
     "output_type": "execute_result"
    }
   ],
   "source": [
    "total_training_data_g"
   ]
  },
  {
   "cell_type": "code",
   "execution_count": null,
   "id": "1811cf1f-a9e4-49db-932a-3b3f72ea4c7f",
   "metadata": {},
   "outputs": [],
   "source": [
    "total_training_data_grouped"
   ]
  },
  {
   "cell_type": "code",
   "execution_count": null,
   "id": "b3805d63-6e79-46b3-a0dc-441e83a09d20",
   "metadata": {},
   "outputs": [],
   "source": [
    "total_training_data_g=total_training_data_grouped.copy()"
   ]
  },
  {
   "cell_type": "code",
   "execution_count": null,
   "id": "d163b3f9-5232-49a5-896b-afc4d5c62ce9",
   "metadata": {},
   "outputs": [],
   "source": [
    "total_training_data_g.columns = total_training_data_g.columns.droplevel(1)"
   ]
  },
  {
   "cell_type": "code",
   "execution_count": null,
   "id": "c959703f-1d8f-4092-88c3-6d341a5898ed",
   "metadata": {},
   "outputs": [],
   "source": [
    "total_training_data_g"
   ]
  },
  {
   "cell_type": "code",
   "execution_count": null,
   "id": "6d8e1204-5414-47a4-baf4-0d4236642807",
   "metadata": {},
   "outputs": [],
   "source": [
    "total_training_data['time_stamp'][2].time()"
   ]
  },
  {
   "cell_type": "code",
   "execution_count": null,
   "id": "b3041ae7-a682-438e-909c-7b7453f9d6da",
   "metadata": {},
   "outputs": [],
   "source": [
    "s_time_interv=total_training_data.groupby(pd.Grouper(freq=))"
   ]
  },
  {
   "cell_type": "code",
   "execution_count": null,
   "id": "f5192f2a-8cf2-44da-ad2d-63a01e1e9ce9",
   "metadata": {},
   "outputs": [],
   "source": [
    "pr=list(total_training_data.iloc[4])"
   ]
  },
  {
   "cell_type": "code",
   "execution_count": null,
   "id": "0270ea16-15b1-441a-a25e-1beb7af0ba4d",
   "metadata": {},
   "outputs": [],
   "source": [
    "total_training_data.iloc[4].to_dict()"
   ]
  },
  {
   "cell_type": "code",
   "execution_count": null,
   "id": "77c736a1-95e3-4b8e-89af-d5e01d7fc895",
   "metadata": {},
   "outputs": [],
   "source": [
    "pr.index"
   ]
  },
  {
   "cell_type": "code",
   "execution_count": null,
   "id": "d9aa4529-b082-48de-918a-b80587cc5a27",
   "metadata": {},
   "outputs": [],
   "source": [
    "subject=1\n",
    "sample=total_training_data\n",
    "\n",
    "s_time_interv= total_training_data[['Subject','Session','time_stamp']]\n",
    "s_time_interv=s_time_interv.groupby(['Subject','Session']).agg({'time_stamp': [np.min,np.max]})\n",
    "s_time_interv.columns=s_time_interv.columns.droplevel()\n",
    "s_time_interv['time_interval']=s_time_interv['amax']-s_time_interv['amin']\n",
    "s_time_interv['time_interval']=s_time_interv['time_interval'].dt.total_seconds()\n",
    "s_time_interv=s_time_interv[['time_interval']]\n",
    "s_time_interv=s_time_interv.unstack()\n",
    "s_time_interv.columns=s_time_interv.columns.droplevel()\n",
    "#s=s.reset_index(drop=True)"
   ]
  },
  {
   "cell_type": "code",
   "execution_count": null,
   "id": "d0f71501-e82d-4121-bab1-9c3635fddbe5",
   "metadata": {},
   "outputs": [],
   "source": [
    "s_time_interv.plot(kind='bar',ylabel='time_interval (s)',figsize=(8,4),title=f\"Subject-Session-Interval Distribution\")\n",
    "plt.xticks(rotation='horizontal')\n",
    "SMALL_SIZE = 12\n",
    "plt.legend(loc='center left', bbox_to_anchor=(1, 0.5)).set_title(\"Session\")\n",
    "plt.rc('font', size=SMALL_SIZE)          # controls default text sizes\n",
    "plt.rc('axes', titlesize=SMALL_SIZE)     # fontsize of the axes title\n",
    "plt.rc('axes', labelsize=SMALL_SIZE)    # fontsize of the x and y labels\n",
    "plt.rc('xtick', labelsize=SMALL_SIZE)    # fontsize of the tick labels\n",
    "plt.rc('ytick', labelsize=SMALL_SIZE)    # fontsize of the tick labels\n",
    "plt.rc('legend', fontsize=SMALL_SIZE)    # legend fontsize\n",
    "plt.rc('figure', titlesize=SMALL_SIZE)  # fontsize of the figure title"
   ]
  },
  {
   "cell_type": "code",
   "execution_count": null,
   "id": "300216ee-9af5-4309-8cb1-08ed7dc99c87",
   "metadata": {},
   "outputs": [],
   "source": [
    "SMALL_SIZE = 8\n",
    "matplotlib.rc('font', size=SMALL_SIZE)\n",
    "matplotlib.rc('axes', titlesize=SMALL_SIZE)"
   ]
  },
  {
   "cell_type": "code",
   "execution_count": null,
   "id": "9c21282a-8a80-4a8e-9fc8-452af1794c5d",
   "metadata": {},
   "outputs": [],
   "source": [
    "\n",
    "#s_label_dist.columns=s_label_dist.columns.droplevel()\n",
    "ax=s_label_dist.plot(kind='bar',xlabel='labels',ylabel='count',legend=False)\n",
    "ax.bar_label(ax.containers[0])"
   ]
  },
  {
   "cell_type": "code",
   "execution_count": null,
   "id": "cceb46fa-5248-4ed2-857b-4831c7dd87f9",
   "metadata": {},
   "outputs": [],
   "source": [
    "ax = df.plot.bar()\n",
    "\n"
   ]
  },
  {
   "cell_type": "code",
   "execution_count": null,
   "id": "9aa162d2-1911-454f-97d0-08a4024ddf41",
   "metadata": {},
   "outputs": [],
   "source": [
    "sample=total_training_data[(total_training_data.Subject==8)].reset_index()"
   ]
  },
  {
   "cell_type": "code",
   "execution_count": null,
   "id": "9e47b42d-d0df-45d0-8035-35cecd2b09c6",
   "metadata": {},
   "outputs": [],
   "source": [
    "s_label_dist= sample[['labels','time_stamp']]\n",
    "s_label_dist=s_label_dist.groupby(['labels']).count().rename(columns={'time_stamp':'Count','labels':'Labels'}).reset_index()\n",
    "s_label_dist['Labels']=['Solid Ground(0)','Downstairs(1)','Upstairs(2)','Grass(3)']\n",
    "ax=sns.barplot(x = 'Labels',y = 'Count',data = s_label_dist)\n",
    "ax.bar_label(ax.containers[0])\n",
    "plt.show()"
   ]
  },
  {
   "cell_type": "code",
   "execution_count": null,
   "id": "70f6553c-fffd-4e7d-a044-5debac3e09e0",
   "metadata": {},
   "outputs": [],
   "source": [
    "s_label_dist= total_training_data[['Session','labels','time_stamp']]\n",
    "s_label_dist=s_label_dist.groupby(['Session','labels']).count()\n",
    "s_label_dist=s_label_dist.unstack()\n",
    "s_label_dist.columns=s_label_dist.columns.droplevel()\n",
    "s_label_dist.plot(kind='bar',xlabel='Session',ylabel='count')"
   ]
  },
  {
   "cell_type": "code",
   "execution_count": null,
   "id": "862f1559-770c-45b1-8466-90f96a90fa62",
   "metadata": {},
   "outputs": [],
   "source": [
    "s1_s1=total_training_data[(total_training_data.Subject==1) & (total_training_data.Session==1)][['time_stamp','measurements','labels']]"
   ]
  },
  {
   "cell_type": "code",
   "execution_count": null,
   "id": "40690d4b-3e69-4557-99a8-52205c1b6f8d",
   "metadata": {},
   "outputs": [],
   "source": [
    "s1_s1_grouped=s1_s1.set_index('time_stamp').groupby([pd.Grouper(freq='1min'),'labels']).count().unstack()\n",
    "s1_s1_grouped.columns=s1_s1_grouped.columns.droplevel()\n",
    "s1_s1_grouped.index=s1_s1_grouped.index.time\n",
    "s1_s1_grouped.plot()"
   ]
  },
  {
   "cell_type": "code",
   "execution_count": null,
   "id": "10129881-56f8-48a3-81aa-1779677625ca",
   "metadata": {},
   "outputs": [],
   "source": [
    "s1_s1"
   ]
  },
  {
   "cell_type": "code",
   "execution_count": null,
   "id": "dcaf359e-8813-4a7b-a5fe-bdd3da76c802",
   "metadata": {},
   "outputs": [],
   "source": [
    "s1_s1['ranks']=s1_s1.groupby(['labels'])['time_stamp'].rank(method='average')"
   ]
  },
  {
   "cell_type": "code",
   "execution_count": null,
   "id": "0d372e50-620d-44da-bce0-40057ae6ad80",
   "metadata": {},
   "outputs": [],
   "source": [
    "s1_s1.groupby(['ranks','labels']).agg({'time_stamp': [np.min,np.max]})"
   ]
  },
  {
   "cell_type": "code",
   "execution_count": null,
   "id": "d6e7c9fa-7f05-4ed6-867a-2822bcf65892",
   "metadata": {},
   "outputs": [],
   "source": [
    "s1_s1['ranks']=s1_s1['labels'].diff(1)"
   ]
  },
  {
   "cell_type": "code",
   "execution_count": null,
   "id": "6914025d-4d64-4b00-8f84-a5a6505ca476",
   "metadata": {},
   "outputs": [],
   "source": [
    "s1_s1[s1_s1.labels==1]"
   ]
  },
  {
   "cell_type": "code",
   "execution_count": null,
   "id": "c916c079-d94d-46ff-9227-6ec0528d8c8a",
   "metadata": {},
   "outputs": [],
   "source": [
    "s1_s1['time_stamp']=s1_s1['time_stamp']-s1_s1['time_stamp'][0]\n",
    "s1_s1['time_stamp']=s1_s1['time_stamp'].dt.total_seconds()"
   ]
  },
  {
   "cell_type": "code",
   "execution_count": null,
   "id": "d55f6582-0011-4330-ac15-75a9ec2e21bf",
   "metadata": {},
   "outputs": [],
   "source": [
    "s1_s1"
   ]
  },
  {
   "cell_type": "code",
   "execution_count": null,
   "id": "be930523-734d-4dbf-aec2-7b3f18bca7ca",
   "metadata": {},
   "outputs": [],
   "source": [
    "derive = (s1_s1.labels != s1_s1.labels.shift()).cumsum()\n",
    "#Group records by user, location and the calculated column, and then sum duration values\n",
    "res = s1_s1.groupby(['labels', derive], as_index=False, sort=False)[['time_stamp']].mean()\n",
    "res['labels']=res['labels'].apply(lambda x: str(x))\n",
    "# res=res.set_index('time_stamp')\n",
    "# res.index=res.index.time\n",
    "# res=res.reset_index().rename(columns={'index':'time_stamp'})\n",
    "#res.columns=res.columns.droplevel()\n",
    "#res['time_interval']=res['amax']-res['amin']\n",
    "#res['time_interval']=res['time_interval'].dt.total_seconds()\n"
   ]
  },
  {
   "cell_type": "code",
   "execution_count": null,
   "id": "ce728d72-fc3c-4dbc-a517-f8a5ccdedbad",
   "metadata": {},
   "outputs": [],
   "source": [
    "res"
   ]
  },
  {
   "cell_type": "code",
   "execution_count": null,
   "id": "67e0025a-294e-4bf3-b1ff-b43173f01b10",
   "metadata": {},
   "outputs": [],
   "source": [
    "res=res.pivot(columns='labels')\n",
    "res.columns=res.columns.droplevel()"
   ]
  },
  {
   "cell_type": "code",
   "execution_count": null,
   "id": "12955bcb-c295-426a-810c-359cfa9acede",
   "metadata": {},
   "outputs": [],
   "source": [
    "res"
   ]
  },
  {
   "cell_type": "code",
   "execution_count": null,
   "id": "0d5dc9e3-c791-43a9-8a17-baba2699a82e",
   "metadata": {},
   "outputs": [],
   "source": []
  },
  {
   "cell_type": "code",
   "execution_count": null,
   "id": "462f9fad-0d60-4eb6-ae90-a6fcbb99db1e",
   "metadata": {},
   "outputs": [],
   "source": [
    "total_training_data"
   ]
  },
  {
   "cell_type": "code",
   "execution_count": null,
   "id": "8df00d2b-4c2a-4310-9c95-ef11a1aa3431",
   "metadata": {},
   "outputs": [],
   "source": [
    "!pip install yellowbrick"
   ]
  },
  {
   "cell_type": "code",
   "execution_count": null,
   "id": "895319ac-5b53-46b3-a0b9-7ddba811fac4",
   "metadata": {},
   "outputs": [],
   "source": []
  }
 ],
 "metadata": {
  "kernelspec": {
   "display_name": "Python 3 (ipykernel)",
   "language": "python",
   "name": "python3"
  },
  "language_info": {
   "codemirror_mode": {
    "name": "ipython",
    "version": 3
   },
   "file_extension": ".py",
   "mimetype": "text/x-python",
   "name": "python",
   "nbconvert_exporter": "python",
   "pygments_lexer": "ipython3",
   "version": "3.10.9"
  }
 },
 "nbformat": 4,
 "nbformat_minor": 5
}
