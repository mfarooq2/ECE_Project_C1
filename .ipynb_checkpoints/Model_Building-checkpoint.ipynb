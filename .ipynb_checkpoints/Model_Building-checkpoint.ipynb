{
 "cells": [
  {
   "cell_type": "code",
   "execution_count": 1,
   "id": "e9b4500c-d0be-4daf-a84d-66dd538f7306",
   "metadata": {},
   "outputs": [
    {
     "name": "stdout",
     "output_type": "stream",
     "text": [
      "{0: 0.6661992643378644, 1: 12.149594320486816, 2: 9.18120107297312, 3: 3.249685132438141}\n",
      "Metal device set to: Apple M1\n"
     ]
    }
   ],
   "source": [
    "import pandas as pd\n",
    "import glob\n",
    "import numpy as np\n",
    "from tqdm import tqdm\n",
    "import imblearn\n",
    "from utils.model_1 import *\n",
    "from tensorflow import keras\n",
    "import tensorflow as tf\n",
    "from sklearn.utils.class_weight import compute_class_weight\n",
    "import matplotlib.pyplot as plt\n",
    "from sklearn.preprocessing import OneHotEncoder\n",
    "from collections import Counter\n",
    "training_val_combined=pd.read_parquet('combined_sequence_sampled/training.gzip', engine='auto')\n",
    "training_val_combined['labels']=training_val_combined['labels'].astype(int)\n",
    "training_val_combined['measurements']=training_val_combined['measurements'].apply(lambda x: np.vstack(x))\n",
    "X=list(training_val_combined['measurements'])\n",
    "X_padded=tf.keras.utils.pad_sequences(X,dtype=object)\n",
    "y=list(training_val_combined['labels'])\n",
    "# Scaling by total/2 helps keep the loss to a similar magnitude.\n",
    "# The sum of the weights of all examples stays the same.\n",
    "p=list(Counter(y).values())\n",
    "weight_for_0 = (1 / p[0]) * (len(y) / 2.0)\n",
    "weight_for_1 = (1 / p[1]) * (len(y) / 2.0)\n",
    "weight_for_2 = (1 / p[2]) * (len(y) / 2.0)\n",
    "weight_for_3 = (1 / p[3]) * (len(y) / 2.0)\n",
    "\n",
    "class_weight = {0: weight_for_0, 1: weight_for_1,2: weight_for_2, 3: weight_for_3}\n",
    "y_padded=np.array(y)\n",
    "print(class_weight)\n",
    "idx = np.random.permutation(len(y))\n",
    "X_balanced_reshaped = X_padded[idx].reshape(len(X_padded),4,6)\n",
    "y_balanced_reshaped = y_padded[idx].reshape(-1,1)\n",
    "num_classes=len(np.unique(y_balanced_reshaped))\n",
    "encoder = OneHotEncoder()\n",
    "# transform data\n",
    "onehot = encoder.fit_transform(y_balanced_reshaped)\n",
    "y_balanced_reshaped_onehot=onehot.toarray()\n",
    "X_balanced_reshaped=tf.convert_to_tensor(X_balanced_reshaped, dtype=tf.float32)\n",
    "y_balanced_reshaped_onehot=tf.convert_to_tensor(y_balanced_reshaped_onehot)\n",
    "METRICS = [\n",
    "      keras.metrics.TruePositives(name='tp'),\n",
    "      keras.metrics.FalsePositives(name='fp'),\n",
    "      keras.metrics.TrueNegatives(name='tn'),\n",
    "      keras.metrics.FalseNegatives(name='fn'), \n",
    "      keras.metrics.BinaryAccuracy(name='accuracy'),\n",
    "      keras.metrics.Precision(name='precision'),\n",
    "      keras.metrics.Recall(name='recall'),\n",
    "      keras.metrics.AUC(name='auc'),\n",
    "      keras.metrics.AUC(name='prc', curve='PR'), # precision-recall curve\n",
    "]"
   ]
  },
  {
   "cell_type": "code",
   "execution_count": 2,
   "id": "686537d4-13e0-43c1-a991-e6470dd4fbd5",
   "metadata": {},
   "outputs": [
    {
     "name": "stdout",
     "output_type": "stream",
     "text": [
      "Model: \"sequential\"\n",
      "_________________________________________________________________\n",
      " Layer (type)                Output Shape              Param #   \n",
      "=================================================================\n",
      " lstm (LSTM)                 (None, 4, 100)            42800     \n",
      "                                                                 \n",
      " dropout (Dropout)           (None, 4, 100)            0         \n",
      "                                                                 \n",
      " lstm_1 (LSTM)               (None, 4, 100)            80400     \n",
      "                                                                 \n",
      " dropout_1 (Dropout)         (None, 4, 100)            0         \n",
      "                                                                 \n",
      " lstm_2 (LSTM)               (None, 4, 100)            80400     \n",
      "                                                                 \n",
      " dropout_2 (Dropout)         (None, 4, 100)            0         \n",
      "                                                                 \n",
      " lstm_3 (LSTM)               (None, 100)               80400     \n",
      "                                                                 \n",
      " dropout_3 (Dropout)         (None, 100)               0         \n",
      "                                                                 \n",
      " batch_normalization (BatchN  (None, 100)              400       \n",
      " ormalization)                                                   \n",
      "                                                                 \n",
      " dropout_4 (Dropout)         (None, 100)               0         \n",
      "                                                                 \n",
      " dense (Dense)               (None, 4)                 404       \n",
      "                                                                 \n",
      "=================================================================\n",
      "Total params: 284,804\n",
      "Trainable params: 284,604\n",
      "Non-trainable params: 200\n",
      "_________________________________________________________________\n"
     ]
    }
   ],
   "source": [
    "model = LSTM_Model(X_balanced_reshaped.shape[1:],num_classes)\n",
    "model.summary()"
   ]
  },
  {
   "cell_type": "code",
   "execution_count": 24,
   "id": "fcf6a86f-3cfa-4bee-b292-77b7a99403a4",
   "metadata": {},
   "outputs": [],
   "source": [
    "epochs = 10\n",
    "batch_size = 500\n",
    "\n",
    "callbacks = [\n",
    "    keras.callbacks.ModelCheckpoint(\n",
    "        \"best_model.h5\", save_best_only=True, monitor=\"val_loss\"\n",
    "    ),\n",
    "    keras.callbacks.ReduceLROnPlateau(\n",
    "        monitor=\"val_loss\", factor=0.5, patience=20, min_lr=0.00001\n",
    "    ),\n",
    "    keras.callbacks.EarlyStopping(monitor=\"val_loss\", patience=50, verbose=1),\n",
    "]\n",
    "\n",
    "opt = keras.optimizers.legacy.Adam(learning_rate=0.00001)\n",
    "model.compile(\n",
    "    optimizer=opt,\n",
    "    loss=\"categorical_crossentropy\",\n",
    "    metrics=METRICS,\n",
    ")"
   ]
  },
  {
   "cell_type": "code",
   "execution_count": 25,
   "id": "07cea7b3-3d86-452a-978d-e32e28e31196",
   "metadata": {},
   "outputs": [
    {
     "name": "stdout",
     "output_type": "stream",
     "text": [
      "Epoch 1/10\n",
      "537/537 [==============================] - 46s 74ms/step - loss: 0.5593 - tp: 257509.0000 - fp: 70087.0000 - tn: 936191.0000 - fn: 77917.0000 - accuracy: 0.8897 - precision: 0.7861 - recall: 0.7677 - auc: 0.9518 - prc: 0.8597 - val_loss: 0.5347 - val_tp: 49936.0000 - val_fp: 14627.0000 - val_tn: 186631.0000 - val_fn: 17150.0000 - val_accuracy: 0.8816 - val_precision: 0.7734 - val_recall: 0.7444 - val_auc: 0.9447 - val_prc: 0.8408 - lr: 1.0000e-05\n",
      "Epoch 2/10\n",
      "537/537 [==============================] - 32s 60ms/step - loss: 0.5571 - tp: 207952.0000 - fp: 55409.0000 - tn: 749611.0000 - fn: 60388.0000 - accuracy: 0.8921 - precision: 0.7896 - recall: 0.7750 - auc: 0.9537 - prc: 0.8646 - val_loss: 0.5345 - val_tp: 49949.0000 - val_fp: 14615.0000 - val_tn: 186643.0000 - val_fn: 17137.0000 - val_accuracy: 0.8817 - val_precision: 0.7736 - val_recall: 0.7446 - val_auc: 0.9447 - val_prc: 0.8410 - lr: 1.0000e-05\n",
      "Epoch 3/10\n",
      "537/537 [==============================] - 31s 58ms/step - loss: 0.5589 - tp: 207849.0000 - fp: 55415.0000 - tn: 749605.0000 - fn: 60491.0000 - accuracy: 0.8920 - precision: 0.7895 - recall: 0.7746 - auc: 0.9536 - prc: 0.8643 - val_loss: 0.5350 - val_tp: 49913.0000 - val_fp: 14656.0000 - val_tn: 186602.0000 - val_fn: 17173.0000 - val_accuracy: 0.8814 - val_precision: 0.7730 - val_recall: 0.7440 - val_auc: 0.9446 - val_prc: 0.8405 - lr: 1.0000e-05\n",
      "Epoch 4/10\n",
      "537/537 [==============================] - 32s 59ms/step - loss: 0.5584 - tp: 207815.0000 - fp: 55372.0000 - tn: 749648.0000 - fn: 60525.0000 - accuracy: 0.8920 - precision: 0.7896 - recall: 0.7744 - auc: 0.9538 - prc: 0.8649 - val_loss: 0.5355 - val_tp: 49904.0000 - val_fp: 14660.0000 - val_tn: 186598.0000 - val_fn: 17182.0000 - val_accuracy: 0.8813 - val_precision: 0.7729 - val_recall: 0.7439 - val_auc: 0.9445 - val_prc: 0.8404 - lr: 1.0000e-05\n",
      "Epoch 5/10\n",
      "537/537 [==============================] - 32s 59ms/step - loss: 0.5591 - tp: 208080.0000 - fp: 55147.0000 - tn: 749873.0000 - fn: 60260.0000 - accuracy: 0.8925 - precision: 0.7905 - recall: 0.7754 - auc: 0.9537 - prc: 0.8647 - val_loss: 0.5358 - val_tp: 49911.0000 - val_fp: 14649.0000 - val_tn: 186609.0000 - val_fn: 17175.0000 - val_accuracy: 0.8814 - val_precision: 0.7731 - val_recall: 0.7440 - val_auc: 0.9445 - val_prc: 0.8403 - lr: 1.0000e-05\n",
      "Epoch 6/10\n",
      "537/537 [==============================] - 32s 59ms/step - loss: 0.5556 - tp: 208033.0000 - fp: 55176.0000 - tn: 749844.0000 - fn: 60307.0000 - accuracy: 0.8924 - precision: 0.7904 - recall: 0.7753 - auc: 0.9538 - prc: 0.8651 - val_loss: 0.5347 - val_tp: 49965.0000 - val_fp: 14609.0000 - val_tn: 186649.0000 - val_fn: 17121.0000 - val_accuracy: 0.8818 - val_precision: 0.7738 - val_recall: 0.7448 - val_auc: 0.9447 - val_prc: 0.8409 - lr: 1.0000e-05\n",
      "Epoch 7/10\n",
      "537/537 [==============================] - 31s 58ms/step - loss: 0.5550 - tp: 208107.0000 - fp: 55147.0000 - tn: 749873.0000 - fn: 60233.0000 - accuracy: 0.8925 - precision: 0.7905 - recall: 0.7755 - auc: 0.9539 - prc: 0.8651 - val_loss: 0.5367 - val_tp: 49858.0000 - val_fp: 14709.0000 - val_tn: 186549.0000 - val_fn: 17228.0000 - val_accuracy: 0.8810 - val_precision: 0.7722 - val_recall: 0.7432 - val_auc: 0.9442 - val_prc: 0.8397 - lr: 1.0000e-05\n",
      "Epoch 8/10\n",
      "537/537 [==============================] - 31s 58ms/step - loss: 0.5559 - tp: 208232.0000 - fp: 55048.0000 - tn: 749972.0000 - fn: 60108.0000 - accuracy: 0.8927 - precision: 0.7909 - recall: 0.7760 - auc: 0.9539 - prc: 0.8652 - val_loss: 0.5338 - val_tp: 50009.0000 - val_fp: 14583.0000 - val_tn: 186675.0000 - val_fn: 17077.0000 - val_accuracy: 0.8820 - val_precision: 0.7742 - val_recall: 0.7454 - val_auc: 0.9449 - val_prc: 0.8415 - lr: 1.0000e-05\n",
      "Epoch 9/10\n",
      "537/537 [==============================] - 32s 59ms/step - loss: 0.5576 - tp: 208071.0000 - fp: 55193.0000 - tn: 749827.0000 - fn: 60269.0000 - accuracy: 0.8924 - precision: 0.7904 - recall: 0.7754 - auc: 0.9539 - prc: 0.8650 - val_loss: 0.5344 - val_tp: 49981.0000 - val_fp: 14599.0000 - val_tn: 186659.0000 - val_fn: 17105.0000 - val_accuracy: 0.8819 - val_precision: 0.7739 - val_recall: 0.7450 - val_auc: 0.9448 - val_prc: 0.8411 - lr: 1.0000e-05\n",
      "Epoch 10/10\n",
      "537/537 [==============================] - 36s 66ms/step - loss: 0.5612 - tp: 207870.0000 - fp: 55428.0000 - tn: 749592.0000 - fn: 60470.0000 - accuracy: 0.8920 - precision: 0.7895 - recall: 0.7747 - auc: 0.9537 - prc: 0.8646 - val_loss: 0.5357 - val_tp: 49899.0000 - val_fp: 14673.0000 - val_tn: 186585.0000 - val_fn: 17187.0000 - val_accuracy: 0.8813 - val_precision: 0.7728 - val_recall: 0.7438 - val_auc: 0.9445 - val_prc: 0.8403 - lr: 1.0000e-05\n"
     ]
    }
   ],
   "source": [
    "\n",
    "history = model.fit(\n",
    "    X_balanced_reshaped,\n",
    "    y_balanced_reshaped_onehot,\n",
    "    batch_size=batch_size,\n",
    "    epochs=epochs,\n",
    "    callbacks=callbacks,\n",
    "    validation_split=0.2,\n",
    "    verbose=1,class_weight=class_weight)\n"
   ]
  },
  {
   "cell_type": "code",
   "execution_count": 21,
   "id": "ab55328a-5b1a-45c0-a579-1bb9162a413c",
   "metadata": {},
   "outputs": [
    {
     "data": {
      "text/plain": [
       "<matplotlib.legend.Legend at 0x2d5466520>"
      ]
     },
     "execution_count": 21,
     "metadata": {},
     "output_type": "execute_result"
    },
    {
     "data": {
      "image/png": "[encoded data removed]",
      "text/plain": [
       "<Figure size 640x480 with 1 Axes>"
      ]
     },
     "metadata": {},
     "output_type": "display_data"
    }
   ],
   "source": [
    "plt.plot(history.history['val_accuracy'],label='val_accuracy')\n",
    "plt.plot(history.history['val_precision'],label='val_precision')\n",
    "plt.plot(history.history['val_recall'],label='val_recall')\n",
    "plt.legend()"
   ]
  },
  {
   "cell_type": "code",
   "execution_count": 26,
   "id": "9cf66294-4bae-42e1-95e3-0125c0c6d645",
   "metadata": {},
   "outputs": [
    {
     "name": "stderr",
     "output_type": "stream",
     "text": [
      "WARNING:absl:Found untraced functions such as lstm_cell_layer_call_fn, lstm_cell_layer_call_and_return_conditional_losses, lstm_cell_1_layer_call_fn, lstm_cell_1_layer_call_and_return_conditional_losses, lstm_cell_2_layer_call_fn while saving (showing 5 of 8). These functions will not be directly callable after loading.\n"
     ]
    },
    {
     "name": "stdout",
     "output_type": "stream",
     "text": [
      "INFO:tensorflow:Assets written to: models/assets\n"
     ]
    },
    {
     "name": "stderr",
     "output_type": "stream",
     "text": [
      "INFO:tensorflow:Assets written to: models/assets\n"
     ]
    }
   ],
   "source": [
    "model.save('models/')"
   ]
  },
  {
   "cell_type": "code",
   "execution_count": null,
   "id": "0d92b49b-7259-4698-b988-4cf96a9b545d",
   "metadata": {},
   "outputs": [],
   "source": []
  }
 ],
 "metadata": {
  "kernelspec": {
   "display_name": "Python 3 (ipykernel)",
   "language": "python",
   "name": "python3"
  },
  "language_info": {
   "codemirror_mode": {
    "name": "ipython",
    "version": 3
   },
   "file_extension": ".py",
   "mimetype": "text/x-python",
   "name": "python",
   "nbconvert_exporter": "python",
   "pygments_lexer": "ipython3",
   "version": "3.9.7"
  }
 },
 "nbformat": 4,
 "nbformat_minor": 5
}
