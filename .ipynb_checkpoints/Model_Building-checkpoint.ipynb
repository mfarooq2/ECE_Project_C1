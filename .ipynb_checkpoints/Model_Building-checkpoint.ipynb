{
 "cells": [
  {
   "cell_type": "code",
   "execution_count": 27,
   "id": "53ddf23e-e372-4aa1-9df0-d598b2d9c324",
   "metadata": {},
   "outputs": [],
   "source": [
    "from sklearn.ensemble import RandomForestClassifier\n",
    "from sklearn.metrics import accuracy_score, confusion_matrix, ConfusionMatrixDisplay\n",
    "from sklearn import svm\n",
    "import pandas as pd\n",
    "import glob\n",
    "from tqdm import tqdm\n",
    "import matplotlib.pyplot as plt\n",
    "import numpy as np\n",
    "from ast import literal_eval"
   ]
  },
  {
   "cell_type": "code",
   "execution_count": 48,
   "id": "69eaed96-cbc8-432d-8788-bf3acc5c9506",
   "metadata": {},
   "outputs": [],
   "source": [
    "from sklearn.ensemble import RandomForestClassifier\n",
    "from sklearn.metrics import accuracy_score, confusion_matrix, confusion_matrix, ConfusionMatrixDisplay\n",
    "from sklearn import svm\n",
    "from sklearn.model_selection import RandomizedSearchCV, train_test_split"
   ]
  },
  {
   "cell_type": "code",
   "execution_count": null,
   "id": "13294719-1e03-4c35-b37d-c4b7f0f9a8d6",
   "metadata": {},
   "outputs": [],
   "source": [
    "def string_array(x):\n",
    "    for i in x:\n",
    "        if i!=' '\n",
    "        \n",
    "    s=x.replace('    ',\",\")\n",
    "    return s"
   ]
  },
  {
   "cell_type": "code",
   "execution_count": null,
   "id": "4886f489-6167-412c-a74c-1ab7474f6dc3",
   "metadata": {},
   "outputs": [],
   "source": [
    "4.435275    8.196063"
   ]
  },
  {
   "cell_type": "code",
   "execution_count": null,
   "id": "f2591d27-4fb6-47dc-9d36-4805270c6062",
   "metadata": {},
   "outputs": [],
   "source": [
    "4.435275    8.196063"
   ]
  },
  {
   "cell_type": "code",
   "execution_count": 3,
   "id": "1811cf1f-a9e4-49db-932a-3b3f72ea4c7f",
   "metadata": {},
   "outputs": [],
   "source": [
    "files=glob.glob('pre_processed_training/*.csv')"
   ]
  },
  {
   "cell_type": "code",
   "execution_count": 29,
   "id": "b3041ae7-a682-438e-909c-7b7453f9d6da",
   "metadata": {},
   "outputs": [
    {
     "name": "stderr",
     "output_type": "stream",
     "text": [
      "100%|██████████████████████████████████████████████████████████████████████████████████████████████████████████████████████████████| 29/29 [00:01<00:00, 16.99it/s]\n"
     ]
    }
   ],
   "source": [
    "total_training_data=pd.DataFrame([])\n",
    "for f in tqdm(files):\n",
    "    total_training_data=pd.concat([total_training_data,pd.read_csv(f)],axis=0)\n",
    "total_training_data=total_training_data.sort_values(['Subject','Session','time_stamp'])\n",
    "total_training_data[\"time_stamp\"]=pd.to_datetime(total_training_data[\"time_stamp\"]).round('us')\n",
    "total_training_data=total_training_data[['Subject','Session','time_stamp','measurements','labels']].reset_index(drop=True)\n",
    "total_training_data['measurements']=total_training_data['measurements'].apply(lambda x: np.array(literal_eval(x)))\n",
    "#total_training_data=total_training_data.set_index('time_stamp').asfreq('0.025S')\n",
    "#total_training_data=total_training_data.set_index(['Subject','Session','time_stamp'])"
   ]
  },
  {
   "cell_type": "code",
   "execution_count": null,
   "id": "d9ef198f-347d-4e5d-bc3c-7eb4823017d8",
   "metadata": {},
   "outputs": [],
   "source": [
    "import numpy as np"
   ]
  },
  {
   "cell_type": "code",
   "execution_count": null,
   "id": "d9aa4529-b082-48de-918a-b80587cc5a27",
   "metadata": {},
   "outputs": [],
   "source": [
    "s_time_interv= total_training_data[['Subject','Session','time_stamp']]\n",
    "s_time_interv=s_time_interv.groupby(['Subject','Session']).agg({'time_stamp': [np.min,np.max]})\n",
    "s_time_interv.columns=s_time_interv.columns.droplevel()\n",
    "s_time_interv['time_interval']=s_time_interv['amax']-s_time_interv['amin']\n",
    "s_time_interv['time_interval']=s_time_interv['time_interval'].dt.total_seconds()\n",
    "s_time_interv=s_time_interv[['time_interval']]\n",
    "s_time_interv=s_time_interv.unstack()\n",
    "s_time_interv.columns=s_time_interv.columns.droplevel()\n",
    "#s=s.reset_index(drop=True)"
   ]
  },
  {
   "cell_type": "code",
   "execution_count": null,
   "id": "d0f71501-e82d-4121-bab1-9c3635fddbe5",
   "metadata": {},
   "outputs": [],
   "source": [
    "s_time_interv.plot(kind='bar',ylabel='time_interval')"
   ]
  },
  {
   "cell_type": "code",
   "execution_count": null,
   "id": "9c21282a-8a80-4a8e-9fc8-452af1794c5d",
   "metadata": {},
   "outputs": [],
   "source": [
    "s_label_dist= total_training_data[['Subject','labels','time_stamp']]\n",
    "s_label_dist=s_label_dist.groupby(['Subject','labels']).count()\n",
    "s_label_dist=s_label_dist.unstack()\n",
    "s_label_dist.columns=s_label_dist.columns.droplevel()\n",
    "s_label_dist.plot(kind='bar',xlabel='Subject',ylabel='count')"
   ]
  },
  {
   "cell_type": "code",
   "execution_count": null,
   "id": "70f6553c-fffd-4e7d-a044-5debac3e09e0",
   "metadata": {},
   "outputs": [],
   "source": [
    "s_label_dist= total_training_data[['Session','labels','time_stamp']]\n",
    "s_label_dist=s_label_dist.groupby(['Session','labels']).count()\n",
    "s_label_dist=s_label_dist.unstack()\n",
    "s_label_dist.columns=s_label_dist.columns.droplevel()\n",
    "s_label_dist.plot(kind='bar',xlabel='Session',ylabel='count')"
   ]
  },
  {
   "cell_type": "code",
   "execution_count": null,
   "id": "862f1559-770c-45b1-8466-90f96a90fa62",
   "metadata": {},
   "outputs": [],
   "source": [
    "s_label_dist"
   ]
  },
  {
   "cell_type": "code",
   "execution_count": null,
   "id": "19f54a86-9a31-416a-b031-44c90328716d",
   "metadata": {},
   "outputs": [],
   "source": []
  },
  {
   "cell_type": "code",
   "execution_count": null,
   "id": "b2bb93aa-8b77-4d23-a6ce-cb283e0a42bd",
   "metadata": {},
   "outputs": [],
   "source": [
    "s_label_dist.reset_index().plot.bar()"
   ]
  },
  {
   "cell_type": "code",
   "execution_count": null,
   "id": "e2b5f8c4-2e57-4a12-bde1-e0c66ba8ab84",
   "metadata": {},
   "outputs": [],
   "source": [
    "new_df = total_training_data[['time_stamp','labels','measurements']].groupby([pd.Grouper(key='time_stamp',freq='5min'),'labels']).count().reset_index().pivot(columns=['labels','time_stamp'])\n",
    "#.unstack()\n",
    "#new_df.columns = new_df.columns.droplevel()\n",
    "#new_df=new_df.reset_index()\n",
    "# new_df.plot.bar()"
   ]
  },
  {
   "cell_type": "code",
   "execution_count": 57,
   "id": "170fbc8e-f343-450f-8311-8e62f3f3892a",
   "metadata": {},
   "outputs": [],
   "source": [
    "X_total=np.vstack(total_training_data.measurements)\n",
    "Y_total=np.vstack(total_training_data.labels)\n",
    "Y_total=Y_total.reshape((len(Y_total)))"
   ]
  },
  {
   "cell_type": "code",
   "execution_count": 58,
   "id": "33fdd02c-de93-4f85-b16c-f31b3c0b3c11",
   "metadata": {},
   "outputs": [],
   "source": [
    "X_train, X_val, y_train, y_val = train_test_split(X_total, Y_total, test_size=0.2)"
   ]
  },
  {
   "cell_type": "code",
   "execution_count": 46,
   "id": "51a39877-e9ab-4df8-99a1-45245c22520e",
   "metadata": {},
   "outputs": [
    {
     "data": {
      "text/plain": [
       "(1341646, 1)"
      ]
     },
     "execution_count": 46,
     "metadata": {},
     "output_type": "execute_result"
    }
   ],
   "source": [
    "from sklearn.ensemble import RandomForestClassifier\n",
    "from sklearn.datasets import make_classification"
   ]
  },
  {
   "cell_type": "code",
   "execution_count": null,
   "id": "dac46f25-3597-4fc2-beb6-930a9aa99768",
   "metadata": {},
   "outputs": [],
   "source": [
    "\n",
    "X, y = make_classification(n_samples=1000, n_features=4,n_informative=2, n_redundant=0,random_state=0, shuffle=False)\n",
    "clf = RandomForestClassifier(max_depth=2, random_state=0)"
   ]
  },
  {
   "cell_type": "code",
   "execution_count": 59,
   "id": "1b3fbe27-94ab-4fb3-9245-74da7440ea4c",
   "metadata": {},
   "outputs": [
    {
     "data": {
      "text/html": [
       "<style>#sk-container-id-1 {color: black;background-color: white;}#sk-container-id-1 pre{padding: 0;}#sk-container-id-1 div.sk-toggleable {background-color: white;}#sk-container-id-1 label.sk-toggleable__label {cursor: pointer;display: block;width: 100%;margin-bottom: 0;padding: 0.3em;box-sizing: border-box;text-align: center;}#sk-container-id-1 label.sk-toggleable__label-arrow:before {content: \"▸\";float: left;margin-right: 0.25em;color: #696969;}#sk-container-id-1 label.sk-toggleable__label-arrow:hover:before {color: black;}#sk-container-id-1 div.sk-estimator:hover label.sk-toggleable__label-arrow:before {color: black;}#sk-container-id-1 div.sk-toggleable__content {max-height: 0;max-width: 0;overflow: hidden;text-align: left;background-color: #f0f8ff;}#sk-container-id-1 div.sk-toggleable__content pre {margin: 0.2em;color: black;border-radius: 0.25em;background-color: #f0f8ff;}#sk-container-id-1 input.sk-toggleable__control:checked~div.sk-toggleable__content {max-height: 200px;max-width: 100%;overflow: auto;}#sk-container-id-1 input.sk-toggleable__control:checked~label.sk-toggleable__label-arrow:before {content: \"▾\";}#sk-container-id-1 div.sk-estimator input.sk-toggleable__control:checked~label.sk-toggleable__label {background-color: #d4ebff;}#sk-container-id-1 div.sk-label input.sk-toggleable__control:checked~label.sk-toggleable__label {background-color: #d4ebff;}#sk-container-id-1 input.sk-hidden--visually {border: 0;clip: rect(1px 1px 1px 1px);clip: rect(1px, 1px, 1px, 1px);height: 1px;margin: -1px;overflow: hidden;padding: 0;position: absolute;width: 1px;}#sk-container-id-1 div.sk-estimator {font-family: monospace;background-color: #f0f8ff;border: 1px dotted black;border-radius: 0.25em;box-sizing: border-box;margin-bottom: 0.5em;}#sk-container-id-1 div.sk-estimator:hover {background-color: #d4ebff;}#sk-container-id-1 div.sk-parallel-item::after {content: \"\";width: 100%;border-bottom: 1px solid gray;flex-grow: 1;}#sk-container-id-1 div.sk-label:hover label.sk-toggleable__label {background-color: #d4ebff;}#sk-container-id-1 div.sk-serial::before {content: \"\";position: absolute;border-left: 1px solid gray;box-sizing: border-box;top: 0;bottom: 0;left: 50%;z-index: 0;}#sk-container-id-1 div.sk-serial {display: flex;flex-direction: column;align-items: center;background-color: white;padding-right: 0.2em;padding-left: 0.2em;position: relative;}#sk-container-id-1 div.sk-item {position: relative;z-index: 1;}#sk-container-id-1 div.sk-parallel {display: flex;align-items: stretch;justify-content: center;background-color: white;position: relative;}#sk-container-id-1 div.sk-item::before, #sk-container-id-1 div.sk-parallel-item::before {content: \"\";position: absolute;border-left: 1px solid gray;box-sizing: border-box;top: 0;bottom: 0;left: 50%;z-index: -1;}#sk-container-id-1 div.sk-parallel-item {display: flex;flex-direction: column;z-index: 1;position: relative;background-color: white;}#sk-container-id-1 div.sk-parallel-item:first-child::after {align-self: flex-end;width: 50%;}#sk-container-id-1 div.sk-parallel-item:last-child::after {align-self: flex-start;width: 50%;}#sk-container-id-1 div.sk-parallel-item:only-child::after {width: 0;}#sk-container-id-1 div.sk-dashed-wrapped {border: 1px dashed gray;margin: 0 0.4em 0.5em 0.4em;box-sizing: border-box;padding-bottom: 0.4em;background-color: white;}#sk-container-id-1 div.sk-label label {font-family: monospace;font-weight: bold;display: inline-block;line-height: 1.2em;}#sk-container-id-1 div.sk-label-container {text-align: center;}#sk-container-id-1 div.sk-container {/* jupyter's `normalize.less` sets `[hidden] { display: none; }` but bootstrap.min.css set `[hidden] { display: none !important; }` so we also need the `!important` here to be able to override the default hidden behavior on the sphinx rendered scikit-learn.org. See: https://github.com/scikit-learn/scikit-learn/issues/21755 */display: inline-block !important;position: relative;}#sk-container-id-1 div.sk-text-repr-fallback {display: none;}</style><div id=\"sk-container-id-1\" class=\"sk-top-container\"><div class=\"sk-text-repr-fallback\"><pre>RandomForestClassifier()</pre><b>In a Jupyter environment, please rerun this cell to show the HTML representation or trust the notebook. <br />On GitHub, the HTML representation is unable to render, please try loading this page with nbviewer.org.</b></div><div class=\"sk-container\" hidden><div class=\"sk-item\"><div class=\"sk-estimator sk-toggleable\"><input class=\"sk-toggleable__control sk-hidden--visually\" id=\"sk-estimator-id-1\" type=\"checkbox\" checked><label for=\"sk-estimator-id-1\" class=\"sk-toggleable__label sk-toggleable__label-arrow\">RandomForestClassifier</label><div class=\"sk-toggleable__content\"><pre>RandomForestClassifier()</pre></div></div></div></div></div>"
      ],
      "text/plain": [
       "RandomForestClassifier()"
      ]
     },
     "execution_count": 59,
     "metadata": {},
     "output_type": "execute_result"
    }
   ],
   "source": [
    "rf = RandomForestClassifier()\n",
    "rf.fit(X_train, y_train)"
   ]
  },
  {
   "cell_type": "code",
   "execution_count": 61,
   "id": "68567219-eabb-4b6e-af65-5226c136b590",
   "metadata": {},
   "outputs": [],
   "source": [
    "y_pred = rf.predict(X_val)"
   ]
  },
  {
   "cell_type": "code",
   "execution_count": 65,
   "id": "ccf6744d-26f6-4d58-9700-7246caf6ed53",
   "metadata": {},
   "outputs": [
    {
     "data": {
      "text/plain": [
       "(268330,)"
      ]
     },
     "execution_count": 65,
     "metadata": {},
     "output_type": "execute_result"
    }
   ],
   "source": [
    "y_pred.shape"
   ]
  },
  {
   "cell_type": "code",
   "execution_count": 64,
   "id": "13bed4b6-be52-4d0e-b05b-ae2d611641fc",
   "metadata": {},
   "outputs": [
    {
     "data": {
      "text/plain": [
       "(268330,)"
      ]
     },
     "execution_count": 64,
     "metadata": {},
     "output_type": "execute_result"
    }
   ],
   "source": [
    "y_val.shape"
   ]
  },
  {
   "cell_type": "code",
   "execution_count": 66,
   "id": "f72ed2d7-02ad-4464-9bc3-4c0932a1711f",
   "metadata": {},
   "outputs": [
    {
     "data": {
      "text/plain": [
       "(1341646, 6)"
      ]
     },
     "execution_count": 66,
     "metadata": {},
     "output_type": "execute_result"
    }
   ],
   "source": [
    "X_total.shape"
   ]
  },
  {
   "cell_type": "code",
   "execution_count": 67,
   "id": "f3988404-f1be-48cf-af9b-4d4c2c12261f",
   "metadata": {},
   "outputs": [
    {
     "data": {
      "text/plain": [
       "(1341646,)"
      ]
     },
     "execution_count": 67,
     "metadata": {},
     "output_type": "execute_result"
    }
   ],
   "source": [
    "Y_total.shape"
   ]
  },
  {
   "cell_type": "code",
   "execution_count": 68,
   "id": "82b362ab-f311-41c1-8124-566efb59900b",
   "metadata": {},
   "outputs": [],
   "source": [
    "from sklearn.metrics import accuracy_score, confusion_matrix, precision_score, recall_score, ConfusionMatrixDisplay"
   ]
  },
  {
   "cell_type": "code",
   "execution_count": 69,
   "id": "4cb4089d-df37-46c3-8120-2d218aa7b09f",
   "metadata": {},
   "outputs": [],
   "source": [
    "accuracy = accuracy_score(y_val, y_pred)"
   ]
  },
  {
   "cell_type": "code",
   "execution_count": 70,
   "id": "ce2031cb-0ab3-48a7-b229-6d4657c50712",
   "metadata": {},
   "outputs": [
    {
     "data": {
      "text/plain": [
       "0.7993515447396862"
      ]
     },
     "execution_count": 70,
     "metadata": {},
     "output_type": "execute_result"
    }
   ],
   "source": [
    "accuracy"
   ]
  }
 ],
 "metadata": {
  "kernelspec": {
   "display_name": "Python 3 (ipykernel)",
   "language": "python",
   "name": "python3"
  },
  "language_info": {
   "codemirror_mode": {
    "name": "ipython",
    "version": 3
   },
   "file_extension": ".py",
   "mimetype": "text/x-python",
   "name": "python",
   "nbconvert_exporter": "python",
   "pygments_lexer": "ipython3",
   "version": "3.10.9"
  }
 },
 "nbformat": 4,
 "nbformat_minor": 5
}
