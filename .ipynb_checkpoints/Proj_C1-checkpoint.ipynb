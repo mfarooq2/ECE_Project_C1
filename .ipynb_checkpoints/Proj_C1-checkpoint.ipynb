{
  "nbformat": 4,
  "nbformat_minor": 0,
  "metadata": {
    "colab": {
      "provenance": []
    },
    "kernelspec": {
      "name": "python3",
      "display_name": "Python 3"
    },
    "language_info": {
      "name": "python"
    },
    "gpuClass": "standard",
    "accelerator": "GPU"
  },
  "cells": [
    {
      "cell_type": "markdown",
      "source": [
        "Notes\n",
        "\n",
        "* Ways to connect x and y?\n",
        "\n",
        "Since both x and y are sampled at different rates, their timestamps are different. We can do either of following -\n",
        "\n",
        "1.   Downsample x - loss of data\n",
        "2.   Upsample y - use nearest neighbours \n",
        "3.   Assign y to the window of x - Good for CNN, RNN\n",
        "\n",
        "* How to split data into train and validation set?\n",
        "\n",
        "1. Leave a whole subject out as validation set? - We might end up leaving a very good/very bad subject out.\n",
        "2. Randomly assigning parts of data as validation set? Not really\n",
        "3. Cross validation with one subject as validation set.\n",
        "4. Last part of a subject as validation set.\n",
        "\n",
        "* How to deal with the imbalance?\n",
        "\n",
        "\n",
        "\n",
        "\n",
        "\n"
      ],
      "metadata": {
        "id": "povT06zC_jEL"
      }
    },
    {
      "cell_type": "code",
      "execution_count": null,
      "metadata": {
        "id": "ZDJ6d0FwdWCs"
      },
      "outputs": [],
      "source": [
        "import os\n",
        "\n",
        "import tqdm\n",
        "\n",
        "import numpy as np\n",
        "import pandas as pd\n",
        "\n",
        "\n",
        "import matplotlib.pyplot as plt\n",
        "\n",
        "import time\n",
        "\n",
        "%matplotlib inline"
      ]
    },
    {
      "cell_type": "code",
      "source": [
        "TRAIN_DATA_PATH = \"/content/drive/MyDrive/ECE542_sp2022_Project_TerrainRecognition/TrainingData\"\n",
        "TEST_DATA_PATH  = \"/content/drive/MyDrive/ECE542_sp2022_Project_TerrainRecognition/TestData\"\n",
        "TRAIN_RES_DATA_PATH = \"/content/drive/MyDrive/ECE542_sp2022_Project_TerrainRecognition/Train_upscale_y\""
      ],
      "metadata": {
        "id": "Wslisf4rSx-A"
      },
      "execution_count": null,
      "outputs": []
    },
    {
      "cell_type": "code",
      "source": [
        "subject_dict = {}\n",
        "\n",
        "for f in os.listdir(TRAIN_DATA_PATH):\n",
        "  subject, ftype = f.split(\"__\")\n",
        "\n",
        "  if subject_dict.get(subject) is None:\n",
        "    subject_dict[subject] = [f]\n",
        "  else:\n",
        "    subject_dict[subject].append(f)"
      ],
      "metadata": {
        "id": "sKDaNhAFT2TZ"
      },
      "execution_count": null,
      "outputs": []
    },
    {
      "cell_type": "code",
      "source": [
        "print(\"Total subjects in traning: \",len(subject_dict.keys()))"
      ],
      "metadata": {
        "colab": {
          "base_uri": "https://localhost:8080/"
        },
        "id": "Kwjwr0k3UKnw",
        "outputId": "06676e1f-672f-4a95-87a0-0b7d0d4a77ea"
      },
      "execution_count": null,
      "outputs": [
        {
          "output_type": "stream",
          "name": "stdout",
          "text": [
            "Total subjects in traning:  29\n"
          ]
        }
      ]
    },
    {
      "cell_type": "code",
      "source": [
        "# x = pd.read_csv(os.path.join(TRAIN_DATA_PATH, \"subject_002_01__x.csv\"), header=None)\n",
        "# x_time = pd.read_csv(os.path.join(TRAIN_DATA_PATH, \"subject_002_01__x_time.csv\"), header=None)\n",
        "\n",
        "# y = pd.read_csv(os.path.join(TRAIN_DATA_PATH, \"subject_002_01__y.csv\"), header=None)\n",
        "# y_time = pd.read_csv(os.path.join(TRAIN_DATA_PATH, \"subject_002_01__y_time.csv\"), header=None)"
      ],
      "metadata": {
        "id": "Gam8LmlAWjAd"
      },
      "execution_count": null,
      "outputs": []
    },
    {
      "cell_type": "code",
      "source": [
        "def upsample_y_join(x, y):\n",
        "  y_time = y[\"time\"]\n",
        "  res = []\n",
        "  for x_time in x[\"time\"]:\n",
        "    diff = np.absolute(np.subtract(y_time.to_numpy(), np.array([x_time]*y.shape[0])))\n",
        "\n",
        "    res.append(y[\"y\"].loc[np.argmin(diff, axis=0)])\n",
        "\n",
        "  x[\"y\"] = res\n",
        "\n",
        "  return x"
      ],
      "metadata": {
        "id": "4HGxQQJjpcnV"
      },
      "execution_count": null,
      "outputs": []
    },
    {
      "cell_type": "code",
      "source": [
        "# Uncomment if you want to recreate the files from scratch - takes 15-20 min\n",
        "# Just to load the train file - run next cell\n",
        "\n",
        "# for subject, files in tqdm.tqdm(subject_dict.items()):\n",
        "#   x_time = pd.read_csv(os.path.join(TRAIN_DATA_PATH,subject+\"__x_time.csv\"), header=None)\n",
        "#   x_data = pd.read_csv(os.path.join(TRAIN_DATA_PATH,subject+\"__x.csv\"), header=None)\n",
        "\n",
        "#   x = x_time.join(x_data, lsuffix=\"_time\")\n",
        "\n",
        "#   x.rename(columns={\"0_time\":\"time\",\"0\":\"x1\",1:\"x2\",2:\"x3\",3:\"x4\",4:\"x5\",5:\"x6\"}, inplace=True)\n",
        "\n",
        "#   y_time = pd.read_csv(os.path.join(TRAIN_DATA_PATH,subject+\"__y_time.csv\"), header=None)\n",
        "#   y_data = pd.read_csv(os.path.join(TRAIN_DATA_PATH,subject+\"__y.csv\"), header=None)\n",
        "\n",
        "#   y = y_time.join(y_data, lsuffix=\"_time\")\n",
        "\n",
        "#   y.rename(columns={\"0_time\":\"time\",\"0\":\"y\"}, inplace=True)\n",
        "\n",
        "#   # strategy to join x and y \n",
        "#   dt = upsample_y_join(x,y)\n",
        "\n",
        "#   dt.to_csv(os.path.join(TRAIN_RES_DATA_PATH,subject+\".csv\"), index=False)"
      ],
      "metadata": {
        "id": "QR6_2Hu6gF3X"
      },
      "execution_count": null,
      "outputs": []
    },
    {
      "cell_type": "code",
      "source": [
        "# Run this cell to load the upsampled y data\n",
        "\n",
        "data = {}\n",
        "\n",
        "for subject in subject_dict.keys():\n",
        "  dt = pd.read_csv(os.path.join(TRAIN_RES_DATA_PATH, subject+\".csv\"))\n",
        "  if \"Unnamed: 0\" in dt.columns:\n",
        "    dt.drop(columns=[\"Unnamed: 0\"], inplace=True)\n",
        "  data[subject] = dt \n",
        "\n",
        "print(len(data))"
      ],
      "metadata": {
        "colab": {
          "base_uri": "https://localhost:8080/"
        },
        "id": "e6H3W_sZhsog",
        "outputId": "5e60d505-064c-43ea-db18-e2dec1081131"
      },
      "execution_count": null,
      "outputs": [
        {
          "output_type": "stream",
          "name": "stdout",
          "text": [
            "29\n"
          ]
        }
      ]
    },
    {
      "cell_type": "markdown",
      "source": [
        "### Naive approach - Random Forest \n",
        "\n",
        "- Time component is out of the picture (doesn't make any sense but we are applying naive approach)\n",
        "- Use 15 fold cross validation (we should instead leave whole subjects out for cross validation)\n",
        "\n",
        "\n",
        "Findings \n",
        "- Takes around 1 hr to train\n",
        "- Mean validation accuracy with 15 folds : 75.02% (Not bad)"
      ],
      "metadata": {
        "id": "3P_DI5CGldxg"
      }
    },
    {
      "cell_type": "code",
      "source": [
        "from sklearn.ensemble import RandomForestClassifier\n",
        "from sklearn.model_selection import KFold\n",
        "from sklearn import metrics"
      ],
      "metadata": {
        "id": "ZGDD3kZ6fyn7"
      },
      "execution_count": null,
      "outputs": []
    },
    {
      "cell_type": "code",
      "source": [
        "master_data = pd.DataFrame()\n",
        "\n",
        "for subject, dt in data.items():\n",
        "  dt[\"subject\"] = [subject]*dt.shape[0]\n",
        "  master_data = pd.concat([master_data, dt])"
      ],
      "metadata": {
        "id": "hCBZmUx1q6Xw"
      },
      "execution_count": null,
      "outputs": []
    },
    {
      "cell_type": "code",
      "source": [
        "master_data.set_index([\"subject\",\"time\"], inplace=True)"
      ],
      "metadata": {
        "id": "r8u3RybxrsoI"
      },
      "execution_count": null,
      "outputs": []
    },
    {
      "cell_type": "code",
      "source": [
        "x_train = master_data.drop(columns=[\"y\"])\n",
        "y_train = master_data[\"y\"]"
      ],
      "metadata": {
        "id": "6K9nErIf8dUv"
      },
      "execution_count": null,
      "outputs": []
    },
    {
      "cell_type": "code",
      "source": [
        "# Random forest with kfold\n",
        "\n",
        "# k_folds = KFold(n_splits=15)\n",
        "# kfold = k_folds.split(x_train, y_train)\n",
        "\n",
        "# scores = []\n",
        "\n",
        "# for k, (train, val) in enumerate(kfold):\n",
        "#   rfc = RandomForestClassifier(n_estimators=100, max_depth=4)\n",
        "#   rfc.fit(x_train.iloc[train, :], y_train.iloc[train])\n",
        "#   y_predicted = rfc.predict(x_train.iloc[val, :])\n",
        "#   acc = metrics.accuracy_score(y_train.iloc[val], y_predicted)\n",
        "#   scores.append(acc)\n",
        "\n",
        "#   print(\"Fold {0} : Training/Test split distribution {1} Accuracy: {2}\".format(k+1, np.bincount(y_train.iloc[train]), acc))\n",
        "\n",
        "# print(\"Cross-validation accuracy {0} +/- {1}\".format(np.mean(scores), np.std(scores)))"
      ],
      "metadata": {
        "id": "y-rr3hFY8gjd"
      },
      "execution_count": null,
      "outputs": []
    },
    {
      "cell_type": "markdown",
      "source": [
        "### Not so naive approach - LSTM\n",
        "\n",
        "- By looking at the data of last t timestamps, can we predict the action?\n",
        "- This time leave 5 random subjects to test on\n"
      ],
      "metadata": {
        "id": "PEx3jwtaWpal"
      }
    },
    {
      "cell_type": "code",
      "source": [
        "import random"
      ],
      "metadata": {
        "id": "WPDmbmRV9Wh6"
      },
      "execution_count": null,
      "outputs": []
    },
    {
      "cell_type": "code",
      "source": [
        "val_subjects = random.choices(list(data.keys()), k=5)\n",
        "print(\"Random validation subjects: \", val_subjects)"
      ],
      "metadata": {
        "colab": {
          "base_uri": "https://localhost:8080/"
        },
        "id": "V45IMAPCGmZM",
        "outputId": "e88a36c7-02fd-417d-c2fc-744ccec7bad3"
      },
      "execution_count": null,
      "outputs": [
        {
          "output_type": "stream",
          "name": "stdout",
          "text": [
            "Random validation subjects:  ['subject_004_02', 'subject_002_01', 'subject_001_08', 'subject_005_03', 'subject_007_02']\n"
          ]
        }
      ]
    },
    {
      "cell_type": "code",
      "source": [
        "def prepare_data_lstm(dt, past_timestamps):\n",
        "  train_x = []\n",
        "  train_y = []\n",
        "\n",
        "  for i in range(dt.shape[0]):\n",
        "    dt_x = dt.drop(columns=[\"y\",\"time\"])\n",
        "    dt_y = dt[\"y\"]\n",
        "\n",
        "    if i<past_timestamps:\n",
        "      x = np.concatenate([np.array([list([0]*6)]*(past_timestamps-i)), np.array(dt_x.iloc[:i+1,:])], axis=0)\n",
        "    else:\n",
        "      x = np.array(dt_x.iloc[i-past_timestamps:i+1,:])\n",
        "    \n",
        "    y = [0]*4\n",
        "    y[dt_y[i]] = 1\n",
        "\n",
        "    train_x.append(x)\n",
        "    train_y.append(y)\n",
        "\n",
        "  return np.array(train_x), np.array(train_y)"
      ],
      "metadata": {
        "id": "1yt6L5Ft14TW"
      },
      "execution_count": null,
      "outputs": []
    },
    {
      "cell_type": "code",
      "source": [
        "start_time = time.time()\n",
        "\n",
        "trainable_data = {}\n",
        "validation_data = {}\n",
        "\n",
        "past_timestamps = 20\n",
        "\n",
        "for subject, dt in tqdm.tqdm(data.items()):\n",
        "  \n",
        "  train_x, train_y = prepare_data_lstm(dt, past_timestamps)\n",
        "\n",
        "  if subject in val_subjects:\n",
        "    validation_data[subject] = [train_x, train_y]\n",
        "  else:\n",
        "    trainable_data[subject] = [train_x, train_y]\n",
        "\n",
        "print(\"Time taken to prepare the data: {0} seconds\".format(time.time()-start_time))  "
      ],
      "metadata": {
        "colab": {
          "base_uri": "https://localhost:8080/"
        },
        "id": "921o7Qb2xmgB",
        "outputId": "47699cbe-1edc-45d8-ba56-555726fe3ab5"
      },
      "execution_count": null,
      "outputs": [
        {
          "output_type": "stream",
          "name": "stderr",
          "text": [
            "100%|██████████| 29/29 [17:15<00:00, 35.70s/it]"
          ]
        },
        {
          "output_type": "stream",
          "name": "stdout",
          "text": [
            "Time taken to prepare the data: 1035.3508310317993 seconds\n"
          ]
        },
        {
          "output_type": "stream",
          "name": "stderr",
          "text": [
            "\n"
          ]
        }
      ]
    },
    {
      "cell_type": "code",
      "source": [
        "from keras.models import Sequential\n",
        "from keras.layers import LSTM, Dense, Dropout"
      ],
      "metadata": {
        "id": "pCyvNdoqxnsa"
      },
      "execution_count": null,
      "outputs": []
    },
    {
      "cell_type": "markdown",
      "source": [
        "Model 1 \n",
        "\n",
        "model = Sequential()\n",
        "\n",
        "model.add(LSTM(64, activation='relu', input_shape=(past_timestamps+1, 6),return_sequences=True))\n",
        "\n",
        "model.add(LSTM(32, activation='relu', return_sequences=False))\n",
        "\n",
        "model.add(Dropout(0.2))\n",
        "\n",
        "model.add(Dense(4, activation='softmax'))\n",
        "\n"
      ],
      "metadata": {
        "id": "mGu8MzS9qSjo"
      }
    },
    {
      "cell_type": "code",
      "source": [
        "# Define model\n",
        "\n",
        "model = Sequential()\n",
        "model.add(LSTM(16, activation='relu', input_shape=(past_timestamps+1, 6), return_sequences=False))\n",
        "model.add(Dropout(0.2))\n",
        "model.add(Dense(4, activation='softmax'))\n",
        "\n",
        "model.compile(optimizer=\"adam\", loss=\"categorical_crossentropy\", metrics=[\"accuracy\"])\n",
        "model.summary()"
      ],
      "metadata": {
        "colab": {
          "base_uri": "https://localhost:8080/"
        },
        "id": "yLW82M0Ozkcx",
        "outputId": "aca94e38-12dc-4b6b-e0a1-2270c31ebfee"
      },
      "execution_count": null,
      "outputs": [
        {
          "output_type": "stream",
          "name": "stderr",
          "text": [
            "WARNING:tensorflow:Layer lstm_4 will not use cuDNN kernels since it doesn't meet the criteria. It will use a generic GPU kernel as fallback when running on GPU.\n"
          ]
        },
        {
          "output_type": "stream",
          "name": "stdout",
          "text": [
            "Model: \"sequential_2\"\n",
            "_________________________________________________________________\n",
            " Layer (type)                Output Shape              Param #   \n",
            "=================================================================\n",
            " lstm_4 (LSTM)               (None, 16)                1472      \n",
            "                                                                 \n",
            " dropout_2 (Dropout)         (None, 16)                0         \n",
            "                                                                 \n",
            " dense_2 (Dense)             (None, 4)                 68        \n",
            "                                                                 \n",
            "=================================================================\n",
            "Total params: 1,540\n",
            "Trainable params: 1,540\n",
            "Non-trainable params: 0\n",
            "_________________________________________________________________\n"
          ]
        }
      ]
    },
    {
      "cell_type": "code",
      "source": [
        "start_time = time.time()\n",
        "\n",
        "train_loss = []\n",
        "val_loss = []\n",
        "\n",
        "train_acc = []\n",
        "val_acc = []\n",
        "\n",
        "trainable_subjects = list(trainable_data.keys())\n",
        "random.shuffle(trainable_subjects)\n",
        "\n",
        "for subject in trainable_subjects:\n",
        "  print(\"Subject: \",subject)\n",
        "  train_x, train_y = trainable_data[subject]\n",
        "  history = model.fit(train_x, train_y, epochs=1, batch_size=16, validation_split=0.1, verbose=1)\n",
        "\n",
        "  train_loss.append(history.history[\"loss\"])\n",
        "  val_loss.append(history.history[\"val_loss\"])\n",
        "\n",
        "  train_acc.append(history.history[\"accuracy\"])\n",
        "  val_acc.append(history.history[\"val_accuracy\"])\n",
        "\n",
        "print(\"\\n=======================================================================\")\n",
        "print(\"Total training time: {0} seconds\".format(time.time()-start_time))"
      ],
      "metadata": {
        "colab": {
          "base_uri": "https://localhost:8080/"
        },
        "id": "8pG4Q81hzp-_",
        "outputId": "70acac4b-85cd-4fa4-a93f-aaa52c1c7b5c"
      },
      "execution_count": null,
      "outputs": [
        {
          "output_type": "stream",
          "name": "stdout",
          "text": [
            "Subject:  subject_007_01\n",
            "2599/2599 [==============================] - 127s 48ms/step - loss: 0.5661 - accuracy: 0.7701 - val_loss: 0.1868 - val_accuracy: 0.9491\n",
            "Subject:  subject_001_03\n",
            "2427/2427 [==============================] - 113s 47ms/step - loss: 0.4194 - accuracy: 0.8540 - val_loss: 0.6058 - val_accuracy: 0.8134\n",
            "Subject:  subject_002_03\n",
            "2745/2745 [==============================] - 124s 45ms/step - loss: 0.4381 - accuracy: 0.8197 - val_loss: 0.3578 - val_accuracy: 0.9240\n",
            "Subject:  subject_003_03\n",
            "1099/1099 [==============================] - 52s 47ms/step - loss: 0.3856 - accuracy: 0.8550 - val_loss: 0.1704 - val_accuracy: 0.9504\n",
            "Subject:  subject_006_02\n",
            "3351/3351 [==============================] - 155s 46ms/step - loss: 0.2528 - accuracy: 0.9096 - val_loss: 0.1874 - val_accuracy: 0.9540\n",
            "Subject:  subject_001_02\n",
            "3948/3948 [==============================] - 182s 46ms/step - loss: 0.3817 - accuracy: 0.8640 - val_loss: 0.3204 - val_accuracy: 0.9097\n",
            "Subject:  subject_001_06\n",
            "2173/2173 [==============================] - 99s 46ms/step - loss: 0.1557 - accuracy: 0.9579 - val_loss: 0.0294 - val_accuracy: 0.9948\n",
            "Subject:  subject_001_04\n",
            "3092/3092 [==============================] - 140s 45ms/step - loss: 0.3420 - accuracy: 0.8854 - val_loss: 0.2661 - val_accuracy: 0.9221\n",
            "Subject:  subject_006_03\n",
            "2539/2539 [==============================] - 114s 45ms/step - loss: 0.2503 - accuracy: 0.9053 - val_loss: 0.1847 - val_accuracy: 0.9535\n",
            "Subject:  subject_001_05\n",
            "3326/3326 [==============================] - 151s 45ms/step - loss: 0.2857 - accuracy: 0.9048 - val_loss: 0.1661 - val_accuracy: 0.9614\n",
            "Subject:  subject_005_02\n",
            "1942/1942 [==============================] - 90s 46ms/step - loss: 0.2017 - accuracy: 0.9299 - val_loss: 0.1670 - val_accuracy: 0.9635\n",
            "Subject:  subject_001_07\n",
            "1768/1768 [==============================] - 82s 46ms/step - loss: 0.2089 - accuracy: 0.9268 - val_loss: 0.2533 - val_accuracy: 0.9424\n",
            "Subject:  subject_007_04\n",
            "2219/2219 [==============================] - 101s 46ms/step - loss: 0.3798 - accuracy: 0.8426 - val_loss: 0.0507 - val_accuracy: 0.9848\n",
            "Subject:  subject_007_03\n",
            "2511/2511 [==============================] - 114s 45ms/step - loss: 0.3688 - accuracy: 0.8526 - val_loss: 0.0868 - val_accuracy: 0.9834\n",
            "Subject:  subject_005_01\n",
            "3155/3155 [==============================] - 142s 45ms/step - loss: 0.2172 - accuracy: 0.9204 - val_loss: 0.1390 - val_accuracy: 0.9629\n",
            "Subject:  subject_002_04\n",
            "2895/2895 [==============================] - 129s 45ms/step - loss: 0.3180 - accuracy: 0.8797 - val_loss: 0.8013 - val_accuracy: 0.8797\n",
            "Subject:  subject_002_02\n",
            "3117/3117 [==============================] - 139s 45ms/step - loss: 0.2702 - accuracy: 0.8933 - val_loss: 0.1663 - val_accuracy: 0.9417\n",
            "Subject:  subject_003_02\n",
            "2656/2656 [==============================] - 118s 44ms/step - loss: 0.3015 - accuracy: 0.8937 - val_loss: 0.1088 - val_accuracy: 0.9989\n",
            "Subject:  subject_006_01\n",
            "2707/2707 [==============================] - 122s 45ms/step - loss: 0.2191 - accuracy: 0.9286 - val_loss: 0.3836 - val_accuracy: 0.8477\n",
            "Subject:  subject_001_01\n",
            "2132/2132 [==============================] - 96s 45ms/step - loss: 0.2656 - accuracy: 0.9006 - val_loss: 0.0495 - val_accuracy: 0.9879\n",
            "Subject:  subject_002_05\n",
            "2381/2381 [==============================] - 109s 46ms/step - loss: 0.3263 - accuracy: 0.8700 - val_loss: 0.3913 - val_accuracy: 0.9156\n",
            "Subject:  subject_004_01\n",
            "1930/1930 [==============================] - 85s 44ms/step - loss: 0.2020 - accuracy: 0.9247 - val_loss: 0.1573 - val_accuracy: 0.9615\n",
            "Subject:  subject_008_01\n",
            "2708/2708 [==============================] - 118s 44ms/step - loss: 0.3295 - accuracy: 0.8825 - val_loss: 0.0395 - val_accuracy: 0.9902\n",
            "Subject:  subject_003_01\n",
            "2043/2043 [==============================] - 90s 44ms/step - loss: 0.3385 - accuracy: 0.8791 - val_loss: 0.2378 - val_accuracy: 0.9573\n",
            "\n",
            "=======================================================================\n",
            "Total training time: 3400.4074494838715 seconds\n"
          ]
        }
      ]
    },
    {
      "cell_type": "code",
      "source": [
        "plt.plot(train_loss, label='Training loss')\n",
        "plt.plot(val_loss, label='Validation loss')\n",
        "plt.legend()"
      ],
      "metadata": {
        "id": "R1Bf_0HJ0DWh",
        "colab": {
          "base_uri": "https://localhost:8080/",
          "height": 283
        },
        "outputId": "5b07764b-51ad-4e18-cf82-78fca5146677"
      },
      "execution_count": null,
      "outputs": [
        {
          "output_type": "execute_result",
          "data": {
            "text/plain": [
              "<matplotlib.legend.Legend at 0x7fbce2cd95e0>"
            ]
          },
          "metadata": {},
          "execution_count": 68
        },
        {
          "output_type": "display_data",
          "data": {
            "text/plain": [
              "<Figure size 432x288 with 1 Axes>"
            ],
            "image/png": "[encoded data removed]"
          },
          "metadata": {
            "needs_background": "light"
          }
        }
      ]
    },
    {
      "cell_type": "code",
      "source": [
        "plt.plot(train_acc, label='Training accuracy')\n",
        "plt.plot(val_acc, label='Validation accuracy')\n",
        "plt.legend()"
      ],
      "metadata": {
        "colab": {
          "base_uri": "https://localhost:8080/",
          "height": 283
        },
        "id": "PHjqJJtMXh57",
        "outputId": "1429a11c-6153-427c-bb64-fdb6c7d0557c"
      },
      "execution_count": null,
      "outputs": [
        {
          "output_type": "execute_result",
          "data": {
            "text/plain": [
              "<matplotlib.legend.Legend at 0x7fbce2d78df0>"
            ]
          },
          "metadata": {},
          "execution_count": 69
        },
        {
          "output_type": "display_data",
          "data": {
            "text/plain": [
              "<Figure size 432x288 with 1 Axes>"
            ],
            "image/png": "[encoded data removed]"
          },
          "metadata": {
            "needs_background": "light"
          }
        }
      ]
    },
    {
      "cell_type": "code",
      "source": [
        "# saving the model\n",
        "\n",
        "model.save(\"/content/drive/MyDrive/ECE542_sp2022_Project_TerrainRecognition/lstm_model_cross_entropy_lstm16.h5\")"
      ],
      "metadata": {
        "id": "NeTqGiL40OMV"
      },
      "execution_count": null,
      "outputs": []
    },
    {
      "cell_type": "code",
      "source": [
        "f1_scores = []\n",
        "precision_scores = []\n",
        "recall_scores = []\n",
        "acc_scores = []\n",
        "\n",
        "for subject in validation_data.keys():\n",
        "  print(\"Subject: \",subject)\n",
        "  val_x, val_y = validation_data[subject]\n",
        "  prediction = model.predict(val_x)\n",
        "\n",
        "  val_y = val_y.argmax(axis=1)\n",
        "  pred_y = prediction.argmax(axis=1)\n",
        "\n",
        "  f1_score = metrics.f1_score(val_y, pred_y, average=\"micro\") \n",
        "  f1_scores.append(f1_score)\n",
        "\n",
        "  precision = metrics.precision_score(val_y, pred_y, average=\"micro\")\n",
        "  precision_scores.append(precision)\n",
        "\n",
        "  recall = metrics.recall_score(val_y, pred_y, average= \"micro\")\n",
        "  recall_scores.append(recall)\n",
        "\n",
        "  #mse = metrics.log_loss(val_y, pred_y, labels=[0,1,2,3])\n",
        "  acc = metrics.accuracy_score(val_y, pred_y)\n",
        "  acc_scores.append(acc)"
      ],
      "metadata": {
        "id": "f3TB_v20H-jX",
        "colab": {
          "base_uri": "https://localhost:8080/"
        },
        "outputId": "d575d4ac-90f2-4f92-a2c3-bf832408aa49"
      },
      "execution_count": null,
      "outputs": [
        {
          "output_type": "stream",
          "name": "stdout",
          "text": [
            "Subject:  subject_007_02\n",
            "1469/1469 [==============================] - 9s 6ms/step\n",
            "Subject:  subject_004_02\n",
            "1078/1078 [==============================] - 9s 8ms/step\n",
            "Subject:  subject_001_08\n",
            "2087/2087 [==============================] - 11s 5ms/step\n",
            "Subject:  subject_002_01\n",
            "1750/1750 [==============================] - 9s 5ms/step\n",
            "Subject:  subject_005_03\n",
            "1404/1404 [==============================] - 7s 5ms/step\n"
          ]
        }
      ]
    },
    {
      "cell_type": "code",
      "source": [
        "print(\"Mean f1 score: \",np.mean(f1_scores))\n",
        "print(\"Mean precision: \",np.mean(precision_scores))\n",
        "print(\"Mean recall: \",np.mean(recall_scores))\n",
        "print(\"Mean accuracy: \",np.mean(acc_scores))"
      ],
      "metadata": {
        "colab": {
          "base_uri": "https://localhost:8080/"
        },
        "id": "esHY9sSo-Zzp",
        "outputId": "85a64740-b593-4b77-b33e-1a1b041b5407"
      },
      "execution_count": null,
      "outputs": [
        {
          "output_type": "stream",
          "name": "stdout",
          "text": [
            "Mean f1 score:  0.5676148521117208\n",
            "Mean precision:  0.5676148521117208\n",
            "Mean recall:  0.5676148521117208\n",
            "Mean accuracy:  0.5676148521117208\n"
          ]
        }
      ]
    },
    {
      "cell_type": "code",
      "source": [],
      "metadata": {
        "id": "ETYDPfZNZCwK"
      },
      "execution_count": null,
      "outputs": []
    },
    {
      "cell_type": "code",
      "source": [],
      "metadata": {
        "id": "ikyGXTPwZ2Zn"
      },
      "execution_count": null,
      "outputs": []
    },
    {
      "cell_type": "code",
      "source": [],
      "metadata": {
        "id": "7gHEy90Dm5k-"
      },
      "execution_count": null,
      "outputs": []
    },
    {
      "cell_type": "code",
      "source": [],
      "metadata": {
        "id": "2TsZBJ9ym95B"
      },
      "execution_count": null,
      "outputs": []
    },
    {
      "cell_type": "code",
      "source": [],
      "metadata": {
        "id": "BUnOrjCsnAeJ"
      },
      "execution_count": null,
      "outputs": []
    }
  ]
}