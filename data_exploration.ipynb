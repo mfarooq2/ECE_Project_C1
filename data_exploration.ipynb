{
 "cells": [
  {
   "cell_type": "code",
   "execution_count": 1,
   "id": "f68c2fef-e955-4e5f-839b-774fdd2de681",
   "metadata": {},
   "outputs": [],
   "source": [
    "import pandas as pd\n",
    "import glob\n",
    "from tqdm import tqdm\n",
    "from dask.dataframe import from_pandas\n",
    "import dask.dataframe as dd"
   ]
  },
  {
   "cell_type": "code",
   "execution_count": 3,
   "id": "bdf99ecf-c10d-4f5a-ac3c-0566aa15bc20",
   "metadata": {},
   "outputs": [],
   "source": [
    "def data_frame_adder(temp_frame,file_name):\n",
    "    file_name=file_name.split('.csv')[0]\n",
    "    temp_frame['file_name']=file_name\n",
    "    temp_frame['subject']=temp_frame['file_name'].apply(lambda x: int(x.split('subject_')[1].split('_')[0]))\n",
    "    temp_frame['session']=temp_frame['file_name'].apply(lambda x: int(x.split('subject_')[1].split('_')[1]))\n",
    "    #temp_frame['type']=temp_frame['file_name'].apply(lambda x: x.split('__')[1])\n",
    "    temp_frame = temp_frame.drop(columns=['file_name'])\n",
    "    temp_frame = temp_frame[temp_frame.columns[::-1]]\n",
    "    temp_frame = temp_frame.sort_values(by=['session','subject'], axis=0)\n",
    "    col_list1 = list(temp_frame.columns)[0:2]\n",
    "    col_list2 = list(temp_frame.columns)[2:]\n",
    "    col_list2.sort()\n",
    "    col_list=col_list1+col_list2\n",
    "    \n",
    "    #temp_frame = swap_columns(temp_frame, 'subject', 'session')\n",
    "    # Swapping the columns\n",
    "    temp_frame = temp_frame.reindex(columns=col_list)\n",
    "\n",
    "    return temp_frame"
   ]
  },
  {
   "cell_type": "code",
   "execution_count": 4,
   "id": "25cbfc7e-0688-434a-8bc0-31fa501e2b1e",
   "metadata": {},
   "outputs": [
    {
     "name": "stderr",
     "output_type": "stream",
     "text": [
      "100%|████████████████████████████████████████████████████████████████████████████████████████████████████████████████████████████████████████████████| 116/116 [00:08<00:00, 13.19it/s]\n"
     ]
    }
   ],
   "source": [
    "Training_data_files=glob.glob('TrainingData/*.csv')\n",
    "data_frame_x=pd.DataFrame([])\n",
    "data_frame_x_time=pd.DataFrame([])\n",
    "data_frame_y=pd.DataFrame([])\n",
    "data_frame_y_time=pd.DataFrame([])\n",
    "for file in tqdm(Training_data_files):\n",
    "    file_name=file.split('/')[-1]\n",
    "    temp_frame=pd.read_csv(file,header=None)\n",
    "    if 'x.csv' in file_name:\n",
    "        data_frame_x=pd.concat([data_frame_x,data_frame_adder(temp_frame,file_name)],axis=0,ignore_index=1).sort_values(by=['session','subject'], axis=0)\n",
    "        \n",
    "    elif 'x_time.csv' in file_name:\n",
    "        data_frame_x_time=pd.concat([data_frame_x_time,data_frame_adder(temp_frame,file_name)],axis=0,ignore_index=1).sort_values(by=['session','subject'], axis=0)\n",
    "        \n",
    "    elif 'y.csv' in file_name:\n",
    "        data_frame_y=pd.concat([data_frame_y,data_frame_adder(temp_frame,file_name)],axis=0,ignore_index=1).sort_values(by=['session','subject'], axis=0)\n",
    "        \n",
    "    else:\n",
    "        data_frame_y_time=pd.concat([data_frame_y_time,data_frame_adder(temp_frame,file_name)],axis=0,ignore_index=1).sort_values(by=['session','subject'], axis=0)\n",
    "data_frame_x = from_pandas(data_frame_x, npartitions=3)\n",
    "data_frame_x_time=from_pandas(data_frame_x_time.rename(columns={0:'time_stamp'}) , npartitions=3)\n",
    "data_frame_y=from_pandas(data_frame_y.rename(columns={0:'labels'}), npartitions=3)\n",
    "data_frame_y_time=from_pandas(data_frame_y_time.rename(columns={0:'time_stamp'}), npartitions=3)\n",
    "\n",
    "\n",
    "total_x=dd.merge(data_frame_x, data_frame_x_time,on=['session','subject'],npartitions=3) \n",
    "total_y=dd.merge(data_frame_y, data_frame_y_time,on=['session','subject'],npartitions=3) "
   ]
  },
  {
   "cell_type": "code",
   "execution_count": 15,
   "id": "88778358-60a4-47be-844f-29d2288fa74a",
   "metadata": {},
   "outputs": [
    {
     "data": {
      "text/plain": [
       "Dask Series Structure:\n",
       "npartitions=1\n",
       "    int64\n",
       "      ...\n",
       "dtype: int64\n",
       "Dask Name: series-groupby-sum-agg, 5 graph layers"
      ]
     },
     "execution_count": 15,
     "metadata": {},
     "output_type": "execute_result"
    }
   ],
   "source": [
    "data_frame_x.memory_usage()"
   ]
  }
 ],
 "metadata": {
  "kernelspec": {
   "display_name": "Python 3 (ipykernel)",
   "language": "python",
   "name": "python3"
  },
  "language_info": {
   "codemirror_mode": {
    "name": "ipython",
    "version": 3
   },
   "file_extension": ".py",
   "mimetype": "text/x-python",
   "name": "python",
   "nbconvert_exporter": "python",
   "pygments_lexer": "ipython3",
   "version": "3.9.7"
  }
 },
 "nbformat": 4,
 "nbformat_minor": 5
}
