{
 "cells": [
  {
   "cell_type": "code",
   "execution_count": 1,
   "id": "f68c2fef-e955-4e5f-839b-774fdd2de681",
   "metadata": {},
   "outputs": [],
   "source": [
    "import pandas as pd\n",
    "import glob\n",
    "import numpy as np\n",
    "from tqdm import tqdm\n",
    "#from dask.dataframe import from_pandas\n",
    "#import dask.dataframe as dd"
   ]
  },
  {
   "cell_type": "code",
   "execution_count": 2,
   "id": "bdf99ecf-c10d-4f5a-ac3c-0566aa15bc20",
   "metadata": {},
   "outputs": [],
   "source": [
    "def data_frame_adder(temp_frame,file_name):\n",
    "    file_name=file_name.split('.csv')[0]\n",
    "    temp_frame['file_name']=file_name\n",
    "    temp_frame['subject']=temp_frame['file_name'].apply(lambda x: int(x.split('subject_')[1].split('_')[0]))\n",
    "    temp_frame['session']=temp_frame['file_name'].apply(lambda x: int(x.split('subject_')[1].split('_')[1]))\n",
    "    #temp_frame['type']=temp_frame['file_name'].apply(lambda x: x.split('__')[1])\n",
    "    temp_frame = temp_frame.drop(columns=['file_name'])\n",
    "    temp_frame = temp_frame[temp_frame.columns[::-1]]\n",
    "    temp_frame = temp_frame.sort_values(by=['session','subject'], axis=0)\n",
    "    col_list1 = list(temp_frame.columns)[0:2]\n",
    "    col_list2 = list(temp_frame.columns)[2:]\n",
    "    col_list2.sort()\n",
    "    col_list=col_list1+col_list2\n",
    "    \n",
    "    #temp_frame = swap_columns(temp_frame, 'subject', 'session')\n",
    "    # Swapping the columns\n",
    "    temp_frame = temp_frame.reindex(columns=col_list)\n",
    "\n",
    "    return temp_frame"
   ]
  },
  {
   "cell_type": "code",
   "execution_count": 3,
   "id": "a615a8aa-b83f-4007-9c3b-51865d060b13",
   "metadata": {},
   "outputs": [],
   "source": [
    "Training_data_files=glob.glob('TrainingData/*.csv')"
   ]
  },
  {
   "cell_type": "code",
   "execution_count": 4,
   "id": "022e743c-88a7-4e22-b863-2f38a648c448",
   "metadata": {},
   "outputs": [
    {
     "name": "stderr",
     "output_type": "stream",
     "text": [
      "100%|██████████████████████████████████████████████████████████████████████████████████████████████████████████████████████████████████████████████████████| 116/116 [00:00<00:00, 921475.88it/s]\n"
     ]
    }
   ],
   "source": [
    "file_name_list_x=[]\n",
    "file_name_list_x_time=[]\n",
    "file_name_list_y=[]\n",
    "file_name_list_y_time=[]\n",
    "for file_name in tqdm(Training_data_files):\n",
    "    if 'x.csv' in file_name:\n",
    "        file_name_list_x.append(file_name)\n",
    "    elif 'x_time.csv' in file_name:\n",
    "        file_name_list_x_time.append(file_name)\n",
    "    elif 'y.csv' in file_name:\n",
    "        file_name_list_y.append(file_name)\n",
    "    else:\n",
    "        file_name_list_y_time.append(file_name)\n",
    "file_name_list_x.sort()\n",
    "file_name_list_x_time.sort()\n",
    "file_name_list_y.sort()\n",
    "file_name_list_y_time.sort()"
   ]
  },
  {
   "cell_type": "code",
   "execution_count": 5,
   "id": "021a0f8c-2ae0-469f-a8d9-7accabfd4ff3",
   "metadata": {},
   "outputs": [],
   "source": [
    "Subject_list= [f.split('_')[1] for f in file_name_list_x]\n",
    "Session_list= [f.split('_')[2] for f in file_name_list_x]"
   ]
  },
  {
   "cell_type": "code",
   "execution_count": 195,
   "id": "e7fe4452-de39-4ef5-bd98-35a4b1c21bd1",
   "metadata": {},
   "outputs": [],
   "source": [
    "x_sensor_dat=pd.DataFrame([])\n",
    "y_sensor_dat=pd.DataFrame([])\n",
    "x_time_dat=[]\n",
    "for sub,sess in zip(Subject_list,Session_list):\n",
    "    #x_sensor_dat=pd.DataFrame(x_sensor_dat.append(pd.read_csv(f\"TrainingData/subject_{sub}_{sess}__x.csv\",header=None)))\n",
    "    \n",
    "    x_sensor_dat=pd.concat([pd.read_csv(f\"TrainingData/subject_{sub}_{sess}__x.csv\",header=None),pd.read_csv(f\"TrainingData/subject_{sub}_{sess}__x_time.csv\",header=None).rename(columns={0:'time_stamp'})],axis=1)\n",
    "\n",
    "    x_sensor_dat['measurements']=x_sensor_dat.apply(lambda x: [x[0],x[1],x[2],x[3]],axis=1)\n",
    "    x_sensor_dat=x_sensor_dat[['time_stamp','measurements']]\n",
    "    x_sensor_dat[\"time_stamp\"]=pd.to_datetime(x_sensor_dat[\"time_stamp\"],unit='s').round('us')\n",
    "    #x_sensor_dat=x_sensor_dat.set_index('time_stamp').asfreq('0.025S')\n",
    "    x_sensor_dat['Subject']=int(sub)\n",
    "    x_sensor_dat['Session']=int(sess)\n",
    "    #x_sensor_dat=x_sensor_dat.set_index('time_stamp').asfreq('0.025S')\n",
    "    \n",
    "    y_sensor_dat=pd.concat([pd.read_csv(f\"TrainingData/subject_{sub}_{sess}__y.csv\",header=None),pd.read_csv(f\"TrainingData/subject_{sub}_{sess}__y_time.csv\",header=None).rename(columns={0:'time_stamp'})],axis=1).rename(columns={0:'labels'})\n",
    "    #y_sensor_dat['labels']=y_sensor_dat.apply(lambda y: [y[0],y[1],y[2],y[3]],axis=1)\n",
    "    y_sensor_dat=y_sensor_dat[['time_stamp','labels']]\n",
    "    y_sensor_dat[\"time_stamp\"]=pd.to_datetime(y_sensor_dat[\"time_stamp\"],unit='s').round('ms')\n",
    "    trp=pd.concat([pd.DataFrame({'Subject':sub},index=[x_sensor_dat.index[-1]]),pd.DataFrame({'Session':sess},index=[x_sensor_dat.index[-1]]),pd.DataFrame({'labels':0},index=[x_sensor_dat.index[-1]]),pd.DataFrame({'time_stamp':np.max(x_sensor_dat['time_stamp'])},index=[x_sensor_dat.index[-1]])],axis=1)\n",
    "    y_sensor_dat=pd.concat([y_sensor_dat,trp],axis=0)\n",
    "    trp=pd.concat([pd.DataFrame({'Subject':sub},index=[x_sensor_dat.index[0]]),pd.DataFrame({'Session':sess},index=[x_sensor_dat.index[0]]),pd.DataFrame({'labels':0},index=[x_sensor_dat.index[0]]),pd.DataFrame({'time_stamp':np.min(x_sensor_dat['time_stamp'])},index=[x_sensor_dat.index[0]])],axis=1)\n",
    "    y_sensor_dat=pd.concat([trp,y_sensor_dat],axis=0)\n",
    "    # y_sensor_dat=y_sensor_dat.set_index('time_stamp').asfreq('0.025S')\n",
    "    y_sensor_dat['Subject']=int(sub)\n",
    "    y_sensor_dat['Session']=int(sess)\n",
    "    x_sensor_dat=x_sensor_dat.set_index('time_stamp').asfreq('0.025S')\n",
    "    y_sensor_dat=y_sensor_dat.set_index('time_stamp').asfreq(freq='0.025S', method='bfill')\n",
    "                                        #.resample('0.025S').interpolate(method='linear')\n",
    "    x_y_dat=pd.merge(x_sensor_dat,y_sensor_dat, how='inner', left_index=True, right_index=True)\n",
    "    break"
   ]
  },
  {
   "cell_type": "code",
   "execution_count": 196,
   "id": "be9e07a6-89fd-4d3e-8e71-fd29f2d01b3e",
   "metadata": {},
   "outputs": [
    {
     "data": {
      "text/html": [
       "<div>\n",
       "<style scoped>\n",
       "    .dataframe tbody tr th:only-of-type {\n",
       "        vertical-align: middle;\n",
       "    }\n",
       "\n",
       "    .dataframe tbody tr th {\n",
       "        vertical-align: top;\n",
       "    }\n",
       "\n",
       "    .dataframe thead th {\n",
       "        text-align: right;\n",
       "    }\n",
       "</style>\n",
       "<table border=\"1\" class=\"dataframe\">\n",
       "  <thead>\n",
       "    <tr style=\"text-align: right;\">\n",
       "      <th></th>\n",
       "      <th>measurements</th>\n",
       "      <th>Subject_x</th>\n",
       "      <th>Session_x</th>\n",
       "      <th>Subject_y</th>\n",
       "      <th>Session_y</th>\n",
       "      <th>labels</th>\n",
       "    </tr>\n",
       "    <tr>\n",
       "      <th>time_stamp</th>\n",
       "      <th></th>\n",
       "      <th></th>\n",
       "      <th></th>\n",
       "      <th></th>\n",
       "      <th></th>\n",
       "      <th></th>\n",
       "    </tr>\n",
       "  </thead>\n",
       "  <tbody>\n",
       "    <tr>\n",
       "      <th>1970-01-01 00:00:00.000</th>\n",
       "      <td>[4.435275, 8.196063, 2.974488, 0.01421523]</td>\n",
       "      <td>1</td>\n",
       "      <td>1</td>\n",
       "      <td>1</td>\n",
       "      <td>1</td>\n",
       "      <td>0</td>\n",
       "    </tr>\n",
       "    <tr>\n",
       "      <th>1970-01-01 00:00:00.025</th>\n",
       "      <td>[4.18692, 8.344455, 2.908057, 0.005770759]</td>\n",
       "      <td>1</td>\n",
       "      <td>1</td>\n",
       "      <td>1</td>\n",
       "      <td>1</td>\n",
       "      <td>0</td>\n",
       "    </tr>\n",
       "    <tr>\n",
       "      <th>1970-01-01 00:00:00.050</th>\n",
       "      <td>[4.544637, 8.408659, 2.89, 0.007967429]</td>\n",
       "      <td>1</td>\n",
       "      <td>1</td>\n",
       "      <td>1</td>\n",
       "      <td>1</td>\n",
       "      <td>0</td>\n",
       "    </tr>\n",
       "    <tr>\n",
       "      <th>1970-01-01 00:00:00.075</th>\n",
       "      <td>[4.849308, 8.411614, 2.900692, 0.02777778]</td>\n",
       "      <td>1</td>\n",
       "      <td>1</td>\n",
       "      <td>1</td>\n",
       "      <td>1</td>\n",
       "      <td>0</td>\n",
       "    </tr>\n",
       "    <tr>\n",
       "      <th>1970-01-01 00:00:00.100</th>\n",
       "      <td>[4.50919, 8.118649, 2.847298, 0.02157696]</td>\n",
       "      <td>1</td>\n",
       "      <td>1</td>\n",
       "      <td>1</td>\n",
       "      <td>1</td>\n",
       "      <td>0</td>\n",
       "    </tr>\n",
       "    <tr>\n",
       "      <th>...</th>\n",
       "      <td>...</td>\n",
       "      <td>...</td>\n",
       "      <td>...</td>\n",
       "      <td>...</td>\n",
       "      <td>...</td>\n",
       "      <td>...</td>\n",
       "    </tr>\n",
       "    <tr>\n",
       "      <th>1970-01-01 00:15:47.125</th>\n",
       "      <td>[1.927349, 9.584698, 0.94, -0.001852465]</td>\n",
       "      <td>1</td>\n",
       "      <td>1</td>\n",
       "      <td>1</td>\n",
       "      <td>1</td>\n",
       "      <td>0</td>\n",
       "    </tr>\n",
       "    <tr>\n",
       "      <th>1970-01-01 00:15:47.150</th>\n",
       "      <td>[1.93, 9.562658, 0.8746842, 0.003927394]</td>\n",
       "      <td>1</td>\n",
       "      <td>1</td>\n",
       "      <td>1</td>\n",
       "      <td>1</td>\n",
       "      <td>0</td>\n",
       "    </tr>\n",
       "    <tr>\n",
       "      <th>1970-01-01 00:15:47.175</th>\n",
       "      <td>[1.906144, 9.555361, 0.8661444, -0.001111111]</td>\n",
       "      <td>1</td>\n",
       "      <td>1</td>\n",
       "      <td>1</td>\n",
       "      <td>1</td>\n",
       "      <td>0</td>\n",
       "    </tr>\n",
       "    <tr>\n",
       "      <th>1970-01-01 00:15:47.200</th>\n",
       "      <td>[1.90038, 9.57519, 0.8655704, -0.00419492]</td>\n",
       "      <td>1</td>\n",
       "      <td>1</td>\n",
       "      <td>1</td>\n",
       "      <td>1</td>\n",
       "      <td>0</td>\n",
       "    </tr>\n",
       "    <tr>\n",
       "      <th>1970-01-01 00:15:47.225</th>\n",
       "      <td>[1.813466, 9.584614, 0.9146135, 0.0003808142]</td>\n",
       "      <td>1</td>\n",
       "      <td>1</td>\n",
       "      <td>1</td>\n",
       "      <td>1</td>\n",
       "      <td>0</td>\n",
       "    </tr>\n",
       "  </tbody>\n",
       "</table>\n",
       "<p>37890 rows × 6 columns</p>\n",
       "</div>"
      ],
      "text/plain": [
       "                                                          measurements  \\\n",
       "time_stamp                                                               \n",
       "1970-01-01 00:00:00.000     [4.435275, 8.196063, 2.974488, 0.01421523]   \n",
       "1970-01-01 00:00:00.025     [4.18692, 8.344455, 2.908057, 0.005770759]   \n",
       "1970-01-01 00:00:00.050        [4.544637, 8.408659, 2.89, 0.007967429]   \n",
       "1970-01-01 00:00:00.075     [4.849308, 8.411614, 2.900692, 0.02777778]   \n",
       "1970-01-01 00:00:00.100      [4.50919, 8.118649, 2.847298, 0.02157696]   \n",
       "...                                                                ...   \n",
       "1970-01-01 00:15:47.125       [1.927349, 9.584698, 0.94, -0.001852465]   \n",
       "1970-01-01 00:15:47.150       [1.93, 9.562658, 0.8746842, 0.003927394]   \n",
       "1970-01-01 00:15:47.175  [1.906144, 9.555361, 0.8661444, -0.001111111]   \n",
       "1970-01-01 00:15:47.200     [1.90038, 9.57519, 0.8655704, -0.00419492]   \n",
       "1970-01-01 00:15:47.225  [1.813466, 9.584614, 0.9146135, 0.0003808142]   \n",
       "\n",
       "                         Subject_x  Session_x  Subject_y  Session_y  labels  \n",
       "time_stamp                                                                   \n",
       "1970-01-01 00:00:00.000          1          1          1          1       0  \n",
       "1970-01-01 00:00:00.025          1          1          1          1       0  \n",
       "1970-01-01 00:00:00.050          1          1          1          1       0  \n",
       "1970-01-01 00:00:00.075          1          1          1          1       0  \n",
       "1970-01-01 00:00:00.100          1          1          1          1       0  \n",
       "...                            ...        ...        ...        ...     ...  \n",
       "1970-01-01 00:15:47.125          1          1          1          1       0  \n",
       "1970-01-01 00:15:47.150          1          1          1          1       0  \n",
       "1970-01-01 00:15:47.175          1          1          1          1       0  \n",
       "1970-01-01 00:15:47.200          1          1          1          1       0  \n",
       "1970-01-01 00:15:47.225          1          1          1          1       0  \n",
       "\n",
       "[37890 rows x 6 columns]"
      ]
     },
     "execution_count": 196,
     "metadata": {},
     "output_type": "execute_result"
    }
   ],
   "source": [
    "x_y_dat"
   ]
  },
  {
   "cell_type": "code",
   "execution_count": 185,
   "id": "0800fff6-ebf2-4289-bd28-e9e644fc6ef9",
   "metadata": {},
   "outputs": [
    {
     "data": {
      "text/html": [
       "<div>\n",
       "<style scoped>\n",
       "    .dataframe tbody tr th:only-of-type {\n",
       "        vertical-align: middle;\n",
       "    }\n",
       "\n",
       "    .dataframe tbody tr th {\n",
       "        vertical-align: top;\n",
       "    }\n",
       "\n",
       "    .dataframe thead th {\n",
       "        text-align: right;\n",
       "    }\n",
       "</style>\n",
       "<table border=\"1\" class=\"dataframe\">\n",
       "  <thead>\n",
       "    <tr style=\"text-align: right;\">\n",
       "      <th></th>\n",
       "      <th>measurements</th>\n",
       "      <th>Subject</th>\n",
       "      <th>Session</th>\n",
       "    </tr>\n",
       "    <tr>\n",
       "      <th>time_stamp</th>\n",
       "      <th></th>\n",
       "      <th></th>\n",
       "      <th></th>\n",
       "    </tr>\n",
       "  </thead>\n",
       "  <tbody>\n",
       "    <tr>\n",
       "      <th>1970-01-01 00:00:00.000</th>\n",
       "      <td>[4.435275, 8.196063, 2.974488, 0.01421523]</td>\n",
       "      <td>1</td>\n",
       "      <td>1</td>\n",
       "    </tr>\n",
       "    <tr>\n",
       "      <th>1970-01-01 00:00:00.025</th>\n",
       "      <td>[4.18692, 8.344455, 2.908057, 0.005770759]</td>\n",
       "      <td>1</td>\n",
       "      <td>1</td>\n",
       "    </tr>\n",
       "    <tr>\n",
       "      <th>1970-01-01 00:00:00.050</th>\n",
       "      <td>[4.544637, 8.408659, 2.89, 0.007967429]</td>\n",
       "      <td>1</td>\n",
       "      <td>1</td>\n",
       "    </tr>\n",
       "    <tr>\n",
       "      <th>1970-01-01 00:00:00.075</th>\n",
       "      <td>[4.849308, 8.411614, 2.900692, 0.02777778]</td>\n",
       "      <td>1</td>\n",
       "      <td>1</td>\n",
       "    </tr>\n",
       "    <tr>\n",
       "      <th>1970-01-01 00:00:00.100</th>\n",
       "      <td>[4.50919, 8.118649, 2.847298, 0.02157696]</td>\n",
       "      <td>1</td>\n",
       "      <td>1</td>\n",
       "    </tr>\n",
       "    <tr>\n",
       "      <th>...</th>\n",
       "      <td>...</td>\n",
       "      <td>...</td>\n",
       "      <td>...</td>\n",
       "    </tr>\n",
       "    <tr>\n",
       "      <th>1970-01-01 00:15:47.125</th>\n",
       "      <td>[1.927349, 9.584698, 0.94, -0.001852465]</td>\n",
       "      <td>1</td>\n",
       "      <td>1</td>\n",
       "    </tr>\n",
       "    <tr>\n",
       "      <th>1970-01-01 00:15:47.150</th>\n",
       "      <td>[1.93, 9.562658, 0.8746842, 0.003927394]</td>\n",
       "      <td>1</td>\n",
       "      <td>1</td>\n",
       "    </tr>\n",
       "    <tr>\n",
       "      <th>1970-01-01 00:15:47.175</th>\n",
       "      <td>[1.906144, 9.555361, 0.8661444, -0.001111111]</td>\n",
       "      <td>1</td>\n",
       "      <td>1</td>\n",
       "    </tr>\n",
       "    <tr>\n",
       "      <th>1970-01-01 00:15:47.200</th>\n",
       "      <td>[1.90038, 9.57519, 0.8655704, -0.00419492]</td>\n",
       "      <td>1</td>\n",
       "      <td>1</td>\n",
       "    </tr>\n",
       "    <tr>\n",
       "      <th>1970-01-01 00:15:47.225</th>\n",
       "      <td>[1.813466, 9.584614, 0.9146135, 0.0003808142]</td>\n",
       "      <td>1</td>\n",
       "      <td>1</td>\n",
       "    </tr>\n",
       "  </tbody>\n",
       "</table>\n",
       "<p>37890 rows × 3 columns</p>\n",
       "</div>"
      ],
      "text/plain": [
       "                                                          measurements  \\\n",
       "time_stamp                                                               \n",
       "1970-01-01 00:00:00.000     [4.435275, 8.196063, 2.974488, 0.01421523]   \n",
       "1970-01-01 00:00:00.025     [4.18692, 8.344455, 2.908057, 0.005770759]   \n",
       "1970-01-01 00:00:00.050        [4.544637, 8.408659, 2.89, 0.007967429]   \n",
       "1970-01-01 00:00:00.075     [4.849308, 8.411614, 2.900692, 0.02777778]   \n",
       "1970-01-01 00:00:00.100      [4.50919, 8.118649, 2.847298, 0.02157696]   \n",
       "...                                                                ...   \n",
       "1970-01-01 00:15:47.125       [1.927349, 9.584698, 0.94, -0.001852465]   \n",
       "1970-01-01 00:15:47.150       [1.93, 9.562658, 0.8746842, 0.003927394]   \n",
       "1970-01-01 00:15:47.175  [1.906144, 9.555361, 0.8661444, -0.001111111]   \n",
       "1970-01-01 00:15:47.200     [1.90038, 9.57519, 0.8655704, -0.00419492]   \n",
       "1970-01-01 00:15:47.225  [1.813466, 9.584614, 0.9146135, 0.0003808142]   \n",
       "\n",
       "                         Subject  Session  \n",
       "time_stamp                                 \n",
       "1970-01-01 00:00:00.000        1        1  \n",
       "1970-01-01 00:00:00.025        1        1  \n",
       "1970-01-01 00:00:00.050        1        1  \n",
       "1970-01-01 00:00:00.075        1        1  \n",
       "1970-01-01 00:00:00.100        1        1  \n",
       "...                          ...      ...  \n",
       "1970-01-01 00:15:47.125        1        1  \n",
       "1970-01-01 00:15:47.150        1        1  \n",
       "1970-01-01 00:15:47.175        1        1  \n",
       "1970-01-01 00:15:47.200        1        1  \n",
       "1970-01-01 00:15:47.225        1        1  \n",
       "\n",
       "[37890 rows x 3 columns]"
      ]
     },
     "execution_count": 185,
     "metadata": {},
     "output_type": "execute_result"
    }
   ],
   "source": [
    "x_sensor_dat"
   ]
  },
  {
   "cell_type": "code",
   "execution_count": 186,
   "id": "e2e01e1c-5a78-4069-ba4d-7a6aab703d05",
   "metadata": {},
   "outputs": [
    {
     "data": {
      "text/html": [
       "<div>\n",
       "<style scoped>\n",
       "    .dataframe tbody tr th:only-of-type {\n",
       "        vertical-align: middle;\n",
       "    }\n",
       "\n",
       "    .dataframe tbody tr th {\n",
       "        vertical-align: top;\n",
       "    }\n",
       "\n",
       "    .dataframe thead th {\n",
       "        text-align: right;\n",
       "    }\n",
       "</style>\n",
       "<table border=\"1\" class=\"dataframe\">\n",
       "  <thead>\n",
       "    <tr style=\"text-align: right;\">\n",
       "      <th></th>\n",
       "      <th>Subject</th>\n",
       "      <th>Session</th>\n",
       "      <th>labels</th>\n",
       "    </tr>\n",
       "    <tr>\n",
       "      <th>time_stamp</th>\n",
       "      <th></th>\n",
       "      <th></th>\n",
       "      <th></th>\n",
       "    </tr>\n",
       "  </thead>\n",
       "  <tbody>\n",
       "    <tr>\n",
       "      <th>1970-01-01 00:00:00.000</th>\n",
       "      <td>1</td>\n",
       "      <td>1</td>\n",
       "      <td>0</td>\n",
       "    </tr>\n",
       "    <tr>\n",
       "      <th>1970-01-01 00:00:00.025</th>\n",
       "      <td>1</td>\n",
       "      <td>1</td>\n",
       "      <td>0</td>\n",
       "    </tr>\n",
       "    <tr>\n",
       "      <th>1970-01-01 00:00:00.050</th>\n",
       "      <td>1</td>\n",
       "      <td>1</td>\n",
       "      <td>0</td>\n",
       "    </tr>\n",
       "    <tr>\n",
       "      <th>1970-01-01 00:00:00.075</th>\n",
       "      <td>1</td>\n",
       "      <td>1</td>\n",
       "      <td>0</td>\n",
       "    </tr>\n",
       "    <tr>\n",
       "      <th>1970-01-01 00:00:00.100</th>\n",
       "      <td>1</td>\n",
       "      <td>1</td>\n",
       "      <td>0</td>\n",
       "    </tr>\n",
       "    <tr>\n",
       "      <th>...</th>\n",
       "      <td>...</td>\n",
       "      <td>...</td>\n",
       "      <td>...</td>\n",
       "    </tr>\n",
       "    <tr>\n",
       "      <th>1970-01-01 00:15:47.125</th>\n",
       "      <td>1</td>\n",
       "      <td>1</td>\n",
       "      <td>0</td>\n",
       "    </tr>\n",
       "    <tr>\n",
       "      <th>1970-01-01 00:15:47.150</th>\n",
       "      <td>1</td>\n",
       "      <td>1</td>\n",
       "      <td>0</td>\n",
       "    </tr>\n",
       "    <tr>\n",
       "      <th>1970-01-01 00:15:47.175</th>\n",
       "      <td>1</td>\n",
       "      <td>1</td>\n",
       "      <td>0</td>\n",
       "    </tr>\n",
       "    <tr>\n",
       "      <th>1970-01-01 00:15:47.200</th>\n",
       "      <td>1</td>\n",
       "      <td>1</td>\n",
       "      <td>0</td>\n",
       "    </tr>\n",
       "    <tr>\n",
       "      <th>1970-01-01 00:15:47.225</th>\n",
       "      <td>1</td>\n",
       "      <td>1</td>\n",
       "      <td>0</td>\n",
       "    </tr>\n",
       "  </tbody>\n",
       "</table>\n",
       "<p>37890 rows × 3 columns</p>\n",
       "</div>"
      ],
      "text/plain": [
       "                         Subject  Session  labels\n",
       "time_stamp                                       \n",
       "1970-01-01 00:00:00.000        1        1       0\n",
       "1970-01-01 00:00:00.025        1        1       0\n",
       "1970-01-01 00:00:00.050        1        1       0\n",
       "1970-01-01 00:00:00.075        1        1       0\n",
       "1970-01-01 00:00:00.100        1        1       0\n",
       "...                          ...      ...     ...\n",
       "1970-01-01 00:15:47.125        1        1       0\n",
       "1970-01-01 00:15:47.150        1        1       0\n",
       "1970-01-01 00:15:47.175        1        1       0\n",
       "1970-01-01 00:15:47.200        1        1       0\n",
       "1970-01-01 00:15:47.225        1        1       0\n",
       "\n",
       "[37890 rows x 3 columns]"
      ]
     },
     "execution_count": 186,
     "metadata": {},
     "output_type": "execute_result"
    }
   ],
   "source": [
    "y_sensor_dat"
   ]
  },
  {
   "cell_type": "code",
   "execution_count": 183,
   "id": "6273e468-d96a-402d-9215-7d31a001fd64",
   "metadata": {},
   "outputs": [
    {
     "ename": "NameError",
     "evalue": "name 'y_sensor_datlast' is not defined",
     "output_type": "error",
     "traceback": [
      "\u001b[0;31m---------------------------------------------------------------------------\u001b[0m",
      "\u001b[0;31mNameError\u001b[0m                                 Traceback (most recent call last)",
      "Cell \u001b[0;32mIn[183], line 1\u001b[0m\n\u001b[0;32m----> 1\u001b[0m \u001b[43my_sensor_datlast\u001b[49m\n",
      "\u001b[0;31mNameError\u001b[0m: name 'y_sensor_datlast' is not defined"
     ]
    }
   ],
   "source": [
    "y_sensor_datlast"
   ]
  },
  {
   "cell_type": "code",
   "execution_count": 68,
   "id": "b3bd4e64-8f6c-4870-9b4e-46bdd312aa7f",
   "metadata": {},
   "outputs": [
    {
     "ename": "SyntaxError",
     "evalue": "'[' was never closed (1955934303.py, line 1)",
     "output_type": "error",
     "traceback": [
      "\u001b[0;36m  Cell \u001b[0;32mIn[68], line 1\u001b[0;36m\u001b[0m\n\u001b[0;31m    [pd.DataFrame({'time_stamp':time_stamp},pd.DataFrame({'Subject':sub},\u001b[0m\n\u001b[0m    ^\u001b[0m\n\u001b[0;31mSyntaxError\u001b[0m\u001b[0;31m:\u001b[0m '[' was never closed\n"
     ]
    }
   ],
   "source": [
    "[pd.DataFrame({'time_stamp':time_stamp},pd.DataFrame({'Subject':sub},\n",
    "                                                                   index=[x_sensor_dat.index[-1]]),\n",
    "                            pd.DataFrame({'Session':sess},\n",
    "                                         index=[x_sensor_dat.index[-1]]),\n",
    "                            pd.DataFrame({'labels':np.nan},i\n",
    "                                         ndex=[x_sensor_dat.index[-1]])]"
   ]
  },
  {
   "cell_type": "code",
   "execution_count": 65,
   "id": "c1e600d2-a77c-43e1-a51c-2831a187f751",
   "metadata": {},
   "outputs": [
    {
     "ename": "SyntaxError",
     "evalue": "'[' was never closed (752780160.py, line 1)",
     "output_type": "error",
     "traceback": [
      "\u001b[0;36m  Cell \u001b[0;32mIn[65], line 1\u001b[0;36m\u001b[0m\n\u001b[0;31m    trp=pd.concat([pd.DataFrame({'time_stamp':time_stamp},pd.DataFrame({'Subject':sub},\u001b[0m\n\u001b[0m                  ^\u001b[0m\n\u001b[0;31mSyntaxError\u001b[0m\u001b[0;31m:\u001b[0m '[' was never closed\n"
     ]
    }
   ],
   "source": [
    "trp=pd.concat(,axis=1)\n",
    "               \n",
    "               "
   ]
  },
  {
   "cell_type": "code",
   "execution_count": 58,
   "id": "a99a1432-1acb-468c-87d3-50337b4c298e",
   "metadata": {},
   "outputs": [
    {
     "data": {
      "text/html": [
       "<div>\n",
       "<style scoped>\n",
       "    .dataframe tbody tr th:only-of-type {\n",
       "        vertical-align: middle;\n",
       "    }\n",
       "\n",
       "    .dataframe tbody tr th {\n",
       "        vertical-align: top;\n",
       "    }\n",
       "\n",
       "    .dataframe thead th {\n",
       "        text-align: right;\n",
       "    }\n",
       "</style>\n",
       "<table border=\"1\" class=\"dataframe\">\n",
       "  <thead>\n",
       "    <tr style=\"text-align: right;\">\n",
       "      <th></th>\n",
       "      <th>Subject</th>\n",
       "      <th>Session</th>\n",
       "      <th>labels</th>\n",
       "    </tr>\n",
       "  </thead>\n",
       "  <tbody>\n",
       "    <tr>\n",
       "      <th>1970-01-01 00:00:00.000</th>\n",
       "      <td>001</td>\n",
       "      <td>01</td>\n",
       "      <td>NaN</td>\n",
       "    </tr>\n",
       "    <tr>\n",
       "      <th>1970-01-01 00:00:00.020</th>\n",
       "      <td>001</td>\n",
       "      <td>01</td>\n",
       "      <td>0.0</td>\n",
       "    </tr>\n",
       "    <tr>\n",
       "      <th>1970-01-01 00:00:00.045</th>\n",
       "      <td>001</td>\n",
       "      <td>01</td>\n",
       "      <td>NaN</td>\n",
       "    </tr>\n",
       "    <tr>\n",
       "      <th>1970-01-01 00:00:00.070</th>\n",
       "      <td>001</td>\n",
       "      <td>01</td>\n",
       "      <td>NaN</td>\n",
       "    </tr>\n",
       "    <tr>\n",
       "      <th>1970-01-01 00:00:00.095</th>\n",
       "      <td>001</td>\n",
       "      <td>01</td>\n",
       "      <td>NaN</td>\n",
       "    </tr>\n",
       "    <tr>\n",
       "      <th>...</th>\n",
       "      <td>...</td>\n",
       "      <td>...</td>\n",
       "      <td>...</td>\n",
       "    </tr>\n",
       "    <tr>\n",
       "      <th>1970-01-01 00:15:47.145</th>\n",
       "      <td>001</td>\n",
       "      <td>01</td>\n",
       "      <td>NaN</td>\n",
       "    </tr>\n",
       "    <tr>\n",
       "      <th>1970-01-01 00:15:47.170</th>\n",
       "      <td>001</td>\n",
       "      <td>01</td>\n",
       "      <td>NaN</td>\n",
       "    </tr>\n",
       "    <tr>\n",
       "      <th>1970-01-01 00:15:47.195</th>\n",
       "      <td>001</td>\n",
       "      <td>01</td>\n",
       "      <td>NaN</td>\n",
       "    </tr>\n",
       "    <tr>\n",
       "      <th>1970-01-01 00:15:47.220</th>\n",
       "      <td>001</td>\n",
       "      <td>01</td>\n",
       "      <td>0.0</td>\n",
       "    </tr>\n",
       "    <tr>\n",
       "      <th>1970-01-01 00:15:47.225</th>\n",
       "      <td>001</td>\n",
       "      <td>01</td>\n",
       "      <td>NaN</td>\n",
       "    </tr>\n",
       "  </tbody>\n",
       "</table>\n",
       "<p>37891 rows × 3 columns</p>\n",
       "</div>"
      ],
      "text/plain": [
       "                        Subject Session  labels\n",
       "1970-01-01 00:00:00.000     001      01     NaN\n",
       "1970-01-01 00:00:00.020     001      01     0.0\n",
       "1970-01-01 00:00:00.045     001      01     NaN\n",
       "1970-01-01 00:00:00.070     001      01     NaN\n",
       "1970-01-01 00:00:00.095     001      01     NaN\n",
       "...                         ...     ...     ...\n",
       "1970-01-01 00:15:47.145     001      01     NaN\n",
       "1970-01-01 00:15:47.170     001      01     NaN\n",
       "1970-01-01 00:15:47.195     001      01     NaN\n",
       "1970-01-01 00:15:47.220     001      01     0.0\n",
       "1970-01-01 00:15:47.225     001      01     NaN\n",
       "\n",
       "[37891 rows x 3 columns]"
      ]
     },
     "execution_count": 58,
     "metadata": {},
     "output_type": "execute_result"
    }
   ],
   "source": [
    "y_sensor_dat"
   ]
  },
  {
   "cell_type": "code",
   "execution_count": 44,
   "id": "c6fb65a8-aa83-4006-8855-f1ea493d4453",
   "metadata": {},
   "outputs": [
    {
     "data": {
      "text/html": [
       "<div>\n",
       "<style scoped>\n",
       "    .dataframe tbody tr th:only-of-type {\n",
       "        vertical-align: middle;\n",
       "    }\n",
       "\n",
       "    .dataframe tbody tr th {\n",
       "        vertical-align: top;\n",
       "    }\n",
       "\n",
       "    .dataframe thead th {\n",
       "        text-align: right;\n",
       "    }\n",
       "</style>\n",
       "<table border=\"1\" class=\"dataframe\">\n",
       "  <thead>\n",
       "    <tr style=\"text-align: right;\">\n",
       "      <th></th>\n",
       "      <th>Subject</th>\n",
       "      <th>Session</th>\n",
       "      <th>labels</th>\n",
       "    </tr>\n",
       "  </thead>\n",
       "  <tbody>\n",
       "    <tr>\n",
       "      <th>1970-01-01 00:00:00.000</th>\n",
       "      <td>001</td>\n",
       "      <td>01</td>\n",
       "      <td>NaN</td>\n",
       "    </tr>\n",
       "    <tr>\n",
       "      <th>1970-01-01 00:00:00.025</th>\n",
       "      <td>NaN</td>\n",
       "      <td>NaN</td>\n",
       "      <td>NaN</td>\n",
       "    </tr>\n",
       "    <tr>\n",
       "      <th>1970-01-01 00:00:00.050</th>\n",
       "      <td>NaN</td>\n",
       "      <td>NaN</td>\n",
       "      <td>NaN</td>\n",
       "    </tr>\n",
       "    <tr>\n",
       "      <th>1970-01-01 00:00:00.075</th>\n",
       "      <td>NaN</td>\n",
       "      <td>NaN</td>\n",
       "      <td>NaN</td>\n",
       "    </tr>\n",
       "    <tr>\n",
       "      <th>1970-01-01 00:00:00.100</th>\n",
       "      <td>NaN</td>\n",
       "      <td>NaN</td>\n",
       "      <td>NaN</td>\n",
       "    </tr>\n",
       "    <tr>\n",
       "      <th>...</th>\n",
       "      <td>...</td>\n",
       "      <td>...</td>\n",
       "      <td>...</td>\n",
       "    </tr>\n",
       "    <tr>\n",
       "      <th>1970-01-01 00:15:47.125</th>\n",
       "      <td>NaN</td>\n",
       "      <td>NaN</td>\n",
       "      <td>NaN</td>\n",
       "    </tr>\n",
       "    <tr>\n",
       "      <th>1970-01-01 00:15:47.150</th>\n",
       "      <td>NaN</td>\n",
       "      <td>NaN</td>\n",
       "      <td>NaN</td>\n",
       "    </tr>\n",
       "    <tr>\n",
       "      <th>1970-01-01 00:15:47.175</th>\n",
       "      <td>NaN</td>\n",
       "      <td>NaN</td>\n",
       "      <td>NaN</td>\n",
       "    </tr>\n",
       "    <tr>\n",
       "      <th>1970-01-01 00:15:47.200</th>\n",
       "      <td>NaN</td>\n",
       "      <td>NaN</td>\n",
       "      <td>NaN</td>\n",
       "    </tr>\n",
       "    <tr>\n",
       "      <th>1970-01-01 00:15:47.225</th>\n",
       "      <td>001</td>\n",
       "      <td>01</td>\n",
       "      <td>NaN</td>\n",
       "    </tr>\n",
       "  </tbody>\n",
       "</table>\n",
       "<p>37890 rows × 3 columns</p>\n",
       "</div>"
      ],
      "text/plain": [
       "                        Subject Session  labels\n",
       "1970-01-01 00:00:00.000     001      01     NaN\n",
       "1970-01-01 00:00:00.025     NaN     NaN     NaN\n",
       "1970-01-01 00:00:00.050     NaN     NaN     NaN\n",
       "1970-01-01 00:00:00.075     NaN     NaN     NaN\n",
       "1970-01-01 00:00:00.100     NaN     NaN     NaN\n",
       "...                         ...     ...     ...\n",
       "1970-01-01 00:15:47.125     NaN     NaN     NaN\n",
       "1970-01-01 00:15:47.150     NaN     NaN     NaN\n",
       "1970-01-01 00:15:47.175     NaN     NaN     NaN\n",
       "1970-01-01 00:15:47.200     NaN     NaN     NaN\n",
       "1970-01-01 00:15:47.225     001      01     NaN\n",
       "\n",
       "[37890 rows x 3 columns]"
      ]
     },
     "execution_count": 44,
     "metadata": {},
     "output_type": "execute_result"
    }
   ],
   "source": [
    "y_sensor_dat.asfreq(freq='0.025S')"
   ]
  },
  {
   "cell_type": "code",
   "execution_count": null,
   "id": "c81816eb-f1d6-4d58-8d18-e9b5fdcff89c",
   "metadata": {},
   "outputs": [],
   "source": [
    "x_sensor_dat"
   ]
  },
  {
   "cell_type": "code",
   "execution_count": null,
   "id": "1c4c1514-0a40-4712-92da-33408fb6702a",
   "metadata": {},
   "outputs": [],
   "source": [
    "y_sensor_dat.index[1]-y_sensor_dat.index[0]"
   ]
  },
  {
   "cell_type": "code",
   "execution_count": null,
   "id": "c4c43d8c-93f6-4ae5-9aa2-f7fbff037ce7",
   "metadata": {},
   "outputs": [],
   "source": [
    "x_sensor_dat.index[1]-x_sensor_dat.index[0]"
   ]
  },
  {
   "cell_type": "code",
   "execution_count": null,
   "id": "25cbfc7e-0688-434a-8bc0-31fa501e2b1e",
   "metadata": {},
   "outputs": [],
   "source": [
    "\n",
    "data_frame_x=pd.DataFrame([])\n",
    "data_frame_x_time=pd.DataFrame([])\n",
    "data_frame_y=pd.DataFrame([])\n",
    "data_frame_y_time=pd.DataFrame([])\n",
    "for file in tqdm(Training_data_files):\n",
    "    file_name=file.split('/')[-1]\n",
    "    temp_frame=pd.read_csv(file,header=None)\n",
    "    if 'x.csv' in file_name:\n",
    "        data_frame_x=pd.concat([data_frame_x,data_frame_adder(temp_frame,file_name)],axis=0,ignore_index=1).sort_values(by=['session','subject'], axis=0)\n",
    "        \n",
    "    elif 'x_time.csv' in file_name:\n",
    "        data_frame_x_time=pd.concat([data_frame_x_time,data_frame_adder(temp_frame,file_name)],axis=0,ignore_index=1).sort_values(by=['session','subject'], axis=0)\n",
    "        \n",
    "    elif 'y.csv' in file_name:\n",
    "        data_frame_y=pd.concat([data_frame_y,data_frame_adder(temp_frame,file_name)],axis=0,ignore_index=1).sort_values(by=['session','subject'], axis=0)\n",
    "        \n",
    "    else:\n",
    "        data_frame_y_time=pd.concat([data_frame_y_time,data_frame_adder(temp_frame,file_name)],axis=0,ignore_index=1).sort_values(by=['session','subject'], axis=0)\n",
    "\n",
    "data_frame_x_time=data_frame_x_time.rename(columns={0:'time_stamp'})[['time_stamp']]\n",
    "data_frame_y=data_frame_y.rename(columns={0:'labels'})\n",
    "data_frame_y_time=data_frame_y_time.rename(columns={0:'time_stamp'})[['time_stamp']]\n",
    "\n",
    "\n"
   ]
  },
  {
   "cell_type": "code",
   "execution_count": null,
   "id": "4e6d34c9-7c6a-43b4-a0e6-658dc37b369f",
   "metadata": {},
   "outputs": [],
   "source": [
    "total_x"
   ]
  },
  {
   "cell_type": "code",
   "execution_count": null,
   "id": "11270024-d4ca-46b5-af98-50587aa47ffc",
   "metadata": {},
   "outputs": [],
   "source": [
    "pandas.DatetimeIndex"
   ]
  },
  {
   "cell_type": "code",
   "execution_count": null,
   "id": "48071701-ff93-42fc-97ae-9eee0a753902",
   "metadata": {},
   "outputs": [],
   "source": [
    "total_dict={}"
   ]
  },
  {
   "cell_type": "code",
   "execution_count": null,
   "id": "552258c2-0da0-4b4a-8367-46b00f5d5df2",
   "metadata": {},
   "outputs": [],
   "source": [
    "total_dict[0]={}"
   ]
  },
  {
   "cell_type": "code",
   "execution_count": null,
   "id": "612dae09-9835-4306-bc1a-10abfc39050c",
   "metadata": {},
   "outputs": [],
   "source": [
    "total_x=pd.concat([data_frame_x_time,data_frame_x],axis=1)\n",
    "subject=total_x.subject.unique()\n",
    "sessions=total_x.session.unique()\n",
    "#total_x[\"time_stamp\"]=pd.to_datetime(total_x[\"time_stamp\"],unit='s').round('us')\n",
    "#total_x=total_x.set_index(['time_stamp'])"
   ]
  },
  {
   "cell_type": "code",
   "execution_count": null,
   "id": "04a25e3e-b342-4485-b2dd-b24baf1342cf",
   "metadata": {},
   "outputs": [],
   "source": [
    "total_dict=pd.DataFrame({'subject':subject,'sessions':sessions})"
   ]
  },
  {
   "cell_type": "code",
   "execution_count": null,
   "id": "7cc9bd67-4dc6-492a-a316-8eb6b6018e56",
   "metadata": {},
   "outputs": [],
   "source": [
    "total_dict={'subject':list(subject)}"
   ]
  },
  {
   "cell_type": "code",
   "execution_count": null,
   "id": "cdc58e28-1e74-410e-9cbe-c56662601d06",
   "metadata": {},
   "outputs": [],
   "source": [
    "total_dict={}"
   ]
  },
  {
   "cell_type": "code",
   "execution_count": null,
   "id": "d6598c3d-e1ef-47fd-96c9-e15ac58ce42a",
   "metadata": {},
   "outputs": [],
   "source": [
    "total_dict['subject']={tuple(subject)}"
   ]
  },
  {
   "cell_type": "code",
   "execution_count": null,
   "id": "95e9c504-d1f2-4463-9265-e8f3c790835d",
   "metadata": {},
   "outputs": [],
   "source": [
    "total_dict=pd.DataFrame(np.zeros((len(subject),len(sessions))))"
   ]
  },
  {
   "cell_type": "code",
   "execution_count": null,
   "id": "2578c095-bdf9-4b2a-ba0d-ffd58c062c78",
   "metadata": {},
   "outputs": [],
   "source": [
    "sess"
   ]
  },
  {
   "cell_type": "code",
   "execution_count": null,
   "id": "2c910382-7b89-4a38-87ac-b5931885b6c6",
   "metadata": {},
   "outputs": [],
   "source": [
    "sub"
   ]
  },
  {
   "cell_type": "code",
   "execution_count": null,
   "id": "9f56a002-416d-444e-818b-f06fcc424767",
   "metadata": {},
   "outputs": [],
   "source": [
    "\n",
    "\n",
    "#total_x=total_x.set_index(['subject','session'])\n",
    "#total_x[\"time_stamp\"]=pd.to_datetime(total_x[\"time_stamp\"],unit='s')\n",
    "#.asfreq('0.025S')\n",
    "# total_x=total_x.set_index(['subject','session','time_stamp'])\n",
    "sub_list=[]\n",
    "for sub in subject:\n",
    "    sess_list=[]\n",
    "    for sess in sessions:\n",
    "        #P=pd.DataFrame([])\n",
    "        # P['subject']=sub\n",
    "        # P['sessions']=sess\n",
    "        P=total_x[(total_x.subject==sub)&(total_x.session==sess)].asfreq('0.025S')\n",
    "        P['subject']=sub\n",
    "        P['sessions']=sess\n",
    "        sess_list.append(P)\n",
    "    sub_list.append(sess_list)\n",
    "\n",
    "# total_y=pd.concat([data_frame_y_time,data_frame_y],axis=1)\n",
    "# total_y[\"time_stamp\"]=pd.to_datetime(total_y[\"time_stamp\"],unit='s')\n",
    "# total_y=total_y.set_index('time_stamp')"
   ]
  },
  {
   "cell_type": "code",
   "execution_count": null,
   "id": "d8f840c4-ecdd-45fd-ae9a-faff432ba809",
   "metadata": {},
   "outputs": [],
   "source": [
    "total_x[(total_x.subject==sub)&(total_x.session==sess)]"
   ]
  },
  {
   "cell_type": "code",
   "execution_count": null,
   "id": "a101989f-3bd1-4c0c-9d04-c928a7b10744",
   "metadata": {},
   "outputs": [],
   "source": [
    "t=total_x[(total_x.subject==sub)&(total_x.session==sess)]"
   ]
  },
  {
   "cell_type": "code",
   "execution_count": null,
   "id": "8bd351ec-843e-44c8-b2b4-b4b917a2c546",
   "metadata": {},
   "outputs": [],
   "source": [
    "t[t.time_stamp.duplicated()]"
   ]
  },
  {
   "cell_type": "code",
   "execution_count": null,
   "id": "b2b1ed5f-5dd8-4577-bfff-da122f7a5236",
   "metadata": {},
   "outputs": [],
   "source": [
    "r"
   ]
  },
  {
   "cell_type": "code",
   "execution_count": null,
   "id": "ad66734f-a37a-4f00-b9bb-fd15bdad2fa8",
   "metadata": {},
   "outputs": [],
   "source": [
    "t[t['time_stamp']==1030.775]"
   ]
  },
  {
   "cell_type": "code",
   "execution_count": null,
   "id": "204343b9-a9e7-4732-80ab-f80e755e7893",
   "metadata": {},
   "outputs": [],
   "source": [
    "len(t)"
   ]
  },
  {
   "cell_type": "code",
   "execution_count": null,
   "id": "04faa0f4-4c19-44ef-83d5-e5560c54358a",
   "metadata": {},
   "outputs": [],
   "source": [
    "r=pd.read_csv('TrainingData/subject_001_02__x_time.csv',header=None)"
   ]
  },
  {
   "cell_type": "code",
   "execution_count": null,
   "id": "5ab4315d-c5ed-4775-864c-a72ed06a3db4",
   "metadata": {},
   "outputs": [],
   "source": [
    "r1=pd.read_csv('TrainingData/subject_001_02__x.csv',header=None)"
   ]
  },
  {
   "cell_type": "code",
   "execution_count": null,
   "id": "84b072d8-fcb6-46c2-abba-4b632ad3248a",
   "metadata": {},
   "outputs": [],
   "source": [
    "r1.loc[41231]"
   ]
  },
  {
   "cell_type": "code",
   "execution_count": null,
   "id": "75e43145-7787-4a1f-916b-86cad9274c71",
   "metadata": {},
   "outputs": [],
   "source": [
    "r1"
   ]
  },
  {
   "cell_type": "code",
   "execution_count": null,
   "id": "0435b42d-1b1d-4279-8553-ae982d93f302",
   "metadata": {},
   "outputs": [],
   "source": [
    "len(r)"
   ]
  },
  {
   "cell_type": "code",
   "execution_count": null,
   "id": "2ed63a32-1460-4c7d-9565-7625e970f649",
   "metadata": {},
   "outputs": [],
   "source": [
    "total_y_updated=total_y.copy()"
   ]
  },
  {
   "cell_type": "code",
   "execution_count": null,
   "id": "9524d154-9107-4120-8613-16d4793077f8",
   "metadata": {},
   "outputs": [],
   "source": [
    "total_y_updated['time_stamp']=pd.to_timedelta(total_y[(total_y.session==1)&(total_y.subject==1)]['time_stamp'])"
   ]
  },
  {
   "cell_type": "code",
   "execution_count": null,
   "id": "557dfd8b-5a31-46c5-be24-93fbe61a3d49",
   "metadata": {},
   "outputs": [],
   "source": [
    "total_x[(total_x.session==2)&(total_x.subject==2)]"
   ]
  },
  {
   "cell_type": "code",
   "execution_count": null,
   "id": "e34f6cc6-7488-40ff-9264-5933b31bf47d",
   "metadata": {},
   "outputs": [],
   "source": [
    "total_y.resample('30S').ffill()"
   ]
  },
  {
   "cell_type": "code",
   "execution_count": null,
   "id": "d291a90f-afbb-45fd-8263-71698f1a6772",
   "metadata": {},
   "outputs": [],
   "source": [
    "total_x.index[0]"
   ]
  },
  {
   "cell_type": "code",
   "execution_count": null,
   "id": "2f393f34-b0f2-4264-b2b8-b27155af4e01",
   "metadata": {},
   "outputs": [],
   "source": [
    "total_x.index[1]-total_x.index[0]"
   ]
  },
  {
   "cell_type": "code",
   "execution_count": null,
   "id": "16512b73-20c6-463d-902e-2f4d3f8b6d63",
   "metadata": {},
   "outputs": [],
   "source": [
    "(total_x.index[1]-total_x.index[0]).total_seconds()"
   ]
  },
  {
   "cell_type": "code",
   "execution_count": null,
   "id": "1f8e53a4-94f9-45ed-b0d1-6b1324f4fde4",
   "metadata": {},
   "outputs": [],
   "source": [
    "total_x.index=pd.DatetimeIndex(total_x.index)"
   ]
  },
  {
   "cell_type": "code",
   "execution_count": null,
   "id": "be176e31-0a5f-45b2-be24-2a5e3eb3ef07",
   "metadata": {},
   "outputs": [],
   "source": []
  }
 ],
 "metadata": {
  "kernelspec": {
   "display_name": "Python 3 (ipykernel)",
   "language": "python",
   "name": "python3"
  },
  "language_info": {
   "codemirror_mode": {
    "name": "ipython",
    "version": 3
   },
   "file_extension": ".py",
   "mimetype": "text/x-python",
   "name": "python",
   "nbconvert_exporter": "python",
   "pygments_lexer": "ipython3",
   "version": "3.10.9"
  }
 },
 "nbformat": 4,
 "nbformat_minor": 5
}
