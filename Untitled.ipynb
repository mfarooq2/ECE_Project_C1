{
 "cells": [
  {
   "cell_type": "code",
   "execution_count": 1,
   "id": "f68c2fef-e955-4e5f-839b-774fdd2de681",
   "metadata": {},
   "outputs": [],
   "source": [
    "import pandas as pd\n",
    "import glob\n",
    "from tqdm import tqdm\n",
    "from dask.dataframe import from_pandas\n",
    "import dask.dataframe as dd"
   ]
  },
  {
   "cell_type": "code",
   "execution_count": 2,
   "id": "8a99c97c-755e-4af4-8c26-a211da3b3900",
   "metadata": {},
   "outputs": [],
   "source": []
  },
  {
   "cell_type": "code",
   "execution_count": 3,
   "id": "bdf99ecf-c10d-4f5a-ac3c-0566aa15bc20",
   "metadata": {},
   "outputs": [],
   "source": [
    "def data_frame_adder(temp_frame,file_name):\n",
    "    file_name=file_name.split('.csv')[0]\n",
    "    temp_frame['file_name']=file_name\n",
    "    temp_frame['subject']=temp_frame['file_name'].apply(lambda x: int(x.split('subject_')[1].split('_')[0]))\n",
    "    temp_frame['session']=temp_frame['file_name'].apply(lambda x: int(x.split('subject_')[1].split('_')[1]))\n",
    "    #temp_frame['type']=temp_frame['file_name'].apply(lambda x: x.split('__')[1])\n",
    "    temp_frame = temp_frame.drop(columns=['file_name'])\n",
    "    temp_frame = temp_frame[temp_frame.columns[::-1]]\n",
    "    temp_frame = temp_frame.sort_values(by=['session','subject'], axis=0)\n",
    "    col_list1 = list(temp_frame.columns)[0:2]\n",
    "    col_list2 = list(temp_frame.columns)[2:]\n",
    "    col_list2.sort()\n",
    "    col_list=col_list1+col_list2\n",
    "    \n",
    "    #temp_frame = swap_columns(temp_frame, 'subject', 'session')\n",
    "    # Swapping the columns\n",
    "    temp_frame = temp_frame.reindex(columns=col_list)\n",
    "\n",
    "    return temp_frame"
   ]
  },
  {
   "cell_type": "code",
   "execution_count": 4,
   "id": "25cbfc7e-0688-434a-8bc0-31fa501e2b1e",
   "metadata": {},
   "outputs": [
    {
     "name": "stderr",
     "output_type": "stream",
     "text": [
      "100%|████████████████████████████████████████████████████████████████████████████████████████████████████████████████████████████████████████████████| 116/116 [00:08<00:00, 13.19it/s]\n"
     ]
    }
   ],
   "source": [
    "Training_data_files=glob.glob('TrainingData/*.csv')\n",
    "data_frame_x=pd.DataFrame([])\n",
    "data_frame_x_time=pd.DataFrame([])\n",
    "data_frame_y=pd.DataFrame([])\n",
    "data_frame_y_time=pd.DataFrame([])\n",
    "for file in tqdm(Training_data_files):\n",
    "    file_name=file.split('/')[-1]\n",
    "    temp_frame=pd.read_csv(file,header=None)\n",
    "    if 'x.csv' in file_name:\n",
    "        data_frame_x=pd.concat([data_frame_x,data_frame_adder(temp_frame,file_name)],axis=0,ignore_index=1).sort_values(by=['session','subject'], axis=0)\n",
    "        \n",
    "    elif 'x_time.csv' in file_name:\n",
    "        data_frame_x_time=pd.concat([data_frame_x_time,data_frame_adder(temp_frame,file_name)],axis=0,ignore_index=1).sort_values(by=['session','subject'], axis=0)\n",
    "        \n",
    "    elif 'y.csv' in file_name:\n",
    "        data_frame_y=pd.concat([data_frame_y,data_frame_adder(temp_frame,file_name)],axis=0,ignore_index=1).sort_values(by=['session','subject'], axis=0)\n",
    "        \n",
    "    else:\n",
    "        data_frame_y_time=pd.concat([data_frame_y_time,data_frame_adder(temp_frame,file_name)],axis=0,ignore_index=1).sort_values(by=['session','subject'], axis=0)\n",
    "data_frame_x = from_pandas(data_frame_x, npartitions=3)\n",
    "data_frame_x_time=from_pandas(data_frame_x_time.rename(columns={0:'time_stamp'}) , npartitions=3)\n",
    "data_frame_y=from_pandas(data_frame_y.rename(columns={0:'labels'}), npartitions=3)\n",
    "data_frame_y_time=from_pandas(data_frame_y_time.rename(columns={0:'time_stamp'}), npartitions=3)\n",
    "\n",
    "\n",
    "total_x=dd.merge(data_frame_x, data_frame_x_time,on=['session','subject'],npartitions=3) \n",
    "total_y=dd.merge(data_frame_y, data_frame_y_time,on=['session','subject'],npartitions=3) "
   ]
  },
  {
   "cell_type": "code",
   "execution_count": 6,
   "id": "58b114a4-6ca5-4c34-95b7-0e095de314fa",
   "metadata": {},
   "outputs": [
    {
     "ename": "TypeError",
     "evalue": "merge_asof() got an unexpected keyword argument 'npartitions'",
     "output_type": "error",
     "traceback": [
      "\u001b[0;31m---------------------------------------------------------------------------\u001b[0m",
      "\u001b[0;31mTypeError\u001b[0m                                 Traceback (most recent call last)",
      "Cell \u001b[0;32mIn[6], line 1\u001b[0m\n\u001b[0;32m----> 1\u001b[0m total\u001b[38;5;241m=\u001b[39m\u001b[43mdd\u001b[49m\u001b[38;5;241;43m.\u001b[39;49m\u001b[43mmulti\u001b[49m\u001b[38;5;241;43m.\u001b[39;49m\u001b[43mmerge_asof\u001b[49m\u001b[43m(\u001b[49m\u001b[43mtotal_x\u001b[49m\u001b[43m,\u001b[49m\u001b[43mtotal_y\u001b[49m\u001b[43m,\u001b[49m\u001b[43mon\u001b[49m\u001b[38;5;241;43m=\u001b[39;49m\u001b[38;5;124;43m'\u001b[39;49m\u001b[38;5;124;43mtime_stamp\u001b[39;49m\u001b[38;5;124;43m'\u001b[39;49m\u001b[43m,\u001b[49m\u001b[43mallow_exact_matches\u001b[49m\u001b[38;5;241;43m=\u001b[39;49m\u001b[38;5;28;43;01mFalse\u001b[39;49;00m\u001b[43m,\u001b[49m\u001b[43m \u001b[49m\u001b[43mnpartitions\u001b[49m\u001b[38;5;241;43m=\u001b[39;49m\u001b[38;5;241;43m3\u001b[39;49m\u001b[43m)\u001b[49m\n",
      "\u001b[0;31mTypeError\u001b[0m: merge_asof() got an unexpected keyword argument 'npartitions'"
     ]
    }
   ],
   "source": [
    "total=dd.multi.merge_asof(total_x,total_y,on='time_stamp',allow_exact_matches=False)"
   ]
  },
  {
   "cell_type": "code",
   "execution_count": null,
   "id": "3eca384c-cf3e-4bb5-8c72-a23c08304488",
   "metadata": {},
   "outputs": [],
   "source": [
    "data_frame_x_time.compute()"
   ]
  },
  {
   "cell_type": "code",
   "execution_count": null,
   "id": "08407cb1-0523-4af1-9d05-92c5d5b4c764",
   "metadata": {},
   "outputs": [],
   "source": [
    "data_frame_x.compute()"
   ]
  },
  {
   "cell_type": "code",
   "execution_count": null,
   "id": "ad585b40-8f9b-4888-a848-d554f925d2cd",
   "metadata": {},
   "outputs": [],
   "source": [
    "(0.22-0.12)*(1/4)"
   ]
  },
  {
   "cell_type": "code",
   "execution_count": null,
   "id": "b13ec0e1-7832-4aef-bec1-0f11108399ef",
   "metadata": {},
   "outputs": [],
   "source": [
    "0.025-0.000"
   ]
  },
  {
   "cell_type": "code",
   "execution_count": 15,
   "id": "88778358-60a4-47be-844f-29d2288fa74a",
   "metadata": {},
   "outputs": [
    {
     "data": {
      "text/plain": [
       "Dask Series Structure:\n",
       "npartitions=1\n",
       "    int64\n",
       "      ...\n",
       "dtype: int64\n",
       "Dask Name: series-groupby-sum-agg, 5 graph layers"
      ]
     },
     "execution_count": 15,
     "metadata": {},
     "output_type": "execute_result"
    }
   ],
   "source": [
    "data_frame_x.memory_usage()"
   ]
  },
  {
   "cell_type": "code",
   "execution_count": null,
   "id": "e98c4f98-6055-45b6-96db-fc125038d3f9",
   "metadata": {},
   "outputs": [],
   "source": [
    "total_y.compute()"
   ]
  },
  {
   "cell_type": "code",
   "execution_count": null,
   "id": "138a2226-c2d4-42d3-b2bd-d668dea9992d",
   "metadata": {},
   "outputs": [],
   "source": [
    "dd.tseries.resample.Resampler.mean(total_x)"
   ]
  }
 ],
 "metadata": {
  "kernelspec": {
   "display_name": "Python 3 (ipykernel)",
   "language": "python",
   "name": "python3"
  },
  "language_info": {
   "codemirror_mode": {
    "name": "ipython",
    "version": 3
   },
   "file_extension": ".py",
   "mimetype": "text/x-python",
   "name": "python",
   "nbconvert_exporter": "python",
   "pygments_lexer": "ipython3",
   "version": "3.9.7"
  }
 },
 "nbformat": 4,
 "nbformat_minor": 5
}
