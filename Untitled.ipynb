{
 "cells": [
  {
   "cell_type": "code",
   "execution_count": 1,
   "id": "9467f1ed-dc7c-4e8d-8d4f-d3a7a6105825",
   "metadata": {},
   "outputs": [],
   "source": [
    "from sklearn.ensemble import RandomForestClassifier\n",
    "from sklearn.metrics import accuracy_score, confusion_matrix, ConfusionMatrixDisplay\n",
    "from sklearn import svm\n",
    "import pandas as pd\n",
    "import glob\n",
    "from tqdm import tqdm\n",
    "import matplotlib.pyplot as plt\n",
    "import numpy as np\n",
    "from ast import literal_eval\n",
    "from sklearn.ensemble import RandomForestClassifier\n",
    "from sklearn.metrics import accuracy_score, confusion_matrix, confusion_matrix, ConfusionMatrixDisplay\n",
    "from sklearn import svm\n",
    "from sklearn.model_selection import RandomizedSearchCV, train_test_split\n",
    "import numpy as np"
   ]
  },
  {
   "cell_type": "code",
   "execution_count": 2,
   "id": "58e4e68a-fd2f-486e-9601-df42e2ca5511",
   "metadata": {},
   "outputs": [
    {
     "name": "stderr",
     "output_type": "stream",
     "text": [
      "100%|████████████████████████████████████████████████████████████████████████████████████████████████████████████████████████████████████| 29/29 [00:01<00:00, 17.85it/s]\n"
     ]
    }
   ],
   "source": [
    "files=glob.glob('pre_processed_training/*.csv')\n",
    "total_training_data=pd.DataFrame([])\n",
    "for f in tqdm(files):\n",
    "    total_training_data=pd.concat([total_training_data,pd.read_csv(f)],axis=0)\n",
    "total_training_data=total_training_data.sort_values(['Subject','Session','time_stamp'])\n",
    "total_training_data[\"time_stamp\"]=pd.to_datetime(total_training_data[\"time_stamp\"]).round('us')\n",
    "total_training_data=total_training_data[['Subject','Session','time_stamp','measurements','labels']].reset_index(drop=True)\n",
    "total_training_data['measurements']=total_training_data['measurements'].apply(lambda x: np.array(literal_eval(x)))\n",
    "#total_training_data=total_training_data.set_index('time_stamp').asfreq('0.025S')\n",
    "#total_training_data=total_training_data.set_index(['Subject','Session','time_stamp'])"
   ]
  },
  {
   "cell_type": "code",
   "execution_count": 3,
   "id": "fbed6e50-d956-4794-a31a-e38aba318d84",
   "metadata": {},
   "outputs": [],
   "source": [
    "X_total=np.vstack(total_training_data.measurements)\n",
    "Y_total=np.vstack(total_training_data.labels)\n",
    "Y_total=Y_total.reshape((len(Y_total)))"
   ]
  },
  {
   "cell_type": "code",
   "execution_count": 4,
   "id": "b0a64a2b-7ea9-4f7f-a030-f149a5a3721f",
   "metadata": {},
   "outputs": [],
   "source": [
    "X_train, X_val, y_train, y_val = train_test_split(X_total, Y_total, test_size=0.2)"
   ]
  },
  {
   "cell_type": "code",
   "execution_count": 6,
   "id": "de99666d-f393-4d95-9979-56e3dd0dfd22",
   "metadata": {},
   "outputs": [],
   "source": [
    "clf = RandomForestClassifier(max_depth=2, random_state=0)"
   ]
  },
  {
   "cell_type": "code",
   "execution_count": 7,
   "id": "cbc8a688-62c5-426d-bf81-56e7257d10fc",
   "metadata": {},
   "outputs": [
    {
     "data": {
      "text/html": [
       "<style>#sk-container-id-1 {color: black;background-color: white;}#sk-container-id-1 pre{padding: 0;}#sk-container-id-1 div.sk-toggleable {background-color: white;}#sk-container-id-1 label.sk-toggleable__label {cursor: pointer;display: block;width: 100%;margin-bottom: 0;padding: 0.3em;box-sizing: border-box;text-align: center;}#sk-container-id-1 label.sk-toggleable__label-arrow:before {content: \"▸\";float: left;margin-right: 0.25em;color: #696969;}#sk-container-id-1 label.sk-toggleable__label-arrow:hover:before {color: black;}#sk-container-id-1 div.sk-estimator:hover label.sk-toggleable__label-arrow:before {color: black;}#sk-container-id-1 div.sk-toggleable__content {max-height: 0;max-width: 0;overflow: hidden;text-align: left;background-color: #f0f8ff;}#sk-container-id-1 div.sk-toggleable__content pre {margin: 0.2em;color: black;border-radius: 0.25em;background-color: #f0f8ff;}#sk-container-id-1 input.sk-toggleable__control:checked~div.sk-toggleable__content {max-height: 200px;max-width: 100%;overflow: auto;}#sk-container-id-1 input.sk-toggleable__control:checked~label.sk-toggleable__label-arrow:before {content: \"▾\";}#sk-container-id-1 div.sk-estimator input.sk-toggleable__control:checked~label.sk-toggleable__label {background-color: #d4ebff;}#sk-container-id-1 div.sk-label input.sk-toggleable__control:checked~label.sk-toggleable__label {background-color: #d4ebff;}#sk-container-id-1 input.sk-hidden--visually {border: 0;clip: rect(1px 1px 1px 1px);clip: rect(1px, 1px, 1px, 1px);height: 1px;margin: -1px;overflow: hidden;padding: 0;position: absolute;width: 1px;}#sk-container-id-1 div.sk-estimator {font-family: monospace;background-color: #f0f8ff;border: 1px dotted black;border-radius: 0.25em;box-sizing: border-box;margin-bottom: 0.5em;}#sk-container-id-1 div.sk-estimator:hover {background-color: #d4ebff;}#sk-container-id-1 div.sk-parallel-item::after {content: \"\";width: 100%;border-bottom: 1px solid gray;flex-grow: 1;}#sk-container-id-1 div.sk-label:hover label.sk-toggleable__label {background-color: #d4ebff;}#sk-container-id-1 div.sk-serial::before {content: \"\";position: absolute;border-left: 1px solid gray;box-sizing: border-box;top: 0;bottom: 0;left: 50%;z-index: 0;}#sk-container-id-1 div.sk-serial {display: flex;flex-direction: column;align-items: center;background-color: white;padding-right: 0.2em;padding-left: 0.2em;position: relative;}#sk-container-id-1 div.sk-item {position: relative;z-index: 1;}#sk-container-id-1 div.sk-parallel {display: flex;align-items: stretch;justify-content: center;background-color: white;position: relative;}#sk-container-id-1 div.sk-item::before, #sk-container-id-1 div.sk-parallel-item::before {content: \"\";position: absolute;border-left: 1px solid gray;box-sizing: border-box;top: 0;bottom: 0;left: 50%;z-index: -1;}#sk-container-id-1 div.sk-parallel-item {display: flex;flex-direction: column;z-index: 1;position: relative;background-color: white;}#sk-container-id-1 div.sk-parallel-item:first-child::after {align-self: flex-end;width: 50%;}#sk-container-id-1 div.sk-parallel-item:last-child::after {align-self: flex-start;width: 50%;}#sk-container-id-1 div.sk-parallel-item:only-child::after {width: 0;}#sk-container-id-1 div.sk-dashed-wrapped {border: 1px dashed gray;margin: 0 0.4em 0.5em 0.4em;box-sizing: border-box;padding-bottom: 0.4em;background-color: white;}#sk-container-id-1 div.sk-label label {font-family: monospace;font-weight: bold;display: inline-block;line-height: 1.2em;}#sk-container-id-1 div.sk-label-container {text-align: center;}#sk-container-id-1 div.sk-container {/* jupyter's `normalize.less` sets `[hidden] { display: none; }` but bootstrap.min.css set `[hidden] { display: none !important; }` so we also need the `!important` here to be able to override the default hidden behavior on the sphinx rendered scikit-learn.org. See: https://github.com/scikit-learn/scikit-learn/issues/21755 */display: inline-block !important;position: relative;}#sk-container-id-1 div.sk-text-repr-fallback {display: none;}</style><div id=\"sk-container-id-1\" class=\"sk-top-container\"><div class=\"sk-text-repr-fallback\"><pre>RandomForestClassifier(max_depth=2, random_state=0)</pre><b>In a Jupyter environment, please rerun this cell to show the HTML representation or trust the notebook. <br />On GitHub, the HTML representation is unable to render, please try loading this page with nbviewer.org.</b></div><div class=\"sk-container\" hidden><div class=\"sk-item\"><div class=\"sk-estimator sk-toggleable\"><input class=\"sk-toggleable__control sk-hidden--visually\" id=\"sk-estimator-id-1\" type=\"checkbox\" checked><label for=\"sk-estimator-id-1\" class=\"sk-toggleable__label sk-toggleable__label-arrow\">RandomForestClassifier</label><div class=\"sk-toggleable__content\"><pre>RandomForestClassifier(max_depth=2, random_state=0)</pre></div></div></div></div></div>"
      ],
      "text/plain": [
       "RandomForestClassifier(max_depth=2, random_state=0)"
      ]
     },
     "execution_count": 7,
     "metadata": {},
     "output_type": "execute_result"
    }
   ],
   "source": [
    "rf = RandomForestClassifier(max_depth=2, random_state=0)\n",
    "rf.fit(X_train, y_train)\n"
   ]
  },
  {
   "cell_type": "code",
   "execution_count": 11,
   "id": "8d5d3304-15c9-4a4c-b6e1-b0c98ce02f0f",
   "metadata": {},
   "outputs": [],
   "source": [
    "test_files=glob.glob('TestData/*.csv')"
   ]
  },
  {
   "cell_type": "code",
   "execution_count": 33,
   "id": "4ab67631-5f3f-42b3-99c3-c56685dee15c",
   "metadata": {},
   "outputs": [],
   "source": [
    "Subject_list= [f.split('_')[1] for f in test_files]\n",
    "Session_list= [f.split('_')[2] for f in test_files]\n",
    "x_sensor_dat=pd.DataFrame([])\n",
    "y_sensor_dat=pd.DataFrame([])\n",
    "x_time_dat=[]\n",
    "for sub,sess in zip(Subject_list,Session_list):\n",
    "    #x_sensor_dat=pd.DataFrame(x_sensor_dat.append(pd.read_csv(f\"TrainingData/subject_{sub}_{sess}__x.csv\",header=None)))\n",
    "    \n",
    "    x_sensor_dat=pd.concat([pd.read_csv(f\"TestData/subject_{sub}_{sess}__x.csv\",header=None),pd.read_csv(f\"TestData/subject_{sub}_{sess}__x_time.csv\",header=None).rename(columns={0:'time_stamp'})],axis=1)\n",
    "\n",
    "    x_sensor_dat['measurements']=x_sensor_dat.apply(lambda x: [x[0],x[1],x[2],x[3],x[4],x[5]],axis=1)\n",
    "    x_sensor_dat=x_sensor_dat[['time_stamp','measurements']]\n",
    "    x_sensor_dat[\"time_stamp\"]=pd.to_datetime(x_sensor_dat[\"time_stamp\"],unit='s').round('us')\n",
    "    #x_sensor_dat=x_sensor_dat.set_index('time_stamp').asfreq('0.025S')\n",
    "    x_sensor_dat['Subject']=int(sub)\n",
    "    x_sensor_dat['Session']=int(sess)\n",
    "    #x_sensor_dat=x_sensor_dat.set_index('time_stamp').asfreq('0.025S')"
   ]
  },
  {
   "cell_type": "code",
   "execution_count": 34,
   "id": "bdd3f1ac-26f2-4720-9273-5dfe5f321bdf",
   "metadata": {},
   "outputs": [],
   "source": [
    "X_test=np.vstack(x_sensor_dat.measurements)"
   ]
  },
  {
   "cell_type": "code",
   "execution_count": 35,
   "id": "cc8530aa-ff56-43f9-bb29-1fb13f95cb6f",
   "metadata": {},
   "outputs": [],
   "source": [
    "test_pred = rf.predict(X_test)\n",
    "#accuracy = accuracy_score(y_val, y_pred)"
   ]
  },
  {
   "cell_type": "code",
   "execution_count": 8,
   "id": "e371871d-6c66-4340-ba2f-da496b608909",
   "metadata": {},
   "outputs": [],
   "source": [
    "y_pred = rf.predict(X_val)\n",
    "accuracy = accuracy_score(y_val, y_pred)"
   ]
  },
  {
   "cell_type": "code",
   "execution_count": 36,
   "id": "ad3bc86b-3b08-43d4-ada2-d5fd84ab9b7e",
   "metadata": {},
   "outputs": [],
   "source": [
    "x_sensor_dat['test_pred']=list(test_pred)"
   ]
  },
  {
   "cell_type": "code",
   "execution_count": 37,
   "id": "ea730d05-fe74-4d4e-95ea-110ddb2dd921",
   "metadata": {},
   "outputs": [],
   "source": [
    "x_sensor_dat[\"time_stamp\"]=pd.to_datetime(x_sensor_dat[\"time_stamp\"],unit='s').round('us')\n",
    "x_sensor_dat=x_sensor_dat.set_index('time_stamp').asfreq('0.01S', method='bfill')"
   ]
  },
  {
   "cell_type": "code",
   "execution_count": 40,
   "id": "cd6c41c5-c542-4cf0-9089-97062895ee07",
   "metadata": {},
   "outputs": [],
   "source": [
    "p=x_sensor_dat.reset_index(drop=False)"
   ]
  },
  {
   "cell_type": "code",
   "execution_count": 41,
   "id": "d669be6e-1c59-457e-9be1-6a92b348dc50",
   "metadata": {},
   "outputs": [
    {
     "data": {
      "text/html": [
       "<div>\n",
       "<style scoped>\n",
       "    .dataframe tbody tr th:only-of-type {\n",
       "        vertical-align: middle;\n",
       "    }\n",
       "\n",
       "    .dataframe tbody tr th {\n",
       "        vertical-align: top;\n",
       "    }\n",
       "\n",
       "    .dataframe thead th {\n",
       "        text-align: right;\n",
       "    }\n",
       "</style>\n",
       "<table border=\"1\" class=\"dataframe\">\n",
       "  <thead>\n",
       "    <tr style=\"text-align: right;\">\n",
       "      <th></th>\n",
       "      <th>time_stamp</th>\n",
       "      <th>measurements</th>\n",
       "      <th>Subject</th>\n",
       "      <th>Session</th>\n",
       "      <th>test_pred</th>\n",
       "    </tr>\n",
       "  </thead>\n",
       "  <tbody>\n",
       "    <tr>\n",
       "      <th>0</th>\n",
       "      <td>1970-01-01 00:00:00.000</td>\n",
       "      <td>[0.4845667, 8.438189, 4.87, -0.004444444, -0.0...</td>\n",
       "      <td>11</td>\n",
       "      <td>1</td>\n",
       "      <td>0</td>\n",
       "    </tr>\n",
       "    <tr>\n",
       "      <th>1</th>\n",
       "      <td>1970-01-01 00:00:00.010</td>\n",
       "      <td>[0.4607261, 8.44629, 4.92, -0.002238946, -0.00...</td>\n",
       "      <td>11</td>\n",
       "      <td>1</td>\n",
       "      <td>0</td>\n",
       "    </tr>\n",
       "    <tr>\n",
       "      <th>2</th>\n",
       "      <td>1970-01-01 00:00:00.020</td>\n",
       "      <td>[0.4607261, 8.44629, 4.92, -0.002238946, -0.00...</td>\n",
       "      <td>11</td>\n",
       "      <td>1</td>\n",
       "      <td>0</td>\n",
       "    </tr>\n",
       "    <tr>\n",
       "      <th>3</th>\n",
       "      <td>1970-01-01 00:00:00.030</td>\n",
       "      <td>[0.4782264, 8.45, 4.889409, -0.004970017, -0.0...</td>\n",
       "      <td>11</td>\n",
       "      <td>1</td>\n",
       "      <td>0</td>\n",
       "    </tr>\n",
       "    <tr>\n",
       "      <th>4</th>\n",
       "      <td>1970-01-01 00:00:00.040</td>\n",
       "      <td>[0.4782264, 8.45, 4.889409, -0.004970017, -0.0...</td>\n",
       "      <td>11</td>\n",
       "      <td>1</td>\n",
       "      <td>0</td>\n",
       "    </tr>\n",
       "    <tr>\n",
       "      <th>...</th>\n",
       "      <td>...</td>\n",
       "      <td>...</td>\n",
       "      <td>...</td>\n",
       "      <td>...</td>\n",
       "      <td>...</td>\n",
       "    </tr>\n",
       "    <tr>\n",
       "      <th>129396</th>\n",
       "      <td>1970-01-01 00:21:33.960</td>\n",
       "      <td>[-0.2998966, 9.769897, 0.1949483, 0.0003990475...</td>\n",
       "      <td>11</td>\n",
       "      <td>1</td>\n",
       "      <td>0</td>\n",
       "    </tr>\n",
       "    <tr>\n",
       "      <th>129397</th>\n",
       "      <td>1970-01-01 00:21:33.970</td>\n",
       "      <td>[-0.2998966, 9.769897, 0.1949483, 0.0003990475...</td>\n",
       "      <td>11</td>\n",
       "      <td>1</td>\n",
       "      <td>0</td>\n",
       "    </tr>\n",
       "    <tr>\n",
       "      <th>129398</th>\n",
       "      <td>1970-01-01 00:21:33.980</td>\n",
       "      <td>[-0.2874628, 9.750985, 0.16, -0.0003451155, -0...</td>\n",
       "      <td>11</td>\n",
       "      <td>1</td>\n",
       "      <td>0</td>\n",
       "    </tr>\n",
       "    <tr>\n",
       "      <th>129399</th>\n",
       "      <td>1970-01-01 00:21:33.990</td>\n",
       "      <td>[-0.2874628, 9.750985, 0.16, -0.0003451155, -0...</td>\n",
       "      <td>11</td>\n",
       "      <td>1</td>\n",
       "      <td>0</td>\n",
       "    </tr>\n",
       "    <tr>\n",
       "      <th>129400</th>\n",
       "      <td>1970-01-01 00:21:34.000</td>\n",
       "      <td>[-0.2874628, 9.750985, 0.16, -0.0003451155, -0...</td>\n",
       "      <td>11</td>\n",
       "      <td>1</td>\n",
       "      <td>0</td>\n",
       "    </tr>\n",
       "  </tbody>\n",
       "</table>\n",
       "<p>129401 rows × 5 columns</p>\n",
       "</div>"
      ],
      "text/plain": [
       "                    time_stamp  \\\n",
       "0      1970-01-01 00:00:00.000   \n",
       "1      1970-01-01 00:00:00.010   \n",
       "2      1970-01-01 00:00:00.020   \n",
       "3      1970-01-01 00:00:00.030   \n",
       "4      1970-01-01 00:00:00.040   \n",
       "...                        ...   \n",
       "129396 1970-01-01 00:21:33.960   \n",
       "129397 1970-01-01 00:21:33.970   \n",
       "129398 1970-01-01 00:21:33.980   \n",
       "129399 1970-01-01 00:21:33.990   \n",
       "129400 1970-01-01 00:21:34.000   \n",
       "\n",
       "                                             measurements  Subject  Session  \\\n",
       "0       [0.4845667, 8.438189, 4.87, -0.004444444, -0.0...       11        1   \n",
       "1       [0.4607261, 8.44629, 4.92, -0.002238946, -0.00...       11        1   \n",
       "2       [0.4607261, 8.44629, 4.92, -0.002238946, -0.00...       11        1   \n",
       "3       [0.4782264, 8.45, 4.889409, -0.004970017, -0.0...       11        1   \n",
       "4       [0.4782264, 8.45, 4.889409, -0.004970017, -0.0...       11        1   \n",
       "...                                                   ...      ...      ...   \n",
       "129396  [-0.2998966, 9.769897, 0.1949483, 0.0003990475...       11        1   \n",
       "129397  [-0.2998966, 9.769897, 0.1949483, 0.0003990475...       11        1   \n",
       "129398  [-0.2874628, 9.750985, 0.16, -0.0003451155, -0...       11        1   \n",
       "129399  [-0.2874628, 9.750985, 0.16, -0.0003451155, -0...       11        1   \n",
       "129400  [-0.2874628, 9.750985, 0.16, -0.0003451155, -0...       11        1   \n",
       "\n",
       "        test_pred  \n",
       "0               0  \n",
       "1               0  \n",
       "2               0  \n",
       "3               0  \n",
       "4               0  \n",
       "...           ...  \n",
       "129396          0  \n",
       "129397          0  \n",
       "129398          0  \n",
       "129399          0  \n",
       "129400          0  \n",
       "\n",
       "[129401 rows x 5 columns]"
      ]
     },
     "execution_count": 41,
     "metadata": {},
     "output_type": "execute_result"
    }
   ],
   "source": [
    "p"
   ]
  },
  {
   "cell_type": "code",
   "execution_count": null,
   "id": "0731725a-5428-4647-bb1d-309ed25fae29",
   "metadata": {},
   "outputs": [],
   "source": [
    "Subject_list= [f.split('_')[1] for f in test_files]\n",
    "Session_list= [f.split('_')[2] for f in test_files]\n",
    "x_sensor_dat=pd.DataFrame([])\n",
    "y_sensor_dat=pd.DataFrame([])\n",
    "x_time_dat=[]\n",
    "for sub,sess in zip(Subject_list,Session_list):\n",
    "    subject_009_01__x_time.csv"
   ]
  },
  {
   "cell_type": "code",
   "execution_count": 28,
   "id": "08750cf7-9285-4adc-a1d4-6dafa76db35e",
   "metadata": {},
   "outputs": [],
   "source": [
    "Subject_list= [f.split('_')[1] for f in test_files]\n",
    "Session_list= [f.split('_')[2] for f in test_files]\n",
    "x_sensor_dat=pd.DataFrame([])\n",
    "y_sensor_dat=pd.DataFrame([])"
   ]
  },
  {
   "cell_type": "code",
   "execution_count": 45,
   "id": "5294bf92-651f-4467-978e-c1eddacda15b",
   "metadata": {},
   "outputs": [],
   "source": [
    "\n",
    "for sub,sess in zip(Subject_list,Session_list):\n",
    "    a=p[(p.Subject==sub) & (p.Session==sess)].reset_index(drop=True)\n",
    "    a.to_csv(f\"TestData/subject_{sub}_{sess}__y.csv\")"
   ]
  },
  {
   "cell_type": "code",
   "execution_count": 46,
   "id": "39c64b6a-dda7-4ca6-b54b-bc469cad227f",
   "metadata": {},
   "outputs": [
    {
     "name": "stdout",
     "output_type": "stream",
     "text": [
      "/Users/mfarooq2/ECE_Project_C1\n"
     ]
    }
   ],
   "source": [
    "!pwd"
   ]
  },
  {
   "cell_type": "code",
   "execution_count": null,
   "id": "843ab3c0-3b71-42bc-87e6-ce856f0eb8a8",
   "metadata": {},
   "outputs": [],
   "source": []
  }
 ],
 "metadata": {
  "kernelspec": {
   "display_name": "Python 3 (ipykernel)",
   "language": "python",
   "name": "python3"
  },
  "language_info": {
   "codemirror_mode": {
    "name": "ipython",
    "version": 3
   },
   "file_extension": ".py",
   "mimetype": "text/x-python",
   "name": "python",
   "nbconvert_exporter": "python",
   "pygments_lexer": "ipython3",
   "version": "3.10.9"
  }
 },
 "nbformat": 4,
 "nbformat_minor": 5
}
